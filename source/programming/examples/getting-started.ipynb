{
 "cells": [
  {
   "cell_type": "markdown",
   "metadata": {
    "collapsed": false,
    "pycharm": {
     "name": "#%% md\n"
    }
   },
   "source": [
    "# Getting started\n",
    "\n",
    "## Preface\n",
    "\n",
    "To get started you need\n",
    "\n",
    "* Basic algorithmic trade, finance and quantitave research understanding\n",
    "\n",
    "* Basic Python understanding\n",
    "\n",
    "* Basic Jupyter Notebook understanding\n",
    "\n",
    "* An environment to run Jupyter Notebooks: [Visual Studio Code](https://tradingstrategy.ai/docs/programming/running.html), [Jupyter server or your local computer](https://tradingstrategy.ai/docs/programming/running.html) or a cloud service like [Binder](https://mybinder.org)\n",
    "\n",
    "If you are new to these topics please see the [Learn](https://tradingstrategy.ai/docs/programming/learn.html) section for useful links to start learning more.\n",
    "\n",
    "## API keys\n",
    "\n",
    "When you run the notebook for the first time, you are asked to register an API key for [Trading Strategy dataset download](https://tradingstrategy.ai/trading-view/backtesting).\n",
    "You can also [sign up for the API key on the website](https://tradingstrategy.ai/trading-view/backtesting).\n",
    "\n",
    "## Quickstart"
   ]
  },
  {
   "cell_type": "markdown",
   "metadata": {
    "collapsed": false,
    "pycharm": {
     "name": "#%% md\n"
    }
   },
   "source": [
    "Trading Strategy offers running its notebooks for free on Binder, a cloud Jupyter notebook hosting service.\n",
    "\n",
    "* Clicking the *Launch binder* button on any notebook in this documentation will automatically direct you to a runnable server on [Binder service](https://mybinder.org/)\n",
    "\n",
    "* This document is displaying the results of the last notebook run. Running the notebook yourself will execute all the cells and update the result of calculations"
   ]
  },
  {
   "cell_type": "markdown",
   "metadata": {
    "collapsed": false,
    "pycharm": {
     "name": "#%% md\n"
    }
   },
   "source": [
    "## About this Getting started example\n",
    "\n",
    "This notebook you are reading is \"Hello World\" where we make our first dynamic market analysis.\n",
    "\n",
    "The code belows creates a Trading Strategy [API client instance](https://tradingstrategy.ai/docs/programming/api/client.html)\n",
    "that is used to communicate with the dataset server.\n",
    "\n",
    "If you do not have an API key saved on the Notebook server yet,\n",
    "this will **prompt you** to create an API key and then saves it for you.\n",
    "Please answer the interactive questions when the notebook is running."
   ]
  },
  {
   "cell_type": "code",
   "execution_count": 14,
   "metadata": {
    "collapsed": true
   },
   "outputs": [
    {
     "name": "stdout",
     "output_type": "stream",
     "text": [
      "Started Trading Strategy in Jupyter notebook environment, configuration is stored in /Users/moo/.tradingstrategy\n"
     ]
    }
   ],
   "source": [
    "from tradingstrategy.client import Client\n",
    "\n",
    "client = Client.create_jupyter_client()"
   ]
  },
  {
   "cell_type": "markdown",
   "metadata": {
    "collapsed": false
   },
   "source": [
    "Now when the API key is created and we are connected, we can do some analysis.\n",
    "Let's get the top 10 supported exchanges by their 30 days trading volume\n",
    "for [supported tokens](https://tradingstrategy.ai/docs/programming/tracking.html)."
   ]
  },
  {
   "cell_type": "code",
   "execution_count": 15,
   "metadata": {
    "collapsed": false,
    "pycharm": {
     "name": "#%%\n"
    }
   },
   "outputs": [
    {
     "name": "stdout",
     "output_type": "stream",
     "text": [
      "This Jupyter notebook was run and the results captured at 2022-01-10\n"
     ]
    }
   ],
   "source": [
    "# Let's log the date when the this notebook was run,\n",
    "# as the notebook and its output will be on the website documentation\n",
    "import datetime\n",
    "print(f\"This Jupyter notebook was run and the results captured at {datetime.date.today()}\")"
   ]
  },
  {
   "cell_type": "markdown",
   "metadata": {
    "collapsed": false,
    "pycharm": {
     "name": "#%% md\n"
    }
   },
   "source": [
    "Then let's extract some montly statistics from the exchange dataset."
   ]
  },
  {
   "cell_type": "code",
   "execution_count": 16,
   "metadata": {
    "collapsed": false,
    "pycharm": {
     "name": "#%%\n"
    }
   },
   "outputs": [
    {
     "data": {
      "text/html": [
       "<div>\n",
       "<style scoped>\n",
       "    .dataframe tbody tr th:only-of-type {\n",
       "        vertical-align: middle;\n",
       "    }\n",
       "\n",
       "    .dataframe tbody tr th {\n",
       "        vertical-align: top;\n",
       "    }\n",
       "\n",
       "    .dataframe thead th {\n",
       "        text-align: right;\n",
       "    }\n",
       "</style>\n",
       "<table border=\"1\" class=\"dataframe\">\n",
       "  <thead>\n",
       "    <tr style=\"text-align: right;\">\n",
       "      <th></th>\n",
       "      <th>Exchange</th>\n",
       "      <th>Blockchain</th>\n",
       "      <th>USD Volume 30d</th>\n",
       "    </tr>\n",
       "  </thead>\n",
       "  <tbody>\n",
       "    <tr>\n",
       "      <th>1</th>\n",
       "      <td>PancakeSwap v2</td>\n",
       "      <td>Binance Smart Chain</td>\n",
       "      <td>22,570,802,493.35</td>\n",
       "    </tr>\n",
       "    <tr>\n",
       "      <th>2</th>\n",
       "      <td>Uniswap v2</td>\n",
       "      <td>Ethereum</td>\n",
       "      <td>10,187,449,749.76</td>\n",
       "    </tr>\n",
       "    <tr>\n",
       "      <th>3</th>\n",
       "      <td>Sushiswap</td>\n",
       "      <td>Ethereum</td>\n",
       "      <td>8,535,474,344.84</td>\n",
       "    </tr>\n",
       "    <tr>\n",
       "      <th>4</th>\n",
       "      <td>Biswap</td>\n",
       "      <td>Binance Smart Chain</td>\n",
       "      <td>5,534,392,623.57</td>\n",
       "    </tr>\n",
       "    <tr>\n",
       "      <th>5</th>\n",
       "      <td>BabySwap</td>\n",
       "      <td>Binance Smart Chain</td>\n",
       "      <td>3,730,382,286.98</td>\n",
       "    </tr>\n",
       "    <tr>\n",
       "      <th>6</th>\n",
       "      <td>Quickswap</td>\n",
       "      <td>Polygon</td>\n",
       "      <td>1,628,781,813.87</td>\n",
       "    </tr>\n",
       "    <tr>\n",
       "      <th>7</th>\n",
       "      <td>GIBX Swap</td>\n",
       "      <td>Binance Smart Chain</td>\n",
       "      <td>848,028,627.98</td>\n",
       "    </tr>\n",
       "    <tr>\n",
       "      <th>8</th>\n",
       "      <td>ApeSwap</td>\n",
       "      <td>Binance Smart Chain</td>\n",
       "      <td>680,577,965.38</td>\n",
       "    </tr>\n",
       "    <tr>\n",
       "      <th>9</th>\n",
       "      <td>ErosSwap</td>\n",
       "      <td>Binance Smart Chain</td>\n",
       "      <td>658,118,532.04</td>\n",
       "    </tr>\n",
       "    <tr>\n",
       "      <th>10</th>\n",
       "      <td>SushiSwap</td>\n",
       "      <td>Polygon</td>\n",
       "      <td>629,315,682.02</td>\n",
       "    </tr>\n",
       "  </tbody>\n",
       "</table>\n",
       "</div>"
      ],
      "text/plain": [
       "          Exchange           Blockchain     USD Volume 30d\n",
       "1   PancakeSwap v2  Binance Smart Chain  22,570,802,493.35\n",
       "2       Uniswap v2             Ethereum  10,187,449,749.76\n",
       "3        Sushiswap             Ethereum   8,535,474,344.84\n",
       "4           Biswap  Binance Smart Chain   5,534,392,623.57\n",
       "5         BabySwap  Binance Smart Chain   3,730,382,286.98\n",
       "6        Quickswap              Polygon   1,628,781,813.87\n",
       "7        GIBX Swap  Binance Smart Chain     848,028,627.98\n",
       "8          ApeSwap  Binance Smart Chain     680,577,965.38\n",
       "9         ErosSwap  Binance Smart Chain     658,118,532.04\n",
       "10       SushiSwap              Polygon     629,315,682.02"
      ]
     },
     "metadata": {},
     "output_type": "display_data"
    }
   ],
   "source": [
    "from typing import List\n",
    "from IPython.display import display\n",
    "import pandas as pd\n",
    "import numpy as np\n",
    "from tradingstrategy.chain import ChainId\n",
    "from tradingstrategy.exchange import Exchange\n",
    "\n",
    "universe = client.fetch_exchange_universe()\n",
    "\n",
    "# Have nice type decoration to make the tutorial\n",
    "# more readable\n",
    "exchanges: List[Exchange] = []\n",
    "volumes: List[float] = []\n",
    "chains: List[str] = []\n",
    "\n",
    "for xchg in universe.get_top_exchanges_by_30d_volume()[0:10]:\n",
    "    exchanges.append(xchg.name)\n",
    "    # Format volume with the  thousand separator\n",
    "    volumes.append(\"{:,.2f}\".format(xchg.vol_30d))\n",
    "    # Pull blockchain name for the chain id number from\n",
    "    # chain data database\n",
    "    chain_id: ChainId = xchg.chain_id\n",
    "    chains.append(chain_id.get_name())\n",
    "\n",
    "# Convert output to Pandas DataFrame object so that\n",
    "# notebook can render it as a nice table\n",
    "df = pd.DataFrame({\"Exchange\": exchanges, \"Blockchain\": chains, \"USD Volume 30d\": volumes})\n",
    "\n",
    "# Index rows starting with one instead of zero\n",
    "df.index = np.arange(1, len(df)+1)\n",
    "\n",
    "# Show dataframe as HTML table\n",
    "display(df)"
   ]
  },
  {
   "cell_type": "markdown",
   "metadata": {
    "collapsed": false,
    "pycharm": {
     "name": "#%% md\n"
    }
   },
   "source": [
    "Ta-da - all done! Now you can proceed to [view more complex examples](https://tradingstrategy.ai/docs/programming/index.html#code-examples).\n"
   ]
  }
 ],
 "metadata": {
  "interpreter": {
   "hash": "c96528bb917298a31abef2e197080e6a10eb1352f3e7cf22e3cda1d475017046"
  },
  "kernelspec": {
   "display_name": "PyCharm (dex_ohlcv)",
   "language": "python",
   "name": "python3"
  },
  "language_info": {
   "codemirror_mode": {
    "name": "ipython",
    "version": 3
   },
   "file_extension": ".py",
   "mimetype": "text/x-python",
   "name": "python",
   "nbconvert_exporter": "python",
   "pygments_lexer": "ipython3",
   "version": "3.8.1"
  }
 },
 "nbformat": 4,
 "nbformat_minor": 0
}