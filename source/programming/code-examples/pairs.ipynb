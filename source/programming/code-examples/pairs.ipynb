{
 "cells": [
  {
   "cell_type": "markdown",
   "metadata": {
    "collapsed": false,
    "pycharm": {
     "name": "#%% md\n"
    }
   },
   "source": [
    "# Exploring trading pairs\n",
    "\n",
    "An example how to filter and plot candles for pair data\n",
    "\n",
    "We will\n",
    "\n",
    "* Look up trading pairs by their ticker name and token symbols\n",
    "\n",
    "* Download pair and exchange map (\"the trading universe\")\n",
    "\n",
    "* Filter out SushiSwap pairs\n",
    "\n",
    "* Download 4 hour candle data for all pairs\n",
    "\n",
    "* Display top 10 pairs by their 30d volume, nominated in the USD"
   ]
  },
  {
   "cell_type": "markdown",
   "metadata": {
    "collapsed": false,
    "pycharm": {
     "name": "#%% md\n"
    }
   },
   "source": [
    "## Getting started\n",
    "\n",
    "First, let's create Trading Strategy dataset client."
   ]
  },
  {
   "cell_type": "code",
   "execution_count": 8,
   "metadata": {
    "collapsed": false,
    "pycharm": {
     "name": "#%%\n"
    }
   },
   "outputs": [
    {
     "name": "stdout",
     "output_type": "stream",
     "text": [
      "Started Trading Strategy in Jupyter notebook environment, configuration is stored in /Users/moo/.tradingstrategy\n"
     ]
    }
   ],
   "source": [
    "from tradingstrategy.client import Client\n",
    "\n",
    "client = Client.create_jupyter_client()"
   ]
  },
  {
   "cell_type": "markdown",
   "metadata": {
    "collapsed": false,
    "pycharm": {
     "name": "#%% md\n"
    }
   },
   "source": [
    "Get the map of exchanges and pairs we are working on"
   ]
  },
  {
   "cell_type": "code",
   "execution_count": 9,
   "metadata": {
    "collapsed": false,
    "pycharm": {
     "name": "#%%\n"
    }
   },
   "outputs": [
    {
     "name": "stdout",
     "output_type": "stream",
     "text": [
      "Total pairs 105657, total exchanges 2977\n"
     ]
    }
   ],
   "source": [
    "from tradingstrategy.exchange import ExchangeUniverse\n",
    "from pyarrow import Table\n",
    "\n",
    "# Exchange map data is so small it does not need any decompression\n",
    "exchange_universe: ExchangeUniverse = client.fetch_exchange_universe()\n",
    "\n",
    "# Decompress the pair dataset to Python map\n",
    "columnar_pair_table: Table = client.fetch_pair_universe()\n",
    "\n",
    "print(f\"Total pairs {len(columnar_pair_table)}, total exchanges {len(exchange_universe.exchanges)}\")"
   ]
  },
  {
   "cell_type": "markdown",
   "metadata": {
    "collapsed": false
   },
   "source": [
    "## Filtering pairs trading on Sushiswap\n",
    "\n",
    "We are only interested in SushiSwap, the mosh pit of a degens, so filter pairs that are on this exchange only.\n",
    "We specifically pick Sushiswap on Ethereum mainnet,\n",
    "as it is the oldest and most active for all Sushiswap instances across EVM blockchains like Polygon, BSC, Fantom, etc.\n",
    "\n",
    "Also we do not yet have multichain data on the dataset server, when I am writing this tutorial so..."
   ]
  },
  {
   "cell_type": "code",
   "execution_count": 10,
   "metadata": {
    "collapsed": false,
    "pycharm": {
     "name": "#%%\n"
    }
   },
   "outputs": [
    {
     "name": "stdout",
     "output_type": "stream",
     "text": [
      "Sushiswap on Ethereum has 744 pairs\n"
     ]
    }
   ],
   "source": [
    "import pandas as pd\n",
    "from tradingstrategy.chain import ChainId\n",
    "\n",
    "# Convert PyArrow table to Pandas format to continue working on it\n",
    "all_pairs_dataframe = columnar_pair_table.to_pandas()\n",
    "\n",
    "# Filter down to pairs that only trade on Sushiswap\n",
    "sushi_swap = exchange_universe.get_by_chain_and_slug(ChainId.ethereum, \"sushi\")\n",
    "sushi_pairs: pd.DataFrame = all_pairs_dataframe.loc[all_pairs_dataframe['exchange_id'] == sushi_swap.exchange_id]\n",
    "\n",
    "print(f\"Sushiswap on Ethereum has {len(sushi_pairs)} pairs\")"
   ]
  },
  {
   "cell_type": "markdown",
   "metadata": {
    "collapsed": false,
    "pycharm": {
     "name": "#%% md\n"
    }
   },
   "source": [
    "## Calculating combined buy and sell volume\n",
    "\n",
    "Now let's get pairs sorted out by 30d buy and sell volume"
   ]
  },
  {
   "cell_type": "code",
   "execution_count": 11,
   "metadata": {
    "collapsed": false,
    "pycharm": {
     "name": "#%%\n"
    }
   },
   "outputs": [
    {
     "name": "stdout",
     "output_type": "stream",
     "text": [
      "total_30d_volume column sum added\n"
     ]
    }
   ],
   "source": [
    "# Avoid doing set operations on a Pandas read-only view\n",
    "# https://stackoverflow.com/questions/20625582/how-to-deal-with-settingwithcopywarning-in-pandas\n",
    "sushi_pairs = sushi_pairs.copy()\n",
    "total_volume_30d = sushi_pairs[\"buy_volume_30d\"] + sushi_pairs[\"sell_volume_30d\"]\n",
    "sushi_pairs[\"total_30d_volume\"] = total_volume_30d\n",
    "# Sort by highest volume firs   t\n",
    "sushi_pairs = sushi_pairs.sort_values(\"total_30d_volume\", ascending=False)\n",
    "\n",
    "print(\"total_30d_volume column sum added\")"
   ]
  },
  {
   "cell_type": "markdown",
   "metadata": {
    "collapsed": false,
    "pycharm": {
     "name": "#%% md\n"
    }
   },
   "source": [
    "## Output table for top-10 pairs\n",
    "\n",
    "Then let's see the top 10 pairs we got and choose colums to display."
   ]
  },
  {
   "cell_type": "code",
   "execution_count": 12,
   "metadata": {
    "collapsed": false,
    "pycharm": {
     "name": "#%%\n"
    }
   },
   "outputs": [
    {
     "name": "stderr",
     "output_type": "stream",
     "text": [
      "/var/folders/tx/50wn88yd40v2_6_7fvfr98z00000gn/T/ipykernel_43436/729194997.py:17: FutureWarning: this method is deprecated in favour of `Styler.hide(axis='index')`\n",
      "  top_10.style.format({\n"
     ]
    },
    {
     "data": {
      "text/plain": "<pandas.io.formats.style.Styler at 0x15b373f70>",
      "text/html": "<style type=\"text/css\">\n</style>\n<table id=\"T_3e843\">\n  <thead>\n    <tr>\n      <th id=\"T_3e843_level0_col0\" class=\"col_heading level0 col0\" >Base token</th>\n      <th id=\"T_3e843_level0_col1\" class=\"col_heading level0 col1\" >Quote token</th>\n      <th id=\"T_3e843_level0_col2\" class=\"col_heading level0 col2\" >Volume 30d USD</th>\n    </tr>\n  </thead>\n  <tbody>\n    <tr>\n      <td id=\"T_3e843_row0_col0\" class=\"data row0 col0\" >WETH</td>\n      <td id=\"T_3e843_row0_col1\" class=\"data row0 col1\" >USDC</td>\n      <td id=\"T_3e843_row0_col2\" class=\"data row0 col2\" >$611,525,376.00</td>\n    </tr>\n    <tr>\n      <td id=\"T_3e843_row1_col0\" class=\"data row1 col0\" >LUNA</td>\n      <td id=\"T_3e843_row1_col1\" class=\"data row1 col1\" >WETH</td>\n      <td id=\"T_3e843_row1_col2\" class=\"data row1 col2\" >$514,604,416.00</td>\n    </tr>\n    <tr>\n      <td id=\"T_3e843_row2_col0\" class=\"data row2 col0\" >UST</td>\n      <td id=\"T_3e843_row2_col1\" class=\"data row2 col1\" >WETH</td>\n      <td id=\"T_3e843_row2_col2\" class=\"data row2 col2\" >$330,820,640.00</td>\n    </tr>\n    <tr>\n      <td id=\"T_3e843_row3_col0\" class=\"data row3 col0\" >WETH</td>\n      <td id=\"T_3e843_row3_col1\" class=\"data row3 col1\" >USDT</td>\n      <td id=\"T_3e843_row3_col2\" class=\"data row3 col2\" >$212,708,032.00</td>\n    </tr>\n    <tr>\n      <td id=\"T_3e843_row4_col0\" class=\"data row4 col0\" >SYN</td>\n      <td id=\"T_3e843_row4_col1\" class=\"data row4 col1\" >WETH</td>\n      <td id=\"T_3e843_row4_col2\" class=\"data row4 col2\" >$156,471,424.00</td>\n    </tr>\n    <tr>\n      <td id=\"T_3e843_row5_col0\" class=\"data row5 col0\" >WETH</td>\n      <td id=\"T_3e843_row5_col1\" class=\"data row5 col1\" >UST</td>\n      <td id=\"T_3e843_row5_col2\" class=\"data row5 col2\" >$148,764,160.00</td>\n    </tr>\n    <tr>\n      <td id=\"T_3e843_row6_col0\" class=\"data row6 col0\" >WETH</td>\n      <td id=\"T_3e843_row6_col1\" class=\"data row6 col1\" >DAI</td>\n      <td id=\"T_3e843_row6_col2\" class=\"data row6 col2\" >$138,515,360.00</td>\n    </tr>\n    <tr>\n      <td id=\"T_3e843_row7_col0\" class=\"data row7 col0\" >SUSHI</td>\n      <td id=\"T_3e843_row7_col1\" class=\"data row7 col1\" >WETH</td>\n      <td id=\"T_3e843_row7_col2\" class=\"data row7 col2\" >$103,439,400.00</td>\n    </tr>\n    <tr>\n      <td id=\"T_3e843_row8_col0\" class=\"data row8 col0\" >LDO</td>\n      <td id=\"T_3e843_row8_col1\" class=\"data row8 col1\" >WETH</td>\n      <td id=\"T_3e843_row8_col2\" class=\"data row8 col2\" >$91,034,992.00</td>\n    </tr>\n    <tr>\n      <td id=\"T_3e843_row9_col0\" class=\"data row9 col0\" >WETH</td>\n      <td id=\"T_3e843_row9_col1\" class=\"data row9 col1\" >WBTC</td>\n      <td id=\"T_3e843_row9_col2\" class=\"data row9 col2\" >$52,359,200.00</td>\n    </tr>\n  </tbody>\n</table>\n"
     },
     "execution_count": 12,
     "metadata": {},
     "output_type": "execute_result"
    }
   ],
   "source": [
    "# See Pandas official documentation for table visualisation\n",
    "# https://pandas.pydata.org/pandas-docs/stable/user_guide/style.html\n",
    "\n",
    "output = sushi_pairs[[\"base_token_symbol\", \"quote_token_symbol\", \"total_30d_volume\"]].copy()\n",
    "\n",
    "output.style.format({\n",
    "  'total_30d_volume': lambda val: f'${val:,.2f}',\n",
    "})\n",
    "\n",
    "output = output.rename(columns={\n",
    "    'base_token_symbol': 'Base token',\n",
    "    'quote_token_symbol': 'Quote token',\n",
    "    'total_30d_volume': 'Volume 30d USD'})\n",
    "\n",
    "top_10 = output.head(10)\n",
    "\n",
    "top_10.style.format({\n",
    "  'Volume 30d USD': lambda val: f'${val:,.2f}',\n",
    "}).hide_index()"
   ]
  },
  {
   "cell_type": "markdown",
   "source": [
    "## Resolving Uniswap/PancakeSwap trading pairs by their ticker name\n",
    "\n",
    "If you want to resolve a trading pair based on its human readable ticker to token and pair contract addresses\n",
    "you can do it as below."
   ],
   "metadata": {
    "collapsed": false
   }
  },
  {
   "cell_type": "code",
   "execution_count": 14,
   "outputs": [
    {
     "name": "stdout",
     "output_type": "stream",
     "text": [
      "WBNB address is 0xbb4cdb9cbd36b01bd1cbaebf2de08d9173bc095c\n",
      "BUSD address is 0xe9e7cea3dedca5984780bafc599bd69add087d56\n",
      "WBNB-BUSD pair contract address is 0x58f876857a02d6762e0101bb5c46a8c1ed44dc16\n"
     ]
    }
   ],
   "source": [
    "from tradingstrategy.pair import PandasPairUniverse\n",
    "\n",
    "# Download symbolic exchange and pair data needed for the resolution\n",
    "exchange_universe = client.fetch_exchange_universe()\n",
    "pair_data = client.fetch_pair_universe().to_pandas()\n",
    "pair_universe = PandasPairUniverse(pair_data)\n",
    "\n",
    "# Get PancakeSwap exchange,\n",
    "# for the full exchange list see https://tradingstrategy.ai/trading-view/exchanges\n",
    "pancake = exchange_universe.get_by_chain_and_slug(ChainId.bsc, \"pancakeswap-v2\")\n",
    "\n",
    "# Because there can be multiple trading pairs with same tickers,\n",
    "# we pick the genuine among the scams based on its trading volume\n",
    "wbnb_busd_pair = pair_universe.get_one_pair_from_pandas_universe(\n",
    "    pancake.exchange_id,\n",
    "    \"WBNB\",\n",
    "    \"BUSD\",\n",
    "    pick_by_highest_vol=True,\n",
    "    )\n",
    "\n",
    "print(\"WBNB address is\", wbnb_busd_pair.base_token_address)\n",
    "print(\"BUSD address is\", wbnb_busd_pair.quote_token_address)\n",
    "print(\"WBNB-BUSD pair contract address is\", wbnb_busd_pair.address)"
   ],
   "metadata": {
    "collapsed": false,
    "pycharm": {
     "name": "#%%\n"
    }
   }
  },
  {
   "cell_type": "code",
   "execution_count": null,
   "outputs": [],
   "source": [],
   "metadata": {
    "collapsed": false,
    "pycharm": {
     "name": "#%%\n"
    }
   }
  }
 ],
 "metadata": {
  "kernelspec": {
   "display_name": "Python 3",
   "language": "python",
   "name": "python3"
  },
  "language_info": {
   "codemirror_mode": {
    "name": "ipython",
    "version": 2
   },
   "file_extension": ".py",
   "mimetype": "text/x-python",
   "name": "python",
   "nbconvert_exporter": "python",
   "pygments_lexer": "ipython2",
   "version": "2.7.6"
  }
 },
 "nbformat": 4,
 "nbformat_minor": 0
}