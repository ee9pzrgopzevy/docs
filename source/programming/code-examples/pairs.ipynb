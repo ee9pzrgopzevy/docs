{
 "cells": [
  {
   "cell_type": "markdown",
   "metadata": {
    "collapsed": false,
    "pycharm": {
     "name": "#%% md\n"
    }
   },
   "source": [
    "# Exploring trading pairs\n",
    "\n",
    "An example how to filter and plot candles for pair data\n",
    "\n",
    "We will\n",
    "\n",
    "* Look up trading pairs by their ticker name and token symbols\n",
    "\n",
    "* Download pair and exchange map (\"the trading universe\")\n",
    "\n",
    "* Filter out SushiSwap pairs\n",
    "\n",
    "* Download 4 hour candle data for all pairs\n",
    "\n",
    "* Display top 10 pairs by their 30d volume, nominated in the USD\n",
    "\n",
    "For exploring the trading pairs through web you can use\n",
    "\n",
    "- [Trading Strategy trading pair search](https://tradingstrategy.ai/search)\n",
    "\n",
    "- [Trading Strategy trading pair listings (by blockchain, by DEX, etc. by trading fee)](https://tradingstrategy.ai/trading-view>)\n",
    "\n",
    "After you have found your pair in the web interface, you can look it up in the code as described below.\n"
   ]
  },
  {
   "cell_type": "markdown",
   "metadata": {
    "collapsed": false,
    "pycharm": {
     "name": "#%% md\n"
    }
   },
   "source": [
    "## Getting started\n",
    "\n",
    "First, let's create Trading Strategy dataset client."
   ]
  },
  {
   "cell_type": "code",
   "execution_count": 8,
   "metadata": {
    "collapsed": false,
    "pycharm": {
     "name": "#%%\n"
    },
    "ExecuteTime": {
     "end_time": "2023-09-07T12:30:52.294993Z",
     "start_time": "2023-09-07T12:30:52.269582Z"
    }
   },
   "outputs": [
    {
     "name": "stdout",
     "output_type": "stream",
     "text": [
      "Started Trading Strategy in Jupyter notebook environment, configuration is stored in /Users/moo/.tradingstrategy\n"
     ]
    }
   ],
   "source": [
    "from tradingstrategy.client import Client\n",
    "\n",
    "client = Client.create_jupyter_client()"
   ]
  },
  {
   "cell_type": "markdown",
   "metadata": {
    "collapsed": false,
    "pycharm": {
     "name": "#%% md\n"
    }
   },
   "source": [
    "Get the map of exchanges and pairs we are working on"
   ]
  },
  {
   "cell_type": "code",
   "execution_count": 9,
   "metadata": {
    "collapsed": false,
    "pycharm": {
     "name": "#%%\n"
    },
    "ExecuteTime": {
     "end_time": "2023-09-07T12:30:58.804822Z",
     "start_time": "2023-09-07T12:30:52.273544Z"
    }
   },
   "outputs": [
    {
     "name": "stdout",
     "output_type": "stream",
     "text": [
      "Total pairs 191072, total exchanges 4759\n"
     ]
    }
   ],
   "source": [
    "from tradingstrategy.exchange import ExchangeUniverse\n",
    "from tradingstrategy.pair import PandasPairUniverse\n",
    "from pyarrow import Table\n",
    "\n",
    "# Exchange map data is so small it does not need any decompression\n",
    "exchange_universe: ExchangeUniverse = client.fetch_exchange_universe()\n",
    "\n",
    "# Decompress the pair dataset to Python map\n",
    "# This is raw PyArrow data\n",
    "columnar_pair_table: Table = client.fetch_pair_universe()\n",
    "print(f\"Total pairs {len(columnar_pair_table)}, total exchanges {len(exchange_universe.exchanges)}\")\n",
    "\n",
    "# Wrap the data in a helper class with indexes for easier access\n",
    "pair_universe = PandasPairUniverse(columnar_pair_table.to_pandas(), exchange_universe=exchange_universe)\n"
   ]
  },
  {
   "cell_type": "markdown",
   "source": [
    "## Looking up a trading pair with a human description\n",
    "\n",
    "We have a helper class [PandasPairUniverse](https://tradingstrategy.ai/docs/api/client/help/tradingstrategy.pair.PandasPairUniverse.html#pandaspairuniverse)\n",
    "that takes a raw pair data as an input and creates look-up indexes for it.\n",
    "\n",
    "With this class, you can look up trading pairs by using `HumanReadableTradingPairDescription`.\n",
    "\n",
    "Here is a an example for PancakeSwap on BNB Smart Chain which has only a single fee tier.\n",
    "\n",
    "### About scam pairs\n",
    "\n",
    "For any popular token, there will be multiple scam tokens with the same token symbol.\n",
    "In the case of the multiple matches for the same token symbol,\n",
    "by default the look up will pick the trading pair with most monthly trading volume.\n",
    "Usually this is the \"real\" trading pair, but always be careful.\n",
    "For extra confidence you can look up trading pairs by smart contract addresses\n",
    "that are immutable and unique.\n"
   ],
   "metadata": {
    "collapsed": false
   }
  },
  {
   "cell_type": "code",
   "execution_count": 10,
   "outputs": [
    {
     "name": "stdout",
     "output_type": "stream",
     "text": [
      "We have pair <Pair #1364760 WBNB - BUSD (0x58f876857a02d6762e0101bb5c46a8c1ed44dc16) at exchange #1187 on binance> with 30d volume of USD 45,035,140.0\n"
     ]
    }
   ],
   "source": [
    "from tradingstrategy.chain import ChainId\n",
    "from tradingstrategy.pair import HumanReadableTradingPairDescription\n",
    "\n",
    "# Get BNB-BUSD pair on PancakeSwap v2\n",
    "#\n",
    "# There are no fee tiers, so we\n",
    "#\n",
    "desc: HumanReadableTradingPairDescription = (ChainId.bsc, \"pancakeswap-v2\", \"WBNB\", \"BUSD\")\n",
    "bnb_busd = pair_universe.get_pair_by_human_description(desc)\n",
    "print(f\"We have pair {bnb_busd} with 30d volume of USD {bnb_busd.volume_30d:,}\")"
   ],
   "metadata": {
    "collapsed": false,
    "ExecuteTime": {
     "end_time": "2023-09-07T12:30:58.832540Z",
     "start_time": "2023-09-07T12:30:58.813421Z"
    }
   }
  },
  {
   "cell_type": "markdown",
   "source": [
    "## Looking up a trading pair with a human description and a fee tie\n",
    "\n",
    "Here is another example for Uniswap v3 on Arbitrum. On Uniswap v3, we need to differetiate between different fee tiers of the pairs.\n",
    "We use 5 BPS (0.05%) fee tier.\n",
    "\n",
    "You can use e.g. [Trading Strategy trading pair search](https://tradingstrategy.ai/search)\n",
    "to find out about available fee tiers."
   ],
   "metadata": {
    "collapsed": false
   }
  },
  {
   "cell_type": "code",
   "execution_count": 11,
   "outputs": [
    {
     "name": "stdout",
     "output_type": "stream",
     "text": [
      "We have pair <Pair #2991521 WETH - USDC (0xc31e54c7a869b9fcbecc14363cf510d1c41fa443) at exchange #4338 on arbitrum> with 30d volume of USD 1,057,692,608.0\n"
     ]
    }
   ],
   "source": [
    "desc: HumanReadableTradingPairDescription = (ChainId.arbitrum, \"uniswap-v3\", \"WETH\", \"USDC\", 0.0005)\n",
    "eth_usdc = pair_universe.get_pair_by_human_description(desc)\n",
    "print(f\"We have pair {eth_usdc} with 30d volume of USD {eth_usdc.volume_30d:,}\")"
   ],
   "metadata": {
    "collapsed": false,
    "ExecuteTime": {
     "end_time": "2023-09-07T12:30:58.847523Z",
     "start_time": "2023-09-07T12:30:58.837230Z"
    }
   }
  },
  {
   "cell_type": "markdown",
   "metadata": {
    "collapsed": false
   },
   "source": [
    "## Filtering pairs trading on Sushiswap\n",
    "\n",
    "We are only interested in SushiSwap, the mosh pit of a degens, so filter pairs that are on this exchange only.\n",
    "We specifically pick Sushiswap on Ethereum mainnet,\n",
    "as it is the oldest and most active for all Sushiswap instances across EVM blockchains like Polygon, BSC, Fantom, etc.\n",
    "\n",
    "Also we do not yet have multichain data on the dataset server, when I am writing this tutorial so..."
   ]
  },
  {
   "cell_type": "code",
   "execution_count": 12,
   "metadata": {
    "collapsed": false,
    "pycharm": {
     "name": "#%%\n"
    },
    "ExecuteTime": {
     "end_time": "2023-09-07T12:30:58.954781Z",
     "start_time": "2023-09-07T12:30:58.849666Z"
    }
   },
   "outputs": [
    {
     "name": "stdout",
     "output_type": "stream",
     "text": [
      "Sushiswap on Ethereum has 895 pairs\n"
     ]
    }
   ],
   "source": [
    "import pandas as pd\n",
    "from tradingstrategy.chain import ChainId\n",
    "\n",
    "# Convert PyArrow table to Pandas format to continue working on it\n",
    "all_pairs_dataframe = columnar_pair_table.to_pandas()\n",
    "\n",
    "# Filter down to pairs that only trade on Sushiswap\n",
    "sushi_swap = exchange_universe.get_by_chain_and_slug(ChainId.ethereum, \"sushi\")\n",
    "sushi_pairs: pd.DataFrame = all_pairs_dataframe.loc[all_pairs_dataframe['exchange_id'] == sushi_swap.exchange_id]\n",
    "\n",
    "print(f\"Sushiswap on Ethereum has {len(sushi_pairs)} pairs\")"
   ]
  },
  {
   "cell_type": "markdown",
   "metadata": {
    "collapsed": false,
    "pycharm": {
     "name": "#%% md\n"
    }
   },
   "source": [
    "## Calculating combined buy and sell volume\n",
    "\n",
    "Now let's get pairs sorted out by 30d buy and sell volume"
   ]
  },
  {
   "cell_type": "code",
   "execution_count": 13,
   "metadata": {
    "collapsed": false,
    "pycharm": {
     "name": "#%%\n"
    },
    "ExecuteTime": {
     "end_time": "2023-09-07T12:30:58.958886Z",
     "start_time": "2023-09-07T12:30:58.956515Z"
    }
   },
   "outputs": [
    {
     "name": "stdout",
     "output_type": "stream",
     "text": [
      "total_30d_volume column sum added\n"
     ]
    }
   ],
   "source": [
    "# Avoid doing set operations on a Pandas read-only view\n",
    "# https://stackoverflow.com/questions/20625582/how-to-deal-with-settingwithcopywarning-in-pandas\n",
    "sushi_pairs = sushi_pairs.copy()\n",
    "total_volume_30d = sushi_pairs[\"buy_volume_30d\"] + sushi_pairs[\"sell_volume_30d\"]\n",
    "sushi_pairs[\"total_30d_volume\"] = total_volume_30d\n",
    "# Sort by highest volume firs   t\n",
    "sushi_pairs = sushi_pairs.sort_values(\"total_30d_volume\", ascending=False)\n",
    "\n",
    "print(\"total_30d_volume column sum added\")"
   ]
  },
  {
   "cell_type": "markdown",
   "metadata": {
    "collapsed": false,
    "pycharm": {
     "name": "#%% md\n"
    }
   },
   "source": [
    "## Output table for top-10 pairs\n",
    "\n",
    "Then let's see the top 10 pairs we got and choose colums to display."
   ]
  },
  {
   "cell_type": "code",
   "execution_count": 14,
   "metadata": {
    "collapsed": false,
    "pycharm": {
     "name": "#%%\n"
    },
    "ExecuteTime": {
     "end_time": "2023-09-07T12:30:58.966373Z",
     "start_time": "2023-09-07T12:30:58.962020Z"
    }
   },
   "outputs": [
    {
     "name": "stderr",
     "output_type": "stream",
     "text": [
      "/var/folders/12/pbc59svn70q_9dfz1kjl3zww0000gn/T/ipykernel_52060/729194997.py:19: FutureWarning: this method is deprecated in favour of `Styler.hide(axis=\"index\")`\n",
      "  }).hide_index()\n"
     ]
    },
    {
     "data": {
      "text/plain": "<pandas.io.formats.style.Styler at 0x2a573aa40>",
      "text/html": "<style type=\"text/css\">\n</style>\n<table id=\"T_c6dd9\">\n  <thead>\n    <tr>\n      <th id=\"T_c6dd9_level0_col0\" class=\"col_heading level0 col0\" >Base token</th>\n      <th id=\"T_c6dd9_level0_col1\" class=\"col_heading level0 col1\" >Quote token</th>\n      <th id=\"T_c6dd9_level0_col2\" class=\"col_heading level0 col2\" >Volume 30d USD</th>\n    </tr>\n  </thead>\n  <tbody>\n    <tr>\n      <td id=\"T_c6dd9_row0_col0\" class=\"data row0 col0\" >SDT</td>\n      <td id=\"T_c6dd9_row0_col1\" class=\"data row0 col1\" >WETH</td>\n      <td id=\"T_c6dd9_row0_col2\" class=\"data row0 col2\" >$37,052,792.00</td>\n    </tr>\n    <tr>\n      <td id=\"T_c6dd9_row1_col0\" class=\"data row1 col0\" >WETH</td>\n      <td id=\"T_c6dd9_row1_col1\" class=\"data row1 col1\" >USDT</td>\n      <td id=\"T_c6dd9_row1_col2\" class=\"data row1 col2\" >$26,307,796.00</td>\n    </tr>\n    <tr>\n      <td id=\"T_c6dd9_row2_col0\" class=\"data row2 col0\" >SYN</td>\n      <td id=\"T_c6dd9_row2_col1\" class=\"data row2 col1\" >WETH</td>\n      <td id=\"T_c6dd9_row2_col2\" class=\"data row2 col2\" >$24,369,570.00</td>\n    </tr>\n    <tr>\n      <td id=\"T_c6dd9_row3_col0\" class=\"data row3 col0\" >ILV</td>\n      <td id=\"T_c6dd9_row3_col1\" class=\"data row3 col1\" >WETH</td>\n      <td id=\"T_c6dd9_row3_col2\" class=\"data row3 col2\" >$19,799,964.00</td>\n    </tr>\n    <tr>\n      <td id=\"T_c6dd9_row4_col0\" class=\"data row4 col0\" >PNDC</td>\n      <td id=\"T_c6dd9_row4_col1\" class=\"data row4 col1\" >WETH</td>\n      <td id=\"T_c6dd9_row4_col2\" class=\"data row4 col2\" >$13,236,364.00</td>\n    </tr>\n    <tr>\n      <td id=\"T_c6dd9_row5_col0\" class=\"data row5 col0\" >THOR</td>\n      <td id=\"T_c6dd9_row5_col1\" class=\"data row5 col1\" >WETH</td>\n      <td id=\"T_c6dd9_row5_col2\" class=\"data row5 col2\" >$13,077,034.00</td>\n    </tr>\n    <tr>\n      <td id=\"T_c6dd9_row6_col0\" class=\"data row6 col0\" >WETH</td>\n      <td id=\"T_c6dd9_row6_col1\" class=\"data row6 col1\" >USDC</td>\n      <td id=\"T_c6dd9_row6_col2\" class=\"data row6 col2\" >$11,519,882.00</td>\n    </tr>\n    <tr>\n      <td id=\"T_c6dd9_row7_col0\" class=\"data row7 col0\" >COMP</td>\n      <td id=\"T_c6dd9_row7_col1\" class=\"data row7 col1\" >WETH</td>\n      <td id=\"T_c6dd9_row7_col2\" class=\"data row7 col2\" >$9,277,188.00</td>\n    </tr>\n    <tr>\n      <td id=\"T_c6dd9_row8_col0\" class=\"data row8 col0\" >WETH</td>\n      <td id=\"T_c6dd9_row8_col1\" class=\"data row8 col1\" >UST</td>\n      <td id=\"T_c6dd9_row8_col2\" class=\"data row8 col2\" >$7,120,714.50</td>\n    </tr>\n    <tr>\n      <td id=\"T_c6dd9_row9_col0\" class=\"data row9 col0\" >SUSHI</td>\n      <td id=\"T_c6dd9_row9_col1\" class=\"data row9 col1\" >WETH</td>\n      <td id=\"T_c6dd9_row9_col2\" class=\"data row9 col2\" >$5,229,757.00</td>\n    </tr>\n  </tbody>\n</table>\n"
     },
     "execution_count": 14,
     "metadata": {},
     "output_type": "execute_result"
    }
   ],
   "source": [
    "# See Pandas official documentation for table visualisation\n",
    "# https://pandas.pydata.org/pandas-docs/stable/user_guide/style.html\n",
    "\n",
    "output = sushi_pairs[[\"base_token_symbol\", \"quote_token_symbol\", \"total_30d_volume\"]].copy()\n",
    "\n",
    "output.style.format({\n",
    "  'total_30d_volume': lambda val: f'${val:,.2f}',\n",
    "})\n",
    "\n",
    "output = output.rename(columns={\n",
    "    'base_token_symbol': 'Base token',\n",
    "    'quote_token_symbol': 'Quote token',\n",
    "    'total_30d_volume': 'Volume 30d USD'})\n",
    "\n",
    "top_10 = output.head(10)\n",
    "\n",
    "top_10.style.format({\n",
    "  'Volume 30d USD': lambda val: f'${val:,.2f}',\n",
    "}).hide_index()"
   ]
  },
  {
   "cell_type": "code",
   "execution_count": 14,
   "outputs": [],
   "source": [],
   "metadata": {
    "collapsed": false,
    "pycharm": {
     "name": "#%%\n"
    },
    "ExecuteTime": {
     "end_time": "2023-09-07T12:30:58.967921Z",
     "start_time": "2023-09-07T12:30:58.965512Z"
    }
   }
  }
 ],
 "metadata": {
  "kernelspec": {
   "display_name": "Python 3",
   "language": "python",
   "name": "python3"
  },
  "language_info": {
   "codemirror_mode": {
    "name": "ipython",
    "version": 2
   },
   "file_extension": ".py",
   "mimetype": "text/x-python",
   "name": "python",
   "nbconvert_exporter": "python",
   "pygments_lexer": "ipython2",
   "version": "2.7.6"
  }
 },
 "nbformat": 4,
 "nbformat_minor": 0
}
