{
 "cells": [
  {
   "cell_type": "markdown",
   "metadata": {
    "collapsed": false
   },
   "source": [
    "# Getting started coding tutorial\n",
    "\n",
    "## Preface\n",
    "\n",
    "This is a tutorial how to programmatically access DeFi market data\n",
    "using Trading Strategy library.\n",
    "\n",
    "To get started you need understand\n",
    "\n",
    "* Basic algorithmic trade, finance and quantitative research understanding\n",
    "\n",
    "* Basic Python\n",
    "\n",
    "* Basic Jupyter Notebook\n",
    "\n",
    "You also need to\n",
    "\n",
    "* [Read the overview how the example code can be run](./running.html)\n",
    "\n",
    "## API keys\n",
    "\n",
    "When you run the notebook for the first time, you are asked to register an API key for [Trading Strategy dataset download](https://tradingstrategy.ai/trading-view/backtesting).\n",
    "You can also [sign up for the API key on the website](https://tradingstrategy.ai/trading-view/backtesting).\n",
    "\n",
    "## Quickstart"
   ]
  },
  {
   "cell_type": "markdown",
   "metadata": {
    "collapsed": false
   },
   "source": [
    "Trading Strategy offers running its notebooks for free on Binder, a cloud Jupyter notebook hosting service.\n",
    "\n",
    "* Clicking the *Launch binder* button on any notebook in this documentation will automatically direct you to a runnable server on [Binder service](https://mybinder.org/)\n",
    "\n",
    "* This document is displaying the results of the last notebook run. Running the notebook yourself will execute all the cells and update the result of calculations"
   ]
  },
  {
   "cell_type": "markdown",
   "metadata": {
    "collapsed": false
   },
   "source": [
    "## About this Getting started example\n",
    "\n",
    "This notebook you are reading is \"Hello World\" where we make our first dynamic market analysis.\n",
    "\n",
    "The code belows creates a Trading Strategy [API client instance](https://tradingstrategy.ai/docs/programming/api/client.html)\n",
    "that is used to communicate with the dataset server.\n",
    "\n",
    "If you do not have an API key saved on the Notebook server yet,\n",
    "this will **prompt you** to create an API key and then saves it for you.\n",
    "Please answer the interactive questions when the notebook is running."
   ]
  },
  {
   "cell_type": "code",
   "execution_count": 1,
   "metadata": {
    "collapsed": true
   },
   "outputs": [
    {
     "name": "stdout",
     "output_type": "stream",
     "text": [
      "Started Trading Strategy in Jupyter notebook environment, configuration is stored in /Users/moo/.tradingstrategy\n"
     ]
    }
   ],
   "source": [
    "from tradingstrategy.client import Client\n",
    "\n",
    "client = Client.create_jupyter_client()"
   ]
  },
  {
   "cell_type": "markdown",
   "metadata": {
    "collapsed": false
   },
   "source": [
    "Now when the API key is created and we are connected, we can do some analysis.\n",
    "Let's get the top 10 supported exchanges by their 30 days trading volume\n",
    "for [supported tokens](https://tradingstrategy.ai/docs/programming/tracking.html)."
   ]
  },
  {
   "cell_type": "code",
   "execution_count": 2,
   "metadata": {
    "collapsed": false
   },
   "outputs": [
    {
     "name": "stdout",
     "output_type": "stream",
     "text": [
      "This Jupyter notebook was run and the results captured at 2022-11-27\n"
     ]
    }
   ],
   "source": [
    "# Let's log the date when the this notebook was run,\n",
    "# as the notebook and its output will be on the website documentation\n",
    "import datetime\n",
    "print(f\"This Jupyter notebook was run and the results captured at {datetime.date.today()}\")"
   ]
  },
  {
   "cell_type": "markdown",
   "metadata": {
    "collapsed": false
   },
   "source": [
    "Then let's extract some montly statistics from the exchange dataset."
   ]
  },
  {
   "cell_type": "code",
   "execution_count": 3,
   "metadata": {
    "collapsed": false
   },
   "outputs": [
    {
     "data": {
      "text/plain": "           Exchange           Blockchain     USD Volume 30d\n1        Uniswap v3             Ethereum  24,411,982,299.52\n2    PancakeSwap v2  Binance Smart Chain   6,917,489,085.00\n3        Uniswap v2             Ethereum   3,570,216,679.30\n4             Sushi             Ethereum   1,225,083,503.20\n5            Biswap  Binance Smart Chain     846,066,186.16\n6         Quickswap              Polygon     467,719,126.60\n7        Shiba Swap             Ethereum     372,847,330.83\n8        Trader Joe    Avalanche C-chain     266,942,336.02\n9         GIBX Swap  Binance Smart Chain     227,116,880.05\n10  Nomiswap Stable  Binance Smart Chain     126,110,856.78",
      "text/html": "<div>\n<style scoped>\n    .dataframe tbody tr th:only-of-type {\n        vertical-align: middle;\n    }\n\n    .dataframe tbody tr th {\n        vertical-align: top;\n    }\n\n    .dataframe thead th {\n        text-align: right;\n    }\n</style>\n<table border=\"1\" class=\"dataframe\">\n  <thead>\n    <tr style=\"text-align: right;\">\n      <th></th>\n      <th>Exchange</th>\n      <th>Blockchain</th>\n      <th>USD Volume 30d</th>\n    </tr>\n  </thead>\n  <tbody>\n    <tr>\n      <th>1</th>\n      <td>Uniswap v3</td>\n      <td>Ethereum</td>\n      <td>24,411,982,299.52</td>\n    </tr>\n    <tr>\n      <th>2</th>\n      <td>PancakeSwap v2</td>\n      <td>Binance Smart Chain</td>\n      <td>6,917,489,085.00</td>\n    </tr>\n    <tr>\n      <th>3</th>\n      <td>Uniswap v2</td>\n      <td>Ethereum</td>\n      <td>3,570,216,679.30</td>\n    </tr>\n    <tr>\n      <th>4</th>\n      <td>Sushi</td>\n      <td>Ethereum</td>\n      <td>1,225,083,503.20</td>\n    </tr>\n    <tr>\n      <th>5</th>\n      <td>Biswap</td>\n      <td>Binance Smart Chain</td>\n      <td>846,066,186.16</td>\n    </tr>\n    <tr>\n      <th>6</th>\n      <td>Quickswap</td>\n      <td>Polygon</td>\n      <td>467,719,126.60</td>\n    </tr>\n    <tr>\n      <th>7</th>\n      <td>Shiba Swap</td>\n      <td>Ethereum</td>\n      <td>372,847,330.83</td>\n    </tr>\n    <tr>\n      <th>8</th>\n      <td>Trader Joe</td>\n      <td>Avalanche C-chain</td>\n      <td>266,942,336.02</td>\n    </tr>\n    <tr>\n      <th>9</th>\n      <td>GIBX Swap</td>\n      <td>Binance Smart Chain</td>\n      <td>227,116,880.05</td>\n    </tr>\n    <tr>\n      <th>10</th>\n      <td>Nomiswap Stable</td>\n      <td>Binance Smart Chain</td>\n      <td>126,110,856.78</td>\n    </tr>\n  </tbody>\n</table>\n</div>"
     },
     "metadata": {},
     "output_type": "display_data"
    }
   ],
   "source": [
    "from typing import List\n",
    "from IPython.display import display\n",
    "import pandas as pd\n",
    "import numpy as np\n",
    "from tradingstrategy.chain import ChainId\n",
    "from tradingstrategy.exchange import Exchange\n",
    "\n",
    "universe = client.fetch_exchange_universe()\n",
    "\n",
    "# Have nice type decoration to make the tutorial\n",
    "# more readable\n",
    "exchanges: List[Exchange] = []\n",
    "volumes: List[float] = []\n",
    "chains: List[str] = []\n",
    "\n",
    "for xchg in universe.get_top_exchanges_by_30d_volume()[0:10]:\n",
    "    exchanges.append(xchg.name)\n",
    "    # Format volume with the  thousand separator\n",
    "    volumes.append(\"{:,.2f}\".format(xchg.vol_30d))\n",
    "    # Pull blockchain name for the chain id number from\n",
    "    # chain data database\n",
    "    chain_id: ChainId = xchg.chain_id\n",
    "    chains.append(chain_id.get_name())\n",
    "\n",
    "# Convert output to Pandas DataFrame object so that\n",
    "# notebook can render it as a nice table\n",
    "df = pd.DataFrame({\"Exchange\": exchanges, \"Blockchain\": chains, \"USD Volume 30d\": volumes})\n",
    "\n",
    "# Index rows starting with one instead of zero\n",
    "df.index = np.arange(1, len(df)+1)\n",
    "\n",
    "# Show dataframe as HTML table\n",
    "display(df)"
   ]
  },
  {
   "cell_type": "markdown",
   "metadata": {
    "collapsed": false
   },
   "source": [
    "Ta-da - all done! Now you can proceed to [view more complex examples](./index.html).\n"
   ]
  }
 ],
 "metadata": {
  "interpreter": {
   "hash": "c96528bb917298a31abef2e197080e6a10eb1352f3e7cf22e3cda1d475017046"
  },
  "kernelspec": {
   "display_name": "PyCharm (dex_ohlcv)",
   "language": "python",
   "name": "python3"
  },
  "language_info": {
   "codemirror_mode": {
    "name": "ipython",
    "version": 3
   },
   "file_extension": ".py",
   "mimetype": "text/x-python",
   "name": "python",
   "nbconvert_exporter": "python",
   "pygments_lexer": "ipython3",
   "version": "3.8.1"
  }
 },
 "nbformat": 4,
 "nbformat_minor": 0
}
