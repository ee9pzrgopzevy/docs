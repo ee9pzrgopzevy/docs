{
 "cells": [
  {
   "cell_type": "markdown",
   "metadata": {
    "collapsed": false,
    "pycharm": {
     "name": "#%% md\n"
    }
   },
   "source": [
    "# Finding low fee trading pairs\n",
    "\n",
    "An example to list low fee (5 BPS) Uniswap v3 pairs across different blockchains.\n",
    "\n",
    "[You can also explore this data using the website search](https://tradingstrategy.ai/search).\n",
    "Here we write Python filters to further narrow down search results.\n",
    "\n",
    "# Preface\n",
    "\n",
    "Most DEX pairs are low liquidity pairs with 30 BPS fee. These pairs are not well-suitable for traditional\n",
    "technical indicator based trading algorithms. They can be still traded, but strategies need to be\n",
    "non-single pair, portfolio construction model ones.\n",
    "\n",
    "In this example we construct a list of pairs that have low LP fees and meet volume threshold for automated trading."
   ]
  },
  {
   "cell_type": "markdown",
   "metadata": {
    "collapsed": false,
    "pycharm": {
     "name": "#%% md\n"
    }
   },
   "source": [
    "## Create a data client\n",
    "\n",
    "First, let's create Trading Strategy dataset client."
   ]
  },
  {
   "cell_type": "code",
   "execution_count": 1,
   "metadata": {
    "collapsed": false,
    "pycharm": {
     "name": "#%%\n"
    },
    "ExecuteTime": {
     "end_time": "2023-05-19T18:03:35.973457Z",
     "start_time": "2023-05-19T18:03:35.596586Z"
    }
   },
   "outputs": [
    {
     "name": "stdout",
     "output_type": "stream",
     "text": [
      "Started Trading Strategy in Jupyter notebook environment, configuration is stored in /Users/moo/.tradingstrategy\n"
     ]
    }
   ],
   "source": [
    "from tradingstrategy.client import Client\n",
    "\n",
    "client = Client.create_jupyter_client()"
   ]
  },
  {
   "cell_type": "markdown",
   "metadata": {
    "collapsed": false,
    "pycharm": {
     "name": "#%% md\n"
    }
   },
   "source": [
    "## Download exchange and pair data"
   ]
  },
  {
   "cell_type": "code",
   "execution_count": 2,
   "metadata": {
    "collapsed": false,
    "pycharm": {
     "name": "#%%\n"
    },
    "ExecuteTime": {
     "end_time": "2023-05-19T18:03:36.793275Z",
     "start_time": "2023-05-19T18:03:35.974563Z"
    }
   },
   "outputs": [
    {
     "name": "stdout",
     "output_type": "stream",
     "text": [
      "Total pairs 168541, total exchanges 4352\n"
     ]
    }
   ],
   "source": [
    "from tradingstrategy.exchange import ExchangeUniverse\n",
    "from pyarrow import Table\n",
    "\n",
    "# Exchange map data is so small it does not need any decompression\n",
    "exchange_universe: ExchangeUniverse = client.fetch_exchange_universe()\n",
    "\n",
    "# Decompress the pair dataset to Python map\n",
    "columnar_pair_table: Table = client.fetch_pair_universe()\n",
    "\n",
    "print(f\"Total pairs {len(columnar_pair_table)}, total exchanges {len(exchange_universe.exchanges)}\")"
   ]
  },
  {
   "cell_type": "markdown",
   "metadata": {
    "collapsed": false
   },
   "source": [
    "## Filtering pairs with 5 BPS fee on Uniswap 3\n",
    "\n",
    "Get a list of pairs"
   ]
  },
  {
   "cell_type": "code",
   "execution_count": 3,
   "metadata": {
    "collapsed": false,
    "pycharm": {
     "name": "#%%\n"
    },
    "ExecuteTime": {
     "end_time": "2023-05-19T18:03:36.885680Z",
     "start_time": "2023-05-19T18:03:36.795420Z"
    }
   },
   "outputs": [
    {
     "name": "stdout",
     "output_type": "stream",
     "text": [
      "Found 373 total pairs at 5 BPS fee tier\n",
      "Found 308 volatile pairs quoted in any token\n",
      "Found 156 volatile pairs quoted in a stablecoin\n",
      "Found 13 pairs with enough volume\n"
     ]
    }
   ],
   "source": [
    "from tradingstrategy.stablecoin import ALL_STABLECOIN_LIKE\n",
    "import pandas as pd\n",
    "from tradingstrategy.pair import filter_for_stablecoins\n",
    "from tradingstrategy.pair import StablecoinFilteringMode\n",
    "\n",
    "fee_tier = 5  # BPS\n",
    "\n",
    "pairs_df = columnar_pair_table.to_pandas()\n",
    "\n",
    "low_fee_pairs: pd.DataFrame = pairs_df.loc[\n",
    "    (pairs_df[\"exchange_slug\"] == \"uniswap-v3\") &\n",
    "    (pairs_df[\"fee\"] == fee_tier)  # BPS\n",
    "]\n",
    "\n",
    "print(f\"Found {len(low_fee_pairs)} total pairs at {fee_tier} BPS fee tier\")\n",
    "\n",
    "# Filter out stablecoin pairs,\n",
    "# because trading dollars to dollars do not make trading sense\n",
    "low_fee_pairs = filter_for_stablecoins(low_fee_pairs, StablecoinFilteringMode.only_volatile_pairs)\n",
    "\n",
    "print(f\"Found {len(low_fee_pairs)} volatile pairs quoted in any token\")\n",
    "\n",
    "stablecoin_quoted_pairs = low_fee_pairs.loc[low_fee_pairs[\"quote_token_symbol\"].isin(ALL_STABLECOIN_LIKE)]\n",
    "\n",
    "print(f\"Found {len(stablecoin_quoted_pairs)} volatile pairs quoted in a stablecoin\")\n",
    "\n",
    "# Assume no volume data is zero volume\n",
    "stablecoin_quoted_pairs = stablecoin_quoted_pairs.fillna(0)\n",
    "\n",
    "volume_threshold_30d = 1_000_000\n",
    "volume_pairs = stablecoin_quoted_pairs.loc[stablecoin_quoted_pairs[\"buy_volume_30d\"] >= volume_threshold_30d]\n",
    "\n",
    "print(f\"Found {len(volume_pairs)} pairs with enough volume\")\n"
   ]
  },
  {
   "cell_type": "markdown",
   "metadata": {
    "collapsed": false,
    "pycharm": {
     "name": "#%% md\n"
    }
   },
   "source": [
    "## Print out pairs in Python format\n",
    "\n",
    "Write out pairs in a format that is ready to use for trading strategy Python code.\n",
    "\n"
   ]
  },
  {
   "cell_type": "code",
   "execution_count": 4,
   "metadata": {
    "collapsed": false,
    "pycharm": {
     "name": "#%%\n"
    },
    "ExecuteTime": {
     "end_time": "2023-05-19T18:03:36.895663Z",
     "start_time": "2023-05-19T18:03:36.886963Z"
    }
   },
   "outputs": [
    {
     "name": "stdout",
     "output_type": "stream",
     "text": [
      "[\n",
      "    (ChainId.ethereum, \"uniswap-v3\", \"WBTC\", \"USDC\", 0.0005),  # 52.07M vol, https://tradingstrategy.ai/trading-view/ethereum/uniswap-v3/wbtc-usdc-fee-5\n",
      "    (ChainId.ethereum, \"uniswap-v3\", \"XSGD\", \"USDC\", 0.0005),  # 9.78M vol, https://tradingstrategy.ai/trading-view/ethereum/uniswap-v3/xsgd-usdc-fee-5\n",
      "    (ChainId.ethereum, \"uniswap-v3\", \"WBTC\", \"USDT\", 0.0005),  # 4.57M vol, https://tradingstrategy.ai/trading-view/ethereum/uniswap-v3/wbtc-usdt-fee-5\n",
      "    (ChainId.ethereum, \"uniswap-v3\", \"FRAX\", \"USDT\", 0.0005),  # 5.58M vol, https://tradingstrategy.ai/trading-view/ethereum/uniswap-v3/frax-usdt-fee-5\n",
      "    (ChainId.ethereum, \"uniswap-v3\", \"GUSD\", \"USDC\", 0.0005),  # 4.46M vol, https://tradingstrategy.ai/trading-view/ethereum/uniswap-v3/gusd-usdc-fee-5\n",
      "    (ChainId.ethereum, \"uniswap-v3\", \"WETH\", \"USDT\", 0.0005),  # 1799.41M vol, https://tradingstrategy.ai/trading-view/ethereum/uniswap-v3/eth-usdt-fee-5\n",
      "    (ChainId.ethereum, \"uniswap-v3\", \"FRAX\", \"USDC\", 0.0005),  # 2.70M vol, https://tradingstrategy.ai/trading-view/ethereum/uniswap-v3/frax-usdc-fee-5\n",
      "    (ChainId.polygon, \"uniswap-v3\", \"WMATIC\", \"USDT\", 0.0005),  # 100.23M vol, https://tradingstrategy.ai/trading-view/polygon/uniswap-v3/matic-usdt-fee-5\n",
      "    (ChainId.polygon, \"uniswap-v3\", \"WMATIC\", \"USDC\", 0.0005),  # 364.27M vol, https://tradingstrategy.ai/trading-view/polygon/uniswap-v3/matic-usdc-fee-5\n",
      "    (ChainId.arbitrum, \"uniswap-v3\", \"WBTC\", \"USDC\", 0.0005),  # 4.16M vol, https://tradingstrategy.ai/trading-view/arbitrum/uniswap-v3/wbtc-usdc-fee-5\n",
      "    (ChainId.arbitrum, \"uniswap-v3\", \"WETH\", \"USDC\", 0.0005),  # 3995.54M vol, https://tradingstrategy.ai/trading-view/arbitrum/uniswap-v3/eth-usdc-fee-5\n",
      "    (ChainId.arbitrum, \"uniswap-v3\", \"WETH\", \"USDT\", 0.0005),  # 1010.93M vol, https://tradingstrategy.ai/trading-view/arbitrum/uniswap-v3/eth-usdt-fee-5\n",
      "    (ChainId.arbitrum, \"uniswap-v3\", \"ARB\", \"USDC\", 0.0005),  # 797.72M vol, https://tradingstrategy.ai/trading-view/arbitrum/uniswap-v3/arb-usdc-fee-5\n",
      "]\n"
     ]
    }
   ],
   "source": [
    "from tradingstrategy.pair import DEXPair\n",
    "from tradingstrategy.chain import ChainId\n",
    "\n",
    "# What's monthly volume we want to consider\n",
    "volume_filter = 1_000_000\n",
    "\n",
    "print(\"[\")\n",
    "\n",
    "for idx, pair_row in volume_pairs.iterrows():\n",
    "    pair: DEXPair = DEXPair.create_from_row(pair_row)\n",
    "    chain_id = ChainId(pair.chain_id)\n",
    "    exchange_slug = pair.exchange_slug\n",
    "    link = pair.get_trading_pair_page_url()\n",
    "    vol_m = pair.volume_30d / 1_000_000\n",
    "    print(f'    (ChainId.{chain_id.name}, \"{exchange_slug}\", \"{pair.base_token_symbol}\", \"{pair.quote_token_symbol}\", {fee_tier / 10_000}),  # {vol_m:.2f}M vol, {link}')\n",
    "\n",
    "print(\"]\")"
   ]
  },
  {
   "cell_type": "code",
   "execution_count": 4,
   "outputs": [],
   "source": [],
   "metadata": {
    "collapsed": false,
    "pycharm": {
     "name": "#%%\n"
    },
    "ExecuteTime": {
     "end_time": "2023-05-19T18:03:36.897313Z",
     "start_time": "2023-05-19T18:03:36.895446Z"
    }
   }
  }
 ],
 "metadata": {
  "kernelspec": {
   "display_name": "Python 3",
   "language": "python",
   "name": "python3"
  },
  "language_info": {
   "codemirror_mode": {
    "name": "ipython",
    "version": 2
   },
   "file_extension": ".py",
   "mimetype": "text/x-python",
   "name": "python",
   "nbconvert_exporter": "python",
   "pygments_lexer": "ipython2",
   "version": "2.7.6"
  }
 },
 "nbformat": 4,
 "nbformat_minor": 0
}
