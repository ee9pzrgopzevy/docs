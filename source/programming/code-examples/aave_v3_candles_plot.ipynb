{
 "cells": [
  {
   "cell_type": "code",
   "execution_count": null,
   "id": "c130cae6",
   "metadata": {},
   "outputs": [],
   "source": [
    "import sys\n",
    "\n",
    "assert sys.version_info >= (3, 10)"
   ]
  },
  {
   "cell_type": "markdown",
   "id": "37d5f5aa",
   "metadata": {},
   "source": [
    "# Obtain the dataset"
   ]
  },
  {
   "cell_type": "code",
   "execution_count": null,
   "id": "18bd89ee",
   "metadata": {},
   "outputs": [],
   "source": [
    "from tradingstrategy.client import Client\n",
    "\n",
    "client = Client.create_jupyter_client()"
   ]
  },
  {
   "cell_type": "code",
   "execution_count": null,
   "id": "308a3da7",
   "metadata": {
    "scrolled": true
   },
   "outputs": [],
   "source": [
    "import pandas as pd\n",
    "import pyarrow as pa\n",
    "from tradingstrategy.timebucket import TimeBucket\n",
    "\n",
    "data: pa.Table = client.fetch_all_lending_protocol_reserves()  # requires client version 0.13.6+\n",
    "df: pd.DataFrame = data.to_pandas()\n",
    "\n",
    "# Keep only the columns we actually need\n",
    "df = df[[\"timestamp\", \"reserve_id\", \"liquidity_apr\", \"stable_borrow_apr\", \"variable_borrow_apr\"]]\n",
    "df = df.set_index(\"timestamp\")"
   ]
  },
  {
   "cell_type": "markdown",
   "id": "e1c94e49",
   "metadata": {},
   "source": [
    "# Compute candles"
   ]
  },
  {
   "cell_type": "code",
   "execution_count": null,
   "id": "e3d9db4b",
   "metadata": {},
   "outputs": [],
   "source": [
    "# We will compute the candles for each reserve separately\n",
    "by_reserves = dict(iter(df.groupby(\"reserve_id\")))\n",
    "len(by_reserves)"
   ]
  },
  {
   "cell_type": "code",
   "execution_count": null,
   "id": "98ed84da",
   "metadata": {},
   "outputs": [],
   "source": [
    "# RESERVE_ID = 5  # WETH on Polygon\n",
    "RESERVE_ID = 6  # USDT on Polygon\n",
    "\n",
    "df_reserve = by_reserves[RESERVE_ID]"
   ]
  },
  {
   "cell_type": "code",
   "execution_count": null,
   "id": "107ac20e",
   "metadata": {},
   "outputs": [],
   "source": [
    "def compute_candles(reserve_data: pd.DataFrame, bucket: str) -> dict[str, pd.DataFrame]:\n",
    "    \"\"\"Compute candles from reserve data.\n",
    "    \n",
    "    Data must be indexed by timestamps and sorted in ascending order.\n",
    "    \"\"\"\n",
    "\n",
    "    candles = {}\n",
    "\n",
    "    candles[\"liquidity_apr\"] = reserve_data[\"liquidity_apr\"].resample(rule=bucket).agg({\n",
    "        \"open\": \"first\",\n",
    "        \"close\": \"last\",\n",
    "        \"high\": \"max\",\n",
    "        \"low\": \"min\",\n",
    "    }).dropna()\n",
    "\n",
    "    candles[\"stable_borrow_apr\"] = reserve_data[\"stable_borrow_apr\"].resample(rule=bucket).agg({\n",
    "        \"open\": \"first\",\n",
    "        \"close\": \"last\",\n",
    "        \"high\": \"max\",\n",
    "        \"low\": \"min\",\n",
    "    }).dropna()\n",
    "\n",
    "    candles[\"variable_borrow_apr\"] = reserve_data[\"variable_borrow_apr\"].resample(rule=bucket).agg({\n",
    "        \"open\": \"first\",\n",
    "        \"close\": \"last\",\n",
    "        \"high\": \"max\",\n",
    "        \"low\": \"min\",\n",
    "    }).dropna()\n",
    "    \n",
    "    return candles"
   ]
  },
  {
   "cell_type": "code",
   "execution_count": null,
   "id": "9d75bbf7",
   "metadata": {},
   "outputs": [],
   "source": [
    "BUCKET_WIDTH = \"6H\"  # As accepted by the DataFrame.resample() method\n",
    "\n",
    "candles = compute_candles(df_reserve, bucket=BUCKET_WIDTH)"
   ]
  },
  {
   "cell_type": "markdown",
   "id": "e054175b",
   "metadata": {},
   "source": [
    "# Plot the candles"
   ]
  },
  {
   "cell_type": "code",
   "execution_count": null,
   "id": "65abf6ca",
   "metadata": {},
   "outputs": [],
   "source": [
    "import plotly.graph_objects as go\n",
    "\n",
    "def plot_candles(candles, plot_title, y_title):\n",
    "    candlesticks = go.Candlestick(\n",
    "        x=candles.index,\n",
    "        open=candles[\"open\"],\n",
    "        close=candles[\"close\"],\n",
    "        high=candles[\"high\"],\n",
    "        low=candles[\"low\"],\n",
    "    )\n",
    "\n",
    "    fig = go.Figure(candlesticks)\n",
    "    fig.update_layout(title=plot_title, height=500)\n",
    "    fig.update_yaxes(title=y_title, showgrid=True, rangemode=\"tozero\")\n",
    "\n",
    "    fig.show()"
   ]
  },
  {
   "cell_type": "code",
   "execution_count": null,
   "id": "576fd1c0",
   "metadata": {},
   "outputs": [],
   "source": [
    "reserve_id = df_reserve['reserve_id'][0]\n",
    "row_subset = slice(-100, None)  # last 100 candles\n",
    "\n",
    "plot_candles(\n",
    "    candles=candles[\"liquidity_apr\"][row_subset],\n",
    "    plot_title=f\"Liquidity APR {BUCKET_WIDTH} candles for reserve ID {reserve_id}\",\n",
    "    y_title=\"Liquidity APR\",\n",
    ")"
   ]
  },
  {
   "cell_type": "code",
   "execution_count": null,
   "id": "fa86c821",
   "metadata": {},
   "outputs": [],
   "source": [
    "plot_candles(\n",
    "    candles=candles[\"stable_borrow_apr\"][row_subset],\n",
    "    plot_title=f\"Stable borrow APR {BUCKET_WIDTH} candles for reserve ID {reserve_id}\",\n",
    "    y_title=\"Stable borrow APR\",\n",
    ")"
   ]
  },
  {
   "cell_type": "code",
   "execution_count": null,
   "id": "e0226da2",
   "metadata": {},
   "outputs": [],
   "source": [
    "plot_candles(\n",
    "    candles=candles[\"variable_borrow_apr\"][row_subset],\n",
    "    plot_title=f\"Variable borrow APR {BUCKET_WIDTH} candles for reserve ID {reserve_id}\",\n",
    "    y_title=\"Variable borrow APR\",\n",
    ")"
   ]
  },
  {
   "cell_type": "markdown",
   "id": "9d837c09",
   "metadata": {},
   "source": [
    "# Plot the APR lines"
   ]
  },
  {
   "cell_type": "markdown",
   "id": "ffa93dfb",
   "metadata": {},
   "source": [
    "This is for easier visual comparison with the graphs on AAVE v3 website"
   ]
  },
  {
   "cell_type": "code",
   "execution_count": null,
   "id": "9f0ebea4",
   "metadata": {},
   "outputs": [],
   "source": [
    "def compute_lines(reserve_data: pd.DataFrame, bucket: str) -> dict[str, pd.DataFrame]:\n",
    "    \"\"\"Compute line chart data from reserve data.\n",
    "    \n",
    "    Data must be indexed by timestamps and sorted in ascending order.\n",
    "    \"\"\"\n",
    "    result = pd.DataFrame()\n",
    "\n",
    "    result[\"liquidity_apr\"] = reserve_data[\"liquidity_apr\"].resample(rule=bucket).mean()\n",
    "    result[\"stable_borrow_apr\"] = reserve_data[\"stable_borrow_apr\"].resample(rule=bucket).mean()\n",
    "    result[\"variable_borrow_apr\"] = reserve_data[\"variable_borrow_apr\"].resample(rule=bucket).mean()\n",
    "    \n",
    "    result.dropna()\n",
    "\n",
    "    return result"
   ]
  },
  {
   "cell_type": "code",
   "execution_count": null,
   "id": "a39c4375",
   "metadata": {},
   "outputs": [],
   "source": [
    "line_data = compute_lines(df_reserve, bucket=BUCKET_WIDTH)"
   ]
  },
  {
   "cell_type": "code",
   "execution_count": null,
   "id": "c630b74d",
   "metadata": {},
   "outputs": [],
   "source": [
    "import plotly.express as px\n",
    "\n",
    "def plot_lines(data, plot_title):\n",
    "    fig = px.line(data, title=plot_title, height=300)\n",
    "    fig.show()"
   ]
  },
  {
   "cell_type": "code",
   "execution_count": null,
   "id": "eef84cd7",
   "metadata": {},
   "outputs": [],
   "source": [
    "plot_lines(\n",
    "    data=line_data[[\"stable_borrow_apr\", \"variable_borrow_apr\"]][-120:],\n",
    "    plot_title=f\"Borrow APR {BUCKET_WIDTH} for reserve ID {reserve_id}\",\n",
    ")"
   ]
  }
 ],
 "metadata": {
  "kernelspec": {
   "display_name": "Python (3.10, oracle)",
   "language": "python",
   "name": "env-3.10-oracle"
  },
  "language_info": {
   "codemirror_mode": {
    "name": "ipython",
    "version": 3
   },
   "file_extension": ".py",
   "mimetype": "text/x-python",
   "name": "python",
   "nbconvert_exporter": "python",
   "pygments_lexer": "ipython3",
   "version": "3.10.7"
  }
 },
 "nbformat": 4,
 "nbformat_minor": 5
}
