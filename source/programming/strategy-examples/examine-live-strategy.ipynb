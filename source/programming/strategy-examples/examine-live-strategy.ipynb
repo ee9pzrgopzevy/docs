{
 "cells": [
  {
   "cell_type": "markdown",
   "source": [
    "# Examining live trading strategy using notebook\n",
    "\n",
    "In this notebook, we show how to examine live trading strategy instance using Python and Jupyter notebook.\n",
    "\n",
    "- Downloading the state file from the live instance\n",
    "- Reading it to `State` object\n",
    "- Using the same analytics functions we use for backtestes against the live data\n"
   ],
   "metadata": {
    "collapsed": false
   }
  },
  {
   "cell_type": "markdown",
   "source": [
    "## Download live data\n",
    "\n",
    "- Each strategy Docker instances offers a webhook that allows access the data of this strategy, include `State` object\n",
    "  that is the flat file state of the all the strategy current and past decision making\n",
    "- Note that `State` class and any children classes in the state tree may have changes  between\n",
    "  versions and decoding might need you to use a specific version of `trade-executor`\n"
   ],
   "metadata": {
    "collapsed": false
   }
  },
  {
   "cell_type": "code",
   "execution_count": 7,
   "outputs": [
    {
     "name": "stdout",
     "output_type": "stream",
     "text": [
      "Downloaded 194,873 bytes state data\n",
      "trade-executor was launched at: 2022-12-01 22:17:08.835950, we have 11 trades\n"
     ]
    }
   ],
   "source": [
    "from tradeexecutor.monkeypatch.dataclasses_json import patch_dataclasses_json\n",
    "from tradeexecutor.state.state import State\n",
    "import requests\n",
    "\n",
    "# Currently needed because unpatched dataclasses_json package issues\n",
    "patch_dataclasses_json()\n",
    "\n",
    "# Public internet endpoint as exposed by the trade executor Docker\n",
    "webbhook_url = \"https://pancake-eth-usd-sma.tradingstrategy.ai\"\n",
    "\n",
    "state_api = f\"{webbhook_url}/state\"\n",
    "\n",
    "resp = requests.get(state_api)\n",
    "\n",
    "state_blob = resp.content\n",
    "\n",
    "print(f\"Downloaded {len(state_blob):,} bytes state data\")\n",
    "\n",
    "state = State.from_json(state_blob)\n",
    "\n",
    "print(f\"trade-executor was launched at: {state.created_at}, we have {len(list(state.portfolio.get_all_trades()))} trades\")"
   ],
   "metadata": {
    "collapsed": false
   }
  }
 ],
 "metadata": {
  "kernelspec": {
   "display_name": "Python 3",
   "language": "python",
   "name": "python3"
  },
  "language_info": {
   "codemirror_mode": {
    "name": "ipython",
    "version": 2
   },
   "file_extension": ".py",
   "mimetype": "text/x-python",
   "name": "python",
   "nbconvert_exporter": "python",
   "pygments_lexer": "ipython2",
   "version": "2.7.6"
  }
 },
 "nbformat": 4,
 "nbformat_minor": 0
}
