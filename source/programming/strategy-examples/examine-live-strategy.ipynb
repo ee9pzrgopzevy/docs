{
 "cells": [
  {
   "cell_type": "markdown",
   "source": [
    "# Examining live trading strategy using notebook\n",
    "\n",
    "In this notebook, we show how to examine live trading strategy instance using Python and Jupyter notebook.\n",
    "\n",
    "- Downloading the trades from the live instance\n",
    "- Reading data to `State` object\n",
    "- Using the same analytics functions we use in backtests against the live data"
   ],
   "metadata": {
    "collapsed": false
   }
  },
  {
   "cell_type": "markdown",
   "source": [
    "## Download live data\n",
    "\n",
    "- Each strategy Docker instances offers a webhook that allows access the data of this strategy, include `State` object\n",
    "  that is the flat file state of the all the strategy current and past decision making\n",
    "- Note that `State` class and any children classes in the state tree may have changes  between\n",
    "  versions and decoding might need you to use a specific version of `trade-executor`\n"
   ],
   "metadata": {
    "collapsed": false
   }
  },
  {
   "cell_type": "code",
   "execution_count": null,
   "outputs": [],
   "source": [],
   "metadata": {
    "collapsed": false
   }
  },
  {
   "cell_type": "code",
   "execution_count": 1,
   "outputs": [
    {
     "name": "stdout",
     "output_type": "stream",
     "text": [
      "Downloaded 236,228 bytes state data\n",
      "trade-executor was launched at: 2022-12-01 22:17:08.835950, we have 14 trades\n"
     ]
    }
   ],
   "source": [
    "from tradeexecutor.monkeypatch.dataclasses_json import patch_dataclasses_json\n",
    "from tradeexecutor.state.state import State\n",
    "import requests\n",
    "\n",
    "# Currently needed because unpatched dataclasses_json package issues\n",
    "patch_dataclasses_json()\n",
    "\n",
    "# Public internet endpoint as exposed by the trade executor Docker\n",
    "webbhook_url = \"https://pancake-eth-usd-sma.tradingstrategy.ai\"\n",
    "\n",
    "state_api = f\"{webbhook_url}/state\"\n",
    "\n",
    "resp = requests.get(state_api)\n",
    "\n",
    "state_blob = resp.content\n",
    "\n",
    "print(f\"Downloaded {len(state_blob):,} bytes state data\")\n",
    "\n",
    "state = State.from_json(state_blob)\n",
    "\n",
    "print(f\"trade-executor was launched at: {state.created_at}, we have {len(list(state.portfolio.get_all_trades()))} trades\")"
   ],
   "metadata": {
    "collapsed": false
   }
  },
  {
   "cell_type": "markdown",
   "source": [
    "## Analyse the live strategy trades\n",
    "\n",
    "We can use the same functions as in our backtesting notebooks to produce summaries, graphs."
   ],
   "metadata": {
    "collapsed": false
   }
  },
  {
   "cell_type": "code",
   "execution_count": 2,
   "outputs": [
    {
     "data": {
      "text/plain": "                                               0\nTrading period length                     5 days\nReturn %                                  -1.81%\nAnnualised return %                     -124.87%\nCash at start                            $498.78\nValue at end                             $489.75\nTrade win percent                         14.29%\nTotal trades done                              7\nWon trades                                     1\nLost trades                                    6\nStop losses triggered                          4\nStop loss % of all                        57.14%\nStop loss % of lost                       66.67%\nZero profit trades                             0\nPositions open at the end                      0\nRealised profit and loss                  $-9.03\nPortfolio unrealised value                 $0.00\nExtra returns on lending pool interest     $0.00\nCash left at the end                     $489.75\nAverage winning trade profit %             0.15%\nAverage losing trade loss %               -0.46%\nBiggest winning trade %                    0.15%\nBiggest losing trade %                    -0.72%\nAverage duration of winning trades        0 days\nAverage duration of losing trades         0 days",
      "text/html": "<div>\n<style scoped>\n    .dataframe tbody tr th:only-of-type {\n        vertical-align: middle;\n    }\n\n    .dataframe tbody tr th {\n        vertical-align: top;\n    }\n\n    .dataframe thead th {\n        text-align: right;\n    }\n</style>\n<table border=\"1\" class=\"dataframe\">\n  <thead>\n    <tr style=\"text-align: right;\">\n      <th></th>\n      <th>0</th>\n    </tr>\n  </thead>\n  <tbody>\n    <tr>\n      <th>Trading period length</th>\n      <td>5 days</td>\n    </tr>\n    <tr>\n      <th>Return %</th>\n      <td>-1.81%</td>\n    </tr>\n    <tr>\n      <th>Annualised return %</th>\n      <td>-124.87%</td>\n    </tr>\n    <tr>\n      <th>Cash at start</th>\n      <td>$498.78</td>\n    </tr>\n    <tr>\n      <th>Value at end</th>\n      <td>$489.75</td>\n    </tr>\n    <tr>\n      <th>Trade win percent</th>\n      <td>14.29%</td>\n    </tr>\n    <tr>\n      <th>Total trades done</th>\n      <td>7</td>\n    </tr>\n    <tr>\n      <th>Won trades</th>\n      <td>1</td>\n    </tr>\n    <tr>\n      <th>Lost trades</th>\n      <td>6</td>\n    </tr>\n    <tr>\n      <th>Stop losses triggered</th>\n      <td>4</td>\n    </tr>\n    <tr>\n      <th>Stop loss % of all</th>\n      <td>57.14%</td>\n    </tr>\n    <tr>\n      <th>Stop loss % of lost</th>\n      <td>66.67%</td>\n    </tr>\n    <tr>\n      <th>Zero profit trades</th>\n      <td>0</td>\n    </tr>\n    <tr>\n      <th>Positions open at the end</th>\n      <td>0</td>\n    </tr>\n    <tr>\n      <th>Realised profit and loss</th>\n      <td>$-9.03</td>\n    </tr>\n    <tr>\n      <th>Portfolio unrealised value</th>\n      <td>$0.00</td>\n    </tr>\n    <tr>\n      <th>Extra returns on lending pool interest</th>\n      <td>$0.00</td>\n    </tr>\n    <tr>\n      <th>Cash left at the end</th>\n      <td>$489.75</td>\n    </tr>\n    <tr>\n      <th>Average winning trade profit %</th>\n      <td>0.15%</td>\n    </tr>\n    <tr>\n      <th>Average losing trade loss %</th>\n      <td>-0.46%</td>\n    </tr>\n    <tr>\n      <th>Biggest winning trade %</th>\n      <td>0.15%</td>\n    </tr>\n    <tr>\n      <th>Biggest losing trade %</th>\n      <td>-0.72%</td>\n    </tr>\n    <tr>\n      <th>Average duration of winning trades</th>\n      <td>0 days</td>\n    </tr>\n    <tr>\n      <th>Average duration of losing trades</th>\n      <td>0 days</td>\n    </tr>\n  </tbody>\n</table>\n</div>"
     },
     "metadata": {},
     "output_type": "display_data"
    }
   ],
   "source": [
    "import pandas as pd\n",
    "from IPython.core.display_functions import display\n",
    "from tradeexecutor.analysis.trade_analyser import build_trade_analysis\n",
    "\n",
    "analysis = build_trade_analysis(state.portfolio)\n",
    "\n",
    "summary = analysis.calculate_summary_statistics()\n",
    "\n",
    "with pd.option_context(\"display.max_row\", None):\n",
    "    display(summary.to_dataframe())"
   ],
   "metadata": {
    "collapsed": false
   }
  },
  {
   "cell_type": "code",
   "execution_count": 3,
   "outputs": [
    {
     "name": "stdout",
     "output_type": "stream",
     "text": [
      "All done\n"
     ]
    }
   ],
   "source": [
    "print(\"All done\")"
   ],
   "metadata": {
    "collapsed": false
   }
  }
 ],
 "metadata": {
  "kernelspec": {
   "display_name": "Python 3",
   "language": "python",
   "name": "python3"
  },
  "language_info": {
   "codemirror_mode": {
    "name": "ipython",
    "version": 2
   },
   "file_extension": ".py",
   "mimetype": "text/x-python",
   "name": "python",
   "nbconvert_exporter": "python",
   "pygments_lexer": "ipython2",
   "version": "2.7.6"
  }
 },
 "nbformat": 4,
 "nbformat_minor": 0
}
