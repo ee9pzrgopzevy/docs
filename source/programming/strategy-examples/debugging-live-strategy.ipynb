{
 "cells": [
  {
   "cell_type": "markdown",
   "source": [
    "# Debugging live strategy\n",
    "\n",
    "In this notebook, we show how to debug live trading strategy instance using Python and Jupyter notebook.\n",
    "\n",
    "- Downloading the trades from the live instance\n",
    "- Reading data to `State` object\n",
    "- Inspecting `State` in Python"
   ],
   "metadata": {
    "collapsed": false
   }
  },
  {
   "cell_type": "markdown",
   "source": [
    "## Download live data\n",
    "\n",
    "- Each strategy Docker instances offers a webhook that allows access the data of this strategy, include `State` object\n",
    "  that is the flat file state of the all the strategy current and past decision making\n",
    "- Note that `State` class and any children classes in the state tree may have changes  between\n",
    "  versions and decoding might need you to use a specific version of `trade-executor`\n"
   ],
   "metadata": {
    "collapsed": false
   }
  },
  {
   "cell_type": "code",
   "execution_count": 7,
   "outputs": [
    {
     "name": "stdout",
     "output_type": "stream",
     "text": [
      "Downloaded 2,160,683 bytes state data\n",
      "trade-executor was launched at: 2022-12-01 22:17:08.835950, we have 136 trades\n"
     ]
    }
   ],
   "source": [
    "from tradeexecutor.monkeypatch.dataclasses_json import patch_dataclasses_json\n",
    "from tradeexecutor.state.state import State\n",
    "import requests\n",
    "\n",
    "# Currently needed because unpatched dataclasses_json package issues\n",
    "patch_dataclasses_json()\n",
    "\n",
    "# Public internet endpoint as exposed by the trade executor Docker\n",
    "webbhook_url = \"https://pancake-eth-usd-sma.tradingstrategy.ai\"\n",
    "\n",
    "state_api = f\"{webbhook_url}/state\"\n",
    "\n",
    "resp = requests.get(state_api)\n",
    "\n",
    "state_blob = resp.content\n",
    "\n",
    "print(f\"Downloaded {len(state_blob):,} bytes state data\")\n",
    "\n",
    "state = State.from_json(state_blob)\n",
    "\n",
    "print(f\"trade-executor was launched at: {state.created_at}, we have {len(list(state.portfolio.get_all_trades()))} trades\")"
   ],
   "metadata": {
    "collapsed": false
   }
  },
  {
   "cell_type": "markdown",
   "source": [
    "## Examining data\n",
    "\n",
    "You can check what individual persistent objects are made of.\n",
    "\n",
    "In this example, we have one blockchain trade whose transactions were broadcasted to the blockchain,\n",
    "but for which we never got transaction receipts back to the blockchain."
   ],
   "metadata": {
    "collapsed": false
   }
  },
  {
   "cell_type": "code",
   "execution_count": 8,
   "outputs": [
    {
     "name": "stdout",
     "output_type": "stream",
     "text": [
      "<Closed position #1 <Pair ETH-USDC at 0xea26b78255df2bbc31c1ebf60010d78670185bd0 (0.0000% fee) on exchange 0xca143ce32fe78f1f7019d7d551a6402fc5350c73> $349.14808504607964>\n",
      "Value:  0.0\n",
      "Quantity:  0E-18\n",
      "Successful trades:\n"
     ]
    },
    {
     "ename": "TypeError",
     "evalue": "can only concatenate str (not \"TradeExecution\") to str",
     "output_type": "error",
     "traceback": [
      "\u001B[0;31m---------------------------------------------------------------------------\u001B[0m",
      "\u001B[0;31mTypeError\u001B[0m                                 Traceback (most recent call last)",
      "Cell \u001B[0;32mIn[8], line 9\u001B[0m\n\u001B[1;32m      7\u001B[0m \u001B[38;5;28mprint\u001B[39m(\u001B[38;5;124m\"\u001B[39m\u001B[38;5;124mSuccessful trades:\u001B[39m\u001B[38;5;124m\"\u001B[39m)\n\u001B[1;32m      8\u001B[0m \u001B[38;5;28;01mfor\u001B[39;00m t \u001B[38;5;129;01min\u001B[39;00m position\u001B[38;5;241m.\u001B[39mget_successful_trades():\n\u001B[0;32m----> 9\u001B[0m     \u001B[38;5;28mprint\u001B[39m(\u001B[38;5;124;43m\"\u001B[39;49m\u001B[38;5;124;43m     \u001B[39;49m\u001B[38;5;124;43m\"\u001B[39;49m\u001B[43m \u001B[49m\u001B[38;5;241;43m+\u001B[39;49m\u001B[43m \u001B[49m\u001B[43mt\u001B[49m)\n\u001B[1;32m     11\u001B[0m \u001B[38;5;28mprint\u001B[39m(\u001B[38;5;124m\"\u001B[39m\u001B[38;5;124mFailed trades:\u001B[39m\u001B[38;5;124m\"\u001B[39m)\n\u001B[1;32m     12\u001B[0m \u001B[38;5;28;01mfor\u001B[39;00m t \u001B[38;5;129;01min\u001B[39;00m position\u001B[38;5;241m.\u001B[39mget_failed_trades():\n",
      "\u001B[0;31mTypeError\u001B[0m: can only concatenate str (not \"TradeExecution\") to str"
     ]
    }
   ],
   "source": [
    "# Inspect a single position\n",
    "position = next(iter(state.portfolio.closed_positions.values()))\n",
    "print(position)\n",
    "\n",
    "print(\"Value: \", position.get_value())\n",
    "print(\"Quantity: \", position.get_quantity())\n",
    "print(\"Successful trades:\")\n",
    "for t in position.get_successful_trades():\n",
    "    print(f\"     {t}\")\n",
    "\n",
    "print(\"Failed trades:\")\n",
    "for t in position.get_failed_trades():\n",
    "    print(f\"     {t}\")\n",
    "\n",
    "print(\"Any trades:\")\n",
    "for trade_id, t in position.trades.items():\n",
    "    print(f\"     {t}\")"
   ],
   "metadata": {
    "collapsed": false
   }
  }
 ],
 "metadata": {
  "kernelspec": {
   "display_name": "Python 3",
   "language": "python",
   "name": "python3"
  },
  "language_info": {
   "codemirror_mode": {
    "name": "ipython",
    "version": 2
   },
   "file_extension": ".py",
   "mimetype": "text/x-python",
   "name": "python",
   "nbconvert_exporter": "python",
   "pygments_lexer": "ipython2",
   "version": "2.7.6"
  }
 },
 "nbformat": 4,
 "nbformat_minor": 0
}
