{
 "cells": [
  {
   "cell_type": "markdown",
   "source": [
    "# Debugging live strategy\n",
    "\n",
    "In this notebook, we show how to debug live trading strategy instance using Python and Jupyter notebook.\n",
    "\n",
    "- Downloading the trades from the live instance\n",
    "- Reading data to `State` object\n",
    "- Inspecting `State` in Python"
   ],
   "metadata": {
    "collapsed": false
   }
  },
  {
   "cell_type": "markdown",
   "source": [
    "## Download live data\n",
    "\n",
    "- Each strategy Docker instances offers a webhook that allows access the data of this strategy, include `State` object\n",
    "  that is the flat file state of the all the strategy current and past decision making\n",
    "- Note that `State` class and any children classes in the state tree may have changes  between\n",
    "  versions and decoding might need you to use a specific version of `trade-executor`\n"
   ],
   "metadata": {
    "collapsed": false
   }
  },
  {
   "cell_type": "code",
   "execution_count": 1,
   "outputs": [
    {
     "name": "stdout",
     "output_type": "stream",
     "text": [
      "Downloaded 196,317 bytes state data\n",
      "trade-executor was launched at: 2022-12-01 22:17:08.835950, we have 11 trades\n"
     ]
    }
   ],
   "source": [
    "from tradeexecutor.monkeypatch.dataclasses_json import patch_dataclasses_json\n",
    "from tradeexecutor.state.state import State\n",
    "import requests\n",
    "\n",
    "# Currently needed because unpatched dataclasses_json package issues\n",
    "patch_dataclasses_json()\n",
    "\n",
    "# Public internet endpoint as exposed by the trade executor Docker\n",
    "webbhook_url = \"https://pancake-eth-usd-sma.tradingstrategy.ai\"\n",
    "\n",
    "state_api = f\"{webbhook_url}/state\"\n",
    "\n",
    "resp = requests.get(state_api)\n",
    "\n",
    "state_blob = resp.content\n",
    "\n",
    "print(f\"Downloaded {len(state_blob):,} bytes state data\")\n",
    "\n",
    "state = State.from_json(state_blob)\n",
    "\n",
    "print(f\"trade-executor was launched at: {state.created_at}, we have {len(list(state.portfolio.get_all_trades()))} trades\")"
   ],
   "metadata": {
    "collapsed": false
   }
  },
  {
   "cell_type": "markdown",
   "source": [
    "## Examining data\n",
    "\n",
    "You can check what individual persistent objects are made of.\n",
    "\n",
    "In this example, we have one blockchain trade whose transactions were broadcasted to the blockchain,\n",
    "but for which we never got transaction receipts back to the blockchain."
   ],
   "metadata": {
    "collapsed": false
   }
  },
  {
   "cell_type": "code",
   "execution_count": 2,
   "outputs": [
    {
     "name": "stdout",
     "output_type": "stream",
     "text": [
      "<Open position #6 <Pair ETH-USDC at 0xea26b78255df2bbc31c1ebf60010d78670185bd0 on exchange 0xca143ce32fe78f1f7019d7d551a6402fc5350c73> $343.2515209372046>\n",
      "Value:  343.2515209372046\n",
      "Quantity:  0\n",
      "Successful trades:\n",
      "Failed trades:\n",
      "Any trades:\n",
      "     11: <Buy #11 0.2740001086155858047026489677 ETH at 1252.7422805469632, broadcasted>\n"
     ]
    }
   ],
   "source": [
    "# Inspect a single position\n",
    "position = state.portfolio.open_positions[6]\n",
    "print(position)\n",
    "\n",
    "print(\"Value: \", position.get_value())\n",
    "print(\"Quantity: \", position.get_quantity())\n",
    "print(\"Successful trades:\")\n",
    "for t in position.get_successful_trades():\n",
    "    print(\"     \" + t)\n",
    "\n",
    "print(\"Failed trades:\")\n",
    "for t in position.get_failed_trades():\n",
    "    print(\"     \" + t)\n",
    "\n",
    "print(\"Any trades:\")\n",
    "for trade_id, t in position.trades.items():\n",
    "    print(f\"     {trade_id}: {t}\")"
   ],
   "metadata": {
    "collapsed": false
   }
  }
 ],
 "metadata": {
  "kernelspec": {
   "display_name": "Python 3",
   "language": "python",
   "name": "python3"
  },
  "language_info": {
   "codemirror_mode": {
    "name": "ipython",
    "version": 2
   },
   "file_extension": ".py",
   "mimetype": "text/x-python",
   "name": "python",
   "nbconvert_exporter": "python",
   "pygments_lexer": "ipython2",
   "version": "2.7.6"
  }
 },
 "nbformat": 4,
 "nbformat_minor": 0
}
