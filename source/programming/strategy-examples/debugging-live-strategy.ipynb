{
 "cells": [
  {
   "cell_type": "raw",
   "metadata": {
    "raw_mimetype": "text/restructuredtext",
    "tags": []
   },
   "source": [
    ".. tags:: live-strategy, debugging"
   ]
  },
  {
   "cell_type": "markdown",
   "metadata": {},
   "source": [
    "# Debugging live strategy\n",
    "\n",
    "In this notebook, we show how to debug live trading strategy instance using Python and Jupyter notebook.\n",
    "\n",
    "- Downloading the trades from the live instance\n",
    "- Reading data to `State` object\n",
    "- Inspecting `State` in Python"
   ]
  },
  {
   "cell_type": "markdown",
   "metadata": {},
   "source": [
    "## Download live data\n",
    "\n",
    "- Each strategy Docker instances offers a webhook that allows access the data of this strategy, include `State` object\n",
    "  that is the flat file state of the all the strategy current and past decision making\n",
    "- Note that `State` class and any children classes in the state tree may have changes  between\n",
    "  versions and decoding might need you to use a specific version of `trade-executor`\n"
   ]
  },
  {
   "cell_type": "code",
   "execution_count": 1,
   "metadata": {
    "collapsed": false,
    "jupyter": {
     "outputs_hidden": false
    }
   },
   "outputs": [
    {
     "name": "stdout",
     "output_type": "stream",
     "text": [
      "Downloaded 3,727,546 bytes state data\n",
      "trade-executor was launched at: 2022-12-01 21:17:08, we have 250 trades\n"
     ]
    }
   ],
   "source": [
    "from tradeexecutor.monkeypatch.dataclasses_json import patch_dataclasses_json\n",
    "from tradeexecutor.state.state import State\n",
    "import requests\n",
    "\n",
    "# Currently needed because unpatched dataclasses_json package issues\n",
    "patch_dataclasses_json()\n",
    "\n",
    "# Public internet endpoint as exposed by the trade executor Docker\n",
    "webbhook_url = \"https://pancake-eth-usd-sma.tradingstrategy.ai\"\n",
    "\n",
    "state_api = f\"{webbhook_url}/state\"\n",
    "\n",
    "resp = requests.get(state_api)\n",
    "\n",
    "state_blob = resp.content\n",
    "\n",
    "print(f\"Downloaded {len(state_blob):,} bytes state data\")\n",
    "\n",
    "state = State.from_json(state_blob)\n",
    "\n",
    "print(f\"trade-executor was launched at: {state.created_at}, we have {len(list(state.portfolio.get_all_trades()))} trades\")"
   ]
  },
  {
   "cell_type": "markdown",
   "metadata": {},
   "source": [
    "## Examining data\n",
    "\n",
    "You can check what individual persistent objects are made of.\n",
    "\n",
    "In this example, we have one blockchain trade whose transactions were broadcasted to the blockchain,\n",
    "but for which we never got transaction receipts back to the blockchain."
   ]
  },
  {
   "cell_type": "code",
   "execution_count": 3,
   "metadata": {
    "collapsed": false,
    "jupyter": {
     "outputs_hidden": false
    }
   },
   "outputs": [
    {
     "name": "stdout",
     "output_type": "stream",
     "text": [
      "<Closed position #1 <Pair ETH-USDC at 0xea26b78255df2bbc31c1ebf60010d78670185bd0 (0.0000% fee) on exchange 0xca143ce32fe78f1f7019d7d551a6402fc5350c73> $349.14808504607964>\n",
      "Value:  0.0\n",
      "Quantity:  0\n",
      "Successful trades:\n",
      "   <Buy #1 0.2702005902207243036333094103 ETH at 1292.1810598595061, success>\n",
      "   <Sell #2 0.270336092336264209 ETH at 1281.6539976918418, success>\n",
      "Failed trades:\n",
      "Any trades:\n",
      "   <Buy #1 0.2702005902207243036333094103 ETH at 1292.1810598595061, success>\n",
      "   <Sell #2 0.270336092336264209 ETH at 1281.6539976918418, success>\n"
     ]
    }
   ],
   "source": [
    "# Inspect a single position\n",
    "position = next(iter(state.portfolio.closed_positions.values()))\n",
    "print(position)\n",
    "\n",
    "print(\"Value: \", position.get_value())\n",
    "print(\"Quantity: \", position.get_quantity())\n",
    "print(\"Successful trades:\")\n",
    "for t in position.get_successful_trades():\n",
    "    print(f\"     {t}\")\n",
    "\n",
    "print(\"Failed trades:\")\n",
    "for t in position.get_failed_trades():\n",
    "    print(f\"     {t}\")\n",
    "\n",
    "print(\"Any trades:\")\n",
    "for trade_id, t in position.trades.items():\n",
    "    print(f\"     {t}\")"
   ]
  }
 ],
 "metadata": {
  "kernelspec": {
   "display_name": "Python 3 (ipykernel)",
   "language": "python",
   "name": "python3"
  },
  "language_info": {
   "codemirror_mode": {
    "name": "ipython",
    "version": 3
   },
   "file_extension": ".py",
   "mimetype": "text/x-python",
   "name": "python",
   "nbconvert_exporter": "python",
   "pygments_lexer": "ipython3",
   "version": "3.10.8"
  }
 },
 "nbformat": 4,
 "nbformat_minor": 4
}
