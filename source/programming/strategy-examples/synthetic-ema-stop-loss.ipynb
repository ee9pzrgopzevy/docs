{
 "cells": [
  {
   "cell_type": "markdown",
   "metadata": {
    "collapsed": true
   },
   "source": [
    "# Synthetic data w/stop loss backtesting example\n",
    "\n",
    "This is an example notebook how to create and run backtests where\n",
    "stop loss is being used. It is based on [synthetic EMA example](./synthetic-ema.ipynb).\n",
    "\n",
    "- Synthetic trading data is used, as the purpose of this notebook is show how to stop loss functions\n",
    "\n",
    "- Stop loss is set to 95% when a position is opened with [open_1x_long](https://tradingstrategy.ai/docs/programming/api/execution/help/tradeexecutor.strategy.pandas_trader.position_manager.PositionManager.html?highlight=open_1x_long#tradeexecutor.strategy.pandas_trader.position_manager.PositionManager.open_1x_long)"
   ]
  },
  {
   "cell_type": "markdown",
   "source": [
    "## Set up\n",
    "\n",
    "Set up strategy paramets that will decide its behavior"
   ],
   "metadata": {
    "collapsed": false
   }
  },
  {
   "cell_type": "code",
   "execution_count": 13,
   "outputs": [],
   "source": [
    "import datetime\n",
    "\n",
    "import pandas as pd\n",
    "\n",
    "from tradingstrategy.chain import ChainId\n",
    "from tradingstrategy.timebucket import TimeBucket\n",
    "from tradeexecutor.strategy.cycle import CycleDuration\n",
    "from tradeexecutor.strategy.strategy_module import TradeRouting, ReserveCurrency\n",
    "\n",
    "trading_strategy_cycle = CycleDuration.cycle_24h\n",
    "\n",
    "# Strategy keeps its cash in BUSD\n",
    "reserve_currency = ReserveCurrency.busd\n",
    "\n",
    "# How much of the cash to put on a single trade\n",
    "position_size = 0.10\n",
    "\n",
    "#\n",
    "# Strategy thinking specific parameter\n",
    "#\n",
    "\n",
    "slow_ema_candle_count = 20\n",
    "\n",
    "fast_ema_candle_count = 5\n",
    "\n",
    "# How many candles to extract from the dataset once\n",
    "batch_size = 90\n",
    "\n",
    "# Set stop loss to 5% of opening price\n",
    "stop_loss_pct = 0.95\n",
    "\n",
    "# Range of backtesting and synthetic data generation.\n",
    "# Because we are using synthetic data actual dates do not really matter -\n",
    "# only the duration\n",
    "\n",
    "start_at = datetime.datetime(2021, 6, 1)\n",
    "end_at = datetime.datetime(2022, 1, 1)\n"
   ],
   "metadata": {
    "collapsed": false
   }
  },
  {
   "cell_type": "markdown",
   "source": [
    "## Strategy logic and trade decisions\n",
    "\n",
    "`decide_trades` function decide what trades to take.\n",
    "In this example, we calculate two exponential moving averages\n",
    "(EMAs) and make decisions based on those."
   ],
   "metadata": {
    "collapsed": false
   }
  },
  {
   "cell_type": "code",
   "execution_count": 14,
   "outputs": [],
   "source": [
    "from typing import List, Dict\n",
    "\n",
    "from pandas_ta.overlap import ema\n",
    "\n",
    "from tradingstrategy.universe import Universe\n",
    "\n",
    "from tradeexecutor.state.visualisation import PlotKind\n",
    "from tradeexecutor.state.trade import TradeExecution\n",
    "from tradeexecutor.strategy.pricing_model import PricingModel\n",
    "from tradeexecutor.strategy.pandas_trader.position_manager import PositionManager\n",
    "from tradeexecutor.state.state import State\n",
    "\n",
    "\n",
    "\n",
    "def decide_trades(\n",
    "        timestamp: pd.Timestamp,\n",
    "        universe: Universe,\n",
    "        state: State,\n",
    "        pricing_model: PricingModel,\n",
    "        cycle_debug_data: Dict) -> List[TradeExecution]:\n",
    "    \"\"\"The brain function to decide the trades on each trading strategy cycle.\"\"\"\n",
    "\n",
    "    # The pair we are trading\n",
    "    pair = universe.pairs.get_single()\n",
    "\n",
    "    # How much cash we have in the hand\n",
    "    cash = state.portfolio.get_current_cash()\n",
    "\n",
    "    # Get OHLCV candles for our trading pair as Pandas Dataframe.\n",
    "    # We could have candles for multiple trading pairs in a different strategy,\n",
    "    # but this strategy only operates on single pair candle.\n",
    "    # We also limit our sample size to N latest candles to speed up calculations.\n",
    "    candles: pd.DataFrame = universe.candles.get_single_pair_data(timestamp, sample_count=batch_size)\n",
    "\n",
    "    # We have data for open, high, close, etc.\n",
    "    # We only operate using candle close values in this strategy.\n",
    "    close = candles[\"close\"]\n",
    "\n",
    "    # Calculate exponential moving averages based on slow and fast sample numbers.\n",
    "    # https://github.com/twopirllc/pandas-ta\n",
    "    # https://github.com/twopirllc/pandas-ta/blob/bc3b292bf1cc1d5f2aba50bb750a75209d655b37/pandas_ta/overlap/ema.py#L7\n",
    "    slow_ema_series = ema(close, length=slow_ema_candle_count)\n",
    "    fast_ema_series = ema(close, length=fast_ema_candle_count)\n",
    "\n",
    "    if slow_ema_series is None or fast_ema_series is None:\n",
    "        # Cannot calculate EMA, because\n",
    "        # not enough samples in backtesting\n",
    "        return []\n",
    "\n",
    "    slow_ema = slow_ema_series.iloc[-1]\n",
    "    fast_ema = fast_ema_series.iloc[-1]\n",
    "\n",
    "    # Get the last close price from close time series\n",
    "    # that's Pandas's Series object\n",
    "    # https://pandas.pydata.org/docs/reference/api/pandas.Series.iat.html\n",
    "    current_price = close.iloc[-1]\n",
    "\n",
    "    # List of any trades we decide on this cycle.\n",
    "    # Because the strategy is simple, there can be\n",
    "    # only zero (do nothing) or 1 (open or close) trades\n",
    "    # decides\n",
    "    trades = []\n",
    "\n",
    "    # Create a position manager helper class that allows us easily to create\n",
    "    # opening/closing trades for different positions\n",
    "    position_manager = PositionManager(timestamp, universe, state, pricing_model)\n",
    "\n",
    "    if current_price >= slow_ema:\n",
    "        # Entry condition:\n",
    "        # Close price is higher than the slow EMA\n",
    "        if not position_manager.is_any_open():\n",
    "            buy_amount = cash * position_size\n",
    "            trades += position_manager.open_1x_long(pair, buy_amount, stop_loss_pct=stop_loss_pct)\n",
    "    elif fast_ema >= slow_ema:\n",
    "        # Exit condition:\n",
    "        # Fast EMA crosses slow EMA\n",
    "        if position_manager.is_any_open():\n",
    "            trades += position_manager.close_all()\n",
    "\n",
    "    # Visualize strategy\n",
    "    # See available Plotly colours here\n",
    "    # https://community.plotly.com/t/plotly-colours-list/11730/3?u=miohtama\n",
    "    visualisation = state.visualisation\n",
    "    visualisation.plot_indicator(timestamp, \"Slow EMA\", PlotKind.technical_indicator_on_price, slow_ema, colour=\"darkblue\")\n",
    "    visualisation.plot_indicator(timestamp, \"Fast EMA\", PlotKind.technical_indicator_on_price, fast_ema, colour=\"#003300\")\n",
    "\n",
    "    return trades"
   ],
   "metadata": {
    "collapsed": false
   }
  },
  {
   "cell_type": "markdown",
   "source": [
    "## Defining trading universe\n",
    "\n",
    "We create a trading universe with a single blockchain, exchange and trading pair.\n",
    "For the sake of easier understanding the code, we name this \"Uniswap v2\" like exchange with a single ETH-USDC trading pair.\n",
    "\n",
    "The trading pair contains generated noise-like OHLCV trading data."
   ],
   "metadata": {
    "collapsed": false
   }
  },
  {
   "cell_type": "code",
   "execution_count": 15,
   "outputs": [],
   "source": [
    "\n",
    "import random\n",
    "from tradeexecutor.state.identifier import AssetIdentifier, TradingPairIdentifier\n",
    "from tradingstrategy.candle import GroupedCandleUniverse\n",
    "from tradeexecutor.testing.synthetic_ethereum_data import generate_random_ethereum_address\n",
    "from tradeexecutor.testing.synthetic_exchange_data import generate_exchange\n",
    "from tradeexecutor.testing.synthetic_price_data import generate_ohlcv_candles\n",
    "from tradeexecutor.strategy.trading_strategy_universe import TradingStrategyUniverse, \\\n",
    "    create_pair_universe_from_code\n",
    "\n",
    "def create_trading_universe() -> TradingStrategyUniverse:\n",
    "\n",
    "    # Set up fake assets\n",
    "    mock_chain_id = ChainId.ethereum\n",
    "    mock_exchange = generate_exchange(\n",
    "        exchange_id=random.randint(1, 1000),\n",
    "        chain_id=mock_chain_id,\n",
    "        address=generate_random_ethereum_address())\n",
    "\n",
    "    usdc = AssetIdentifier(ChainId.ethereum.value, generate_random_ethereum_address(), \"USDC\", 6, 1)\n",
    "    weth = AssetIdentifier(ChainId.ethereum.value, generate_random_ethereum_address(), \"WETH\", 18, 2)\n",
    "    weth_usdc = TradingPairIdentifier(weth, usdc, generate_random_ethereum_address(), mock_exchange.address, internal_id=random.randint(1, 1000), internal_exchange_id=mock_exchange.exchange_id)\n",
    "\n",
    "    time_bucket = TimeBucket.d1\n",
    "\n",
    "    pair_universe = create_pair_universe_from_code(mock_chain_id, [weth_usdc])\n",
    "\n",
    "    # Generate candle data with 15% daily movement\n",
    "    candles = generate_ohlcv_candles(\n",
    "        time_bucket,\n",
    "        start_at,\n",
    "        end_at,\n",
    "        pair_id=weth_usdc.internal_id,\n",
    "        daily_drift=(0.85, 1.15)\n",
    "    )\n",
    "    candle_universe = GroupedCandleUniverse.create_from_single_pair_dataframe(candles)\n",
    "\n",
    "    universe = Universe(\n",
    "        time_bucket=time_bucket,\n",
    "        chains={mock_chain_id},\n",
    "        exchanges={mock_exchange},\n",
    "        pairs=pair_universe,\n",
    "        candles=candle_universe,\n",
    "        liquidity=None\n",
    "    )\n",
    "\n",
    "    # As we are using synthetic data,\n",
    "    # we need to slip in stop loss data feed.\n",
    "    # In this case, it is the same as normal price feed,\n",
    "    # but usually should be finer granularity than our strategy candles.\n",
    "    # E.g. if strategy candles are 1h you can use 15m candles for stop loss.\n",
    "    return TradingStrategyUniverse(\n",
    "        universe=universe,\n",
    "        reserve_assets=[usdc],\n",
    "        backtest_stop_loss_time_bucket=universe.candles.time_bucket,\n",
    "        backtest_stop_loss_candles=universe.candles,\n",
    "    )\n",
    "\n"
   ],
   "metadata": {
    "collapsed": false
   }
  },
  {
   "cell_type": "markdown",
   "source": [
    "## Running the backtest\n",
    "\n",
    "Run backtest using giving trading universe and strategy function.\n",
    "\n",
    "Running the backtest outputs `state` object that contains all the information\n",
    "on the backtesting position and trades."
   ],
   "metadata": {
    "collapsed": false
   }
  },
  {
   "cell_type": "code",
   "execution_count": 16,
   "outputs": [
    {
     "name": "stdout",
     "output_type": "stream",
     "text": [
      "Our universe has synthetic candle data for the period 2021-06-01 00:00:00 - 2021-12-31 00:00:00\n"
     ]
    },
    {
     "name": "stderr",
     "output_type": "stream",
     "text": [
      "Backtesting Stop loss example with synthetic data, 2021-06-01-2022-01-01 at 2021-12-31, total 32 trades: 100%|██████████| 18489600/18489600 [00:00<00:00, 42979903.20it/s]\n"
     ]
    }
   ],
   "source": [
    "from tradeexecutor.testing.synthetic_exchange_data import generate_simple_routing_model\n",
    "from tradeexecutor.backtest.backtest_runner import run_backtest_inline\n",
    "\n",
    "universe = create_trading_universe()\n",
    "\n",
    "# Check that synthetic trading data has price feed\n",
    "# to check stop losses\n",
    "assert universe.has_stop_loss_data()\n",
    "\n",
    "start_candle, end_candle = universe.universe.candles.get_timestamp_range()\n",
    "print(f\"Our universe has synthetic candle data for the period {start_candle} - {end_candle}\")\n",
    "\n",
    "state, universe,  debug_dump = run_backtest_inline(\n",
    "    name=\"Stop loss example with synthetic data\",\n",
    "    start_at=start_at,\n",
    "    end_at=end_at,\n",
    "    client=None,  # None of downloads needed, because we are using synthetic data\n",
    "    cycle_duration=CycleDuration.cycle_24h,  # Override to use 24h cycles despite what strategy file says\n",
    "    decide_trades=decide_trades,\n",
    "    universe=universe,\n",
    "    initial_deposit=10_000,\n",
    "    reserve_currency=ReserveCurrency.busd,\n",
    "    trade_routing=TradeRouting.user_supplied_routing_model,\n",
    "    routing_model=generate_simple_routing_model(universe),\n",
    ")\n"
   ],
   "metadata": {
    "collapsed": false
   }
  },
  {
   "cell_type": "markdown",
   "source": [
    "## Examine backtest results\n",
    "\n",
    "Examine `state` that contains all actions the trade executor took.\n",
    "\n",
    "We plot out a chart that shows\n",
    "- The price action\n",
    "- When the strategy made buys or sells\n",
    "- When sell was a stop loss sell"
   ],
   "metadata": {
    "collapsed": false
   }
  },
  {
   "cell_type": "code",
   "execution_count": 17,
   "outputs": [
    {
     "name": "stdout",
     "output_type": "stream",
     "text": [
      "Positions taken: 16\n",
      "Trades made: 32\n",
      "Trades w/stop loss triggered: 10\n"
     ]
    }
   ],
   "source": [
    "print(f\"Positions taken: {len(list(state.portfolio.get_all_positions()))}\")\n",
    "print(f\"Trades made: {len(list(state.portfolio.get_all_trades()))}\")\n",
    "\n",
    "stop_loss_trades = [t for t in state.portfolio.get_all_trades() if t.is_stop_loss()]\n",
    "print(f\"Trades w/stop loss triggered: {len(stop_loss_trades)}\")"
   ],
   "metadata": {
    "collapsed": false
   }
  },
  {
   "cell_type": "code",
   "execution_count": 18,
   "outputs": [
    {
     "data": {
      "application/vnd.plotly.v1+json": {
       "data": [
        {
         "close": [
          1602.5566918206966,
          1484.8019602700608,
          1552.327623188638,
          1332.6798509661828,
          1437.540465326617,
          1533.0822936805098,
          1717.7086919189144,
          1739.0490612602875,
          1591.1947955461055,
          1458.3419638910689,
          1341.565719789738,
          1325.3073381203676,
          1459.5257086203956,
          1321.997344667424,
          1171.6426047253785,
          1245.8749872680805,
          1369.2299518149298,
          1405.2053485538902,
          1407.4328044356662,
          1298.809944284024,
          1171.3995727231036,
          1232.717360912102,
          1235.8336044192845,
          1196.257922196158,
          1032.4258385478865,
          1061.287425840882,
          1062.0001520161215,
          1074.6222728989683,
          1079.0620736978574,
          1065.832254263983,
          1211.9950372828398,
          1328.5232377146644,
          1451.7331003188333,
          1419.5441183031994,
          1449.3542611100065,
          1442.7996052614599,
          1459.4547626519093,
          1441.1299070739053,
          1301.5757545508025,
          1418.1080213316238,
          1314.00217594567,
          1149.7128010100043,
          1237.8682171929,
          1284.214777216435,
          1153.0805979237996,
          1074.5262108319057,
          1017.147080582326,
          982.5306476709226,
          867.2095593563374,
          791.5258377077467,
          677.740383284776,
          722.2344744405402,
          760.8398849985016,
          869.3952684712444,
          797.1995847873187,
          815.3388958000486,
          707.4169989512247,
          787.1147913693004,
          742.3351132017096,
          723.6666313587792,
          805.8862830484011,
          917.6307470862284,
          1018.8769109627237,
          1021.5892874604763,
          931.4120964477986,
          845.9416182062072,
          794.1884343276556,
          882.7296852706145,
          803.5099071524493,
          871.6556729487311,
          917.2750983085464,
          874.3052953619518,
          870.2394406905205,
          929.1020499614572,
          1043.6569276113955,
          1075.0320195440022,
          1023.5224736339595,
          1055.4510101897472,
          939.98867323143,
          810.027098459608,
          880.0417377534225,
          910.4522926308755,
          929.785253308138,
          864.7161782978301,
          974.9849242559271,
          1058.9354152594392,
          1113.0718911798936,
          1241.6517534064992,
          1423.4886101268385,
          1281.4458436328378,
          1128.7618837752188,
          1288.0067196982152,
          1192.723899161666,
          1247.1300712026639,
          1427.6834369649994,
          1406.201598810435,
          1580.5953534526996,
          1396.3116754156918,
          1597.3608208810226,
          1674.9132137275642,
          1578.097091992941,
          1474.3151417722918,
          1541.5485715945706,
          1490.8987816793422,
          1408.9299778094723,
          1325.5816237788513,
          1356.9921166572756,
          1161.7375179545188,
          1179.5834634194216,
          1227.4918070624465,
          1225.0102026187415,
          1225.5355798298074,
          1390.699030305898,
          1593.0022956457165,
          1405.1288942614106,
          1318.076730732918,
          1480.3906337557225,
          1659.409069691835,
          1829.0264915003056,
          1652.4275084312033,
          1758.9220586062797,
          1529.073613485297,
          1551.6748190944566,
          1529.9403598357544,
          1418.8525037092209,
          1383.388519049151,
          1323.1876466639956,
          1227.5660235323528,
          1191.1375667055017,
          1015.1388342106496,
          1060.4666892866344,
          1134.0912697631647,
          1126.887597179004,
          1147.3093137895794,
          1069.9435035897725,
          932.4187609534871,
          837.1631579880483,
          789.8974363813405,
          759.4739830781601,
          781.0227977241526,
          888.8224111640063,
          822.3194941529121,
          885.9053773260198,
          943.6185504423711,
          848.727745876587,
          971.2554450617168,
          903.5180248455854,
          805.7012188397773,
          844.30655943539,
          951.780317728143,
          1038.2147808176837,
          983.8540449467389,
          1119.4559167959483,
          1088.634193744124,
          1006.4041133841475,
          912.7598321318566,
          947.6801763956022,
          864.2670206921297,
          805.4689553803354,
          849.8165825435369,
          970.5626296401017,
          1074.130698102154,
          1036.5113278231593,
          1132.14476232229,
          1147.5262247668377,
          1310.5391359923042,
          1339.074141718389,
          1281.5550543469808,
          1259.3768465735711,
          1221.3698914218207,
          1218.5482092546488,
          1110.309708166895,
          1143.0075070147557,
          1146.7657869773204,
          1261.8758957218001,
          1446.4599563542386,
          1498.5471422804135,
          1275.3471959946103,
          1239.0962446041601,
          1326.0179016446207,
          1323.1147386988662,
          1382.1569217740366,
          1435.75504515405,
          1557.423950822375,
          1704.7527657559365,
          1584.354563309714,
          1605.3853291007097,
          1597.9410347961305,
          1602.8695273166898,
          1533.229966042774,
          1536.5249985066262,
          1491.3160055186895,
          1361.07463256119,
          1266.7804206012588,
          1275.5963639315153,
          1366.1862921245315,
          1453.6647025583518,
          1501.4901247420412,
          1353.9069960974623,
          1284.7129634437747,
          1364.3742808995198,
          1527.8508696142194,
          1496.5752838937938,
          1357.349275022816,
          1549.977428665768,
          1656.111130934109,
          1669.3230835221602,
          1777.3699030346693,
          1638.9982456200669,
          1543.3606727038232,
          1539.823984705848,
          1334.4159550336067,
          1220.9470132115712,
          1336.2937450664872
         ],
         "high": [
          1876.269036324351,
          1642.2548325297946,
          1543.3568591638998,
          1617.1966860542348,
          1332.820185709487,
          1453.983212827331,
          1535.4271417481461,
          1798.3679259145654,
          1775.753132985764,
          1626.0330185486555,
          1475.1760821704497,
          1361.003773807734,
          1362.1809879773712,
          1531.9578399700345,
          1343.9884522489103,
          1226.5012891397926,
          1287.6308342191733,
          1429.6457858042645,
          1446.5888047152603,
          1463.5474492558794,
          1334.4492087191084,
          1193.3459206287876,
          1280.6973472113268,
          1266.0925898419666,
          1238.329241987319,
          1052.7439628609318,
          1113.400705172469,
          1107.6815458156984,
          1125.799406381118,
          1093.5905372644681,
          1066.136502979583,
          1265.6972999879654,
          1362.9770453425776,
          1455.8069027543283,
          1433.7281619790788,
          1475.2100138817325,
          1487.7781220805061,
          1461.496173839723,
          1483.2441090935688,
          1353.4498976276975,
          1477.792276259741,
          1315.0987521601573,
          1164.0588728271987,
          1259.18572302988,
          1318.078262300023,
          1194.1066248595669,
          1099.9801794648247,
          1038.55389086833,
          1026.7356103679765,
          893.4707738687707,
          792.2328491984201,
          683.1700187868587,
          741.904608482492,
          791.1902010598868,
          897.5856890446809,
          810.0044360785487,
          827.5121480622962,
          718.2541541249724,
          824.0811822840885,
          751.7018272228731,
          725.0385777573335,
          828.8653475008816,
          962.3090519587928,
          1038.1320968815337,
          1056.0246623336657,
          936.275195663636,
          867.081695956024,
          829.9141381456487,
          897.1950077436144,
          817.1332427784745,
          908.1650174504774,
          957.7449638855073,
          917.3870485599258,
          873.9240445082797,
          938.9955092886133,
          1087.5495997656656,
          1090.6853074713863,
          1072.3602300925702,
          1084.537681871903,
          943.4287224643045,
          843.5827128658873,
          914.4471279702499,
          920.6363421522709,
          971.1964067779761,
          884.5082025088489,
          1015.3379979313625,
          1063.7897405354495,
          1115.2993448747957,
          1267.7893663585369,
          1440.6715614313562,
          1339.8006075494743,
          1180.0766817451508,
          1318.7263301470236,
          1195.0866979330865,
          1265.559527103001,
          1450.0467317883115,
          1474.389247832302,
          1597.602027588367,
          1434.2154772349504,
          1618.0535115123282,
          1695.5465697744103,
          1655.690288881816,
          1521.7487310402264,
          1565.1947161703706,
          1554.048391193768,
          1432.482595699697,
          1365.0814733531463,
          1373.5310890686944,
          1165.8568281949053,
          1196.7358780034574,
          1280.436534692216,
          1273.70334715636,
          1236.1512982165139,
          1447.825479788022,
          1633.970989381483,
          1467.9212098185453,
          1320.1698330157487,
          1539.8916992184415,
          1721.3203680171964,
          1868.5918097510694,
          1707.6003063812989,
          1843.6480926624906,
          1570.46392761434,
          1582.3755157307507,
          1531.807537515519,
          1459.3326232737022,
          1392.9535518297694,
          1378.029433304727,
          1265.156852469904,
          1222.625391903583,
          1037.3864623788943,
          1073.1061094155768,
          1146.8533170530227,
          1177.9885411299697,
          1184.3912213690628,
          1097.3175645947479,
          968.1316983012692,
          866.1523167667239,
          817.5945052618184,
          791.9899935436117,
          803.3300855736173,
          898.4936295356448,
          824.4630023548223,
          901.3193117814675,
          978.0557278171716,
          883.0139590607948,
          1015.5865976915694,
          938.5635577738303,
          833.9171883941176,
          885.3064037668476,
          972.38263021792,
          1044.7726683654505,
          989.7171623858142,
          1126.0657459919269,
          1129.4349411190667,
          1028.4832645146923,
          940.3994566542239,
          961.1742708843158,
          889.5787261045593,
          837.3289061070831,
          872.9901036229936,
          1007.8840328596077,
          1089.38590216115,
          1042.630451767582,
          1186.7676523179302,
          1155.3634853665662,
          1330.9344967894358,
          1374.4520769022192,
          1310.3613454470592,
          1308.686948000349,
          1260.9220159326283,
          1218.7843430529676,
          1159.2556538628598,
          1199.4159644823196,
          1170.2151600493464,
          1281.1407400213493,
          1484.8602990287304,
          1527.706070503747,
          1330.2665354880119,
          1294.726038732719,
          1375.4630101296286,
          1364.771376082689,
          1425.9528106018738,
          1496.506727462814,
          1604.57203256613,
          1765.1027207234047,
          1596.4012006142875,
          1642.8793144318186,
          1657.444177556066,
          1655.5112519524812,
          1605.7614867705556,
          1589.451234843727,
          1506.8039434235395,
          1366.1708211128912,
          1290.1023653692605,
          1286.3466823989631,
          1421.8586187809933,
          1470.5354901566257,
          1560.7815392220523,
          1368.956928907509,
          1338.914529456571,
          1406.8371600486016,
          1586.0308954848515,
          1543.4095976143678,
          1387.4536908787582,
          1596.961887051681,
          1667.5896157887203,
          1699.4618577972951,
          1841.1915364231475,
          1647.71652259448,
          1551.0754862662736,
          1585.8272711392335,
          1336.73206316801,
          1279.8040817963483
         ],
         "low": [
          1662.5205685842095,
          1530.5232004416164,
          1470.8656704268087,
          1485.1479957971012,
          1273.323997026663,
          1301.653977771997,
          1529.1812337868569,
          1652.2289086715778,
          1733.9987258232543,
          1512.3014097406206,
          1426.436207125752,
          1338.6827345984252,
          1240.1835948775959,
          1334.014301938836,
          1226.617297563021,
          1122.1867502346179,
          1208.079063298472,
          1253.3660667688782,
          1400.3537604346973,
          1349.1208930403816,
          1207.4983109832378,
          1119.9796261354998,
          1168.5003777763218,
          1232.1786309873053,
          1078.6433126123927,
          1014.8385473069179,
          979.5127738786955,
          1037.343043686378,
          1012.5311559361132,
          1019.929870290715,
          982.3077519495604,
          1122.2463912595554,
          1253.9455409114682,
          1325.430846330488,
          1347.896821210611,
          1399.195310449502,
          1354.4349878184673,
          1425.9449470093,
          1317.0473451107691,
          1195.310245887702,
          1322.65325236248,
          1312.0889920723782,
          1137.1247533734704,
          1229.263129423953,
          1262.6213547511245,
          1100.6498351788016,
          1071.9866135171546,
          998.0207175960732,
          932.4101891580085,
          796.3550982772739,
          779.933012531574,
          629.9864144562735,
          706.3020001330528,
          721.5349332918958,
          835.0630223412928,
          746.9004474845223,
          736.4219741860849,
          646.6842304611098,
          728.5658779646634,
          741.7055935421149,
          664.3683664472779,
          792.0639556171981,
          853.0274188799947,
          983.5289241646508,
          977.3595668883963,
          869.3840066918744,
          818.4192752299913,
          792.7515104926814,
          795.5998765853091,
          786.392751961384,
          790.4010231359495,
          854.2481923201665,
          853.7905578905738,
          855.4719871861599,
          858.5724098093812,
          1005.2390812425078,
          981.7816110696892,
          932.7088961590596,
          1044.4452949905415,
          858.5698287278249,
          782.4134800865486,
          846.7726725631632,
          903.0099585692891,
          877.3038191258166,
          840.747736077963,
          973.7777228348782,
          1046.7468040624217,
          1086.3989749176055,
          1227.3034516512132,
          1317.580144146667,
          1232.9716600248705,
          1095.5736222131322,
          1275.110018673634,
          1191.4708053612126,
          1172.7299523309619,
          1418.6940581786992,
          1269.8286592960642,
          1482.945085064962,
          1300.2189290277813,
          1510.8473973532552,
          1661.2846516949637,
          1507.4137696646694,
          1335.6212267183294,
          1491.102718056817,
          1357.6869389315075,
          1332.2524277367668,
          1293.0918827800094,
          1347.177327329199,
          1153.009408116698,
          1086.1386593823345,
          1208.5663879518377,
          1215.5645181320933,
          1130.40840722653,
          1346.226700046741,
          1446.548524177672,
          1385.2209371719243,
          1276.416453785904,
          1346.0964397518946,
          1544.9770201971724,
          1800.1467221953421,
          1610.6894355817599,
          1616.7567209092085,
          1398.9046981412114,
          1499.1243806806651,
          1431.0390720756227,
          1410.009983519139,
          1366.0783147345637,
          1270.5515976116385,
          1198.8987167450252,
          1131.473531305191,
          945.4482202979827,
          1007.9659262191853,
          1087.3387957296466,
          1023.4723804613234,
          1141.779587695734,
          976.0640842735692,
          850.0852920947651,
          766.0887490675805,
          731.7279581425786,
          691.3792137804579,
          767.2552484396035,
          838.2024327770818,
          766.2671996157803,
          840.2763066613749,
          939.7772031888785,
          795.3895778279051,
          878.0694255125377,
          827.4480542088061,
          769.8427825477826,
          812.0242184317975,
          936.0993354676012,
          943.8530216385918,
          924.7559905726612,
          1086.3787354635065,
          1088.1977650908452,
          1004.2871752324164,
          836.5140504952413,
          896.2837436553966,
          842.5840969929939,
          740.334336163653,
          808.1067960570422,
          915.18770005761,
          1062.5151337251693,
          959.0564397589004,
          1045.9811122636756,
          1090.1072859321055,
          1244.614759745284,
          1338.9610277221486,
          1242.4933603244058,
          1173.3094103022886,
          1175.2560682004319,
          1184.7187213546792,
          1018.2182615646765,
          1090.248455191919,
          1061.374095341464,
          1240.3845308349078,
          1394.4709986844389,
          1434.7285942398728,
          1200.8123314346244,
          1146.31600592664,
          1241.1056291974676,
          1269.2641044546056,
          1252.6325143444808,
          1325.560875568863,
          1502.9997570953333,
          1555.7672488411097,
          1452.3817438870383,
          1598.0987965614434,
          1530.41239643165,
          1599.7052404879555,
          1427.3684722485596,
          1443.566170409279,
          1359.1816359364402,
          1248.0132129214326,
          1201.982205068791,
          1192.2913750960972,
          1329.3319641362148,
          1372.1076186984428,
          1371.3532932710177,
          1223.4190080365033,
          1280.7901598653707,
          1321.187857179381,
          1407.851635626765,
          1471.78757817952,
          1233.4036039424777,
          1509.370495140224,
          1633.240568557866,
          1543.894101404523,
          1649.6699765344206,
          1573.928727805157,
          1514.536674260199,
          1402.952707285805,
          1240.4832674818504,
          1146.0811116217626
         ],
         "open": [
          1800.0,
          1602.5566918206966,
          1484.8019602700608,
          1552.327623188638,
          1332.6798509661828,
          1437.540465326617,
          1533.0822936805098,
          1717.7086919189144,
          1739.0490612602875,
          1591.1947955461055,
          1458.3419638910689,
          1341.565719789738,
          1325.3073381203676,
          1459.5257086203956,
          1321.997344667424,
          1171.6426047253785,
          1245.8749872680805,
          1369.2299518149298,
          1405.2053485538902,
          1407.4328044356662,
          1298.809944284024,
          1171.3995727231036,
          1232.717360912102,
          1235.8336044192845,
          1196.257922196158,
          1032.4258385478865,
          1061.287425840882,
          1062.0001520161215,
          1074.6222728989683,
          1079.0620736978574,
          1065.832254263983,
          1211.9950372828398,
          1328.5232377146644,
          1451.7331003188333,
          1419.5441183031994,
          1449.3542611100065,
          1442.7996052614599,
          1459.4547626519093,
          1441.1299070739053,
          1301.5757545508025,
          1418.1080213316238,
          1314.00217594567,
          1149.7128010100043,
          1237.8682171929,
          1284.214777216435,
          1153.0805979237996,
          1074.5262108319057,
          1017.147080582326,
          982.5306476709226,
          867.2095593563374,
          791.5258377077467,
          677.740383284776,
          722.2344744405402,
          760.8398849985016,
          869.3952684712444,
          797.1995847873187,
          815.3388958000486,
          707.4169989512247,
          787.1147913693004,
          742.3351132017096,
          723.6666313587792,
          805.8862830484011,
          917.6307470862284,
          1018.8769109627237,
          1021.5892874604763,
          931.4120964477986,
          845.9416182062072,
          794.1884343276556,
          882.7296852706145,
          803.5099071524493,
          871.6556729487311,
          917.2750983085464,
          874.3052953619518,
          870.2394406905205,
          929.1020499614572,
          1043.6569276113955,
          1075.0320195440022,
          1023.5224736339595,
          1055.4510101897472,
          939.98867323143,
          810.027098459608,
          880.0417377534225,
          910.4522926308755,
          929.785253308138,
          864.7161782978301,
          974.9849242559271,
          1058.9354152594392,
          1113.0718911798936,
          1241.6517534064992,
          1423.4886101268385,
          1281.4458436328378,
          1128.7618837752188,
          1288.0067196982152,
          1192.723899161666,
          1247.1300712026639,
          1427.6834369649994,
          1406.201598810435,
          1580.5953534526996,
          1396.3116754156918,
          1597.3608208810226,
          1674.9132137275642,
          1578.097091992941,
          1474.3151417722918,
          1541.5485715945706,
          1490.8987816793422,
          1408.9299778094723,
          1325.5816237788513,
          1356.9921166572756,
          1161.7375179545188,
          1179.5834634194216,
          1227.4918070624465,
          1225.0102026187415,
          1225.5355798298074,
          1390.699030305898,
          1593.0022956457165,
          1405.1288942614106,
          1318.076730732918,
          1480.3906337557225,
          1659.409069691835,
          1829.0264915003056,
          1652.4275084312033,
          1758.9220586062797,
          1529.073613485297,
          1551.6748190944566,
          1529.9403598357544,
          1418.8525037092209,
          1383.388519049151,
          1323.1876466639956,
          1227.5660235323528,
          1191.1375667055017,
          1015.1388342106496,
          1060.4666892866344,
          1134.0912697631647,
          1126.887597179004,
          1147.3093137895794,
          1069.9435035897725,
          932.4187609534871,
          837.1631579880483,
          789.8974363813405,
          759.4739830781601,
          781.0227977241526,
          888.8224111640063,
          822.3194941529121,
          885.9053773260198,
          943.6185504423711,
          848.727745876587,
          971.2554450617168,
          903.5180248455854,
          805.7012188397773,
          844.30655943539,
          951.780317728143,
          1038.2147808176837,
          983.8540449467389,
          1119.4559167959483,
          1088.634193744124,
          1006.4041133841475,
          912.7598321318566,
          947.6801763956022,
          864.2670206921297,
          805.4689553803354,
          849.8165825435369,
          970.5626296401017,
          1074.130698102154,
          1036.5113278231593,
          1132.14476232229,
          1147.5262247668377,
          1310.5391359923042,
          1339.074141718389,
          1281.5550543469808,
          1259.3768465735711,
          1221.3698914218207,
          1218.5482092546488,
          1110.309708166895,
          1143.0075070147557,
          1146.7657869773204,
          1261.8758957218001,
          1446.4599563542386,
          1498.5471422804135,
          1275.3471959946103,
          1239.0962446041601,
          1326.0179016446207,
          1323.1147386988662,
          1382.1569217740366,
          1435.75504515405,
          1557.423950822375,
          1704.7527657559365,
          1584.354563309714,
          1605.3853291007097,
          1597.9410347961305,
          1602.8695273166898,
          1533.229966042774,
          1536.5249985066262,
          1491.3160055186895,
          1361.07463256119,
          1266.7804206012588,
          1275.5963639315153,
          1366.1862921245315,
          1453.6647025583518,
          1501.4901247420412,
          1353.9069960974623,
          1284.7129634437747,
          1364.3742808995198,
          1527.8508696142194,
          1496.5752838937938,
          1357.349275022816,
          1549.977428665768,
          1656.111130934109,
          1669.3230835221602,
          1777.3699030346693,
          1638.9982456200669,
          1543.3606727038232,
          1539.823984705848,
          1334.4159550336067,
          1220.9470132115712
         ],
         "showlegend": false,
         "x": [
          "2021-06-01T00:00:00",
          "2021-06-02T00:00:00",
          "2021-06-03T00:00:00",
          "2021-06-04T00:00:00",
          "2021-06-05T00:00:00",
          "2021-06-06T00:00:00",
          "2021-06-07T00:00:00",
          "2021-06-08T00:00:00",
          "2021-06-09T00:00:00",
          "2021-06-10T00:00:00",
          "2021-06-11T00:00:00",
          "2021-06-12T00:00:00",
          "2021-06-13T00:00:00",
          "2021-06-14T00:00:00",
          "2021-06-15T00:00:00",
          "2021-06-16T00:00:00",
          "2021-06-17T00:00:00",
          "2021-06-18T00:00:00",
          "2021-06-19T00:00:00",
          "2021-06-20T00:00:00",
          "2021-06-21T00:00:00",
          "2021-06-22T00:00:00",
          "2021-06-23T00:00:00",
          "2021-06-24T00:00:00",
          "2021-06-25T00:00:00",
          "2021-06-26T00:00:00",
          "2021-06-27T00:00:00",
          "2021-06-28T00:00:00",
          "2021-06-29T00:00:00",
          "2021-06-30T00:00:00",
          "2021-07-01T00:00:00",
          "2021-07-02T00:00:00",
          "2021-07-03T00:00:00",
          "2021-07-04T00:00:00",
          "2021-07-05T00:00:00",
          "2021-07-06T00:00:00",
          "2021-07-07T00:00:00",
          "2021-07-08T00:00:00",
          "2021-07-09T00:00:00",
          "2021-07-10T00:00:00",
          "2021-07-11T00:00:00",
          "2021-07-12T00:00:00",
          "2021-07-13T00:00:00",
          "2021-07-14T00:00:00",
          "2021-07-15T00:00:00",
          "2021-07-16T00:00:00",
          "2021-07-17T00:00:00",
          "2021-07-18T00:00:00",
          "2021-07-19T00:00:00",
          "2021-07-20T00:00:00",
          "2021-07-21T00:00:00",
          "2021-07-22T00:00:00",
          "2021-07-23T00:00:00",
          "2021-07-24T00:00:00",
          "2021-07-25T00:00:00",
          "2021-07-26T00:00:00",
          "2021-07-27T00:00:00",
          "2021-07-28T00:00:00",
          "2021-07-29T00:00:00",
          "2021-07-30T00:00:00",
          "2021-07-31T00:00:00",
          "2021-08-01T00:00:00",
          "2021-08-02T00:00:00",
          "2021-08-03T00:00:00",
          "2021-08-04T00:00:00",
          "2021-08-05T00:00:00",
          "2021-08-06T00:00:00",
          "2021-08-07T00:00:00",
          "2021-08-08T00:00:00",
          "2021-08-09T00:00:00",
          "2021-08-10T00:00:00",
          "2021-08-11T00:00:00",
          "2021-08-12T00:00:00",
          "2021-08-13T00:00:00",
          "2021-08-14T00:00:00",
          "2021-08-15T00:00:00",
          "2021-08-16T00:00:00",
          "2021-08-17T00:00:00",
          "2021-08-18T00:00:00",
          "2021-08-19T00:00:00",
          "2021-08-20T00:00:00",
          "2021-08-21T00:00:00",
          "2021-08-22T00:00:00",
          "2021-08-23T00:00:00",
          "2021-08-24T00:00:00",
          "2021-08-25T00:00:00",
          "2021-08-26T00:00:00",
          "2021-08-27T00:00:00",
          "2021-08-28T00:00:00",
          "2021-08-29T00:00:00",
          "2021-08-30T00:00:00",
          "2021-08-31T00:00:00",
          "2021-09-01T00:00:00",
          "2021-09-02T00:00:00",
          "2021-09-03T00:00:00",
          "2021-09-04T00:00:00",
          "2021-09-05T00:00:00",
          "2021-09-06T00:00:00",
          "2021-09-07T00:00:00",
          "2021-09-08T00:00:00",
          "2021-09-09T00:00:00",
          "2021-09-10T00:00:00",
          "2021-09-11T00:00:00",
          "2021-09-12T00:00:00",
          "2021-09-13T00:00:00",
          "2021-09-14T00:00:00",
          "2021-09-15T00:00:00",
          "2021-09-16T00:00:00",
          "2021-09-17T00:00:00",
          "2021-09-18T00:00:00",
          "2021-09-19T00:00:00",
          "2021-09-20T00:00:00",
          "2021-09-21T00:00:00",
          "2021-09-22T00:00:00",
          "2021-09-23T00:00:00",
          "2021-09-24T00:00:00",
          "2021-09-25T00:00:00",
          "2021-09-26T00:00:00",
          "2021-09-27T00:00:00",
          "2021-09-28T00:00:00",
          "2021-09-29T00:00:00",
          "2021-09-30T00:00:00",
          "2021-10-01T00:00:00",
          "2021-10-02T00:00:00",
          "2021-10-03T00:00:00",
          "2021-10-04T00:00:00",
          "2021-10-05T00:00:00",
          "2021-10-06T00:00:00",
          "2021-10-07T00:00:00",
          "2021-10-08T00:00:00",
          "2021-10-09T00:00:00",
          "2021-10-10T00:00:00",
          "2021-10-11T00:00:00",
          "2021-10-12T00:00:00",
          "2021-10-13T00:00:00",
          "2021-10-14T00:00:00",
          "2021-10-15T00:00:00",
          "2021-10-16T00:00:00",
          "2021-10-17T00:00:00",
          "2021-10-18T00:00:00",
          "2021-10-19T00:00:00",
          "2021-10-20T00:00:00",
          "2021-10-21T00:00:00",
          "2021-10-22T00:00:00",
          "2021-10-23T00:00:00",
          "2021-10-24T00:00:00",
          "2021-10-25T00:00:00",
          "2021-10-26T00:00:00",
          "2021-10-27T00:00:00",
          "2021-10-28T00:00:00",
          "2021-10-29T00:00:00",
          "2021-10-30T00:00:00",
          "2021-10-31T00:00:00",
          "2021-11-01T00:00:00",
          "2021-11-02T00:00:00",
          "2021-11-03T00:00:00",
          "2021-11-04T00:00:00",
          "2021-11-05T00:00:00",
          "2021-11-06T00:00:00",
          "2021-11-07T00:00:00",
          "2021-11-08T00:00:00",
          "2021-11-09T00:00:00",
          "2021-11-10T00:00:00",
          "2021-11-11T00:00:00",
          "2021-11-12T00:00:00",
          "2021-11-13T00:00:00",
          "2021-11-14T00:00:00",
          "2021-11-15T00:00:00",
          "2021-11-16T00:00:00",
          "2021-11-17T00:00:00",
          "2021-11-18T00:00:00",
          "2021-11-19T00:00:00",
          "2021-11-20T00:00:00",
          "2021-11-21T00:00:00",
          "2021-11-22T00:00:00",
          "2021-11-23T00:00:00",
          "2021-11-24T00:00:00",
          "2021-11-25T00:00:00",
          "2021-11-26T00:00:00",
          "2021-11-27T00:00:00",
          "2021-11-28T00:00:00",
          "2021-11-29T00:00:00",
          "2021-11-30T00:00:00",
          "2021-12-01T00:00:00",
          "2021-12-02T00:00:00",
          "2021-12-03T00:00:00",
          "2021-12-04T00:00:00",
          "2021-12-05T00:00:00",
          "2021-12-06T00:00:00",
          "2021-12-07T00:00:00",
          "2021-12-08T00:00:00",
          "2021-12-09T00:00:00",
          "2021-12-10T00:00:00",
          "2021-12-11T00:00:00",
          "2021-12-12T00:00:00",
          "2021-12-13T00:00:00",
          "2021-12-14T00:00:00",
          "2021-12-15T00:00:00",
          "2021-12-16T00:00:00",
          "2021-12-17T00:00:00",
          "2021-12-18T00:00:00",
          "2021-12-19T00:00:00",
          "2021-12-20T00:00:00",
          "2021-12-21T00:00:00",
          "2021-12-22T00:00:00",
          "2021-12-23T00:00:00",
          "2021-12-24T00:00:00",
          "2021-12-25T00:00:00",
          "2021-12-26T00:00:00",
          "2021-12-27T00:00:00",
          "2021-12-28T00:00:00",
          "2021-12-29T00:00:00",
          "2021-12-30T00:00:00",
          "2021-12-31T00:00:00"
         ],
         "type": "candlestick",
         "xaxis": "x",
         "yaxis": "y"
        },
        {
         "line": {
          "color": "darkblue"
         },
         "mode": "lines",
         "name": "Slow EMA",
         "x": [
          "2021-06-20T00:00:00",
          "2021-06-21T00:00:00",
          "2021-06-22T00:00:00",
          "2021-06-23T00:00:00",
          "2021-06-24T00:00:00",
          "2021-06-25T00:00:00",
          "2021-06-26T00:00:00",
          "2021-06-27T00:00:00",
          "2021-06-28T00:00:00",
          "2021-06-29T00:00:00",
          "2021-06-30T00:00:00",
          "2021-07-01T00:00:00",
          "2021-07-02T00:00:00",
          "2021-07-03T00:00:00",
          "2021-07-04T00:00:00",
          "2021-07-05T00:00:00",
          "2021-07-06T00:00:00",
          "2021-07-07T00:00:00",
          "2021-07-08T00:00:00",
          "2021-07-09T00:00:00",
          "2021-07-10T00:00:00",
          "2021-07-11T00:00:00",
          "2021-07-12T00:00:00",
          "2021-07-13T00:00:00",
          "2021-07-14T00:00:00",
          "2021-07-15T00:00:00",
          "2021-07-16T00:00:00",
          "2021-07-17T00:00:00",
          "2021-07-18T00:00:00",
          "2021-07-19T00:00:00",
          "2021-07-20T00:00:00",
          "2021-07-21T00:00:00",
          "2021-07-22T00:00:00",
          "2021-07-23T00:00:00",
          "2021-07-24T00:00:00",
          "2021-07-25T00:00:00",
          "2021-07-26T00:00:00",
          "2021-07-27T00:00:00",
          "2021-07-28T00:00:00",
          "2021-07-29T00:00:00",
          "2021-07-30T00:00:00",
          "2021-07-31T00:00:00",
          "2021-08-01T00:00:00",
          "2021-08-02T00:00:00",
          "2021-08-03T00:00:00",
          "2021-08-04T00:00:00",
          "2021-08-05T00:00:00",
          "2021-08-06T00:00:00",
          "2021-08-07T00:00:00",
          "2021-08-08T00:00:00",
          "2021-08-09T00:00:00",
          "2021-08-10T00:00:00",
          "2021-08-11T00:00:00",
          "2021-08-12T00:00:00",
          "2021-08-13T00:00:00",
          "2021-08-14T00:00:00",
          "2021-08-15T00:00:00",
          "2021-08-16T00:00:00",
          "2021-08-17T00:00:00",
          "2021-08-18T00:00:00",
          "2021-08-19T00:00:00",
          "2021-08-20T00:00:00",
          "2021-08-21T00:00:00",
          "2021-08-22T00:00:00",
          "2021-08-23T00:00:00",
          "2021-08-24T00:00:00",
          "2021-08-25T00:00:00",
          "2021-08-26T00:00:00",
          "2021-08-27T00:00:00",
          "2021-08-28T00:00:00",
          "2021-08-29T00:00:00",
          "2021-08-30T00:00:00",
          "2021-08-31T00:00:00",
          "2021-09-01T00:00:00",
          "2021-09-02T00:00:00",
          "2021-09-03T00:00:00",
          "2021-09-04T00:00:00",
          "2021-09-05T00:00:00",
          "2021-09-06T00:00:00",
          "2021-09-07T00:00:00",
          "2021-09-08T00:00:00",
          "2021-09-09T00:00:00",
          "2021-09-10T00:00:00",
          "2021-09-11T00:00:00",
          "2021-09-12T00:00:00",
          "2021-09-13T00:00:00",
          "2021-09-14T00:00:00",
          "2021-09-15T00:00:00",
          "2021-09-16T00:00:00",
          "2021-09-17T00:00:00",
          "2021-09-18T00:00:00",
          "2021-09-19T00:00:00",
          "2021-09-20T00:00:00",
          "2021-09-21T00:00:00",
          "2021-09-22T00:00:00",
          "2021-09-23T00:00:00",
          "2021-09-24T00:00:00",
          "2021-09-25T00:00:00",
          "2021-09-26T00:00:00",
          "2021-09-27T00:00:00",
          "2021-09-28T00:00:00",
          "2021-09-29T00:00:00",
          "2021-09-30T00:00:00",
          "2021-10-01T00:00:00",
          "2021-10-02T00:00:00",
          "2021-10-03T00:00:00",
          "2021-10-04T00:00:00",
          "2021-10-05T00:00:00",
          "2021-10-06T00:00:00",
          "2021-10-07T00:00:00",
          "2021-10-08T00:00:00",
          "2021-10-09T00:00:00",
          "2021-10-10T00:00:00",
          "2021-10-11T00:00:00",
          "2021-10-12T00:00:00",
          "2021-10-13T00:00:00",
          "2021-10-14T00:00:00",
          "2021-10-15T00:00:00",
          "2021-10-16T00:00:00",
          "2021-10-17T00:00:00",
          "2021-10-18T00:00:00",
          "2021-10-19T00:00:00",
          "2021-10-20T00:00:00",
          "2021-10-21T00:00:00",
          "2021-10-22T00:00:00",
          "2021-10-23T00:00:00",
          "2021-10-24T00:00:00",
          "2021-10-25T00:00:00",
          "2021-10-26T00:00:00",
          "2021-10-27T00:00:00",
          "2021-10-28T00:00:00",
          "2021-10-29T00:00:00",
          "2021-10-30T00:00:00",
          "2021-10-31T00:00:00",
          "2021-11-01T00:00:00",
          "2021-11-02T00:00:00",
          "2021-11-03T00:00:00",
          "2021-11-04T00:00:00",
          "2021-11-05T00:00:00",
          "2021-11-06T00:00:00",
          "2021-11-07T00:00:00",
          "2021-11-08T00:00:00",
          "2021-11-09T00:00:00",
          "2021-11-10T00:00:00",
          "2021-11-11T00:00:00",
          "2021-11-12T00:00:00",
          "2021-11-13T00:00:00",
          "2021-11-14T00:00:00",
          "2021-11-15T00:00:00",
          "2021-11-16T00:00:00",
          "2021-11-17T00:00:00",
          "2021-11-18T00:00:00",
          "2021-11-19T00:00:00",
          "2021-11-20T00:00:00",
          "2021-11-21T00:00:00",
          "2021-11-22T00:00:00",
          "2021-11-23T00:00:00",
          "2021-11-24T00:00:00",
          "2021-11-25T00:00:00",
          "2021-11-26T00:00:00",
          "2021-11-27T00:00:00",
          "2021-11-28T00:00:00",
          "2021-11-29T00:00:00",
          "2021-11-30T00:00:00",
          "2021-12-01T00:00:00",
          "2021-12-02T00:00:00",
          "2021-12-03T00:00:00",
          "2021-12-04T00:00:00",
          "2021-12-05T00:00:00",
          "2021-12-06T00:00:00",
          "2021-12-07T00:00:00",
          "2021-12-08T00:00:00",
          "2021-12-09T00:00:00",
          "2021-12-10T00:00:00",
          "2021-12-11T00:00:00",
          "2021-12-12T00:00:00",
          "2021-12-13T00:00:00",
          "2021-12-14T00:00:00",
          "2021-12-15T00:00:00",
          "2021-12-16T00:00:00",
          "2021-12-17T00:00:00",
          "2021-12-18T00:00:00",
          "2021-12-19T00:00:00",
          "2021-12-20T00:00:00",
          "2021-12-21T00:00:00",
          "2021-12-22T00:00:00",
          "2021-12-23T00:00:00",
          "2021-12-24T00:00:00",
          "2021-12-25T00:00:00",
          "2021-12-26T00:00:00",
          "2021-12-27T00:00:00",
          "2021-12-28T00:00:00",
          "2021-12-29T00:00:00",
          "2021-12-30T00:00:00",
          "2021-12-31T00:00:00"
         ],
         "y": [
          1439.7937575074488,
          1414.2324065756063,
          1396.9452593695582,
          1381.601292231437,
          1363.9495427042675,
          1332.375856594136,
          1306.5579108081117,
          1283.266695685065,
          1263.3957982768654,
          1245.840205459817,
          1228.696591060214,
          1227.1059668909402,
          1236.7647545884379,
          1257.237930372285,
          1272.6956625561818,
          1289.5202909898794,
          1304.118320920506,
          1318.9122677520684,
          1330.5520429255766,
          1327.7923964136935,
          1336.3938845011155,
          1334.2613408291684,
          1316.6852894178196,
          1309.1789015868749,
          1306.8013659325472,
          1292.161292788857,
          1271.4341421262902,
          1247.2163267411509,
          1222.0081668297005,
          1188.2178232608087,
          1150.4376341605173,
          1105.4188483628277,
          1068.925098465467,
          1039.5836495638514,
          1023.3752323169365,
          1001.8346944569729,
          984.0731898229801,
          957.7249811685273,
          941.476391663839,
          922.5105556198266,
          903.5730390235364,
          894.2695384544758,
          896.4944154670236,
          908.1498912285188,
          918.95364325061,
          920.1401626027232,
          913.0736345649598,
          901.7512345423594,
          899.9396584212408,
          890.7558725861177,
          888.9368059539856,
          891.6356909401343,
          889.9851770755455,
          888.1046307531622,
          892.0091468682378,
          906.4517926533005,
          922.5070523571768,
          932.1275686692513,
          943.8726583378699,
          943.5027549943994,
          930.7907877053717,
          925.9575448528052,
          924.4808541650024,
          924.9860350357771,
          919.2460486797822,
          924.5545130203675,
          937.3526941859934,
          954.0878558044601,
          981.474893671321,
          1023.5714380956559,
          1048.1309052896731,
          1055.8136755470298,
          1077.9318898545328,
          1088.8647763355534,
          1103.9481887866657,
          1134.7920213022412,
          1160.6451933050014,
          1200.6346526555897,
          1219.260449914589,
          1255.2635509832353,
          1295.2280811775815,
          1322.1634870888688,
          1336.6450196017422,
          1356.1394192765551,
          1368.9609403765764,
          1372.7608253863175,
          1368.2589809610356,
          1367.1719347100363,
          1347.5922509259372,
          1331.5826902300344,
          1321.6602365582883,
          1312.4569950639145,
          1304.1848626110889,
          1312.4262897508713,
          1339.1496986669965,
          1345.4485001104692,
          1342.8591677092722,
          1355.9772833981858,
          1384.8960834862937,
          1427.218882992306,
          1448.6947779438422,
          1478.2645446695612,
          1483.1184018316405,
          1489.6526971206322,
          1493.488754543635,
          1486.3789119543485,
          1476.5654127220662,
          1461.954078384545,
          1439.621794011557,
          1415.9523559039646,
          1377.768435096239,
          1347.5363658603658,
          1327.1960767675896,
          1308.097743898971,
          1292.760067821654,
          1271.523459064415,
          1239.2178990211696,
          1200.9208333815684,
          1161.7665854191641,
          1123.4518871248501,
          1090.8388366554123,
          1071.6020535681778,
          1047.864513393958,
          1032.4425630399921,
          1023.9790001201713,
          1007.2831035379186,
          1003.8455520175352,
          994.2923289968876,
          976.3294930618645,
          963.7620259991195,
          962.6340859945884,
          969.839196993165,
          971.1749017405879,
          985.2924472967152,
          995.1322235334108,
          996.202330087675,
          988.2526381726407,
          984.3868520166183,
          972.9372158267912,
          956.9758884124128,
          946.7636838485837,
          949.029656732128,
          960.9397781169974,
          968.1386829984699,
          983.7564167661614,
          999.3404240625372,
          1028.9663960113878,
          1058.485078774553,
          1079.7229654591474,
          1096.8244459075615,
          1108.6830522178839,
          1119.1480664461812,
          1118.3138752725383,
          1120.6720074758368,
          1123.1711547760738,
          1136.396222124464,
          1165.9426798274453,
          1197.6332825461393,
          1205.0518272394404,
          1208.302053033038,
          1219.5244074191432,
          1229.408264231366,
          1243.9670420284597,
          1262.241128476207,
          1290.3524323100169,
          1329.818798707362,
          1354.064414584272,
          1377.9889120803641,
          1398.9264844999025,
          1418.3244489105516,
          1429.2473763275464,
          1439.4437615160514,
          1444.3783553552603,
          1436.4353094864462,
          1420.271573994998,
          1406.4952954810062,
          1402.6639310247488,
          1407.5300302958335,
          1416.5001199068831,
          1410.561348445455,
          1398.6033626330936,
          1395.368361546759,
          1408.0069011230046,
          1416.4555571072094,
          1410.828812790572,
          1424.0932521800933,
          1446.2105223187277,
          1467.4745512192233,
          1496.9946547831141,
          1510.514872349515,
          1513.6416138300935,
          1516.1207328604269,
          1498.810465675283,
          1472.3355461869583,
          1459.3631947951408
         ],
         "type": "scatter"
        },
        {
         "line": {
          "color": "#003300"
         },
         "mode": "lines",
         "name": "Fast EMA",
         "x": [
          "2021-06-20T00:00:00",
          "2021-06-21T00:00:00",
          "2021-06-22T00:00:00",
          "2021-06-23T00:00:00",
          "2021-06-24T00:00:00",
          "2021-06-25T00:00:00",
          "2021-06-26T00:00:00",
          "2021-06-27T00:00:00",
          "2021-06-28T00:00:00",
          "2021-06-29T00:00:00",
          "2021-06-30T00:00:00",
          "2021-07-01T00:00:00",
          "2021-07-02T00:00:00",
          "2021-07-03T00:00:00",
          "2021-07-04T00:00:00",
          "2021-07-05T00:00:00",
          "2021-07-06T00:00:00",
          "2021-07-07T00:00:00",
          "2021-07-08T00:00:00",
          "2021-07-09T00:00:00",
          "2021-07-10T00:00:00",
          "2021-07-11T00:00:00",
          "2021-07-12T00:00:00",
          "2021-07-13T00:00:00",
          "2021-07-14T00:00:00",
          "2021-07-15T00:00:00",
          "2021-07-16T00:00:00",
          "2021-07-17T00:00:00",
          "2021-07-18T00:00:00",
          "2021-07-19T00:00:00",
          "2021-07-20T00:00:00",
          "2021-07-21T00:00:00",
          "2021-07-22T00:00:00",
          "2021-07-23T00:00:00",
          "2021-07-24T00:00:00",
          "2021-07-25T00:00:00",
          "2021-07-26T00:00:00",
          "2021-07-27T00:00:00",
          "2021-07-28T00:00:00",
          "2021-07-29T00:00:00",
          "2021-07-30T00:00:00",
          "2021-07-31T00:00:00",
          "2021-08-01T00:00:00",
          "2021-08-02T00:00:00",
          "2021-08-03T00:00:00",
          "2021-08-04T00:00:00",
          "2021-08-05T00:00:00",
          "2021-08-06T00:00:00",
          "2021-08-07T00:00:00",
          "2021-08-08T00:00:00",
          "2021-08-09T00:00:00",
          "2021-08-10T00:00:00",
          "2021-08-11T00:00:00",
          "2021-08-12T00:00:00",
          "2021-08-13T00:00:00",
          "2021-08-14T00:00:00",
          "2021-08-15T00:00:00",
          "2021-08-16T00:00:00",
          "2021-08-17T00:00:00",
          "2021-08-18T00:00:00",
          "2021-08-19T00:00:00",
          "2021-08-20T00:00:00",
          "2021-08-21T00:00:00",
          "2021-08-22T00:00:00",
          "2021-08-23T00:00:00",
          "2021-08-24T00:00:00",
          "2021-08-25T00:00:00",
          "2021-08-26T00:00:00",
          "2021-08-27T00:00:00",
          "2021-08-28T00:00:00",
          "2021-08-29T00:00:00",
          "2021-08-30T00:00:00",
          "2021-08-31T00:00:00",
          "2021-09-01T00:00:00",
          "2021-09-02T00:00:00",
          "2021-09-03T00:00:00",
          "2021-09-04T00:00:00",
          "2021-09-05T00:00:00",
          "2021-09-06T00:00:00",
          "2021-09-07T00:00:00",
          "2021-09-08T00:00:00",
          "2021-09-09T00:00:00",
          "2021-09-10T00:00:00",
          "2021-09-11T00:00:00",
          "2021-09-12T00:00:00",
          "2021-09-13T00:00:00",
          "2021-09-14T00:00:00",
          "2021-09-15T00:00:00",
          "2021-09-16T00:00:00",
          "2021-09-17T00:00:00",
          "2021-09-18T00:00:00",
          "2021-09-19T00:00:00",
          "2021-09-20T00:00:00",
          "2021-09-21T00:00:00",
          "2021-09-22T00:00:00",
          "2021-09-23T00:00:00",
          "2021-09-24T00:00:00",
          "2021-09-25T00:00:00",
          "2021-09-26T00:00:00",
          "2021-09-27T00:00:00",
          "2021-09-28T00:00:00",
          "2021-09-29T00:00:00",
          "2021-09-30T00:00:00",
          "2021-10-01T00:00:00",
          "2021-10-02T00:00:00",
          "2021-10-03T00:00:00",
          "2021-10-04T00:00:00",
          "2021-10-05T00:00:00",
          "2021-10-06T00:00:00",
          "2021-10-07T00:00:00",
          "2021-10-08T00:00:00",
          "2021-10-09T00:00:00",
          "2021-10-10T00:00:00",
          "2021-10-11T00:00:00",
          "2021-10-12T00:00:00",
          "2021-10-13T00:00:00",
          "2021-10-14T00:00:00",
          "2021-10-15T00:00:00",
          "2021-10-16T00:00:00",
          "2021-10-17T00:00:00",
          "2021-10-18T00:00:00",
          "2021-10-19T00:00:00",
          "2021-10-20T00:00:00",
          "2021-10-21T00:00:00",
          "2021-10-22T00:00:00",
          "2021-10-23T00:00:00",
          "2021-10-24T00:00:00",
          "2021-10-25T00:00:00",
          "2021-10-26T00:00:00",
          "2021-10-27T00:00:00",
          "2021-10-28T00:00:00",
          "2021-10-29T00:00:00",
          "2021-10-30T00:00:00",
          "2021-10-31T00:00:00",
          "2021-11-01T00:00:00",
          "2021-11-02T00:00:00",
          "2021-11-03T00:00:00",
          "2021-11-04T00:00:00",
          "2021-11-05T00:00:00",
          "2021-11-06T00:00:00",
          "2021-11-07T00:00:00",
          "2021-11-08T00:00:00",
          "2021-11-09T00:00:00",
          "2021-11-10T00:00:00",
          "2021-11-11T00:00:00",
          "2021-11-12T00:00:00",
          "2021-11-13T00:00:00",
          "2021-11-14T00:00:00",
          "2021-11-15T00:00:00",
          "2021-11-16T00:00:00",
          "2021-11-17T00:00:00",
          "2021-11-18T00:00:00",
          "2021-11-19T00:00:00",
          "2021-11-20T00:00:00",
          "2021-11-21T00:00:00",
          "2021-11-22T00:00:00",
          "2021-11-23T00:00:00",
          "2021-11-24T00:00:00",
          "2021-11-25T00:00:00",
          "2021-11-26T00:00:00",
          "2021-11-27T00:00:00",
          "2021-11-28T00:00:00",
          "2021-11-29T00:00:00",
          "2021-11-30T00:00:00",
          "2021-12-01T00:00:00",
          "2021-12-02T00:00:00",
          "2021-12-03T00:00:00",
          "2021-12-04T00:00:00",
          "2021-12-05T00:00:00",
          "2021-12-06T00:00:00",
          "2021-12-07T00:00:00",
          "2021-12-08T00:00:00",
          "2021-12-09T00:00:00",
          "2021-12-10T00:00:00",
          "2021-12-11T00:00:00",
          "2021-12-12T00:00:00",
          "2021-12-13T00:00:00",
          "2021-12-14T00:00:00",
          "2021-12-15T00:00:00",
          "2021-12-16T00:00:00",
          "2021-12-17T00:00:00",
          "2021-12-18T00:00:00",
          "2021-12-19T00:00:00",
          "2021-12-20T00:00:00",
          "2021-12-21T00:00:00",
          "2021-12-22T00:00:00",
          "2021-12-23T00:00:00",
          "2021-12-24T00:00:00",
          "2021-12-25T00:00:00",
          "2021-12-26T00:00:00",
          "2021-12-27T00:00:00",
          "2021-12-28T00:00:00",
          "2021-12-29T00:00:00",
          "2021-12-30T00:00:00",
          "2021-12-31T00:00:00"
         ],
         "y": [
          1345.7107366828204,
          1287.6070153629148,
          1269.3104638793106,
          1258.1515107259686,
          1237.5203145493651,
          1169.155489215539,
          1133.1994680906535,
          1109.4663627324762,
          1097.851666121307,
          1091.588468646824,
          1083.0030638525436,
          1126.000388329309,
          1193.5080047910942,
          1279.583036633674,
          1326.236730523516,
          1367.2759073856796,
          1392.4504733442732,
          1414.7852364468185,
          1423.5667933225143,
          1382.903113731944,
          1394.6380829318373,
          1367.7594472697815,
          1295.077231849856,
          1276.0075602975373,
          1278.7432992705033,
          1236.8557321549354,
          1182.7458917139256,
          1127.5462880033924,
          1079.2077412259025,
          1008.5416806027142,
          936.2030663043918,
          850.0488386311865,
          807.4440505676378,
          791.9093287112591,
          817.7379752979209,
          810.8918451277202,
          812.3741953518297,
          777.3884632182949,
          780.6305726019634,
          767.8654194685455,
          753.1324900986235,
          770.7170877485494,
          819.6883075277758,
          886.0845086727585,
          931.2527682686646,
          931.3058776617092,
          902.8511245098753,
          866.6302277824689,
          871.9967136118507,
          849.1677781253836,
          856.6637430664995,
          876.8675281471818,
          876.0134505521053,
          874.0887805982437,
          892.4265370526483,
          942.8366672388975,
          986.9017846739324,
          999.1086809939416,
          1017.8894573925436,
          991.922529338839,
          931.290719045762,
          914.2077252816489,
          912.9559143980578,
          918.5656940347512,
          900.6158554557776,
          925.4055450558276,
          969.9155017903649,
          1017.6342982535411,
          1092.3067833045272,
          1202.7007255786311,
          1228.9490982633667,
          1195.5533601006507,
          1226.3711466331724,
          1215.1553974760036,
          1225.813622051557,
          1293.1035603560379,
          1330.8029065075038,
          1414.0670554892358,
          1408.148595464721,
          1471.219337270155,
          1539.1172960892914,
          1552.1105613905079,
          1526.1787548511027,
          1531.3020270989255,
          1517.8342786257313,
          1481.5328450203117,
          1429.5491046064917,
          1405.3634419567531,
          1324.154800622675,
          1275.9643548882573,
          1259.8068389463203,
          1248.2079601704609,
          1240.6505000569098,
          1290.6666768065725,
          1391.4452164196205,
          1396.006442366884,
          1370.0298718222286,
          1406.8167924667268,
          1491.0142182084292,
          1603.6849759723882,
          1619.9324867919936,
          1666.2623440634225,
          1620.5327672040476,
          1597.580117834184,
          1575.0335318347074,
          1522.973189126212,
          1476.4449657671917,
          1425.359192732793,
          1359.4281363326463,
          1303.331279790265,
          1207.2671312637267,
          1158.333650604696,
          1150.2528569908523,
          1142.4644370535696,
          1144.079395965573,
          1119.3674318403062,
          1057.0512082113664,
          983.7551914702605,
          919.1359397739539,
          865.9152875420227,
          837.6177909360661,
          854.685997678713,
          843.8971631701128,
          857.8999012220818,
          886.4727842955116,
          873.8911048225368,
          906.3458849022635,
          905.4032648833709,
          872.1692495355064,
          862.881686168801,
          892.5145633552484,
          941.0813025093936,
          955.3388833218421,
          1010.0445611465442,
          1036.2411053457377,
          1026.295441358541,
          988.4502382829795,
          974.8602176538537,
          937.9958186666124,
          893.8201975711868,
          879.1523258953035,
          909.6224271435697,
          964.4585174630978,
          988.4761209164517,
          1036.3656680517313,
          1073.4191869567667,
          1152.4591699686125,
          1214.6641605518714,
          1236.9611251502413,
          1244.4330322913513,
          1236.7453186681746,
          1230.6796155303327,
          1190.5563130758533,
          1174.7067110554874,
          1165.3930696960986,
          1197.554011704666,
          1280.52265992119,
          1353.1974873742647,
          1327.2473902477132,
          1297.8636750331955,
          1307.248417237004,
          1312.5371910576248,
          1335.7437679630955,
          1369.0808603600804,
          1431.8618905141786,
          1522.8255155947645,
          1543.3351981664143,
          1564.0185751445129,
          1575.3260616950522,
          1584.5072169022649,
          1567.4147999491015,
          1557.1181994682765,
          1535.1841348184143,
          1477.1476340660063,
          1407.0252295777573,
          1363.2156076956767,
          1364.2058358386284,
          1394.0254580785363,
          1429.847013633038,
          1404.5336744545127,
          1364.5934374509334,
          1364.5203852671289,
          1418.9638800494927,
          1444.8343479975929,
          1415.6726570060007,
          1460.4409142259233,
          1525.6643197953185,
          1573.5505743709325,
          1641.4903505921784,
          1640.659648934808,
          1608.2266568578132,
          1585.4257661404915,
          1501.7558291048636,
          1408.152890473766,
          1384.1998420046732
         ],
         "type": "scatter"
        },
        {
         "marker": {
          "line": {
           "color": "black",
           "width": 2
          },
          "size": 12,
          "symbol": "triangle-right"
         },
         "mode": "markers",
         "name": "Buys",
         "text": [
          "Buy WETH @ 1332.5208001150095",
          "Buy WETH @ 1422.3751467719396",
          "Buy WETH @ 920.3919228547928",
          "Buy WETH @ 920.0352039203073",
          "Buy WETH @ 931.8977431910303",
          "Buy WETH @ 932.5830023150831",
          "Buy WETH @ 977.9186802968176",
          "Buy WETH @ 1394.883681349948",
          "Buy WETH @ 1484.845169263513",
          "Buy WETH @ 1041.3387972093117",
          "Buy WETH @ 986.8144884119748",
          "Buy WETH @ 973.483078876732",
          "Buy WETH @ 1146.4468475574279",
          "Buy WETH @ 1458.038819015398",
          "Buy WETH @ 1532.4482142569905",
          "Buy WETH @ 1554.64135272394"
         ],
         "x": [
          "2021-07-02T00:00:00",
          "2021-07-10T00:00:00",
          "2021-08-01T00:00:00",
          "2021-08-10T00:00:00",
          "2021-08-13T00:00:00",
          "2021-08-22T00:00:00",
          "2021-08-24T00:00:00",
          "2021-09-21T00:00:00",
          "2021-09-25T00:00:00",
          "2021-10-29T00:00:00",
          "2021-10-30T00:00:00",
          "2021-11-08T00:00:00",
          "2021-11-20T00:00:00",
          "2021-12-14T00:00:00",
          "2021-12-19T00:00:00",
          "2021-12-22T00:00:00"
         ],
         "y": [
          1332.5208001150095,
          1422.3751467719396,
          920.3919228547928,
          920.0352039203073,
          931.8977431910303,
          932.5830023150831,
          977.9186802968176,
          1394.883681349948,
          1484.845169263513,
          1041.3387972093117,
          986.8144884119748,
          973.483078876732,
          1146.4468475574279,
          1458.038819015398,
          1532.4482142569905,
          1554.64135272394
         ],
         "type": "scatter",
         "xaxis": "x",
         "yaxis": "y"
        },
        {
         "marker": {
          "line": {
           "color": "black",
           "width": 2
          },
          "size": 12,
          "symbol": "triangle-left"
         },
         "mode": "markers",
         "name": "Sells",
         "text": [
          "Sell WETH @ 1305.4804818144548",
          "Sell WETH @ 942.8086392511242",
          "Sell WETH @ 1329.5583686501877",
          "Sell WETH @ 1423.1090612203484",
          "Sell WETH @ 1113.6406372913955",
          "Sell WETH @ 1365.1578564588733"
         ],
         "x": [
          "2021-07-09T00:00:00",
          "2021-08-18T00:00:00",
          "2021-09-14T00:00:00",
          "2021-10-03T00:00:00",
          "2021-11-19T00:00:00",
          "2021-12-10T00:00:00"
         ],
         "y": [
          1305.4804818144548,
          942.8086392511242,
          1329.5583686501877,
          1423.1090612203484,
          1113.6406372913955,
          1365.1578564588733
         ],
         "type": "scatter",
         "xaxis": "x",
         "yaxis": "y"
        },
        {
         "marker": {
          "line": {
           "color": "black",
           "width": 2
          },
          "size": 12,
          "symbol": "triangle-left"
         },
         "mode": "markers",
         "name": "Stop loss",
         "text": [
          "Stop loss WETH @ 1317.9441824735068. Stop loss trigger was at 1347.2026202650425.",
          "Stop loss WETH @ 848.4794430608257. Stop loss trigger was at 871.749209731917.",
          "Stop loss WETH @ 872.8501590125919. Stop loss trigger was at 871.4113433931191.",
          "Stop loss WETH @ 867.3103268327235. Stop loss trigger was at 883.295990642731.",
          "Stop loss WETH @ 1322.0309609251165. Stop loss trigger was at 1321.164078790603.",
          "Stop loss WETH @ 986.805607081579. Stop loss trigger was at 986.3040417767995.",
          "Stop loss WETH @ 915.498111628252. Stop loss trigger was at 934.6613426994019.",
          "Stop loss WETH @ 1357.9687170857546. Stop loss trigger was at 1380.9814674304341.",
          "Stop loss WETH @ 1361.4213228478843. Stop loss trigger was at 1451.4583261335083.",
          "Stop loss WETH @ 1338.4192028987075. Stop loss trigger was at 1472.4785572324795."
         ],
         "x": [
          "2021-07-11T00:00:00",
          "2021-08-05T00:00:00",
          "2021-08-12T00:00:00",
          "2021-08-23T00:00:00",
          "2021-09-24T00:00:00",
          "2021-10-30T00:00:00",
          "2021-11-03T00:00:00",
          "2021-12-16T00:00:00",
          "2021-12-21T00:00:00",
          "2021-12-29T00:00:00"
         ],
         "y": [
          1317.9441824735068,
          848.4794430608257,
          872.8501590125919,
          867.3103268327235,
          1322.0309609251165,
          986.805607081579,
          915.498111628252,
          1357.9687170857546,
          1361.4213228478843,
          1338.4192028987075
         ],
         "type": "scatter",
         "xaxis": "x",
         "yaxis": "y"
        },
        {
         "marker": {
          "line": {
           "color": "black",
           "width": 2
          },
          "size": 12,
          "symbol": "triangle-left"
         },
         "mode": "markers",
         "name": "Take profit",
         "text": [],
         "x": [],
         "y": [],
         "type": "scatter",
         "xaxis": "x",
         "yaxis": "y"
        }
       ],
       "layout": {
        "template": {
         "data": {
          "histogram2dcontour": [
           {
            "type": "histogram2dcontour",
            "colorbar": {
             "outlinewidth": 0,
             "ticks": ""
            },
            "colorscale": [
             [
              0.0,
              "#0d0887"
             ],
             [
              0.1111111111111111,
              "#46039f"
             ],
             [
              0.2222222222222222,
              "#7201a8"
             ],
             [
              0.3333333333333333,
              "#9c179e"
             ],
             [
              0.4444444444444444,
              "#bd3786"
             ],
             [
              0.5555555555555556,
              "#d8576b"
             ],
             [
              0.6666666666666666,
              "#ed7953"
             ],
             [
              0.7777777777777778,
              "#fb9f3a"
             ],
             [
              0.8888888888888888,
              "#fdca26"
             ],
             [
              1.0,
              "#f0f921"
             ]
            ]
           }
          ],
          "choropleth": [
           {
            "type": "choropleth",
            "colorbar": {
             "outlinewidth": 0,
             "ticks": ""
            }
           }
          ],
          "histogram2d": [
           {
            "type": "histogram2d",
            "colorbar": {
             "outlinewidth": 0,
             "ticks": ""
            },
            "colorscale": [
             [
              0.0,
              "#0d0887"
             ],
             [
              0.1111111111111111,
              "#46039f"
             ],
             [
              0.2222222222222222,
              "#7201a8"
             ],
             [
              0.3333333333333333,
              "#9c179e"
             ],
             [
              0.4444444444444444,
              "#bd3786"
             ],
             [
              0.5555555555555556,
              "#d8576b"
             ],
             [
              0.6666666666666666,
              "#ed7953"
             ],
             [
              0.7777777777777778,
              "#fb9f3a"
             ],
             [
              0.8888888888888888,
              "#fdca26"
             ],
             [
              1.0,
              "#f0f921"
             ]
            ]
           }
          ],
          "heatmap": [
           {
            "type": "heatmap",
            "colorbar": {
             "outlinewidth": 0,
             "ticks": ""
            },
            "colorscale": [
             [
              0.0,
              "#0d0887"
             ],
             [
              0.1111111111111111,
              "#46039f"
             ],
             [
              0.2222222222222222,
              "#7201a8"
             ],
             [
              0.3333333333333333,
              "#9c179e"
             ],
             [
              0.4444444444444444,
              "#bd3786"
             ],
             [
              0.5555555555555556,
              "#d8576b"
             ],
             [
              0.6666666666666666,
              "#ed7953"
             ],
             [
              0.7777777777777778,
              "#fb9f3a"
             ],
             [
              0.8888888888888888,
              "#fdca26"
             ],
             [
              1.0,
              "#f0f921"
             ]
            ]
           }
          ],
          "heatmapgl": [
           {
            "type": "heatmapgl",
            "colorbar": {
             "outlinewidth": 0,
             "ticks": ""
            },
            "colorscale": [
             [
              0.0,
              "#0d0887"
             ],
             [
              0.1111111111111111,
              "#46039f"
             ],
             [
              0.2222222222222222,
              "#7201a8"
             ],
             [
              0.3333333333333333,
              "#9c179e"
             ],
             [
              0.4444444444444444,
              "#bd3786"
             ],
             [
              0.5555555555555556,
              "#d8576b"
             ],
             [
              0.6666666666666666,
              "#ed7953"
             ],
             [
              0.7777777777777778,
              "#fb9f3a"
             ],
             [
              0.8888888888888888,
              "#fdca26"
             ],
             [
              1.0,
              "#f0f921"
             ]
            ]
           }
          ],
          "contourcarpet": [
           {
            "type": "contourcarpet",
            "colorbar": {
             "outlinewidth": 0,
             "ticks": ""
            }
           }
          ],
          "contour": [
           {
            "type": "contour",
            "colorbar": {
             "outlinewidth": 0,
             "ticks": ""
            },
            "colorscale": [
             [
              0.0,
              "#0d0887"
             ],
             [
              0.1111111111111111,
              "#46039f"
             ],
             [
              0.2222222222222222,
              "#7201a8"
             ],
             [
              0.3333333333333333,
              "#9c179e"
             ],
             [
              0.4444444444444444,
              "#bd3786"
             ],
             [
              0.5555555555555556,
              "#d8576b"
             ],
             [
              0.6666666666666666,
              "#ed7953"
             ],
             [
              0.7777777777777778,
              "#fb9f3a"
             ],
             [
              0.8888888888888888,
              "#fdca26"
             ],
             [
              1.0,
              "#f0f921"
             ]
            ]
           }
          ],
          "surface": [
           {
            "type": "surface",
            "colorbar": {
             "outlinewidth": 0,
             "ticks": ""
            },
            "colorscale": [
             [
              0.0,
              "#0d0887"
             ],
             [
              0.1111111111111111,
              "#46039f"
             ],
             [
              0.2222222222222222,
              "#7201a8"
             ],
             [
              0.3333333333333333,
              "#9c179e"
             ],
             [
              0.4444444444444444,
              "#bd3786"
             ],
             [
              0.5555555555555556,
              "#d8576b"
             ],
             [
              0.6666666666666666,
              "#ed7953"
             ],
             [
              0.7777777777777778,
              "#fb9f3a"
             ],
             [
              0.8888888888888888,
              "#fdca26"
             ],
             [
              1.0,
              "#f0f921"
             ]
            ]
           }
          ],
          "mesh3d": [
           {
            "type": "mesh3d",
            "colorbar": {
             "outlinewidth": 0,
             "ticks": ""
            }
           }
          ],
          "scatter": [
           {
            "fillpattern": {
             "fillmode": "overlay",
             "size": 10,
             "solidity": 0.2
            },
            "type": "scatter"
           }
          ],
          "parcoords": [
           {
            "type": "parcoords",
            "line": {
             "colorbar": {
              "outlinewidth": 0,
              "ticks": ""
             }
            }
           }
          ],
          "scatterpolargl": [
           {
            "type": "scatterpolargl",
            "marker": {
             "colorbar": {
              "outlinewidth": 0,
              "ticks": ""
             }
            }
           }
          ],
          "bar": [
           {
            "error_x": {
             "color": "#2a3f5f"
            },
            "error_y": {
             "color": "#2a3f5f"
            },
            "marker": {
             "line": {
              "color": "#E5ECF6",
              "width": 0.5
             },
             "pattern": {
              "fillmode": "overlay",
              "size": 10,
              "solidity": 0.2
             }
            },
            "type": "bar"
           }
          ],
          "scattergeo": [
           {
            "type": "scattergeo",
            "marker": {
             "colorbar": {
              "outlinewidth": 0,
              "ticks": ""
             }
            }
           }
          ],
          "scatterpolar": [
           {
            "type": "scatterpolar",
            "marker": {
             "colorbar": {
              "outlinewidth": 0,
              "ticks": ""
             }
            }
           }
          ],
          "histogram": [
           {
            "marker": {
             "pattern": {
              "fillmode": "overlay",
              "size": 10,
              "solidity": 0.2
             }
            },
            "type": "histogram"
           }
          ],
          "scattergl": [
           {
            "type": "scattergl",
            "marker": {
             "colorbar": {
              "outlinewidth": 0,
              "ticks": ""
             }
            }
           }
          ],
          "scatter3d": [
           {
            "type": "scatter3d",
            "line": {
             "colorbar": {
              "outlinewidth": 0,
              "ticks": ""
             }
            },
            "marker": {
             "colorbar": {
              "outlinewidth": 0,
              "ticks": ""
             }
            }
           }
          ],
          "scattermapbox": [
           {
            "type": "scattermapbox",
            "marker": {
             "colorbar": {
              "outlinewidth": 0,
              "ticks": ""
             }
            }
           }
          ],
          "scatterternary": [
           {
            "type": "scatterternary",
            "marker": {
             "colorbar": {
              "outlinewidth": 0,
              "ticks": ""
             }
            }
           }
          ],
          "scattercarpet": [
           {
            "type": "scattercarpet",
            "marker": {
             "colorbar": {
              "outlinewidth": 0,
              "ticks": ""
             }
            }
           }
          ],
          "carpet": [
           {
            "aaxis": {
             "endlinecolor": "#2a3f5f",
             "gridcolor": "white",
             "linecolor": "white",
             "minorgridcolor": "white",
             "startlinecolor": "#2a3f5f"
            },
            "baxis": {
             "endlinecolor": "#2a3f5f",
             "gridcolor": "white",
             "linecolor": "white",
             "minorgridcolor": "white",
             "startlinecolor": "#2a3f5f"
            },
            "type": "carpet"
           }
          ],
          "table": [
           {
            "cells": {
             "fill": {
              "color": "#EBF0F8"
             },
             "line": {
              "color": "white"
             }
            },
            "header": {
             "fill": {
              "color": "#C8D4E3"
             },
             "line": {
              "color": "white"
             }
            },
            "type": "table"
           }
          ],
          "barpolar": [
           {
            "marker": {
             "line": {
              "color": "#E5ECF6",
              "width": 0.5
             },
             "pattern": {
              "fillmode": "overlay",
              "size": 10,
              "solidity": 0.2
             }
            },
            "type": "barpolar"
           }
          ],
          "pie": [
           {
            "automargin": true,
            "type": "pie"
           }
          ]
         },
         "layout": {
          "autotypenumbers": "strict",
          "colorway": [
           "#636efa",
           "#EF553B",
           "#00cc96",
           "#ab63fa",
           "#FFA15A",
           "#19d3f3",
           "#FF6692",
           "#B6E880",
           "#FF97FF",
           "#FECB52"
          ],
          "font": {
           "color": "#2a3f5f"
          },
          "hovermode": "closest",
          "hoverlabel": {
           "align": "left"
          },
          "paper_bgcolor": "white",
          "plot_bgcolor": "#E5ECF6",
          "polar": {
           "bgcolor": "#E5ECF6",
           "angularaxis": {
            "gridcolor": "white",
            "linecolor": "white",
            "ticks": ""
           },
           "radialaxis": {
            "gridcolor": "white",
            "linecolor": "white",
            "ticks": ""
           }
          },
          "ternary": {
           "bgcolor": "#E5ECF6",
           "aaxis": {
            "gridcolor": "white",
            "linecolor": "white",
            "ticks": ""
           },
           "baxis": {
            "gridcolor": "white",
            "linecolor": "white",
            "ticks": ""
           },
           "caxis": {
            "gridcolor": "white",
            "linecolor": "white",
            "ticks": ""
           }
          },
          "coloraxis": {
           "colorbar": {
            "outlinewidth": 0,
            "ticks": ""
           }
          },
          "colorscale": {
           "sequential": [
            [
             0.0,
             "#0d0887"
            ],
            [
             0.1111111111111111,
             "#46039f"
            ],
            [
             0.2222222222222222,
             "#7201a8"
            ],
            [
             0.3333333333333333,
             "#9c179e"
            ],
            [
             0.4444444444444444,
             "#bd3786"
            ],
            [
             0.5555555555555556,
             "#d8576b"
            ],
            [
             0.6666666666666666,
             "#ed7953"
            ],
            [
             0.7777777777777778,
             "#fb9f3a"
            ],
            [
             0.8888888888888888,
             "#fdca26"
            ],
            [
             1.0,
             "#f0f921"
            ]
           ],
           "sequentialminus": [
            [
             0.0,
             "#0d0887"
            ],
            [
             0.1111111111111111,
             "#46039f"
            ],
            [
             0.2222222222222222,
             "#7201a8"
            ],
            [
             0.3333333333333333,
             "#9c179e"
            ],
            [
             0.4444444444444444,
             "#bd3786"
            ],
            [
             0.5555555555555556,
             "#d8576b"
            ],
            [
             0.6666666666666666,
             "#ed7953"
            ],
            [
             0.7777777777777778,
             "#fb9f3a"
            ],
            [
             0.8888888888888888,
             "#fdca26"
            ],
            [
             1.0,
             "#f0f921"
            ]
           ],
           "diverging": [
            [
             0,
             "#8e0152"
            ],
            [
             0.1,
             "#c51b7d"
            ],
            [
             0.2,
             "#de77ae"
            ],
            [
             0.3,
             "#f1b6da"
            ],
            [
             0.4,
             "#fde0ef"
            ],
            [
             0.5,
             "#f7f7f7"
            ],
            [
             0.6,
             "#e6f5d0"
            ],
            [
             0.7,
             "#b8e186"
            ],
            [
             0.8,
             "#7fbc41"
            ],
            [
             0.9,
             "#4d9221"
            ],
            [
             1,
             "#276419"
            ]
           ]
          },
          "xaxis": {
           "gridcolor": "white",
           "linecolor": "white",
           "ticks": "",
           "title": {
            "standoff": 15
           },
           "zerolinecolor": "white",
           "automargin": true,
           "zerolinewidth": 2
          },
          "yaxis": {
           "gridcolor": "white",
           "linecolor": "white",
           "ticks": "",
           "title": {
            "standoff": 15
           },
           "zerolinecolor": "white",
           "automargin": true,
           "zerolinewidth": 2
          },
          "scene": {
           "xaxis": {
            "backgroundcolor": "#E5ECF6",
            "gridcolor": "white",
            "linecolor": "white",
            "showbackground": true,
            "ticks": "",
            "zerolinecolor": "white",
            "gridwidth": 2
           },
           "yaxis": {
            "backgroundcolor": "#E5ECF6",
            "gridcolor": "white",
            "linecolor": "white",
            "showbackground": true,
            "ticks": "",
            "zerolinecolor": "white",
            "gridwidth": 2
           },
           "zaxis": {
            "backgroundcolor": "#E5ECF6",
            "gridcolor": "white",
            "linecolor": "white",
            "showbackground": true,
            "ticks": "",
            "zerolinecolor": "white",
            "gridwidth": 2
           }
          },
          "shapedefaults": {
           "line": {
            "color": "#2a3f5f"
           }
          },
          "annotationdefaults": {
           "arrowcolor": "#2a3f5f",
           "arrowhead": 0,
           "arrowwidth": 1
          },
          "geo": {
           "bgcolor": "white",
           "landcolor": "#E5ECF6",
           "subunitcolor": "white",
           "showland": true,
           "showlakes": true,
           "lakecolor": "white"
          },
          "title": {
           "x": 0.05
          },
          "mapbox": {
           "style": "light"
          }
         }
        },
        "xaxis": {
         "anchor": "y",
         "domain": [
          0.0,
          1.0
         ],
         "rangeslider": {
          "visible": false
         }
        },
        "yaxis": {
         "anchor": "x",
         "domain": [
          0.0,
          1.0
         ],
         "title": {
          "text": "WETH - USDC price"
         },
         "showgrid": true
        },
        "title": {
         "text": "Stop loss example with synthetic data trades"
        },
        "height": 800,
        "legend": {
         "orientation": "h",
         "yanchor": "bottom",
         "y": 1.02,
         "xanchor": "right",
         "x": 1
        }
       },
       "config": {
        "plotlyServerURL": "https://plot.ly"
       }
      },
      "text/html": "<div>                            <div id=\"557eeaf1-d20f-41ed-93cb-4705b44e1883\" class=\"plotly-graph-div\" style=\"height:800px; width:100%;\"></div>            <script type=\"text/javascript\">                require([\"plotly\"], function(Plotly) {                    window.PLOTLYENV=window.PLOTLYENV || {};                                    if (document.getElementById(\"557eeaf1-d20f-41ed-93cb-4705b44e1883\")) {                    Plotly.newPlot(                        \"557eeaf1-d20f-41ed-93cb-4705b44e1883\",                        [{\"close\":[1602.5566918206966,1484.8019602700608,1552.327623188638,1332.6798509661828,1437.540465326617,1533.0822936805098,1717.7086919189144,1739.0490612602875,1591.1947955461055,1458.3419638910689,1341.565719789738,1325.3073381203676,1459.5257086203956,1321.997344667424,1171.6426047253785,1245.8749872680805,1369.2299518149298,1405.2053485538902,1407.4328044356662,1298.809944284024,1171.3995727231036,1232.717360912102,1235.8336044192845,1196.257922196158,1032.4258385478865,1061.287425840882,1062.0001520161215,1074.6222728989683,1079.0620736978574,1065.832254263983,1211.9950372828398,1328.5232377146644,1451.7331003188333,1419.5441183031994,1449.3542611100065,1442.7996052614599,1459.4547626519093,1441.1299070739053,1301.5757545508025,1418.1080213316238,1314.00217594567,1149.7128010100043,1237.8682171929,1284.214777216435,1153.0805979237996,1074.5262108319057,1017.147080582326,982.5306476709226,867.2095593563374,791.5258377077467,677.740383284776,722.2344744405402,760.8398849985016,869.3952684712444,797.1995847873187,815.3388958000486,707.4169989512247,787.1147913693004,742.3351132017096,723.6666313587792,805.8862830484011,917.6307470862284,1018.8769109627237,1021.5892874604763,931.4120964477986,845.9416182062072,794.1884343276556,882.7296852706145,803.5099071524493,871.6556729487311,917.2750983085464,874.3052953619518,870.2394406905205,929.1020499614572,1043.6569276113955,1075.0320195440022,1023.5224736339595,1055.4510101897472,939.98867323143,810.027098459608,880.0417377534225,910.4522926308755,929.785253308138,864.7161782978301,974.9849242559271,1058.9354152594392,1113.0718911798936,1241.6517534064992,1423.4886101268385,1281.4458436328378,1128.7618837752188,1288.0067196982152,1192.723899161666,1247.1300712026639,1427.6834369649994,1406.201598810435,1580.5953534526996,1396.3116754156918,1597.3608208810226,1674.9132137275642,1578.097091992941,1474.3151417722918,1541.5485715945706,1490.8987816793422,1408.9299778094723,1325.5816237788513,1356.9921166572756,1161.7375179545188,1179.5834634194216,1227.4918070624465,1225.0102026187415,1225.5355798298074,1390.699030305898,1593.0022956457165,1405.1288942614106,1318.076730732918,1480.3906337557225,1659.409069691835,1829.0264915003056,1652.4275084312033,1758.9220586062797,1529.073613485297,1551.6748190944566,1529.9403598357544,1418.8525037092209,1383.388519049151,1323.1876466639956,1227.5660235323528,1191.1375667055017,1015.1388342106496,1060.4666892866344,1134.0912697631647,1126.887597179004,1147.3093137895794,1069.9435035897725,932.4187609534871,837.1631579880483,789.8974363813405,759.4739830781601,781.0227977241526,888.8224111640063,822.3194941529121,885.9053773260198,943.6185504423711,848.727745876587,971.2554450617168,903.5180248455854,805.7012188397773,844.30655943539,951.780317728143,1038.2147808176837,983.8540449467389,1119.4559167959483,1088.634193744124,1006.4041133841475,912.7598321318566,947.6801763956022,864.2670206921297,805.4689553803354,849.8165825435369,970.5626296401017,1074.130698102154,1036.5113278231593,1132.14476232229,1147.5262247668377,1310.5391359923042,1339.074141718389,1281.5550543469808,1259.3768465735711,1221.3698914218207,1218.5482092546488,1110.309708166895,1143.0075070147557,1146.7657869773204,1261.8758957218001,1446.4599563542386,1498.5471422804135,1275.3471959946103,1239.0962446041601,1326.0179016446207,1323.1147386988662,1382.1569217740366,1435.75504515405,1557.423950822375,1704.7527657559365,1584.354563309714,1605.3853291007097,1597.9410347961305,1602.8695273166898,1533.229966042774,1536.5249985066262,1491.3160055186895,1361.07463256119,1266.7804206012588,1275.5963639315153,1366.1862921245315,1453.6647025583518,1501.4901247420412,1353.9069960974623,1284.7129634437747,1364.3742808995198,1527.8508696142194,1496.5752838937938,1357.349275022816,1549.977428665768,1656.111130934109,1669.3230835221602,1777.3699030346693,1638.9982456200669,1543.3606727038232,1539.823984705848,1334.4159550336067,1220.9470132115712,1336.2937450664872],\"high\":[1876.269036324351,1642.2548325297946,1543.3568591638998,1617.1966860542348,1332.820185709487,1453.983212827331,1535.4271417481461,1798.3679259145654,1775.753132985764,1626.0330185486555,1475.1760821704497,1361.003773807734,1362.1809879773712,1531.9578399700345,1343.9884522489103,1226.5012891397926,1287.6308342191733,1429.6457858042645,1446.5888047152603,1463.5474492558794,1334.4492087191084,1193.3459206287876,1280.6973472113268,1266.0925898419666,1238.329241987319,1052.7439628609318,1113.400705172469,1107.6815458156984,1125.799406381118,1093.5905372644681,1066.136502979583,1265.6972999879654,1362.9770453425776,1455.8069027543283,1433.7281619790788,1475.2100138817325,1487.7781220805061,1461.496173839723,1483.2441090935688,1353.4498976276975,1477.792276259741,1315.0987521601573,1164.0588728271987,1259.18572302988,1318.078262300023,1194.1066248595669,1099.9801794648247,1038.55389086833,1026.7356103679765,893.4707738687707,792.2328491984201,683.1700187868587,741.904608482492,791.1902010598868,897.5856890446809,810.0044360785487,827.5121480622962,718.2541541249724,824.0811822840885,751.7018272228731,725.0385777573335,828.8653475008816,962.3090519587928,1038.1320968815337,1056.0246623336657,936.275195663636,867.081695956024,829.9141381456487,897.1950077436144,817.1332427784745,908.1650174504774,957.7449638855073,917.3870485599258,873.9240445082797,938.9955092886133,1087.5495997656656,1090.6853074713863,1072.3602300925702,1084.537681871903,943.4287224643045,843.5827128658873,914.4471279702499,920.6363421522709,971.1964067779761,884.5082025088489,1015.3379979313625,1063.7897405354495,1115.2993448747957,1267.7893663585369,1440.6715614313562,1339.8006075494743,1180.0766817451508,1318.7263301470236,1195.0866979330865,1265.559527103001,1450.0467317883115,1474.389247832302,1597.602027588367,1434.2154772349504,1618.0535115123282,1695.5465697744103,1655.690288881816,1521.7487310402264,1565.1947161703706,1554.048391193768,1432.482595699697,1365.0814733531463,1373.5310890686944,1165.8568281949053,1196.7358780034574,1280.436534692216,1273.70334715636,1236.1512982165139,1447.825479788022,1633.970989381483,1467.9212098185453,1320.1698330157487,1539.8916992184415,1721.3203680171964,1868.5918097510694,1707.6003063812989,1843.6480926624906,1570.46392761434,1582.3755157307507,1531.807537515519,1459.3326232737022,1392.9535518297694,1378.029433304727,1265.156852469904,1222.625391903583,1037.3864623788943,1073.1061094155768,1146.8533170530227,1177.9885411299697,1184.3912213690628,1097.3175645947479,968.1316983012692,866.1523167667239,817.5945052618184,791.9899935436117,803.3300855736173,898.4936295356448,824.4630023548223,901.3193117814675,978.0557278171716,883.0139590607948,1015.5865976915694,938.5635577738303,833.9171883941176,885.3064037668476,972.38263021792,1044.7726683654505,989.7171623858142,1126.0657459919269,1129.4349411190667,1028.4832645146923,940.3994566542239,961.1742708843158,889.5787261045593,837.3289061070831,872.9901036229936,1007.8840328596077,1089.38590216115,1042.630451767582,1186.7676523179302,1155.3634853665662,1330.9344967894358,1374.4520769022192,1310.3613454470592,1308.686948000349,1260.9220159326283,1218.7843430529676,1159.2556538628598,1199.4159644823196,1170.2151600493464,1281.1407400213493,1484.8602990287304,1527.706070503747,1330.2665354880119,1294.726038732719,1375.4630101296286,1364.771376082689,1425.9528106018738,1496.506727462814,1604.57203256613,1765.1027207234047,1596.4012006142875,1642.8793144318186,1657.444177556066,1655.5112519524812,1605.7614867705556,1589.451234843727,1506.8039434235395,1366.1708211128912,1290.1023653692605,1286.3466823989631,1421.8586187809933,1470.5354901566257,1560.7815392220523,1368.956928907509,1338.914529456571,1406.8371600486016,1586.0308954848515,1543.4095976143678,1387.4536908787582,1596.961887051681,1667.5896157887203,1699.4618577972951,1841.1915364231475,1647.71652259448,1551.0754862662736,1585.8272711392335,1336.73206316801,1279.8040817963483],\"low\":[1662.5205685842095,1530.5232004416164,1470.8656704268087,1485.1479957971012,1273.323997026663,1301.653977771997,1529.1812337868569,1652.2289086715778,1733.9987258232543,1512.3014097406206,1426.436207125752,1338.6827345984252,1240.1835948775959,1334.014301938836,1226.617297563021,1122.1867502346179,1208.079063298472,1253.3660667688782,1400.3537604346973,1349.1208930403816,1207.4983109832378,1119.9796261354998,1168.5003777763218,1232.1786309873053,1078.6433126123927,1014.8385473069179,979.5127738786955,1037.343043686378,1012.5311559361132,1019.929870290715,982.3077519495604,1122.2463912595554,1253.9455409114682,1325.430846330488,1347.896821210611,1399.195310449502,1354.4349878184673,1425.9449470093,1317.0473451107691,1195.310245887702,1322.65325236248,1312.0889920723782,1137.1247533734704,1229.263129423953,1262.6213547511245,1100.6498351788016,1071.9866135171546,998.0207175960732,932.4101891580085,796.3550982772739,779.933012531574,629.9864144562735,706.3020001330528,721.5349332918958,835.0630223412928,746.9004474845223,736.4219741860849,646.6842304611098,728.5658779646634,741.7055935421149,664.3683664472779,792.0639556171981,853.0274188799947,983.5289241646508,977.3595668883963,869.3840066918744,818.4192752299913,792.7515104926814,795.5998765853091,786.392751961384,790.4010231359495,854.2481923201665,853.7905578905738,855.4719871861599,858.5724098093812,1005.2390812425078,981.7816110696892,932.7088961590596,1044.4452949905415,858.5698287278249,782.4134800865486,846.7726725631632,903.0099585692891,877.3038191258166,840.747736077963,973.7777228348782,1046.7468040624217,1086.3989749176055,1227.3034516512132,1317.580144146667,1232.9716600248705,1095.5736222131322,1275.110018673634,1191.4708053612126,1172.7299523309619,1418.6940581786992,1269.8286592960642,1482.945085064962,1300.2189290277813,1510.8473973532552,1661.2846516949637,1507.4137696646694,1335.6212267183294,1491.102718056817,1357.6869389315075,1332.2524277367668,1293.0918827800094,1347.177327329199,1153.009408116698,1086.1386593823345,1208.5663879518377,1215.5645181320933,1130.40840722653,1346.226700046741,1446.548524177672,1385.2209371719243,1276.416453785904,1346.0964397518946,1544.9770201971724,1800.1467221953421,1610.6894355817599,1616.7567209092085,1398.9046981412114,1499.1243806806651,1431.0390720756227,1410.009983519139,1366.0783147345637,1270.5515976116385,1198.8987167450252,1131.473531305191,945.4482202979827,1007.9659262191853,1087.3387957296466,1023.4723804613234,1141.779587695734,976.0640842735692,850.0852920947651,766.0887490675805,731.7279581425786,691.3792137804579,767.2552484396035,838.2024327770818,766.2671996157803,840.2763066613749,939.7772031888785,795.3895778279051,878.0694255125377,827.4480542088061,769.8427825477826,812.0242184317975,936.0993354676012,943.8530216385918,924.7559905726612,1086.3787354635065,1088.1977650908452,1004.2871752324164,836.5140504952413,896.2837436553966,842.5840969929939,740.334336163653,808.1067960570422,915.18770005761,1062.5151337251693,959.0564397589004,1045.9811122636756,1090.1072859321055,1244.614759745284,1338.9610277221486,1242.4933603244058,1173.3094103022886,1175.2560682004319,1184.7187213546792,1018.2182615646765,1090.248455191919,1061.374095341464,1240.3845308349078,1394.4709986844389,1434.7285942398728,1200.8123314346244,1146.31600592664,1241.1056291974676,1269.2641044546056,1252.6325143444808,1325.560875568863,1502.9997570953333,1555.7672488411097,1452.3817438870383,1598.0987965614434,1530.41239643165,1599.7052404879555,1427.3684722485596,1443.566170409279,1359.1816359364402,1248.0132129214326,1201.982205068791,1192.2913750960972,1329.3319641362148,1372.1076186984428,1371.3532932710177,1223.4190080365033,1280.7901598653707,1321.187857179381,1407.851635626765,1471.78757817952,1233.4036039424777,1509.370495140224,1633.240568557866,1543.894101404523,1649.6699765344206,1573.928727805157,1514.536674260199,1402.952707285805,1240.4832674818504,1146.0811116217626],\"open\":[1800.0,1602.5566918206966,1484.8019602700608,1552.327623188638,1332.6798509661828,1437.540465326617,1533.0822936805098,1717.7086919189144,1739.0490612602875,1591.1947955461055,1458.3419638910689,1341.565719789738,1325.3073381203676,1459.5257086203956,1321.997344667424,1171.6426047253785,1245.8749872680805,1369.2299518149298,1405.2053485538902,1407.4328044356662,1298.809944284024,1171.3995727231036,1232.717360912102,1235.8336044192845,1196.257922196158,1032.4258385478865,1061.287425840882,1062.0001520161215,1074.6222728989683,1079.0620736978574,1065.832254263983,1211.9950372828398,1328.5232377146644,1451.7331003188333,1419.5441183031994,1449.3542611100065,1442.7996052614599,1459.4547626519093,1441.1299070739053,1301.5757545508025,1418.1080213316238,1314.00217594567,1149.7128010100043,1237.8682171929,1284.214777216435,1153.0805979237996,1074.5262108319057,1017.147080582326,982.5306476709226,867.2095593563374,791.5258377077467,677.740383284776,722.2344744405402,760.8398849985016,869.3952684712444,797.1995847873187,815.3388958000486,707.4169989512247,787.1147913693004,742.3351132017096,723.6666313587792,805.8862830484011,917.6307470862284,1018.8769109627237,1021.5892874604763,931.4120964477986,845.9416182062072,794.1884343276556,882.7296852706145,803.5099071524493,871.6556729487311,917.2750983085464,874.3052953619518,870.2394406905205,929.1020499614572,1043.6569276113955,1075.0320195440022,1023.5224736339595,1055.4510101897472,939.98867323143,810.027098459608,880.0417377534225,910.4522926308755,929.785253308138,864.7161782978301,974.9849242559271,1058.9354152594392,1113.0718911798936,1241.6517534064992,1423.4886101268385,1281.4458436328378,1128.7618837752188,1288.0067196982152,1192.723899161666,1247.1300712026639,1427.6834369649994,1406.201598810435,1580.5953534526996,1396.3116754156918,1597.3608208810226,1674.9132137275642,1578.097091992941,1474.3151417722918,1541.5485715945706,1490.8987816793422,1408.9299778094723,1325.5816237788513,1356.9921166572756,1161.7375179545188,1179.5834634194216,1227.4918070624465,1225.0102026187415,1225.5355798298074,1390.699030305898,1593.0022956457165,1405.1288942614106,1318.076730732918,1480.3906337557225,1659.409069691835,1829.0264915003056,1652.4275084312033,1758.9220586062797,1529.073613485297,1551.6748190944566,1529.9403598357544,1418.8525037092209,1383.388519049151,1323.1876466639956,1227.5660235323528,1191.1375667055017,1015.1388342106496,1060.4666892866344,1134.0912697631647,1126.887597179004,1147.3093137895794,1069.9435035897725,932.4187609534871,837.1631579880483,789.8974363813405,759.4739830781601,781.0227977241526,888.8224111640063,822.3194941529121,885.9053773260198,943.6185504423711,848.727745876587,971.2554450617168,903.5180248455854,805.7012188397773,844.30655943539,951.780317728143,1038.2147808176837,983.8540449467389,1119.4559167959483,1088.634193744124,1006.4041133841475,912.7598321318566,947.6801763956022,864.2670206921297,805.4689553803354,849.8165825435369,970.5626296401017,1074.130698102154,1036.5113278231593,1132.14476232229,1147.5262247668377,1310.5391359923042,1339.074141718389,1281.5550543469808,1259.3768465735711,1221.3698914218207,1218.5482092546488,1110.309708166895,1143.0075070147557,1146.7657869773204,1261.8758957218001,1446.4599563542386,1498.5471422804135,1275.3471959946103,1239.0962446041601,1326.0179016446207,1323.1147386988662,1382.1569217740366,1435.75504515405,1557.423950822375,1704.7527657559365,1584.354563309714,1605.3853291007097,1597.9410347961305,1602.8695273166898,1533.229966042774,1536.5249985066262,1491.3160055186895,1361.07463256119,1266.7804206012588,1275.5963639315153,1366.1862921245315,1453.6647025583518,1501.4901247420412,1353.9069960974623,1284.7129634437747,1364.3742808995198,1527.8508696142194,1496.5752838937938,1357.349275022816,1549.977428665768,1656.111130934109,1669.3230835221602,1777.3699030346693,1638.9982456200669,1543.3606727038232,1539.823984705848,1334.4159550336067,1220.9470132115712],\"showlegend\":false,\"x\":[\"2021-06-01T00:00:00\",\"2021-06-02T00:00:00\",\"2021-06-03T00:00:00\",\"2021-06-04T00:00:00\",\"2021-06-05T00:00:00\",\"2021-06-06T00:00:00\",\"2021-06-07T00:00:00\",\"2021-06-08T00:00:00\",\"2021-06-09T00:00:00\",\"2021-06-10T00:00:00\",\"2021-06-11T00:00:00\",\"2021-06-12T00:00:00\",\"2021-06-13T00:00:00\",\"2021-06-14T00:00:00\",\"2021-06-15T00:00:00\",\"2021-06-16T00:00:00\",\"2021-06-17T00:00:00\",\"2021-06-18T00:00:00\",\"2021-06-19T00:00:00\",\"2021-06-20T00:00:00\",\"2021-06-21T00:00:00\",\"2021-06-22T00:00:00\",\"2021-06-23T00:00:00\",\"2021-06-24T00:00:00\",\"2021-06-25T00:00:00\",\"2021-06-26T00:00:00\",\"2021-06-27T00:00:00\",\"2021-06-28T00:00:00\",\"2021-06-29T00:00:00\",\"2021-06-30T00:00:00\",\"2021-07-01T00:00:00\",\"2021-07-02T00:00:00\",\"2021-07-03T00:00:00\",\"2021-07-04T00:00:00\",\"2021-07-05T00:00:00\",\"2021-07-06T00:00:00\",\"2021-07-07T00:00:00\",\"2021-07-08T00:00:00\",\"2021-07-09T00:00:00\",\"2021-07-10T00:00:00\",\"2021-07-11T00:00:00\",\"2021-07-12T00:00:00\",\"2021-07-13T00:00:00\",\"2021-07-14T00:00:00\",\"2021-07-15T00:00:00\",\"2021-07-16T00:00:00\",\"2021-07-17T00:00:00\",\"2021-07-18T00:00:00\",\"2021-07-19T00:00:00\",\"2021-07-20T00:00:00\",\"2021-07-21T00:00:00\",\"2021-07-22T00:00:00\",\"2021-07-23T00:00:00\",\"2021-07-24T00:00:00\",\"2021-07-25T00:00:00\",\"2021-07-26T00:00:00\",\"2021-07-27T00:00:00\",\"2021-07-28T00:00:00\",\"2021-07-29T00:00:00\",\"2021-07-30T00:00:00\",\"2021-07-31T00:00:00\",\"2021-08-01T00:00:00\",\"2021-08-02T00:00:00\",\"2021-08-03T00:00:00\",\"2021-08-04T00:00:00\",\"2021-08-05T00:00:00\",\"2021-08-06T00:00:00\",\"2021-08-07T00:00:00\",\"2021-08-08T00:00:00\",\"2021-08-09T00:00:00\",\"2021-08-10T00:00:00\",\"2021-08-11T00:00:00\",\"2021-08-12T00:00:00\",\"2021-08-13T00:00:00\",\"2021-08-14T00:00:00\",\"2021-08-15T00:00:00\",\"2021-08-16T00:00:00\",\"2021-08-17T00:00:00\",\"2021-08-18T00:00:00\",\"2021-08-19T00:00:00\",\"2021-08-20T00:00:00\",\"2021-08-21T00:00:00\",\"2021-08-22T00:00:00\",\"2021-08-23T00:00:00\",\"2021-08-24T00:00:00\",\"2021-08-25T00:00:00\",\"2021-08-26T00:00:00\",\"2021-08-27T00:00:00\",\"2021-08-28T00:00:00\",\"2021-08-29T00:00:00\",\"2021-08-30T00:00:00\",\"2021-08-31T00:00:00\",\"2021-09-01T00:00:00\",\"2021-09-02T00:00:00\",\"2021-09-03T00:00:00\",\"2021-09-04T00:00:00\",\"2021-09-05T00:00:00\",\"2021-09-06T00:00:00\",\"2021-09-07T00:00:00\",\"2021-09-08T00:00:00\",\"2021-09-09T00:00:00\",\"2021-09-10T00:00:00\",\"2021-09-11T00:00:00\",\"2021-09-12T00:00:00\",\"2021-09-13T00:00:00\",\"2021-09-14T00:00:00\",\"2021-09-15T00:00:00\",\"2021-09-16T00:00:00\",\"2021-09-17T00:00:00\",\"2021-09-18T00:00:00\",\"2021-09-19T00:00:00\",\"2021-09-20T00:00:00\",\"2021-09-21T00:00:00\",\"2021-09-22T00:00:00\",\"2021-09-23T00:00:00\",\"2021-09-24T00:00:00\",\"2021-09-25T00:00:00\",\"2021-09-26T00:00:00\",\"2021-09-27T00:00:00\",\"2021-09-28T00:00:00\",\"2021-09-29T00:00:00\",\"2021-09-30T00:00:00\",\"2021-10-01T00:00:00\",\"2021-10-02T00:00:00\",\"2021-10-03T00:00:00\",\"2021-10-04T00:00:00\",\"2021-10-05T00:00:00\",\"2021-10-06T00:00:00\",\"2021-10-07T00:00:00\",\"2021-10-08T00:00:00\",\"2021-10-09T00:00:00\",\"2021-10-10T00:00:00\",\"2021-10-11T00:00:00\",\"2021-10-12T00:00:00\",\"2021-10-13T00:00:00\",\"2021-10-14T00:00:00\",\"2021-10-15T00:00:00\",\"2021-10-16T00:00:00\",\"2021-10-17T00:00:00\",\"2021-10-18T00:00:00\",\"2021-10-19T00:00:00\",\"2021-10-20T00:00:00\",\"2021-10-21T00:00:00\",\"2021-10-22T00:00:00\",\"2021-10-23T00:00:00\",\"2021-10-24T00:00:00\",\"2021-10-25T00:00:00\",\"2021-10-26T00:00:00\",\"2021-10-27T00:00:00\",\"2021-10-28T00:00:00\",\"2021-10-29T00:00:00\",\"2021-10-30T00:00:00\",\"2021-10-31T00:00:00\",\"2021-11-01T00:00:00\",\"2021-11-02T00:00:00\",\"2021-11-03T00:00:00\",\"2021-11-04T00:00:00\",\"2021-11-05T00:00:00\",\"2021-11-06T00:00:00\",\"2021-11-07T00:00:00\",\"2021-11-08T00:00:00\",\"2021-11-09T00:00:00\",\"2021-11-10T00:00:00\",\"2021-11-11T00:00:00\",\"2021-11-12T00:00:00\",\"2021-11-13T00:00:00\",\"2021-11-14T00:00:00\",\"2021-11-15T00:00:00\",\"2021-11-16T00:00:00\",\"2021-11-17T00:00:00\",\"2021-11-18T00:00:00\",\"2021-11-19T00:00:00\",\"2021-11-20T00:00:00\",\"2021-11-21T00:00:00\",\"2021-11-22T00:00:00\",\"2021-11-23T00:00:00\",\"2021-11-24T00:00:00\",\"2021-11-25T00:00:00\",\"2021-11-26T00:00:00\",\"2021-11-27T00:00:00\",\"2021-11-28T00:00:00\",\"2021-11-29T00:00:00\",\"2021-11-30T00:00:00\",\"2021-12-01T00:00:00\",\"2021-12-02T00:00:00\",\"2021-12-03T00:00:00\",\"2021-12-04T00:00:00\",\"2021-12-05T00:00:00\",\"2021-12-06T00:00:00\",\"2021-12-07T00:00:00\",\"2021-12-08T00:00:00\",\"2021-12-09T00:00:00\",\"2021-12-10T00:00:00\",\"2021-12-11T00:00:00\",\"2021-12-12T00:00:00\",\"2021-12-13T00:00:00\",\"2021-12-14T00:00:00\",\"2021-12-15T00:00:00\",\"2021-12-16T00:00:00\",\"2021-12-17T00:00:00\",\"2021-12-18T00:00:00\",\"2021-12-19T00:00:00\",\"2021-12-20T00:00:00\",\"2021-12-21T00:00:00\",\"2021-12-22T00:00:00\",\"2021-12-23T00:00:00\",\"2021-12-24T00:00:00\",\"2021-12-25T00:00:00\",\"2021-12-26T00:00:00\",\"2021-12-27T00:00:00\",\"2021-12-28T00:00:00\",\"2021-12-29T00:00:00\",\"2021-12-30T00:00:00\",\"2021-12-31T00:00:00\"],\"type\":\"candlestick\",\"xaxis\":\"x\",\"yaxis\":\"y\"},{\"line\":{\"color\":\"darkblue\"},\"mode\":\"lines\",\"name\":\"Slow EMA\",\"x\":[\"2021-06-20T00:00:00\",\"2021-06-21T00:00:00\",\"2021-06-22T00:00:00\",\"2021-06-23T00:00:00\",\"2021-06-24T00:00:00\",\"2021-06-25T00:00:00\",\"2021-06-26T00:00:00\",\"2021-06-27T00:00:00\",\"2021-06-28T00:00:00\",\"2021-06-29T00:00:00\",\"2021-06-30T00:00:00\",\"2021-07-01T00:00:00\",\"2021-07-02T00:00:00\",\"2021-07-03T00:00:00\",\"2021-07-04T00:00:00\",\"2021-07-05T00:00:00\",\"2021-07-06T00:00:00\",\"2021-07-07T00:00:00\",\"2021-07-08T00:00:00\",\"2021-07-09T00:00:00\",\"2021-07-10T00:00:00\",\"2021-07-11T00:00:00\",\"2021-07-12T00:00:00\",\"2021-07-13T00:00:00\",\"2021-07-14T00:00:00\",\"2021-07-15T00:00:00\",\"2021-07-16T00:00:00\",\"2021-07-17T00:00:00\",\"2021-07-18T00:00:00\",\"2021-07-19T00:00:00\",\"2021-07-20T00:00:00\",\"2021-07-21T00:00:00\",\"2021-07-22T00:00:00\",\"2021-07-23T00:00:00\",\"2021-07-24T00:00:00\",\"2021-07-25T00:00:00\",\"2021-07-26T00:00:00\",\"2021-07-27T00:00:00\",\"2021-07-28T00:00:00\",\"2021-07-29T00:00:00\",\"2021-07-30T00:00:00\",\"2021-07-31T00:00:00\",\"2021-08-01T00:00:00\",\"2021-08-02T00:00:00\",\"2021-08-03T00:00:00\",\"2021-08-04T00:00:00\",\"2021-08-05T00:00:00\",\"2021-08-06T00:00:00\",\"2021-08-07T00:00:00\",\"2021-08-08T00:00:00\",\"2021-08-09T00:00:00\",\"2021-08-10T00:00:00\",\"2021-08-11T00:00:00\",\"2021-08-12T00:00:00\",\"2021-08-13T00:00:00\",\"2021-08-14T00:00:00\",\"2021-08-15T00:00:00\",\"2021-08-16T00:00:00\",\"2021-08-17T00:00:00\",\"2021-08-18T00:00:00\",\"2021-08-19T00:00:00\",\"2021-08-20T00:00:00\",\"2021-08-21T00:00:00\",\"2021-08-22T00:00:00\",\"2021-08-23T00:00:00\",\"2021-08-24T00:00:00\",\"2021-08-25T00:00:00\",\"2021-08-26T00:00:00\",\"2021-08-27T00:00:00\",\"2021-08-28T00:00:00\",\"2021-08-29T00:00:00\",\"2021-08-30T00:00:00\",\"2021-08-31T00:00:00\",\"2021-09-01T00:00:00\",\"2021-09-02T00:00:00\",\"2021-09-03T00:00:00\",\"2021-09-04T00:00:00\",\"2021-09-05T00:00:00\",\"2021-09-06T00:00:00\",\"2021-09-07T00:00:00\",\"2021-09-08T00:00:00\",\"2021-09-09T00:00:00\",\"2021-09-10T00:00:00\",\"2021-09-11T00:00:00\",\"2021-09-12T00:00:00\",\"2021-09-13T00:00:00\",\"2021-09-14T00:00:00\",\"2021-09-15T00:00:00\",\"2021-09-16T00:00:00\",\"2021-09-17T00:00:00\",\"2021-09-18T00:00:00\",\"2021-09-19T00:00:00\",\"2021-09-20T00:00:00\",\"2021-09-21T00:00:00\",\"2021-09-22T00:00:00\",\"2021-09-23T00:00:00\",\"2021-09-24T00:00:00\",\"2021-09-25T00:00:00\",\"2021-09-26T00:00:00\",\"2021-09-27T00:00:00\",\"2021-09-28T00:00:00\",\"2021-09-29T00:00:00\",\"2021-09-30T00:00:00\",\"2021-10-01T00:00:00\",\"2021-10-02T00:00:00\",\"2021-10-03T00:00:00\",\"2021-10-04T00:00:00\",\"2021-10-05T00:00:00\",\"2021-10-06T00:00:00\",\"2021-10-07T00:00:00\",\"2021-10-08T00:00:00\",\"2021-10-09T00:00:00\",\"2021-10-10T00:00:00\",\"2021-10-11T00:00:00\",\"2021-10-12T00:00:00\",\"2021-10-13T00:00:00\",\"2021-10-14T00:00:00\",\"2021-10-15T00:00:00\",\"2021-10-16T00:00:00\",\"2021-10-17T00:00:00\",\"2021-10-18T00:00:00\",\"2021-10-19T00:00:00\",\"2021-10-20T00:00:00\",\"2021-10-21T00:00:00\",\"2021-10-22T00:00:00\",\"2021-10-23T00:00:00\",\"2021-10-24T00:00:00\",\"2021-10-25T00:00:00\",\"2021-10-26T00:00:00\",\"2021-10-27T00:00:00\",\"2021-10-28T00:00:00\",\"2021-10-29T00:00:00\",\"2021-10-30T00:00:00\",\"2021-10-31T00:00:00\",\"2021-11-01T00:00:00\",\"2021-11-02T00:00:00\",\"2021-11-03T00:00:00\",\"2021-11-04T00:00:00\",\"2021-11-05T00:00:00\",\"2021-11-06T00:00:00\",\"2021-11-07T00:00:00\",\"2021-11-08T00:00:00\",\"2021-11-09T00:00:00\",\"2021-11-10T00:00:00\",\"2021-11-11T00:00:00\",\"2021-11-12T00:00:00\",\"2021-11-13T00:00:00\",\"2021-11-14T00:00:00\",\"2021-11-15T00:00:00\",\"2021-11-16T00:00:00\",\"2021-11-17T00:00:00\",\"2021-11-18T00:00:00\",\"2021-11-19T00:00:00\",\"2021-11-20T00:00:00\",\"2021-11-21T00:00:00\",\"2021-11-22T00:00:00\",\"2021-11-23T00:00:00\",\"2021-11-24T00:00:00\",\"2021-11-25T00:00:00\",\"2021-11-26T00:00:00\",\"2021-11-27T00:00:00\",\"2021-11-28T00:00:00\",\"2021-11-29T00:00:00\",\"2021-11-30T00:00:00\",\"2021-12-01T00:00:00\",\"2021-12-02T00:00:00\",\"2021-12-03T00:00:00\",\"2021-12-04T00:00:00\",\"2021-12-05T00:00:00\",\"2021-12-06T00:00:00\",\"2021-12-07T00:00:00\",\"2021-12-08T00:00:00\",\"2021-12-09T00:00:00\",\"2021-12-10T00:00:00\",\"2021-12-11T00:00:00\",\"2021-12-12T00:00:00\",\"2021-12-13T00:00:00\",\"2021-12-14T00:00:00\",\"2021-12-15T00:00:00\",\"2021-12-16T00:00:00\",\"2021-12-17T00:00:00\",\"2021-12-18T00:00:00\",\"2021-12-19T00:00:00\",\"2021-12-20T00:00:00\",\"2021-12-21T00:00:00\",\"2021-12-22T00:00:00\",\"2021-12-23T00:00:00\",\"2021-12-24T00:00:00\",\"2021-12-25T00:00:00\",\"2021-12-26T00:00:00\",\"2021-12-27T00:00:00\",\"2021-12-28T00:00:00\",\"2021-12-29T00:00:00\",\"2021-12-30T00:00:00\",\"2021-12-31T00:00:00\"],\"y\":[1439.7937575074488,1414.2324065756063,1396.9452593695582,1381.601292231437,1363.9495427042675,1332.375856594136,1306.5579108081117,1283.266695685065,1263.3957982768654,1245.840205459817,1228.696591060214,1227.1059668909402,1236.7647545884379,1257.237930372285,1272.6956625561818,1289.5202909898794,1304.118320920506,1318.9122677520684,1330.5520429255766,1327.7923964136935,1336.3938845011155,1334.2613408291684,1316.6852894178196,1309.1789015868749,1306.8013659325472,1292.161292788857,1271.4341421262902,1247.2163267411509,1222.0081668297005,1188.2178232608087,1150.4376341605173,1105.4188483628277,1068.925098465467,1039.5836495638514,1023.3752323169365,1001.8346944569729,984.0731898229801,957.7249811685273,941.476391663839,922.5105556198266,903.5730390235364,894.2695384544758,896.4944154670236,908.1498912285188,918.95364325061,920.1401626027232,913.0736345649598,901.7512345423594,899.9396584212408,890.7558725861177,888.9368059539856,891.6356909401343,889.9851770755455,888.1046307531622,892.0091468682378,906.4517926533005,922.5070523571768,932.1275686692513,943.8726583378699,943.5027549943994,930.7907877053717,925.9575448528052,924.4808541650024,924.9860350357771,919.2460486797822,924.5545130203675,937.3526941859934,954.0878558044601,981.474893671321,1023.5714380956559,1048.1309052896731,1055.8136755470298,1077.9318898545328,1088.8647763355534,1103.9481887866657,1134.7920213022412,1160.6451933050014,1200.6346526555897,1219.260449914589,1255.2635509832353,1295.2280811775815,1322.1634870888688,1336.6450196017422,1356.1394192765551,1368.9609403765764,1372.7608253863175,1368.2589809610356,1367.1719347100363,1347.5922509259372,1331.5826902300344,1321.6602365582883,1312.4569950639145,1304.1848626110889,1312.4262897508713,1339.1496986669965,1345.4485001104692,1342.8591677092722,1355.9772833981858,1384.8960834862937,1427.218882992306,1448.6947779438422,1478.2645446695612,1483.1184018316405,1489.6526971206322,1493.488754543635,1486.3789119543485,1476.5654127220662,1461.954078384545,1439.621794011557,1415.9523559039646,1377.768435096239,1347.5363658603658,1327.1960767675896,1308.097743898971,1292.760067821654,1271.523459064415,1239.2178990211696,1200.9208333815684,1161.7665854191641,1123.4518871248501,1090.8388366554123,1071.6020535681778,1047.864513393958,1032.4425630399921,1023.9790001201713,1007.2831035379186,1003.8455520175352,994.2923289968876,976.3294930618645,963.7620259991195,962.6340859945884,969.839196993165,971.1749017405879,985.2924472967152,995.1322235334108,996.202330087675,988.2526381726407,984.3868520166183,972.9372158267912,956.9758884124128,946.7636838485837,949.029656732128,960.9397781169974,968.1386829984699,983.7564167661614,999.3404240625372,1028.9663960113878,1058.485078774553,1079.7229654591474,1096.8244459075615,1108.6830522178839,1119.1480664461812,1118.3138752725383,1120.6720074758368,1123.1711547760738,1136.396222124464,1165.9426798274453,1197.6332825461393,1205.0518272394404,1208.302053033038,1219.5244074191432,1229.408264231366,1243.9670420284597,1262.241128476207,1290.3524323100169,1329.818798707362,1354.064414584272,1377.9889120803641,1398.9264844999025,1418.3244489105516,1429.2473763275464,1439.4437615160514,1444.3783553552603,1436.4353094864462,1420.271573994998,1406.4952954810062,1402.6639310247488,1407.5300302958335,1416.5001199068831,1410.561348445455,1398.6033626330936,1395.368361546759,1408.0069011230046,1416.4555571072094,1410.828812790572,1424.0932521800933,1446.2105223187277,1467.4745512192233,1496.9946547831141,1510.514872349515,1513.6416138300935,1516.1207328604269,1498.810465675283,1472.3355461869583,1459.3631947951408],\"type\":\"scatter\"},{\"line\":{\"color\":\"#003300\"},\"mode\":\"lines\",\"name\":\"Fast EMA\",\"x\":[\"2021-06-20T00:00:00\",\"2021-06-21T00:00:00\",\"2021-06-22T00:00:00\",\"2021-06-23T00:00:00\",\"2021-06-24T00:00:00\",\"2021-06-25T00:00:00\",\"2021-06-26T00:00:00\",\"2021-06-27T00:00:00\",\"2021-06-28T00:00:00\",\"2021-06-29T00:00:00\",\"2021-06-30T00:00:00\",\"2021-07-01T00:00:00\",\"2021-07-02T00:00:00\",\"2021-07-03T00:00:00\",\"2021-07-04T00:00:00\",\"2021-07-05T00:00:00\",\"2021-07-06T00:00:00\",\"2021-07-07T00:00:00\",\"2021-07-08T00:00:00\",\"2021-07-09T00:00:00\",\"2021-07-10T00:00:00\",\"2021-07-11T00:00:00\",\"2021-07-12T00:00:00\",\"2021-07-13T00:00:00\",\"2021-07-14T00:00:00\",\"2021-07-15T00:00:00\",\"2021-07-16T00:00:00\",\"2021-07-17T00:00:00\",\"2021-07-18T00:00:00\",\"2021-07-19T00:00:00\",\"2021-07-20T00:00:00\",\"2021-07-21T00:00:00\",\"2021-07-22T00:00:00\",\"2021-07-23T00:00:00\",\"2021-07-24T00:00:00\",\"2021-07-25T00:00:00\",\"2021-07-26T00:00:00\",\"2021-07-27T00:00:00\",\"2021-07-28T00:00:00\",\"2021-07-29T00:00:00\",\"2021-07-30T00:00:00\",\"2021-07-31T00:00:00\",\"2021-08-01T00:00:00\",\"2021-08-02T00:00:00\",\"2021-08-03T00:00:00\",\"2021-08-04T00:00:00\",\"2021-08-05T00:00:00\",\"2021-08-06T00:00:00\",\"2021-08-07T00:00:00\",\"2021-08-08T00:00:00\",\"2021-08-09T00:00:00\",\"2021-08-10T00:00:00\",\"2021-08-11T00:00:00\",\"2021-08-12T00:00:00\",\"2021-08-13T00:00:00\",\"2021-08-14T00:00:00\",\"2021-08-15T00:00:00\",\"2021-08-16T00:00:00\",\"2021-08-17T00:00:00\",\"2021-08-18T00:00:00\",\"2021-08-19T00:00:00\",\"2021-08-20T00:00:00\",\"2021-08-21T00:00:00\",\"2021-08-22T00:00:00\",\"2021-08-23T00:00:00\",\"2021-08-24T00:00:00\",\"2021-08-25T00:00:00\",\"2021-08-26T00:00:00\",\"2021-08-27T00:00:00\",\"2021-08-28T00:00:00\",\"2021-08-29T00:00:00\",\"2021-08-30T00:00:00\",\"2021-08-31T00:00:00\",\"2021-09-01T00:00:00\",\"2021-09-02T00:00:00\",\"2021-09-03T00:00:00\",\"2021-09-04T00:00:00\",\"2021-09-05T00:00:00\",\"2021-09-06T00:00:00\",\"2021-09-07T00:00:00\",\"2021-09-08T00:00:00\",\"2021-09-09T00:00:00\",\"2021-09-10T00:00:00\",\"2021-09-11T00:00:00\",\"2021-09-12T00:00:00\",\"2021-09-13T00:00:00\",\"2021-09-14T00:00:00\",\"2021-09-15T00:00:00\",\"2021-09-16T00:00:00\",\"2021-09-17T00:00:00\",\"2021-09-18T00:00:00\",\"2021-09-19T00:00:00\",\"2021-09-20T00:00:00\",\"2021-09-21T00:00:00\",\"2021-09-22T00:00:00\",\"2021-09-23T00:00:00\",\"2021-09-24T00:00:00\",\"2021-09-25T00:00:00\",\"2021-09-26T00:00:00\",\"2021-09-27T00:00:00\",\"2021-09-28T00:00:00\",\"2021-09-29T00:00:00\",\"2021-09-30T00:00:00\",\"2021-10-01T00:00:00\",\"2021-10-02T00:00:00\",\"2021-10-03T00:00:00\",\"2021-10-04T00:00:00\",\"2021-10-05T00:00:00\",\"2021-10-06T00:00:00\",\"2021-10-07T00:00:00\",\"2021-10-08T00:00:00\",\"2021-10-09T00:00:00\",\"2021-10-10T00:00:00\",\"2021-10-11T00:00:00\",\"2021-10-12T00:00:00\",\"2021-10-13T00:00:00\",\"2021-10-14T00:00:00\",\"2021-10-15T00:00:00\",\"2021-10-16T00:00:00\",\"2021-10-17T00:00:00\",\"2021-10-18T00:00:00\",\"2021-10-19T00:00:00\",\"2021-10-20T00:00:00\",\"2021-10-21T00:00:00\",\"2021-10-22T00:00:00\",\"2021-10-23T00:00:00\",\"2021-10-24T00:00:00\",\"2021-10-25T00:00:00\",\"2021-10-26T00:00:00\",\"2021-10-27T00:00:00\",\"2021-10-28T00:00:00\",\"2021-10-29T00:00:00\",\"2021-10-30T00:00:00\",\"2021-10-31T00:00:00\",\"2021-11-01T00:00:00\",\"2021-11-02T00:00:00\",\"2021-11-03T00:00:00\",\"2021-11-04T00:00:00\",\"2021-11-05T00:00:00\",\"2021-11-06T00:00:00\",\"2021-11-07T00:00:00\",\"2021-11-08T00:00:00\",\"2021-11-09T00:00:00\",\"2021-11-10T00:00:00\",\"2021-11-11T00:00:00\",\"2021-11-12T00:00:00\",\"2021-11-13T00:00:00\",\"2021-11-14T00:00:00\",\"2021-11-15T00:00:00\",\"2021-11-16T00:00:00\",\"2021-11-17T00:00:00\",\"2021-11-18T00:00:00\",\"2021-11-19T00:00:00\",\"2021-11-20T00:00:00\",\"2021-11-21T00:00:00\",\"2021-11-22T00:00:00\",\"2021-11-23T00:00:00\",\"2021-11-24T00:00:00\",\"2021-11-25T00:00:00\",\"2021-11-26T00:00:00\",\"2021-11-27T00:00:00\",\"2021-11-28T00:00:00\",\"2021-11-29T00:00:00\",\"2021-11-30T00:00:00\",\"2021-12-01T00:00:00\",\"2021-12-02T00:00:00\",\"2021-12-03T00:00:00\",\"2021-12-04T00:00:00\",\"2021-12-05T00:00:00\",\"2021-12-06T00:00:00\",\"2021-12-07T00:00:00\",\"2021-12-08T00:00:00\",\"2021-12-09T00:00:00\",\"2021-12-10T00:00:00\",\"2021-12-11T00:00:00\",\"2021-12-12T00:00:00\",\"2021-12-13T00:00:00\",\"2021-12-14T00:00:00\",\"2021-12-15T00:00:00\",\"2021-12-16T00:00:00\",\"2021-12-17T00:00:00\",\"2021-12-18T00:00:00\",\"2021-12-19T00:00:00\",\"2021-12-20T00:00:00\",\"2021-12-21T00:00:00\",\"2021-12-22T00:00:00\",\"2021-12-23T00:00:00\",\"2021-12-24T00:00:00\",\"2021-12-25T00:00:00\",\"2021-12-26T00:00:00\",\"2021-12-27T00:00:00\",\"2021-12-28T00:00:00\",\"2021-12-29T00:00:00\",\"2021-12-30T00:00:00\",\"2021-12-31T00:00:00\"],\"y\":[1345.7107366828204,1287.6070153629148,1269.3104638793106,1258.1515107259686,1237.5203145493651,1169.155489215539,1133.1994680906535,1109.4663627324762,1097.851666121307,1091.588468646824,1083.0030638525436,1126.000388329309,1193.5080047910942,1279.583036633674,1326.236730523516,1367.2759073856796,1392.4504733442732,1414.7852364468185,1423.5667933225143,1382.903113731944,1394.6380829318373,1367.7594472697815,1295.077231849856,1276.0075602975373,1278.7432992705033,1236.8557321549354,1182.7458917139256,1127.5462880033924,1079.2077412259025,1008.5416806027142,936.2030663043918,850.0488386311865,807.4440505676378,791.9093287112591,817.7379752979209,810.8918451277202,812.3741953518297,777.3884632182949,780.6305726019634,767.8654194685455,753.1324900986235,770.7170877485494,819.6883075277758,886.0845086727585,931.2527682686646,931.3058776617092,902.8511245098753,866.6302277824689,871.9967136118507,849.1677781253836,856.6637430664995,876.8675281471818,876.0134505521053,874.0887805982437,892.4265370526483,942.8366672388975,986.9017846739324,999.1086809939416,1017.8894573925436,991.922529338839,931.290719045762,914.2077252816489,912.9559143980578,918.5656940347512,900.6158554557776,925.4055450558276,969.9155017903649,1017.6342982535411,1092.3067833045272,1202.7007255786311,1228.9490982633667,1195.5533601006507,1226.3711466331724,1215.1553974760036,1225.813622051557,1293.1035603560379,1330.8029065075038,1414.0670554892358,1408.148595464721,1471.219337270155,1539.1172960892914,1552.1105613905079,1526.1787548511027,1531.3020270989255,1517.8342786257313,1481.5328450203117,1429.5491046064917,1405.3634419567531,1324.154800622675,1275.9643548882573,1259.8068389463203,1248.2079601704609,1240.6505000569098,1290.6666768065725,1391.4452164196205,1396.006442366884,1370.0298718222286,1406.8167924667268,1491.0142182084292,1603.6849759723882,1619.9324867919936,1666.2623440634225,1620.5327672040476,1597.580117834184,1575.0335318347074,1522.973189126212,1476.4449657671917,1425.359192732793,1359.4281363326463,1303.331279790265,1207.2671312637267,1158.333650604696,1150.2528569908523,1142.4644370535696,1144.079395965573,1119.3674318403062,1057.0512082113664,983.7551914702605,919.1359397739539,865.9152875420227,837.6177909360661,854.685997678713,843.8971631701128,857.8999012220818,886.4727842955116,873.8911048225368,906.3458849022635,905.4032648833709,872.1692495355064,862.881686168801,892.5145633552484,941.0813025093936,955.3388833218421,1010.0445611465442,1036.2411053457377,1026.295441358541,988.4502382829795,974.8602176538537,937.9958186666124,893.8201975711868,879.1523258953035,909.6224271435697,964.4585174630978,988.4761209164517,1036.3656680517313,1073.4191869567667,1152.4591699686125,1214.6641605518714,1236.9611251502413,1244.4330322913513,1236.7453186681746,1230.6796155303327,1190.5563130758533,1174.7067110554874,1165.3930696960986,1197.554011704666,1280.52265992119,1353.1974873742647,1327.2473902477132,1297.8636750331955,1307.248417237004,1312.5371910576248,1335.7437679630955,1369.0808603600804,1431.8618905141786,1522.8255155947645,1543.3351981664143,1564.0185751445129,1575.3260616950522,1584.5072169022649,1567.4147999491015,1557.1181994682765,1535.1841348184143,1477.1476340660063,1407.0252295777573,1363.2156076956767,1364.2058358386284,1394.0254580785363,1429.847013633038,1404.5336744545127,1364.5934374509334,1364.5203852671289,1418.9638800494927,1444.8343479975929,1415.6726570060007,1460.4409142259233,1525.6643197953185,1573.5505743709325,1641.4903505921784,1640.659648934808,1608.2266568578132,1585.4257661404915,1501.7558291048636,1408.152890473766,1384.1998420046732],\"type\":\"scatter\"},{\"marker\":{\"line\":{\"color\":\"black\",\"width\":2},\"size\":12,\"symbol\":\"triangle-right\"},\"mode\":\"markers\",\"name\":\"Buys\",\"text\":[\"Buy WETH @ 1332.5208001150095\",\"Buy WETH @ 1422.3751467719396\",\"Buy WETH @ 920.3919228547928\",\"Buy WETH @ 920.0352039203073\",\"Buy WETH @ 931.8977431910303\",\"Buy WETH @ 932.5830023150831\",\"Buy WETH @ 977.9186802968176\",\"Buy WETH @ 1394.883681349948\",\"Buy WETH @ 1484.845169263513\",\"Buy WETH @ 1041.3387972093117\",\"Buy WETH @ 986.8144884119748\",\"Buy WETH @ 973.483078876732\",\"Buy WETH @ 1146.4468475574279\",\"Buy WETH @ 1458.038819015398\",\"Buy WETH @ 1532.4482142569905\",\"Buy WETH @ 1554.64135272394\"],\"x\":[\"2021-07-02T00:00:00\",\"2021-07-10T00:00:00\",\"2021-08-01T00:00:00\",\"2021-08-10T00:00:00\",\"2021-08-13T00:00:00\",\"2021-08-22T00:00:00\",\"2021-08-24T00:00:00\",\"2021-09-21T00:00:00\",\"2021-09-25T00:00:00\",\"2021-10-29T00:00:00\",\"2021-10-30T00:00:00\",\"2021-11-08T00:00:00\",\"2021-11-20T00:00:00\",\"2021-12-14T00:00:00\",\"2021-12-19T00:00:00\",\"2021-12-22T00:00:00\"],\"y\":[1332.5208001150095,1422.3751467719396,920.3919228547928,920.0352039203073,931.8977431910303,932.5830023150831,977.9186802968176,1394.883681349948,1484.845169263513,1041.3387972093117,986.8144884119748,973.483078876732,1146.4468475574279,1458.038819015398,1532.4482142569905,1554.64135272394],\"type\":\"scatter\",\"xaxis\":\"x\",\"yaxis\":\"y\"},{\"marker\":{\"line\":{\"color\":\"black\",\"width\":2},\"size\":12,\"symbol\":\"triangle-left\"},\"mode\":\"markers\",\"name\":\"Sells\",\"text\":[\"Sell WETH @ 1305.4804818144548\",\"Sell WETH @ 942.8086392511242\",\"Sell WETH @ 1329.5583686501877\",\"Sell WETH @ 1423.1090612203484\",\"Sell WETH @ 1113.6406372913955\",\"Sell WETH @ 1365.1578564588733\"],\"x\":[\"2021-07-09T00:00:00\",\"2021-08-18T00:00:00\",\"2021-09-14T00:00:00\",\"2021-10-03T00:00:00\",\"2021-11-19T00:00:00\",\"2021-12-10T00:00:00\"],\"y\":[1305.4804818144548,942.8086392511242,1329.5583686501877,1423.1090612203484,1113.6406372913955,1365.1578564588733],\"type\":\"scatter\",\"xaxis\":\"x\",\"yaxis\":\"y\"},{\"marker\":{\"line\":{\"color\":\"black\",\"width\":2},\"size\":12,\"symbol\":\"triangle-left\"},\"mode\":\"markers\",\"name\":\"Stop loss\",\"text\":[\"Stop loss WETH @ 1317.9441824735068. Stop loss trigger was at 1347.2026202650425.\",\"Stop loss WETH @ 848.4794430608257. Stop loss trigger was at 871.749209731917.\",\"Stop loss WETH @ 872.8501590125919. Stop loss trigger was at 871.4113433931191.\",\"Stop loss WETH @ 867.3103268327235. Stop loss trigger was at 883.295990642731.\",\"Stop loss WETH @ 1322.0309609251165. Stop loss trigger was at 1321.164078790603.\",\"Stop loss WETH @ 986.805607081579. Stop loss trigger was at 986.3040417767995.\",\"Stop loss WETH @ 915.498111628252. Stop loss trigger was at 934.6613426994019.\",\"Stop loss WETH @ 1357.9687170857546. Stop loss trigger was at 1380.9814674304341.\",\"Stop loss WETH @ 1361.4213228478843. Stop loss trigger was at 1451.4583261335083.\",\"Stop loss WETH @ 1338.4192028987075. Stop loss trigger was at 1472.4785572324795.\"],\"x\":[\"2021-07-11T00:00:00\",\"2021-08-05T00:00:00\",\"2021-08-12T00:00:00\",\"2021-08-23T00:00:00\",\"2021-09-24T00:00:00\",\"2021-10-30T00:00:00\",\"2021-11-03T00:00:00\",\"2021-12-16T00:00:00\",\"2021-12-21T00:00:00\",\"2021-12-29T00:00:00\"],\"y\":[1317.9441824735068,848.4794430608257,872.8501590125919,867.3103268327235,1322.0309609251165,986.805607081579,915.498111628252,1357.9687170857546,1361.4213228478843,1338.4192028987075],\"type\":\"scatter\",\"xaxis\":\"x\",\"yaxis\":\"y\"},{\"marker\":{\"line\":{\"color\":\"black\",\"width\":2},\"size\":12,\"symbol\":\"triangle-left\"},\"mode\":\"markers\",\"name\":\"Take profit\",\"text\":[],\"x\":[],\"y\":[],\"type\":\"scatter\",\"xaxis\":\"x\",\"yaxis\":\"y\"}],                        {\"template\":{\"data\":{\"histogram2dcontour\":[{\"type\":\"histogram2dcontour\",\"colorbar\":{\"outlinewidth\":0,\"ticks\":\"\"},\"colorscale\":[[0.0,\"#0d0887\"],[0.1111111111111111,\"#46039f\"],[0.2222222222222222,\"#7201a8\"],[0.3333333333333333,\"#9c179e\"],[0.4444444444444444,\"#bd3786\"],[0.5555555555555556,\"#d8576b\"],[0.6666666666666666,\"#ed7953\"],[0.7777777777777778,\"#fb9f3a\"],[0.8888888888888888,\"#fdca26\"],[1.0,\"#f0f921\"]]}],\"choropleth\":[{\"type\":\"choropleth\",\"colorbar\":{\"outlinewidth\":0,\"ticks\":\"\"}}],\"histogram2d\":[{\"type\":\"histogram2d\",\"colorbar\":{\"outlinewidth\":0,\"ticks\":\"\"},\"colorscale\":[[0.0,\"#0d0887\"],[0.1111111111111111,\"#46039f\"],[0.2222222222222222,\"#7201a8\"],[0.3333333333333333,\"#9c179e\"],[0.4444444444444444,\"#bd3786\"],[0.5555555555555556,\"#d8576b\"],[0.6666666666666666,\"#ed7953\"],[0.7777777777777778,\"#fb9f3a\"],[0.8888888888888888,\"#fdca26\"],[1.0,\"#f0f921\"]]}],\"heatmap\":[{\"type\":\"heatmap\",\"colorbar\":{\"outlinewidth\":0,\"ticks\":\"\"},\"colorscale\":[[0.0,\"#0d0887\"],[0.1111111111111111,\"#46039f\"],[0.2222222222222222,\"#7201a8\"],[0.3333333333333333,\"#9c179e\"],[0.4444444444444444,\"#bd3786\"],[0.5555555555555556,\"#d8576b\"],[0.6666666666666666,\"#ed7953\"],[0.7777777777777778,\"#fb9f3a\"],[0.8888888888888888,\"#fdca26\"],[1.0,\"#f0f921\"]]}],\"heatmapgl\":[{\"type\":\"heatmapgl\",\"colorbar\":{\"outlinewidth\":0,\"ticks\":\"\"},\"colorscale\":[[0.0,\"#0d0887\"],[0.1111111111111111,\"#46039f\"],[0.2222222222222222,\"#7201a8\"],[0.3333333333333333,\"#9c179e\"],[0.4444444444444444,\"#bd3786\"],[0.5555555555555556,\"#d8576b\"],[0.6666666666666666,\"#ed7953\"],[0.7777777777777778,\"#fb9f3a\"],[0.8888888888888888,\"#fdca26\"],[1.0,\"#f0f921\"]]}],\"contourcarpet\":[{\"type\":\"contourcarpet\",\"colorbar\":{\"outlinewidth\":0,\"ticks\":\"\"}}],\"contour\":[{\"type\":\"contour\",\"colorbar\":{\"outlinewidth\":0,\"ticks\":\"\"},\"colorscale\":[[0.0,\"#0d0887\"],[0.1111111111111111,\"#46039f\"],[0.2222222222222222,\"#7201a8\"],[0.3333333333333333,\"#9c179e\"],[0.4444444444444444,\"#bd3786\"],[0.5555555555555556,\"#d8576b\"],[0.6666666666666666,\"#ed7953\"],[0.7777777777777778,\"#fb9f3a\"],[0.8888888888888888,\"#fdca26\"],[1.0,\"#f0f921\"]]}],\"surface\":[{\"type\":\"surface\",\"colorbar\":{\"outlinewidth\":0,\"ticks\":\"\"},\"colorscale\":[[0.0,\"#0d0887\"],[0.1111111111111111,\"#46039f\"],[0.2222222222222222,\"#7201a8\"],[0.3333333333333333,\"#9c179e\"],[0.4444444444444444,\"#bd3786\"],[0.5555555555555556,\"#d8576b\"],[0.6666666666666666,\"#ed7953\"],[0.7777777777777778,\"#fb9f3a\"],[0.8888888888888888,\"#fdca26\"],[1.0,\"#f0f921\"]]}],\"mesh3d\":[{\"type\":\"mesh3d\",\"colorbar\":{\"outlinewidth\":0,\"ticks\":\"\"}}],\"scatter\":[{\"fillpattern\":{\"fillmode\":\"overlay\",\"size\":10,\"solidity\":0.2},\"type\":\"scatter\"}],\"parcoords\":[{\"type\":\"parcoords\",\"line\":{\"colorbar\":{\"outlinewidth\":0,\"ticks\":\"\"}}}],\"scatterpolargl\":[{\"type\":\"scatterpolargl\",\"marker\":{\"colorbar\":{\"outlinewidth\":0,\"ticks\":\"\"}}}],\"bar\":[{\"error_x\":{\"color\":\"#2a3f5f\"},\"error_y\":{\"color\":\"#2a3f5f\"},\"marker\":{\"line\":{\"color\":\"#E5ECF6\",\"width\":0.5},\"pattern\":{\"fillmode\":\"overlay\",\"size\":10,\"solidity\":0.2}},\"type\":\"bar\"}],\"scattergeo\":[{\"type\":\"scattergeo\",\"marker\":{\"colorbar\":{\"outlinewidth\":0,\"ticks\":\"\"}}}],\"scatterpolar\":[{\"type\":\"scatterpolar\",\"marker\":{\"colorbar\":{\"outlinewidth\":0,\"ticks\":\"\"}}}],\"histogram\":[{\"marker\":{\"pattern\":{\"fillmode\":\"overlay\",\"size\":10,\"solidity\":0.2}},\"type\":\"histogram\"}],\"scattergl\":[{\"type\":\"scattergl\",\"marker\":{\"colorbar\":{\"outlinewidth\":0,\"ticks\":\"\"}}}],\"scatter3d\":[{\"type\":\"scatter3d\",\"line\":{\"colorbar\":{\"outlinewidth\":0,\"ticks\":\"\"}},\"marker\":{\"colorbar\":{\"outlinewidth\":0,\"ticks\":\"\"}}}],\"scattermapbox\":[{\"type\":\"scattermapbox\",\"marker\":{\"colorbar\":{\"outlinewidth\":0,\"ticks\":\"\"}}}],\"scatterternary\":[{\"type\":\"scatterternary\",\"marker\":{\"colorbar\":{\"outlinewidth\":0,\"ticks\":\"\"}}}],\"scattercarpet\":[{\"type\":\"scattercarpet\",\"marker\":{\"colorbar\":{\"outlinewidth\":0,\"ticks\":\"\"}}}],\"carpet\":[{\"aaxis\":{\"endlinecolor\":\"#2a3f5f\",\"gridcolor\":\"white\",\"linecolor\":\"white\",\"minorgridcolor\":\"white\",\"startlinecolor\":\"#2a3f5f\"},\"baxis\":{\"endlinecolor\":\"#2a3f5f\",\"gridcolor\":\"white\",\"linecolor\":\"white\",\"minorgridcolor\":\"white\",\"startlinecolor\":\"#2a3f5f\"},\"type\":\"carpet\"}],\"table\":[{\"cells\":{\"fill\":{\"color\":\"#EBF0F8\"},\"line\":{\"color\":\"white\"}},\"header\":{\"fill\":{\"color\":\"#C8D4E3\"},\"line\":{\"color\":\"white\"}},\"type\":\"table\"}],\"barpolar\":[{\"marker\":{\"line\":{\"color\":\"#E5ECF6\",\"width\":0.5},\"pattern\":{\"fillmode\":\"overlay\",\"size\":10,\"solidity\":0.2}},\"type\":\"barpolar\"}],\"pie\":[{\"automargin\":true,\"type\":\"pie\"}]},\"layout\":{\"autotypenumbers\":\"strict\",\"colorway\":[\"#636efa\",\"#EF553B\",\"#00cc96\",\"#ab63fa\",\"#FFA15A\",\"#19d3f3\",\"#FF6692\",\"#B6E880\",\"#FF97FF\",\"#FECB52\"],\"font\":{\"color\":\"#2a3f5f\"},\"hovermode\":\"closest\",\"hoverlabel\":{\"align\":\"left\"},\"paper_bgcolor\":\"white\",\"plot_bgcolor\":\"#E5ECF6\",\"polar\":{\"bgcolor\":\"#E5ECF6\",\"angularaxis\":{\"gridcolor\":\"white\",\"linecolor\":\"white\",\"ticks\":\"\"},\"radialaxis\":{\"gridcolor\":\"white\",\"linecolor\":\"white\",\"ticks\":\"\"}},\"ternary\":{\"bgcolor\":\"#E5ECF6\",\"aaxis\":{\"gridcolor\":\"white\",\"linecolor\":\"white\",\"ticks\":\"\"},\"baxis\":{\"gridcolor\":\"white\",\"linecolor\":\"white\",\"ticks\":\"\"},\"caxis\":{\"gridcolor\":\"white\",\"linecolor\":\"white\",\"ticks\":\"\"}},\"coloraxis\":{\"colorbar\":{\"outlinewidth\":0,\"ticks\":\"\"}},\"colorscale\":{\"sequential\":[[0.0,\"#0d0887\"],[0.1111111111111111,\"#46039f\"],[0.2222222222222222,\"#7201a8\"],[0.3333333333333333,\"#9c179e\"],[0.4444444444444444,\"#bd3786\"],[0.5555555555555556,\"#d8576b\"],[0.6666666666666666,\"#ed7953\"],[0.7777777777777778,\"#fb9f3a\"],[0.8888888888888888,\"#fdca26\"],[1.0,\"#f0f921\"]],\"sequentialminus\":[[0.0,\"#0d0887\"],[0.1111111111111111,\"#46039f\"],[0.2222222222222222,\"#7201a8\"],[0.3333333333333333,\"#9c179e\"],[0.4444444444444444,\"#bd3786\"],[0.5555555555555556,\"#d8576b\"],[0.6666666666666666,\"#ed7953\"],[0.7777777777777778,\"#fb9f3a\"],[0.8888888888888888,\"#fdca26\"],[1.0,\"#f0f921\"]],\"diverging\":[[0,\"#8e0152\"],[0.1,\"#c51b7d\"],[0.2,\"#de77ae\"],[0.3,\"#f1b6da\"],[0.4,\"#fde0ef\"],[0.5,\"#f7f7f7\"],[0.6,\"#e6f5d0\"],[0.7,\"#b8e186\"],[0.8,\"#7fbc41\"],[0.9,\"#4d9221\"],[1,\"#276419\"]]},\"xaxis\":{\"gridcolor\":\"white\",\"linecolor\":\"white\",\"ticks\":\"\",\"title\":{\"standoff\":15},\"zerolinecolor\":\"white\",\"automargin\":true,\"zerolinewidth\":2},\"yaxis\":{\"gridcolor\":\"white\",\"linecolor\":\"white\",\"ticks\":\"\",\"title\":{\"standoff\":15},\"zerolinecolor\":\"white\",\"automargin\":true,\"zerolinewidth\":2},\"scene\":{\"xaxis\":{\"backgroundcolor\":\"#E5ECF6\",\"gridcolor\":\"white\",\"linecolor\":\"white\",\"showbackground\":true,\"ticks\":\"\",\"zerolinecolor\":\"white\",\"gridwidth\":2},\"yaxis\":{\"backgroundcolor\":\"#E5ECF6\",\"gridcolor\":\"white\",\"linecolor\":\"white\",\"showbackground\":true,\"ticks\":\"\",\"zerolinecolor\":\"white\",\"gridwidth\":2},\"zaxis\":{\"backgroundcolor\":\"#E5ECF6\",\"gridcolor\":\"white\",\"linecolor\":\"white\",\"showbackground\":true,\"ticks\":\"\",\"zerolinecolor\":\"white\",\"gridwidth\":2}},\"shapedefaults\":{\"line\":{\"color\":\"#2a3f5f\"}},\"annotationdefaults\":{\"arrowcolor\":\"#2a3f5f\",\"arrowhead\":0,\"arrowwidth\":1},\"geo\":{\"bgcolor\":\"white\",\"landcolor\":\"#E5ECF6\",\"subunitcolor\":\"white\",\"showland\":true,\"showlakes\":true,\"lakecolor\":\"white\"},\"title\":{\"x\":0.05},\"mapbox\":{\"style\":\"light\"}}},\"xaxis\":{\"anchor\":\"y\",\"domain\":[0.0,1.0],\"rangeslider\":{\"visible\":false}},\"yaxis\":{\"anchor\":\"x\",\"domain\":[0.0,1.0],\"title\":{\"text\":\"WETH - USDC price\"},\"showgrid\":true},\"title\":{\"text\":\"Stop loss example with synthetic data trades\"},\"height\":800,\"legend\":{\"orientation\":\"h\",\"yanchor\":\"bottom\",\"y\":1.02,\"xanchor\":\"right\",\"x\":1}},                        {\"responsive\": true}                    ).then(function(){\n                            \nvar gd = document.getElementById('557eeaf1-d20f-41ed-93cb-4705b44e1883');\nvar x = new MutationObserver(function (mutations, observer) {{\n        var display = window.getComputedStyle(gd).display;\n        if (!display || display === 'none') {{\n            console.log([gd, 'removed!']);\n            Plotly.purge(gd);\n            observer.disconnect();\n        }}\n}});\n\n// Listen for the removal of the full notebook cells\nvar notebookContainer = gd.closest('#notebook-container');\nif (notebookContainer) {{\n    x.observe(notebookContainer, {childList: true});\n}}\n\n// Listen for the clearing of the current output cell\nvar outputEl = gd.closest('.output');\nif (outputEl) {{\n    x.observe(outputEl, {childList: true});\n}}\n\n                        })                };                });            </script>        </div>"
     },
     "metadata": {},
     "output_type": "display_data"
    }
   ],
   "source": [
    "from tradeexecutor.visual.single_pair import visualise_single_pair\n",
    "\n",
    "figure = visualise_single_pair(state, universe.universe.candles)\n",
    "\n",
    "figure.show()"
   ],
   "metadata": {
    "collapsed": false
   }
  },
  {
   "cell_type": "markdown",
   "source": [
    "## Benchmarking the strategy performance\n",
    "\n",
    "Here we benchmark the strategy performance against some baseline scenarios.\n",
    "\n",
    "- Buy and hold US dollar\n",
    "- Buy and hold the underlying trading pair base asset\n"
   ],
   "metadata": {
    "collapsed": false
   }
  },
  {
   "cell_type": "code",
   "execution_count": 19,
   "outputs": [],
   "source": [
    "close = universe.universe.candles.get_single_pair_data()[\"close\"]"
   ],
   "metadata": {
    "collapsed": false
   }
  },
  {
   "cell_type": "code",
   "execution_count": 20,
   "outputs": [
    {
     "data": {
      "application/vnd.plotly.v1+json": {
       "data": [
        {
         "line": {
          "color": "#008800"
         },
         "mode": "lines",
         "name": "Stop loss example with synthetic data",
         "x": [
          "2021-06-01T00:00:00",
          "2021-06-02T00:00:00",
          "2021-06-03T00:00:00",
          "2021-06-04T00:00:00",
          "2021-06-05T00:00:00",
          "2021-06-06T00:00:00",
          "2021-06-07T00:00:00",
          "2021-06-08T00:00:00",
          "2021-06-09T00:00:00",
          "2021-06-10T00:00:00",
          "2021-06-11T00:00:00",
          "2021-06-12T00:00:00",
          "2021-06-13T00:00:00",
          "2021-06-14T00:00:00",
          "2021-06-15T00:00:00",
          "2021-06-16T00:00:00",
          "2021-06-17T00:00:00",
          "2021-06-18T00:00:00",
          "2021-06-19T00:00:00",
          "2021-06-20T00:00:00",
          "2021-06-21T00:00:00",
          "2021-06-22T00:00:00",
          "2021-06-23T00:00:00",
          "2021-06-24T00:00:00",
          "2021-06-25T00:00:00",
          "2021-06-26T00:00:00",
          "2021-06-27T00:00:00",
          "2021-06-28T00:00:00",
          "2021-06-29T00:00:00",
          "2021-06-30T00:00:00",
          "2021-07-01T00:00:00",
          "2021-07-02T00:00:00",
          "2021-07-03T00:00:00",
          "2021-07-04T00:00:00",
          "2021-07-05T00:00:00",
          "2021-07-06T00:00:00",
          "2021-07-07T00:00:00",
          "2021-07-08T00:00:00",
          "2021-07-09T00:00:00",
          "2021-07-10T00:00:00",
          "2021-07-11T00:00:00",
          "2021-07-12T00:00:00",
          "2021-07-13T00:00:00",
          "2021-07-14T00:00:00",
          "2021-07-15T00:00:00",
          "2021-07-16T00:00:00",
          "2021-07-17T00:00:00",
          "2021-07-18T00:00:00",
          "2021-07-19T00:00:00",
          "2021-07-20T00:00:00",
          "2021-07-21T00:00:00",
          "2021-07-22T00:00:00",
          "2021-07-23T00:00:00",
          "2021-07-24T00:00:00",
          "2021-07-25T00:00:00",
          "2021-07-26T00:00:00",
          "2021-07-27T00:00:00",
          "2021-07-28T00:00:00",
          "2021-07-29T00:00:00",
          "2021-07-30T00:00:00",
          "2021-07-31T00:00:00",
          "2021-08-01T00:00:00",
          "2021-08-02T00:00:00",
          "2021-08-03T00:00:00",
          "2021-08-04T00:00:00",
          "2021-08-05T00:00:00",
          "2021-08-06T00:00:00",
          "2021-08-07T00:00:00",
          "2021-08-08T00:00:00",
          "2021-08-09T00:00:00",
          "2021-08-10T00:00:00",
          "2021-08-11T00:00:00",
          "2021-08-12T00:00:00",
          "2021-08-13T00:00:00",
          "2021-08-14T00:00:00",
          "2021-08-15T00:00:00",
          "2021-08-16T00:00:00",
          "2021-08-17T00:00:00",
          "2021-08-18T00:00:00",
          "2021-08-19T00:00:00",
          "2021-08-20T00:00:00",
          "2021-08-21T00:00:00",
          "2021-08-22T00:00:00",
          "2021-08-23T00:00:00",
          "2021-08-24T00:00:00",
          "2021-08-25T00:00:00",
          "2021-08-26T00:00:00",
          "2021-08-27T00:00:00",
          "2021-08-28T00:00:00",
          "2021-08-29T00:00:00",
          "2021-08-30T00:00:00",
          "2021-08-31T00:00:00",
          "2021-09-01T00:00:00",
          "2021-09-02T00:00:00",
          "2021-09-03T00:00:00",
          "2021-09-04T00:00:00",
          "2021-09-05T00:00:00",
          "2021-09-06T00:00:00",
          "2021-09-07T00:00:00",
          "2021-09-08T00:00:00",
          "2021-09-09T00:00:00",
          "2021-09-10T00:00:00",
          "2021-09-11T00:00:00",
          "2021-09-12T00:00:00",
          "2021-09-13T00:00:00",
          "2021-09-14T00:00:00",
          "2021-09-15T00:00:00",
          "2021-09-16T00:00:00",
          "2021-09-17T00:00:00",
          "2021-09-18T00:00:00",
          "2021-09-19T00:00:00",
          "2021-09-20T00:00:00",
          "2021-09-21T00:00:00",
          "2021-09-22T00:00:00",
          "2021-09-23T00:00:00",
          "2021-09-24T00:00:00",
          "2021-09-25T00:00:00",
          "2021-09-26T00:00:00",
          "2021-09-27T00:00:00",
          "2021-09-28T00:00:00",
          "2021-09-29T00:00:00",
          "2021-09-30T00:00:00",
          "2021-10-01T00:00:00",
          "2021-10-02T00:00:00",
          "2021-10-03T00:00:00",
          "2021-10-04T00:00:00",
          "2021-10-05T00:00:00",
          "2021-10-06T00:00:00",
          "2021-10-07T00:00:00",
          "2021-10-08T00:00:00",
          "2021-10-09T00:00:00",
          "2021-10-10T00:00:00",
          "2021-10-11T00:00:00",
          "2021-10-12T00:00:00",
          "2021-10-13T00:00:00",
          "2021-10-14T00:00:00",
          "2021-10-15T00:00:00",
          "2021-10-16T00:00:00",
          "2021-10-17T00:00:00",
          "2021-10-18T00:00:00",
          "2021-10-19T00:00:00",
          "2021-10-20T00:00:00",
          "2021-10-21T00:00:00",
          "2021-10-22T00:00:00",
          "2021-10-23T00:00:00",
          "2021-10-24T00:00:00",
          "2021-10-25T00:00:00",
          "2021-10-26T00:00:00",
          "2021-10-27T00:00:00",
          "2021-10-28T00:00:00",
          "2021-10-29T00:00:00",
          "2021-10-30T00:00:00",
          "2021-10-31T00:00:00",
          "2021-11-01T00:00:00",
          "2021-11-02T00:00:00",
          "2021-11-03T00:00:00",
          "2021-11-04T00:00:00",
          "2021-11-05T00:00:00",
          "2021-11-06T00:00:00",
          "2021-11-07T00:00:00",
          "2021-11-08T00:00:00",
          "2021-11-09T00:00:00",
          "2021-11-10T00:00:00",
          "2021-11-11T00:00:00",
          "2021-11-12T00:00:00",
          "2021-11-13T00:00:00",
          "2021-11-14T00:00:00",
          "2021-11-15T00:00:00",
          "2021-11-16T00:00:00",
          "2021-11-17T00:00:00",
          "2021-11-18T00:00:00",
          "2021-11-19T00:00:00",
          "2021-11-20T00:00:00",
          "2021-11-21T00:00:00",
          "2021-11-22T00:00:00",
          "2021-11-23T00:00:00",
          "2021-11-24T00:00:00",
          "2021-11-25T00:00:00",
          "2021-11-26T00:00:00",
          "2021-11-27T00:00:00",
          "2021-11-28T00:00:00",
          "2021-11-29T00:00:00",
          "2021-11-30T00:00:00",
          "2021-12-01T00:00:00",
          "2021-12-02T00:00:00",
          "2021-12-03T00:00:00",
          "2021-12-04T00:00:00",
          "2021-12-05T00:00:00",
          "2021-12-06T00:00:00",
          "2021-12-07T00:00:00",
          "2021-12-08T00:00:00",
          "2021-12-09T00:00:00",
          "2021-12-10T00:00:00",
          "2021-12-11T00:00:00",
          "2021-12-12T00:00:00",
          "2021-12-13T00:00:00",
          "2021-12-14T00:00:00",
          "2021-12-15T00:00:00",
          "2021-12-16T00:00:00",
          "2021-12-17T00:00:00",
          "2021-12-18T00:00:00",
          "2021-12-19T00:00:00",
          "2021-12-20T00:00:00",
          "2021-12-21T00:00:00",
          "2021-12-22T00:00:00",
          "2021-12-23T00:00:00",
          "2021-12-24T00:00:00",
          "2021-12-25T00:00:00",
          "2021-12-26T00:00:00",
          "2021-12-27T00:00:00",
          "2021-12-28T00:00:00",
          "2021-12-29T00:00:00",
          "2021-12-30T00:00:00",
          "2021-12-31T00:00:00"
         ],
         "y": [
          10000.0,
          10000.0,
          10000.0,
          10000.0,
          10000.0,
          10000.0,
          10000.0,
          10000.0,
          10000.0,
          10000.0,
          10000.0,
          10000.0,
          10000.0,
          10000.0,
          10000.0,
          10000.0,
          10000.0,
          10000.0,
          10000.0,
          10000.0,
          10000.0,
          10000.0,
          10000.0,
          10000.0,
          10000.0,
          10000.0,
          10000.0,
          10000.0,
          10000.0,
          10000.0,
          10000.0,
          9997.0,
          10089.463744350958,
          10065.307286896144,
          10087.678527033058,
          10082.759537514861,
          10095.258522438031,
          10081.506500273408,
          9979.707394962825,
          9976.713482744335,
          9906.43625625955,
          9906.43625625955,
          9906.43625625955,
          9906.43625625955,
          9906.43625625955,
          9906.43625625955,
          9906.43625625955,
          9906.43625625955,
          9906.43625625955,
          9906.43625625955,
          9906.43625625955,
          9906.43625625955,
          9906.43625625955,
          9906.43625625955,
          9906.43625625955,
          9906.43625625955,
          9906.43625625955,
          9906.43625625955,
          9906.43625625955,
          9906.43625625955,
          9906.43625625955,
          9903.464325382673,
          10012.438409544811,
          10015.357816398646,
          9918.297577998817,
          9829.034838513637,
          9829.034838513637,
          9829.034838513637,
          9829.034838513637,
          9829.034838513637,
          9826.086128062083,
          9780.180092253182,
          9778.625522839784,
          9775.691935182931,
          9895.897103457906,
          9928.819736546711,
          9874.769540161315,
          9908.272915907482,
          9790.074586588446,
          9790.074586588446,
          9790.074586588446,
          9790.074586588446,
          9787.13756421247,
          9721.552604110517,
          9718.636138329284,
          9802.091862294372,
          9855.909281785953,
          9983.731351212607,
          10164.496541978402,
          10023.290912683573,
          9871.506804509138,
          10029.81312184919,
          9935.091856085772,
          9989.177382228325,
          10168.666646363763,
          10147.31141265566,
          10320.677367692793,
          10137.479776092236,
          10337.344026876304,
          10414.439360243232,
          10318.193829880376,
          10215.023524541593,
          10281.860710285266,
          10231.509427814766,
          10150.023711796426,
          10071.119883772537,
          10071.119883772537,
          10071.119883772537,
          10071.119883772537,
          10071.119883772537,
          10071.119883772537,
          10071.119883772537,
          10068.098547807405,
          10214.162371290104,
          10078.516971346626,
          10018.519907798385,
          10015.514351826047,
          10136.3013403562,
          10250.7452939935,
          10131.590754234157,
          10203.444560481865,
          10048.361642014128,
          10063.611085728715,
          10048.946451511227,
          9976.865434977679,
          9976.865434977679,
          9976.865434977679,
          9976.865434977679,
          9976.865434977679,
          9976.865434977679,
          9976.865434977679,
          9976.865434977679,
          9976.865434977679,
          9976.865434977679,
          9976.865434977679,
          9976.865434977679,
          9976.865434977679,
          9976.865434977679,
          9976.865434977679,
          9976.865434977679,
          9976.865434977679,
          9976.865434977679,
          9976.865434977679,
          9976.865434977679,
          9976.865434977679,
          9976.865434977679,
          9976.865434977679,
          9976.865434977679,
          9976.865434977679,
          9976.865434977679,
          9973.872375347186,
          9921.640855690743,
          10058.018749073342,
          10027.020639660044,
          9944.319973516986,
          9852.89373546999,
          9852.89373546999,
          9852.89373546999,
          9852.89373546999,
          9852.89373546999,
          9849.93786734935,
          9954.761997843938,
          9916.686384020026,
          10013.479650192172,
          10029.047657305056,
          10194.037571014436,
          10222.918646121005,
          10164.70197364575,
          10142.25479103147,
          10103.786891748508,
          10100.930988533375,
          9994.751109187882,
          9991.752683855128,
          9995.029161338973,
          10095.382430180334,
          10256.3032568785,
          10301.71299047577,
          10107.126742062803,
          10075.523075709605,
          10151.301584758545,
          10148.770600340553,
          10200.243717130634,
          10246.970689623438,
          10353.041933351224,
          10481.483547509772,
          10376.520105898204,
          10394.85477794728,
          10388.364824320879,
          10392.661495918994,
          10331.949559402376,
          10334.822176605961,
          10295.408868106388,
          10185.423891224542,
          10185.423891224542,
          10185.423891224542,
          10185.423891224542,
          10182.368264057173,
          10215.777676163678,
          10115.517905615752,
          10115.517905615752,
          10115.517905615752,
          10112.483250244068,
          10091.838588687464,
          10002.62498262524,
          9999.624195130453,
          10067.911045981791,
          10076.411669408213,
          10145.929427587964,
          10056.900546752042,
          9995.366947735552,
          9993.091428455025,
          9863.506781900081,
          9863.506781900081,
          9863.506781900081
         ],
         "type": "scatter"
        },
        {
         "line": {
          "color": "#000088"
         },
         "mode": "lines",
         "name": "All cash",
         "x": [
          "2021-06-01T00:00:00",
          "2021-12-31T00:00:00"
         ],
         "y": [
          10000.0,
          10000.0
         ],
         "type": "scatter"
        },
        {
         "line": {
          "color": "#880000"
         },
         "mode": "lines",
         "name": "Buy and hold WETH",
         "x": [
          "2021-06-01T00:00:00",
          "2021-06-02T00:00:00",
          "2021-06-03T00:00:00",
          "2021-06-04T00:00:00",
          "2021-06-05T00:00:00",
          "2021-06-06T00:00:00",
          "2021-06-07T00:00:00",
          "2021-06-08T00:00:00",
          "2021-06-09T00:00:00",
          "2021-06-10T00:00:00",
          "2021-06-11T00:00:00",
          "2021-06-12T00:00:00",
          "2021-06-13T00:00:00",
          "2021-06-14T00:00:00",
          "2021-06-15T00:00:00",
          "2021-06-16T00:00:00",
          "2021-06-17T00:00:00",
          "2021-06-18T00:00:00",
          "2021-06-19T00:00:00",
          "2021-06-20T00:00:00",
          "2021-06-21T00:00:00",
          "2021-06-22T00:00:00",
          "2021-06-23T00:00:00",
          "2021-06-24T00:00:00",
          "2021-06-25T00:00:00",
          "2021-06-26T00:00:00",
          "2021-06-27T00:00:00",
          "2021-06-28T00:00:00",
          "2021-06-29T00:00:00",
          "2021-06-30T00:00:00",
          "2021-07-01T00:00:00",
          "2021-07-02T00:00:00",
          "2021-07-03T00:00:00",
          "2021-07-04T00:00:00",
          "2021-07-05T00:00:00",
          "2021-07-06T00:00:00",
          "2021-07-07T00:00:00",
          "2021-07-08T00:00:00",
          "2021-07-09T00:00:00",
          "2021-07-10T00:00:00",
          "2021-07-11T00:00:00",
          "2021-07-12T00:00:00",
          "2021-07-13T00:00:00",
          "2021-07-14T00:00:00",
          "2021-07-15T00:00:00",
          "2021-07-16T00:00:00",
          "2021-07-17T00:00:00",
          "2021-07-18T00:00:00",
          "2021-07-19T00:00:00",
          "2021-07-20T00:00:00",
          "2021-07-21T00:00:00",
          "2021-07-22T00:00:00",
          "2021-07-23T00:00:00",
          "2021-07-24T00:00:00",
          "2021-07-25T00:00:00",
          "2021-07-26T00:00:00",
          "2021-07-27T00:00:00",
          "2021-07-28T00:00:00",
          "2021-07-29T00:00:00",
          "2021-07-30T00:00:00",
          "2021-07-31T00:00:00",
          "2021-08-01T00:00:00",
          "2021-08-02T00:00:00",
          "2021-08-03T00:00:00",
          "2021-08-04T00:00:00",
          "2021-08-05T00:00:00",
          "2021-08-06T00:00:00",
          "2021-08-07T00:00:00",
          "2021-08-08T00:00:00",
          "2021-08-09T00:00:00",
          "2021-08-10T00:00:00",
          "2021-08-11T00:00:00",
          "2021-08-12T00:00:00",
          "2021-08-13T00:00:00",
          "2021-08-14T00:00:00",
          "2021-08-15T00:00:00",
          "2021-08-16T00:00:00",
          "2021-08-17T00:00:00",
          "2021-08-18T00:00:00",
          "2021-08-19T00:00:00",
          "2021-08-20T00:00:00",
          "2021-08-21T00:00:00",
          "2021-08-22T00:00:00",
          "2021-08-23T00:00:00",
          "2021-08-24T00:00:00",
          "2021-08-25T00:00:00",
          "2021-08-26T00:00:00",
          "2021-08-27T00:00:00",
          "2021-08-28T00:00:00",
          "2021-08-29T00:00:00",
          "2021-08-30T00:00:00",
          "2021-08-31T00:00:00",
          "2021-09-01T00:00:00",
          "2021-09-02T00:00:00",
          "2021-09-03T00:00:00",
          "2021-09-04T00:00:00",
          "2021-09-05T00:00:00",
          "2021-09-06T00:00:00",
          "2021-09-07T00:00:00",
          "2021-09-08T00:00:00",
          "2021-09-09T00:00:00",
          "2021-09-10T00:00:00",
          "2021-09-11T00:00:00",
          "2021-09-12T00:00:00",
          "2021-09-13T00:00:00",
          "2021-09-14T00:00:00",
          "2021-09-15T00:00:00",
          "2021-09-16T00:00:00",
          "2021-09-17T00:00:00",
          "2021-09-18T00:00:00",
          "2021-09-19T00:00:00",
          "2021-09-20T00:00:00",
          "2021-09-21T00:00:00",
          "2021-09-22T00:00:00",
          "2021-09-23T00:00:00",
          "2021-09-24T00:00:00",
          "2021-09-25T00:00:00",
          "2021-09-26T00:00:00",
          "2021-09-27T00:00:00",
          "2021-09-28T00:00:00",
          "2021-09-29T00:00:00",
          "2021-09-30T00:00:00",
          "2021-10-01T00:00:00",
          "2021-10-02T00:00:00",
          "2021-10-03T00:00:00",
          "2021-10-04T00:00:00",
          "2021-10-05T00:00:00",
          "2021-10-06T00:00:00",
          "2021-10-07T00:00:00",
          "2021-10-08T00:00:00",
          "2021-10-09T00:00:00",
          "2021-10-10T00:00:00",
          "2021-10-11T00:00:00",
          "2021-10-12T00:00:00",
          "2021-10-13T00:00:00",
          "2021-10-14T00:00:00",
          "2021-10-15T00:00:00",
          "2021-10-16T00:00:00",
          "2021-10-17T00:00:00",
          "2021-10-18T00:00:00",
          "2021-10-19T00:00:00",
          "2021-10-20T00:00:00",
          "2021-10-21T00:00:00",
          "2021-10-22T00:00:00",
          "2021-10-23T00:00:00",
          "2021-10-24T00:00:00",
          "2021-10-25T00:00:00",
          "2021-10-26T00:00:00",
          "2021-10-27T00:00:00",
          "2021-10-28T00:00:00",
          "2021-10-29T00:00:00",
          "2021-10-30T00:00:00",
          "2021-10-31T00:00:00",
          "2021-11-01T00:00:00",
          "2021-11-02T00:00:00",
          "2021-11-03T00:00:00",
          "2021-11-04T00:00:00",
          "2021-11-05T00:00:00",
          "2021-11-06T00:00:00",
          "2021-11-07T00:00:00",
          "2021-11-08T00:00:00",
          "2021-11-09T00:00:00",
          "2021-11-10T00:00:00",
          "2021-11-11T00:00:00",
          "2021-11-12T00:00:00",
          "2021-11-13T00:00:00",
          "2021-11-14T00:00:00",
          "2021-11-15T00:00:00",
          "2021-11-16T00:00:00",
          "2021-11-17T00:00:00",
          "2021-11-18T00:00:00",
          "2021-11-19T00:00:00",
          "2021-11-20T00:00:00",
          "2021-11-21T00:00:00",
          "2021-11-22T00:00:00",
          "2021-11-23T00:00:00",
          "2021-11-24T00:00:00",
          "2021-11-25T00:00:00",
          "2021-11-26T00:00:00",
          "2021-11-27T00:00:00",
          "2021-11-28T00:00:00",
          "2021-11-29T00:00:00",
          "2021-11-30T00:00:00",
          "2021-12-01T00:00:00",
          "2021-12-02T00:00:00",
          "2021-12-03T00:00:00",
          "2021-12-04T00:00:00",
          "2021-12-05T00:00:00",
          "2021-12-06T00:00:00",
          "2021-12-07T00:00:00",
          "2021-12-08T00:00:00",
          "2021-12-09T00:00:00",
          "2021-12-10T00:00:00",
          "2021-12-11T00:00:00",
          "2021-12-12T00:00:00",
          "2021-12-13T00:00:00",
          "2021-12-14T00:00:00",
          "2021-12-15T00:00:00",
          "2021-12-16T00:00:00",
          "2021-12-17T00:00:00",
          "2021-12-18T00:00:00",
          "2021-12-19T00:00:00",
          "2021-12-20T00:00:00",
          "2021-12-21T00:00:00",
          "2021-12-22T00:00:00",
          "2021-12-23T00:00:00",
          "2021-12-24T00:00:00",
          "2021-12-25T00:00:00",
          "2021-12-26T00:00:00",
          "2021-12-27T00:00:00",
          "2021-12-28T00:00:00",
          "2021-12-29T00:00:00",
          "2021-12-30T00:00:00",
          "2021-12-31T00:00:00"
         ],
         "y": [
          10000.0,
          9265.207077218265,
          9686.569162336515,
          8315.960725558474,
          8970.293985003418,
          9566.477750866614,
          10718.551803414775,
          10851.716323898154,
          9929.101439390062,
          9100.095936289265,
          8371.40880342622,
          8269.956032660908,
          9107.482537558153,
          8249.301578002063,
          7311.083662158947,
          7774.295871259425,
          8544.034409536678,
          8768.521923286273,
          8782.421312263554,
          8104.611530518899,
          7309.567135451871,
          7692.1919031244215,
          7711.637352530906,
          7464.683953471034,
          6442.367024001672,
          6622.464161533856,
          6626.911593433628,
          6705.673991963857,
          6733.378477062883,
          6650.82402203862,
          7562.884005718813,
          8290.023338926641,
          9058.856436894537,
          8857.996260278487,
          9044.012411588175,
          9003.111169953472,
          9107.039832667597,
          8992.692205082672,
          8121.870266393236,
          8849.034973736143,
          8199.411494471411,
          7174.241054173208,
          7724.333394948625,
          8013.537266862073,
          7195.25620409573,
          6705.07456189344,
          6347.027133415948,
          6131.019593164283,
          5411.412674400201,
          4939.144067399441,
          4229.119548430962,
          4506.763961155067,
          4747.662837026353,
          5425.051562347583,
          4974.548412896423,
          5087.73823704,
          4414.302486531782,
          4911.61901096331,
          4632.192527044568,
          4515.700661650897,
          5028.753660707114,
          5726.04234077791,
          6357.8213249052515,
          6374.746632518993,
          5812.038358465826,
          5278.700107920151,
          4955.758747139,
          5508.258707950779,
          5013.925006544172,
          5439.156551512856,
          5723.823082142647,
          5455.690271828301,
          5430.319221355122,
          5797.62360173284,
          6512.449343839912,
          6708.230822852432,
          6386.809770025142,
          6586.044759456393,
          5865.556445079582,
          5054.592468359544,
          5491.485837880652,
          5681.248577836535,
          5801.8868103305,
          5395.853904646636,
          6083.934061316903,
          6607.787547636531,
          6945.600719530929,
          7747.94277009841,
          8882.61000307942,
          7996.259041400661,
          7043.506726072886,
          8037.199097367876,
          7442.631547758779,
          7782.127631227664,
          8908.785843594585,
          8774.738553634701,
          9862.960614871938,
          8713.025146269953,
          9967.577615405475,
          10451.506784603433,
          9847.371391273737,
          9199.769027186758,
          9619.307569351487,
          9303.251418740778,
          8791.763717318225,
          8271.667583084574,
          8467.66996502052,
          7249.275634889682,
          7360.634849549524,
          7659.584296315087,
          7644.099012977712,
          7647.377381934938,
          8678.002078827534,
          9940.380292168478,
          8768.044846295052,
          8224.836833918334,
          9237.680272476484,
          10354.760478436163,
          11413.17808496567,
          10311.195334711358,
          10975.724400788176,
          9541.463470774854,
          9682.495645951643,
          9546.871993012357,
          8853.680565254976,
          8632.384277634857,
          8256.729096807774,
          7660.047409228878,
          7432.7327874574385,
          6334.495618107152,
          6617.34274175235,
          7076.762248421309,
          7031.811123628484,
          7159.243224563234,
          6676.478336464892,
          5818.319974029421,
          5223.922262849438,
          4928.98279613386,
          4739.139569629244,
          4873.6047948283,
          5546.277493335961,
          5131.297372192546,
          5528.07511801361,
          5888.2069836188275,
          5296.085624979236,
          6060.662003527964,
          5637.978546762552,
          5027.598854705128,
          5268.49729400934,
          5939.136646996285,
          6478.490190809707,
          6139.27763035305,
          6985.437223591211,
          6793.10878236267,
          6279.990708102512,
          5695.647690908531,
          5913.551646768414,
          5393.051148226267,
          5026.149524016065,
          5302.879997200245,
          6056.338815305349,
          6702.606551046956,
          6467.860594969393,
          7064.615985822242,
          7160.596755320464,
          8177.802025233656,
          8355.86128436455,
          7996.940519408275,
          7858.5478629325,
          7621.3833660648725,
          7603.775987919853,
          6928.364617824846,
          7132.399826156303,
          7155.851601570844,
          7874.142001729485,
          9025.951866394733,
          9350.977409590947,
          7958.2033041568275,
          7731.99632143059,
          8274.389969556118,
          8256.27414900155,
          8624.699075099432,
          8959.15291160689,
          9718.370393829591,
          10637.706450304313,
          9886.418192854677,
          10017.650778249845,
          9971.198166978278,
          10001.952102522113,
          9567.399230668345,
          9587.960328323546,
          9305.854907537629,
          8493.144982065163,
          7904.746378501246,
          7959.758119273052,
          8525.04188524139,
          9070.90969060704,
          9369.341705073586,
          8448.418723703693,
          8016.64596329623,
          8513.734882910301,
          9533.833513736088,
          9338.672956358909,
          8469.898643527578,
          9671.903880697086,
          10334.181245423326,
          10416.62421081409,
          11090.839482348447,
          10227.396347257883,
          9630.615132562833,
          9608.546097401542,
          8326.794065035852,
          7618.744593830431,
          8338.511529026142
         ],
         "type": "scatter"
        }
       ],
       "layout": {
        "template": {
         "data": {
          "histogram2dcontour": [
           {
            "type": "histogram2dcontour",
            "colorbar": {
             "outlinewidth": 0,
             "ticks": ""
            },
            "colorscale": [
             [
              0.0,
              "#0d0887"
             ],
             [
              0.1111111111111111,
              "#46039f"
             ],
             [
              0.2222222222222222,
              "#7201a8"
             ],
             [
              0.3333333333333333,
              "#9c179e"
             ],
             [
              0.4444444444444444,
              "#bd3786"
             ],
             [
              0.5555555555555556,
              "#d8576b"
             ],
             [
              0.6666666666666666,
              "#ed7953"
             ],
             [
              0.7777777777777778,
              "#fb9f3a"
             ],
             [
              0.8888888888888888,
              "#fdca26"
             ],
             [
              1.0,
              "#f0f921"
             ]
            ]
           }
          ],
          "choropleth": [
           {
            "type": "choropleth",
            "colorbar": {
             "outlinewidth": 0,
             "ticks": ""
            }
           }
          ],
          "histogram2d": [
           {
            "type": "histogram2d",
            "colorbar": {
             "outlinewidth": 0,
             "ticks": ""
            },
            "colorscale": [
             [
              0.0,
              "#0d0887"
             ],
             [
              0.1111111111111111,
              "#46039f"
             ],
             [
              0.2222222222222222,
              "#7201a8"
             ],
             [
              0.3333333333333333,
              "#9c179e"
             ],
             [
              0.4444444444444444,
              "#bd3786"
             ],
             [
              0.5555555555555556,
              "#d8576b"
             ],
             [
              0.6666666666666666,
              "#ed7953"
             ],
             [
              0.7777777777777778,
              "#fb9f3a"
             ],
             [
              0.8888888888888888,
              "#fdca26"
             ],
             [
              1.0,
              "#f0f921"
             ]
            ]
           }
          ],
          "heatmap": [
           {
            "type": "heatmap",
            "colorbar": {
             "outlinewidth": 0,
             "ticks": ""
            },
            "colorscale": [
             [
              0.0,
              "#0d0887"
             ],
             [
              0.1111111111111111,
              "#46039f"
             ],
             [
              0.2222222222222222,
              "#7201a8"
             ],
             [
              0.3333333333333333,
              "#9c179e"
             ],
             [
              0.4444444444444444,
              "#bd3786"
             ],
             [
              0.5555555555555556,
              "#d8576b"
             ],
             [
              0.6666666666666666,
              "#ed7953"
             ],
             [
              0.7777777777777778,
              "#fb9f3a"
             ],
             [
              0.8888888888888888,
              "#fdca26"
             ],
             [
              1.0,
              "#f0f921"
             ]
            ]
           }
          ],
          "heatmapgl": [
           {
            "type": "heatmapgl",
            "colorbar": {
             "outlinewidth": 0,
             "ticks": ""
            },
            "colorscale": [
             [
              0.0,
              "#0d0887"
             ],
             [
              0.1111111111111111,
              "#46039f"
             ],
             [
              0.2222222222222222,
              "#7201a8"
             ],
             [
              0.3333333333333333,
              "#9c179e"
             ],
             [
              0.4444444444444444,
              "#bd3786"
             ],
             [
              0.5555555555555556,
              "#d8576b"
             ],
             [
              0.6666666666666666,
              "#ed7953"
             ],
             [
              0.7777777777777778,
              "#fb9f3a"
             ],
             [
              0.8888888888888888,
              "#fdca26"
             ],
             [
              1.0,
              "#f0f921"
             ]
            ]
           }
          ],
          "contourcarpet": [
           {
            "type": "contourcarpet",
            "colorbar": {
             "outlinewidth": 0,
             "ticks": ""
            }
           }
          ],
          "contour": [
           {
            "type": "contour",
            "colorbar": {
             "outlinewidth": 0,
             "ticks": ""
            },
            "colorscale": [
             [
              0.0,
              "#0d0887"
             ],
             [
              0.1111111111111111,
              "#46039f"
             ],
             [
              0.2222222222222222,
              "#7201a8"
             ],
             [
              0.3333333333333333,
              "#9c179e"
             ],
             [
              0.4444444444444444,
              "#bd3786"
             ],
             [
              0.5555555555555556,
              "#d8576b"
             ],
             [
              0.6666666666666666,
              "#ed7953"
             ],
             [
              0.7777777777777778,
              "#fb9f3a"
             ],
             [
              0.8888888888888888,
              "#fdca26"
             ],
             [
              1.0,
              "#f0f921"
             ]
            ]
           }
          ],
          "surface": [
           {
            "type": "surface",
            "colorbar": {
             "outlinewidth": 0,
             "ticks": ""
            },
            "colorscale": [
             [
              0.0,
              "#0d0887"
             ],
             [
              0.1111111111111111,
              "#46039f"
             ],
             [
              0.2222222222222222,
              "#7201a8"
             ],
             [
              0.3333333333333333,
              "#9c179e"
             ],
             [
              0.4444444444444444,
              "#bd3786"
             ],
             [
              0.5555555555555556,
              "#d8576b"
             ],
             [
              0.6666666666666666,
              "#ed7953"
             ],
             [
              0.7777777777777778,
              "#fb9f3a"
             ],
             [
              0.8888888888888888,
              "#fdca26"
             ],
             [
              1.0,
              "#f0f921"
             ]
            ]
           }
          ],
          "mesh3d": [
           {
            "type": "mesh3d",
            "colorbar": {
             "outlinewidth": 0,
             "ticks": ""
            }
           }
          ],
          "scatter": [
           {
            "fillpattern": {
             "fillmode": "overlay",
             "size": 10,
             "solidity": 0.2
            },
            "type": "scatter"
           }
          ],
          "parcoords": [
           {
            "type": "parcoords",
            "line": {
             "colorbar": {
              "outlinewidth": 0,
              "ticks": ""
             }
            }
           }
          ],
          "scatterpolargl": [
           {
            "type": "scatterpolargl",
            "marker": {
             "colorbar": {
              "outlinewidth": 0,
              "ticks": ""
             }
            }
           }
          ],
          "bar": [
           {
            "error_x": {
             "color": "#2a3f5f"
            },
            "error_y": {
             "color": "#2a3f5f"
            },
            "marker": {
             "line": {
              "color": "#E5ECF6",
              "width": 0.5
             },
             "pattern": {
              "fillmode": "overlay",
              "size": 10,
              "solidity": 0.2
             }
            },
            "type": "bar"
           }
          ],
          "scattergeo": [
           {
            "type": "scattergeo",
            "marker": {
             "colorbar": {
              "outlinewidth": 0,
              "ticks": ""
             }
            }
           }
          ],
          "scatterpolar": [
           {
            "type": "scatterpolar",
            "marker": {
             "colorbar": {
              "outlinewidth": 0,
              "ticks": ""
             }
            }
           }
          ],
          "histogram": [
           {
            "marker": {
             "pattern": {
              "fillmode": "overlay",
              "size": 10,
              "solidity": 0.2
             }
            },
            "type": "histogram"
           }
          ],
          "scattergl": [
           {
            "type": "scattergl",
            "marker": {
             "colorbar": {
              "outlinewidth": 0,
              "ticks": ""
             }
            }
           }
          ],
          "scatter3d": [
           {
            "type": "scatter3d",
            "line": {
             "colorbar": {
              "outlinewidth": 0,
              "ticks": ""
             }
            },
            "marker": {
             "colorbar": {
              "outlinewidth": 0,
              "ticks": ""
             }
            }
           }
          ],
          "scattermapbox": [
           {
            "type": "scattermapbox",
            "marker": {
             "colorbar": {
              "outlinewidth": 0,
              "ticks": ""
             }
            }
           }
          ],
          "scatterternary": [
           {
            "type": "scatterternary",
            "marker": {
             "colorbar": {
              "outlinewidth": 0,
              "ticks": ""
             }
            }
           }
          ],
          "scattercarpet": [
           {
            "type": "scattercarpet",
            "marker": {
             "colorbar": {
              "outlinewidth": 0,
              "ticks": ""
             }
            }
           }
          ],
          "carpet": [
           {
            "aaxis": {
             "endlinecolor": "#2a3f5f",
             "gridcolor": "white",
             "linecolor": "white",
             "minorgridcolor": "white",
             "startlinecolor": "#2a3f5f"
            },
            "baxis": {
             "endlinecolor": "#2a3f5f",
             "gridcolor": "white",
             "linecolor": "white",
             "minorgridcolor": "white",
             "startlinecolor": "#2a3f5f"
            },
            "type": "carpet"
           }
          ],
          "table": [
           {
            "cells": {
             "fill": {
              "color": "#EBF0F8"
             },
             "line": {
              "color": "white"
             }
            },
            "header": {
             "fill": {
              "color": "#C8D4E3"
             },
             "line": {
              "color": "white"
             }
            },
            "type": "table"
           }
          ],
          "barpolar": [
           {
            "marker": {
             "line": {
              "color": "#E5ECF6",
              "width": 0.5
             },
             "pattern": {
              "fillmode": "overlay",
              "size": 10,
              "solidity": 0.2
             }
            },
            "type": "barpolar"
           }
          ],
          "pie": [
           {
            "automargin": true,
            "type": "pie"
           }
          ]
         },
         "layout": {
          "autotypenumbers": "strict",
          "colorway": [
           "#636efa",
           "#EF553B",
           "#00cc96",
           "#ab63fa",
           "#FFA15A",
           "#19d3f3",
           "#FF6692",
           "#B6E880",
           "#FF97FF",
           "#FECB52"
          ],
          "font": {
           "color": "#2a3f5f"
          },
          "hovermode": "closest",
          "hoverlabel": {
           "align": "left"
          },
          "paper_bgcolor": "white",
          "plot_bgcolor": "#E5ECF6",
          "polar": {
           "bgcolor": "#E5ECF6",
           "angularaxis": {
            "gridcolor": "white",
            "linecolor": "white",
            "ticks": ""
           },
           "radialaxis": {
            "gridcolor": "white",
            "linecolor": "white",
            "ticks": ""
           }
          },
          "ternary": {
           "bgcolor": "#E5ECF6",
           "aaxis": {
            "gridcolor": "white",
            "linecolor": "white",
            "ticks": ""
           },
           "baxis": {
            "gridcolor": "white",
            "linecolor": "white",
            "ticks": ""
           },
           "caxis": {
            "gridcolor": "white",
            "linecolor": "white",
            "ticks": ""
           }
          },
          "coloraxis": {
           "colorbar": {
            "outlinewidth": 0,
            "ticks": ""
           }
          },
          "colorscale": {
           "sequential": [
            [
             0.0,
             "#0d0887"
            ],
            [
             0.1111111111111111,
             "#46039f"
            ],
            [
             0.2222222222222222,
             "#7201a8"
            ],
            [
             0.3333333333333333,
             "#9c179e"
            ],
            [
             0.4444444444444444,
             "#bd3786"
            ],
            [
             0.5555555555555556,
             "#d8576b"
            ],
            [
             0.6666666666666666,
             "#ed7953"
            ],
            [
             0.7777777777777778,
             "#fb9f3a"
            ],
            [
             0.8888888888888888,
             "#fdca26"
            ],
            [
             1.0,
             "#f0f921"
            ]
           ],
           "sequentialminus": [
            [
             0.0,
             "#0d0887"
            ],
            [
             0.1111111111111111,
             "#46039f"
            ],
            [
             0.2222222222222222,
             "#7201a8"
            ],
            [
             0.3333333333333333,
             "#9c179e"
            ],
            [
             0.4444444444444444,
             "#bd3786"
            ],
            [
             0.5555555555555556,
             "#d8576b"
            ],
            [
             0.6666666666666666,
             "#ed7953"
            ],
            [
             0.7777777777777778,
             "#fb9f3a"
            ],
            [
             0.8888888888888888,
             "#fdca26"
            ],
            [
             1.0,
             "#f0f921"
            ]
           ],
           "diverging": [
            [
             0,
             "#8e0152"
            ],
            [
             0.1,
             "#c51b7d"
            ],
            [
             0.2,
             "#de77ae"
            ],
            [
             0.3,
             "#f1b6da"
            ],
            [
             0.4,
             "#fde0ef"
            ],
            [
             0.5,
             "#f7f7f7"
            ],
            [
             0.6,
             "#e6f5d0"
            ],
            [
             0.7,
             "#b8e186"
            ],
            [
             0.8,
             "#7fbc41"
            ],
            [
             0.9,
             "#4d9221"
            ],
            [
             1,
             "#276419"
            ]
           ]
          },
          "xaxis": {
           "gridcolor": "white",
           "linecolor": "white",
           "ticks": "",
           "title": {
            "standoff": 15
           },
           "zerolinecolor": "white",
           "automargin": true,
           "zerolinewidth": 2
          },
          "yaxis": {
           "gridcolor": "white",
           "linecolor": "white",
           "ticks": "",
           "title": {
            "standoff": 15
           },
           "zerolinecolor": "white",
           "automargin": true,
           "zerolinewidth": 2
          },
          "scene": {
           "xaxis": {
            "backgroundcolor": "#E5ECF6",
            "gridcolor": "white",
            "linecolor": "white",
            "showbackground": true,
            "ticks": "",
            "zerolinecolor": "white",
            "gridwidth": 2
           },
           "yaxis": {
            "backgroundcolor": "#E5ECF6",
            "gridcolor": "white",
            "linecolor": "white",
            "showbackground": true,
            "ticks": "",
            "zerolinecolor": "white",
            "gridwidth": 2
           },
           "zaxis": {
            "backgroundcolor": "#E5ECF6",
            "gridcolor": "white",
            "linecolor": "white",
            "showbackground": true,
            "ticks": "",
            "zerolinecolor": "white",
            "gridwidth": 2
           }
          },
          "shapedefaults": {
           "line": {
            "color": "#2a3f5f"
           }
          },
          "annotationdefaults": {
           "arrowcolor": "#2a3f5f",
           "arrowhead": 0,
           "arrowwidth": 1
          },
          "geo": {
           "bgcolor": "white",
           "landcolor": "#E5ECF6",
           "subunitcolor": "white",
           "showland": true,
           "showlakes": true,
           "lakecolor": "white"
          },
          "title": {
           "x": 0.05
          },
          "mapbox": {
           "style": "light"
          }
         }
        },
        "title": {
         "text": "Stop loss example with synthetic data portfolio value"
        },
        "height": 800,
        "yaxis": {
         "title": {
          "text": "Value $"
         },
         "showgrid": false
        },
        "xaxis": {
         "rangeslider": {
          "visible": false
         }
        },
        "legend": {
         "orientation": "h",
         "yanchor": "bottom",
         "y": 1.02,
         "xanchor": "right",
         "x": 1
        }
       },
       "config": {
        "plotlyServerURL": "https://plot.ly"
       }
      },
      "text/html": "<div>                            <div id=\"8af73379-4901-47e7-89d3-8a2dfff78c80\" class=\"plotly-graph-div\" style=\"height:800px; width:100%;\"></div>            <script type=\"text/javascript\">                require([\"plotly\"], function(Plotly) {                    window.PLOTLYENV=window.PLOTLYENV || {};                                    if (document.getElementById(\"8af73379-4901-47e7-89d3-8a2dfff78c80\")) {                    Plotly.newPlot(                        \"8af73379-4901-47e7-89d3-8a2dfff78c80\",                        [{\"line\":{\"color\":\"#008800\"},\"mode\":\"lines\",\"name\":\"Stop loss example with synthetic data\",\"x\":[\"2021-06-01T00:00:00\",\"2021-06-02T00:00:00\",\"2021-06-03T00:00:00\",\"2021-06-04T00:00:00\",\"2021-06-05T00:00:00\",\"2021-06-06T00:00:00\",\"2021-06-07T00:00:00\",\"2021-06-08T00:00:00\",\"2021-06-09T00:00:00\",\"2021-06-10T00:00:00\",\"2021-06-11T00:00:00\",\"2021-06-12T00:00:00\",\"2021-06-13T00:00:00\",\"2021-06-14T00:00:00\",\"2021-06-15T00:00:00\",\"2021-06-16T00:00:00\",\"2021-06-17T00:00:00\",\"2021-06-18T00:00:00\",\"2021-06-19T00:00:00\",\"2021-06-20T00:00:00\",\"2021-06-21T00:00:00\",\"2021-06-22T00:00:00\",\"2021-06-23T00:00:00\",\"2021-06-24T00:00:00\",\"2021-06-25T00:00:00\",\"2021-06-26T00:00:00\",\"2021-06-27T00:00:00\",\"2021-06-28T00:00:00\",\"2021-06-29T00:00:00\",\"2021-06-30T00:00:00\",\"2021-07-01T00:00:00\",\"2021-07-02T00:00:00\",\"2021-07-03T00:00:00\",\"2021-07-04T00:00:00\",\"2021-07-05T00:00:00\",\"2021-07-06T00:00:00\",\"2021-07-07T00:00:00\",\"2021-07-08T00:00:00\",\"2021-07-09T00:00:00\",\"2021-07-10T00:00:00\",\"2021-07-11T00:00:00\",\"2021-07-12T00:00:00\",\"2021-07-13T00:00:00\",\"2021-07-14T00:00:00\",\"2021-07-15T00:00:00\",\"2021-07-16T00:00:00\",\"2021-07-17T00:00:00\",\"2021-07-18T00:00:00\",\"2021-07-19T00:00:00\",\"2021-07-20T00:00:00\",\"2021-07-21T00:00:00\",\"2021-07-22T00:00:00\",\"2021-07-23T00:00:00\",\"2021-07-24T00:00:00\",\"2021-07-25T00:00:00\",\"2021-07-26T00:00:00\",\"2021-07-27T00:00:00\",\"2021-07-28T00:00:00\",\"2021-07-29T00:00:00\",\"2021-07-30T00:00:00\",\"2021-07-31T00:00:00\",\"2021-08-01T00:00:00\",\"2021-08-02T00:00:00\",\"2021-08-03T00:00:00\",\"2021-08-04T00:00:00\",\"2021-08-05T00:00:00\",\"2021-08-06T00:00:00\",\"2021-08-07T00:00:00\",\"2021-08-08T00:00:00\",\"2021-08-09T00:00:00\",\"2021-08-10T00:00:00\",\"2021-08-11T00:00:00\",\"2021-08-12T00:00:00\",\"2021-08-13T00:00:00\",\"2021-08-14T00:00:00\",\"2021-08-15T00:00:00\",\"2021-08-16T00:00:00\",\"2021-08-17T00:00:00\",\"2021-08-18T00:00:00\",\"2021-08-19T00:00:00\",\"2021-08-20T00:00:00\",\"2021-08-21T00:00:00\",\"2021-08-22T00:00:00\",\"2021-08-23T00:00:00\",\"2021-08-24T00:00:00\",\"2021-08-25T00:00:00\",\"2021-08-26T00:00:00\",\"2021-08-27T00:00:00\",\"2021-08-28T00:00:00\",\"2021-08-29T00:00:00\",\"2021-08-30T00:00:00\",\"2021-08-31T00:00:00\",\"2021-09-01T00:00:00\",\"2021-09-02T00:00:00\",\"2021-09-03T00:00:00\",\"2021-09-04T00:00:00\",\"2021-09-05T00:00:00\",\"2021-09-06T00:00:00\",\"2021-09-07T00:00:00\",\"2021-09-08T00:00:00\",\"2021-09-09T00:00:00\",\"2021-09-10T00:00:00\",\"2021-09-11T00:00:00\",\"2021-09-12T00:00:00\",\"2021-09-13T00:00:00\",\"2021-09-14T00:00:00\",\"2021-09-15T00:00:00\",\"2021-09-16T00:00:00\",\"2021-09-17T00:00:00\",\"2021-09-18T00:00:00\",\"2021-09-19T00:00:00\",\"2021-09-20T00:00:00\",\"2021-09-21T00:00:00\",\"2021-09-22T00:00:00\",\"2021-09-23T00:00:00\",\"2021-09-24T00:00:00\",\"2021-09-25T00:00:00\",\"2021-09-26T00:00:00\",\"2021-09-27T00:00:00\",\"2021-09-28T00:00:00\",\"2021-09-29T00:00:00\",\"2021-09-30T00:00:00\",\"2021-10-01T00:00:00\",\"2021-10-02T00:00:00\",\"2021-10-03T00:00:00\",\"2021-10-04T00:00:00\",\"2021-10-05T00:00:00\",\"2021-10-06T00:00:00\",\"2021-10-07T00:00:00\",\"2021-10-08T00:00:00\",\"2021-10-09T00:00:00\",\"2021-10-10T00:00:00\",\"2021-10-11T00:00:00\",\"2021-10-12T00:00:00\",\"2021-10-13T00:00:00\",\"2021-10-14T00:00:00\",\"2021-10-15T00:00:00\",\"2021-10-16T00:00:00\",\"2021-10-17T00:00:00\",\"2021-10-18T00:00:00\",\"2021-10-19T00:00:00\",\"2021-10-20T00:00:00\",\"2021-10-21T00:00:00\",\"2021-10-22T00:00:00\",\"2021-10-23T00:00:00\",\"2021-10-24T00:00:00\",\"2021-10-25T00:00:00\",\"2021-10-26T00:00:00\",\"2021-10-27T00:00:00\",\"2021-10-28T00:00:00\",\"2021-10-29T00:00:00\",\"2021-10-30T00:00:00\",\"2021-10-31T00:00:00\",\"2021-11-01T00:00:00\",\"2021-11-02T00:00:00\",\"2021-11-03T00:00:00\",\"2021-11-04T00:00:00\",\"2021-11-05T00:00:00\",\"2021-11-06T00:00:00\",\"2021-11-07T00:00:00\",\"2021-11-08T00:00:00\",\"2021-11-09T00:00:00\",\"2021-11-10T00:00:00\",\"2021-11-11T00:00:00\",\"2021-11-12T00:00:00\",\"2021-11-13T00:00:00\",\"2021-11-14T00:00:00\",\"2021-11-15T00:00:00\",\"2021-11-16T00:00:00\",\"2021-11-17T00:00:00\",\"2021-11-18T00:00:00\",\"2021-11-19T00:00:00\",\"2021-11-20T00:00:00\",\"2021-11-21T00:00:00\",\"2021-11-22T00:00:00\",\"2021-11-23T00:00:00\",\"2021-11-24T00:00:00\",\"2021-11-25T00:00:00\",\"2021-11-26T00:00:00\",\"2021-11-27T00:00:00\",\"2021-11-28T00:00:00\",\"2021-11-29T00:00:00\",\"2021-11-30T00:00:00\",\"2021-12-01T00:00:00\",\"2021-12-02T00:00:00\",\"2021-12-03T00:00:00\",\"2021-12-04T00:00:00\",\"2021-12-05T00:00:00\",\"2021-12-06T00:00:00\",\"2021-12-07T00:00:00\",\"2021-12-08T00:00:00\",\"2021-12-09T00:00:00\",\"2021-12-10T00:00:00\",\"2021-12-11T00:00:00\",\"2021-12-12T00:00:00\",\"2021-12-13T00:00:00\",\"2021-12-14T00:00:00\",\"2021-12-15T00:00:00\",\"2021-12-16T00:00:00\",\"2021-12-17T00:00:00\",\"2021-12-18T00:00:00\",\"2021-12-19T00:00:00\",\"2021-12-20T00:00:00\",\"2021-12-21T00:00:00\",\"2021-12-22T00:00:00\",\"2021-12-23T00:00:00\",\"2021-12-24T00:00:00\",\"2021-12-25T00:00:00\",\"2021-12-26T00:00:00\",\"2021-12-27T00:00:00\",\"2021-12-28T00:00:00\",\"2021-12-29T00:00:00\",\"2021-12-30T00:00:00\",\"2021-12-31T00:00:00\"],\"y\":[10000.0,10000.0,10000.0,10000.0,10000.0,10000.0,10000.0,10000.0,10000.0,10000.0,10000.0,10000.0,10000.0,10000.0,10000.0,10000.0,10000.0,10000.0,10000.0,10000.0,10000.0,10000.0,10000.0,10000.0,10000.0,10000.0,10000.0,10000.0,10000.0,10000.0,10000.0,9997.0,10089.463744350958,10065.307286896144,10087.678527033058,10082.759537514861,10095.258522438031,10081.506500273408,9979.707394962825,9976.713482744335,9906.43625625955,9906.43625625955,9906.43625625955,9906.43625625955,9906.43625625955,9906.43625625955,9906.43625625955,9906.43625625955,9906.43625625955,9906.43625625955,9906.43625625955,9906.43625625955,9906.43625625955,9906.43625625955,9906.43625625955,9906.43625625955,9906.43625625955,9906.43625625955,9906.43625625955,9906.43625625955,9906.43625625955,9903.464325382673,10012.438409544811,10015.357816398646,9918.297577998817,9829.034838513637,9829.034838513637,9829.034838513637,9829.034838513637,9829.034838513637,9826.086128062083,9780.180092253182,9778.625522839784,9775.691935182931,9895.897103457906,9928.819736546711,9874.769540161315,9908.272915907482,9790.074586588446,9790.074586588446,9790.074586588446,9790.074586588446,9787.13756421247,9721.552604110517,9718.636138329284,9802.091862294372,9855.909281785953,9983.731351212607,10164.496541978402,10023.290912683573,9871.506804509138,10029.81312184919,9935.091856085772,9989.177382228325,10168.666646363763,10147.31141265566,10320.677367692793,10137.479776092236,10337.344026876304,10414.439360243232,10318.193829880376,10215.023524541593,10281.860710285266,10231.509427814766,10150.023711796426,10071.119883772537,10071.119883772537,10071.119883772537,10071.119883772537,10071.119883772537,10071.119883772537,10071.119883772537,10068.098547807405,10214.162371290104,10078.516971346626,10018.519907798385,10015.514351826047,10136.3013403562,10250.7452939935,10131.590754234157,10203.444560481865,10048.361642014128,10063.611085728715,10048.946451511227,9976.865434977679,9976.865434977679,9976.865434977679,9976.865434977679,9976.865434977679,9976.865434977679,9976.865434977679,9976.865434977679,9976.865434977679,9976.865434977679,9976.865434977679,9976.865434977679,9976.865434977679,9976.865434977679,9976.865434977679,9976.865434977679,9976.865434977679,9976.865434977679,9976.865434977679,9976.865434977679,9976.865434977679,9976.865434977679,9976.865434977679,9976.865434977679,9976.865434977679,9976.865434977679,9973.872375347186,9921.640855690743,10058.018749073342,10027.020639660044,9944.319973516986,9852.89373546999,9852.89373546999,9852.89373546999,9852.89373546999,9852.89373546999,9849.93786734935,9954.761997843938,9916.686384020026,10013.479650192172,10029.047657305056,10194.037571014436,10222.918646121005,10164.70197364575,10142.25479103147,10103.786891748508,10100.930988533375,9994.751109187882,9991.752683855128,9995.029161338973,10095.382430180334,10256.3032568785,10301.71299047577,10107.126742062803,10075.523075709605,10151.301584758545,10148.770600340553,10200.243717130634,10246.970689623438,10353.041933351224,10481.483547509772,10376.520105898204,10394.85477794728,10388.364824320879,10392.661495918994,10331.949559402376,10334.822176605961,10295.408868106388,10185.423891224542,10185.423891224542,10185.423891224542,10185.423891224542,10182.368264057173,10215.777676163678,10115.517905615752,10115.517905615752,10115.517905615752,10112.483250244068,10091.838588687464,10002.62498262524,9999.624195130453,10067.911045981791,10076.411669408213,10145.929427587964,10056.900546752042,9995.366947735552,9993.091428455025,9863.506781900081,9863.506781900081,9863.506781900081],\"type\":\"scatter\"},{\"line\":{\"color\":\"#000088\"},\"mode\":\"lines\",\"name\":\"All cash\",\"x\":[\"2021-06-01T00:00:00\",\"2021-12-31T00:00:00\"],\"y\":[10000.0,10000.0],\"type\":\"scatter\"},{\"line\":{\"color\":\"#880000\"},\"mode\":\"lines\",\"name\":\"Buy and hold WETH\",\"x\":[\"2021-06-01T00:00:00\",\"2021-06-02T00:00:00\",\"2021-06-03T00:00:00\",\"2021-06-04T00:00:00\",\"2021-06-05T00:00:00\",\"2021-06-06T00:00:00\",\"2021-06-07T00:00:00\",\"2021-06-08T00:00:00\",\"2021-06-09T00:00:00\",\"2021-06-10T00:00:00\",\"2021-06-11T00:00:00\",\"2021-06-12T00:00:00\",\"2021-06-13T00:00:00\",\"2021-06-14T00:00:00\",\"2021-06-15T00:00:00\",\"2021-06-16T00:00:00\",\"2021-06-17T00:00:00\",\"2021-06-18T00:00:00\",\"2021-06-19T00:00:00\",\"2021-06-20T00:00:00\",\"2021-06-21T00:00:00\",\"2021-06-22T00:00:00\",\"2021-06-23T00:00:00\",\"2021-06-24T00:00:00\",\"2021-06-25T00:00:00\",\"2021-06-26T00:00:00\",\"2021-06-27T00:00:00\",\"2021-06-28T00:00:00\",\"2021-06-29T00:00:00\",\"2021-06-30T00:00:00\",\"2021-07-01T00:00:00\",\"2021-07-02T00:00:00\",\"2021-07-03T00:00:00\",\"2021-07-04T00:00:00\",\"2021-07-05T00:00:00\",\"2021-07-06T00:00:00\",\"2021-07-07T00:00:00\",\"2021-07-08T00:00:00\",\"2021-07-09T00:00:00\",\"2021-07-10T00:00:00\",\"2021-07-11T00:00:00\",\"2021-07-12T00:00:00\",\"2021-07-13T00:00:00\",\"2021-07-14T00:00:00\",\"2021-07-15T00:00:00\",\"2021-07-16T00:00:00\",\"2021-07-17T00:00:00\",\"2021-07-18T00:00:00\",\"2021-07-19T00:00:00\",\"2021-07-20T00:00:00\",\"2021-07-21T00:00:00\",\"2021-07-22T00:00:00\",\"2021-07-23T00:00:00\",\"2021-07-24T00:00:00\",\"2021-07-25T00:00:00\",\"2021-07-26T00:00:00\",\"2021-07-27T00:00:00\",\"2021-07-28T00:00:00\",\"2021-07-29T00:00:00\",\"2021-07-30T00:00:00\",\"2021-07-31T00:00:00\",\"2021-08-01T00:00:00\",\"2021-08-02T00:00:00\",\"2021-08-03T00:00:00\",\"2021-08-04T00:00:00\",\"2021-08-05T00:00:00\",\"2021-08-06T00:00:00\",\"2021-08-07T00:00:00\",\"2021-08-08T00:00:00\",\"2021-08-09T00:00:00\",\"2021-08-10T00:00:00\",\"2021-08-11T00:00:00\",\"2021-08-12T00:00:00\",\"2021-08-13T00:00:00\",\"2021-08-14T00:00:00\",\"2021-08-15T00:00:00\",\"2021-08-16T00:00:00\",\"2021-08-17T00:00:00\",\"2021-08-18T00:00:00\",\"2021-08-19T00:00:00\",\"2021-08-20T00:00:00\",\"2021-08-21T00:00:00\",\"2021-08-22T00:00:00\",\"2021-08-23T00:00:00\",\"2021-08-24T00:00:00\",\"2021-08-25T00:00:00\",\"2021-08-26T00:00:00\",\"2021-08-27T00:00:00\",\"2021-08-28T00:00:00\",\"2021-08-29T00:00:00\",\"2021-08-30T00:00:00\",\"2021-08-31T00:00:00\",\"2021-09-01T00:00:00\",\"2021-09-02T00:00:00\",\"2021-09-03T00:00:00\",\"2021-09-04T00:00:00\",\"2021-09-05T00:00:00\",\"2021-09-06T00:00:00\",\"2021-09-07T00:00:00\",\"2021-09-08T00:00:00\",\"2021-09-09T00:00:00\",\"2021-09-10T00:00:00\",\"2021-09-11T00:00:00\",\"2021-09-12T00:00:00\",\"2021-09-13T00:00:00\",\"2021-09-14T00:00:00\",\"2021-09-15T00:00:00\",\"2021-09-16T00:00:00\",\"2021-09-17T00:00:00\",\"2021-09-18T00:00:00\",\"2021-09-19T00:00:00\",\"2021-09-20T00:00:00\",\"2021-09-21T00:00:00\",\"2021-09-22T00:00:00\",\"2021-09-23T00:00:00\",\"2021-09-24T00:00:00\",\"2021-09-25T00:00:00\",\"2021-09-26T00:00:00\",\"2021-09-27T00:00:00\",\"2021-09-28T00:00:00\",\"2021-09-29T00:00:00\",\"2021-09-30T00:00:00\",\"2021-10-01T00:00:00\",\"2021-10-02T00:00:00\",\"2021-10-03T00:00:00\",\"2021-10-04T00:00:00\",\"2021-10-05T00:00:00\",\"2021-10-06T00:00:00\",\"2021-10-07T00:00:00\",\"2021-10-08T00:00:00\",\"2021-10-09T00:00:00\",\"2021-10-10T00:00:00\",\"2021-10-11T00:00:00\",\"2021-10-12T00:00:00\",\"2021-10-13T00:00:00\",\"2021-10-14T00:00:00\",\"2021-10-15T00:00:00\",\"2021-10-16T00:00:00\",\"2021-10-17T00:00:00\",\"2021-10-18T00:00:00\",\"2021-10-19T00:00:00\",\"2021-10-20T00:00:00\",\"2021-10-21T00:00:00\",\"2021-10-22T00:00:00\",\"2021-10-23T00:00:00\",\"2021-10-24T00:00:00\",\"2021-10-25T00:00:00\",\"2021-10-26T00:00:00\",\"2021-10-27T00:00:00\",\"2021-10-28T00:00:00\",\"2021-10-29T00:00:00\",\"2021-10-30T00:00:00\",\"2021-10-31T00:00:00\",\"2021-11-01T00:00:00\",\"2021-11-02T00:00:00\",\"2021-11-03T00:00:00\",\"2021-11-04T00:00:00\",\"2021-11-05T00:00:00\",\"2021-11-06T00:00:00\",\"2021-11-07T00:00:00\",\"2021-11-08T00:00:00\",\"2021-11-09T00:00:00\",\"2021-11-10T00:00:00\",\"2021-11-11T00:00:00\",\"2021-11-12T00:00:00\",\"2021-11-13T00:00:00\",\"2021-11-14T00:00:00\",\"2021-11-15T00:00:00\",\"2021-11-16T00:00:00\",\"2021-11-17T00:00:00\",\"2021-11-18T00:00:00\",\"2021-11-19T00:00:00\",\"2021-11-20T00:00:00\",\"2021-11-21T00:00:00\",\"2021-11-22T00:00:00\",\"2021-11-23T00:00:00\",\"2021-11-24T00:00:00\",\"2021-11-25T00:00:00\",\"2021-11-26T00:00:00\",\"2021-11-27T00:00:00\",\"2021-11-28T00:00:00\",\"2021-11-29T00:00:00\",\"2021-11-30T00:00:00\",\"2021-12-01T00:00:00\",\"2021-12-02T00:00:00\",\"2021-12-03T00:00:00\",\"2021-12-04T00:00:00\",\"2021-12-05T00:00:00\",\"2021-12-06T00:00:00\",\"2021-12-07T00:00:00\",\"2021-12-08T00:00:00\",\"2021-12-09T00:00:00\",\"2021-12-10T00:00:00\",\"2021-12-11T00:00:00\",\"2021-12-12T00:00:00\",\"2021-12-13T00:00:00\",\"2021-12-14T00:00:00\",\"2021-12-15T00:00:00\",\"2021-12-16T00:00:00\",\"2021-12-17T00:00:00\",\"2021-12-18T00:00:00\",\"2021-12-19T00:00:00\",\"2021-12-20T00:00:00\",\"2021-12-21T00:00:00\",\"2021-12-22T00:00:00\",\"2021-12-23T00:00:00\",\"2021-12-24T00:00:00\",\"2021-12-25T00:00:00\",\"2021-12-26T00:00:00\",\"2021-12-27T00:00:00\",\"2021-12-28T00:00:00\",\"2021-12-29T00:00:00\",\"2021-12-30T00:00:00\",\"2021-12-31T00:00:00\"],\"y\":[10000.0,9265.207077218265,9686.569162336515,8315.960725558474,8970.293985003418,9566.477750866614,10718.551803414775,10851.716323898154,9929.101439390062,9100.095936289265,8371.40880342622,8269.956032660908,9107.482537558153,8249.301578002063,7311.083662158947,7774.295871259425,8544.034409536678,8768.521923286273,8782.421312263554,8104.611530518899,7309.567135451871,7692.1919031244215,7711.637352530906,7464.683953471034,6442.367024001672,6622.464161533856,6626.911593433628,6705.673991963857,6733.378477062883,6650.82402203862,7562.884005718813,8290.023338926641,9058.856436894537,8857.996260278487,9044.012411588175,9003.111169953472,9107.039832667597,8992.692205082672,8121.870266393236,8849.034973736143,8199.411494471411,7174.241054173208,7724.333394948625,8013.537266862073,7195.25620409573,6705.07456189344,6347.027133415948,6131.019593164283,5411.412674400201,4939.144067399441,4229.119548430962,4506.763961155067,4747.662837026353,5425.051562347583,4974.548412896423,5087.73823704,4414.302486531782,4911.61901096331,4632.192527044568,4515.700661650897,5028.753660707114,5726.04234077791,6357.8213249052515,6374.746632518993,5812.038358465826,5278.700107920151,4955.758747139,5508.258707950779,5013.925006544172,5439.156551512856,5723.823082142647,5455.690271828301,5430.319221355122,5797.62360173284,6512.449343839912,6708.230822852432,6386.809770025142,6586.044759456393,5865.556445079582,5054.592468359544,5491.485837880652,5681.248577836535,5801.8868103305,5395.853904646636,6083.934061316903,6607.787547636531,6945.600719530929,7747.94277009841,8882.61000307942,7996.259041400661,7043.506726072886,8037.199097367876,7442.631547758779,7782.127631227664,8908.785843594585,8774.738553634701,9862.960614871938,8713.025146269953,9967.577615405475,10451.506784603433,9847.371391273737,9199.769027186758,9619.307569351487,9303.251418740778,8791.763717318225,8271.667583084574,8467.66996502052,7249.275634889682,7360.634849549524,7659.584296315087,7644.099012977712,7647.377381934938,8678.002078827534,9940.380292168478,8768.044846295052,8224.836833918334,9237.680272476484,10354.760478436163,11413.17808496567,10311.195334711358,10975.724400788176,9541.463470774854,9682.495645951643,9546.871993012357,8853.680565254976,8632.384277634857,8256.729096807774,7660.047409228878,7432.7327874574385,6334.495618107152,6617.34274175235,7076.762248421309,7031.811123628484,7159.243224563234,6676.478336464892,5818.319974029421,5223.922262849438,4928.98279613386,4739.139569629244,4873.6047948283,5546.277493335961,5131.297372192546,5528.07511801361,5888.2069836188275,5296.085624979236,6060.662003527964,5637.978546762552,5027.598854705128,5268.49729400934,5939.136646996285,6478.490190809707,6139.27763035305,6985.437223591211,6793.10878236267,6279.990708102512,5695.647690908531,5913.551646768414,5393.051148226267,5026.149524016065,5302.879997200245,6056.338815305349,6702.606551046956,6467.860594969393,7064.615985822242,7160.596755320464,8177.802025233656,8355.86128436455,7996.940519408275,7858.5478629325,7621.3833660648725,7603.775987919853,6928.364617824846,7132.399826156303,7155.851601570844,7874.142001729485,9025.951866394733,9350.977409590947,7958.2033041568275,7731.99632143059,8274.389969556118,8256.27414900155,8624.699075099432,8959.15291160689,9718.370393829591,10637.706450304313,9886.418192854677,10017.650778249845,9971.198166978278,10001.952102522113,9567.399230668345,9587.960328323546,9305.854907537629,8493.144982065163,7904.746378501246,7959.758119273052,8525.04188524139,9070.90969060704,9369.341705073586,8448.418723703693,8016.64596329623,8513.734882910301,9533.833513736088,9338.672956358909,8469.898643527578,9671.903880697086,10334.181245423326,10416.62421081409,11090.839482348447,10227.396347257883,9630.615132562833,9608.546097401542,8326.794065035852,7618.744593830431,8338.511529026142],\"type\":\"scatter\"}],                        {\"template\":{\"data\":{\"histogram2dcontour\":[{\"type\":\"histogram2dcontour\",\"colorbar\":{\"outlinewidth\":0,\"ticks\":\"\"},\"colorscale\":[[0.0,\"#0d0887\"],[0.1111111111111111,\"#46039f\"],[0.2222222222222222,\"#7201a8\"],[0.3333333333333333,\"#9c179e\"],[0.4444444444444444,\"#bd3786\"],[0.5555555555555556,\"#d8576b\"],[0.6666666666666666,\"#ed7953\"],[0.7777777777777778,\"#fb9f3a\"],[0.8888888888888888,\"#fdca26\"],[1.0,\"#f0f921\"]]}],\"choropleth\":[{\"type\":\"choropleth\",\"colorbar\":{\"outlinewidth\":0,\"ticks\":\"\"}}],\"histogram2d\":[{\"type\":\"histogram2d\",\"colorbar\":{\"outlinewidth\":0,\"ticks\":\"\"},\"colorscale\":[[0.0,\"#0d0887\"],[0.1111111111111111,\"#46039f\"],[0.2222222222222222,\"#7201a8\"],[0.3333333333333333,\"#9c179e\"],[0.4444444444444444,\"#bd3786\"],[0.5555555555555556,\"#d8576b\"],[0.6666666666666666,\"#ed7953\"],[0.7777777777777778,\"#fb9f3a\"],[0.8888888888888888,\"#fdca26\"],[1.0,\"#f0f921\"]]}],\"heatmap\":[{\"type\":\"heatmap\",\"colorbar\":{\"outlinewidth\":0,\"ticks\":\"\"},\"colorscale\":[[0.0,\"#0d0887\"],[0.1111111111111111,\"#46039f\"],[0.2222222222222222,\"#7201a8\"],[0.3333333333333333,\"#9c179e\"],[0.4444444444444444,\"#bd3786\"],[0.5555555555555556,\"#d8576b\"],[0.6666666666666666,\"#ed7953\"],[0.7777777777777778,\"#fb9f3a\"],[0.8888888888888888,\"#fdca26\"],[1.0,\"#f0f921\"]]}],\"heatmapgl\":[{\"type\":\"heatmapgl\",\"colorbar\":{\"outlinewidth\":0,\"ticks\":\"\"},\"colorscale\":[[0.0,\"#0d0887\"],[0.1111111111111111,\"#46039f\"],[0.2222222222222222,\"#7201a8\"],[0.3333333333333333,\"#9c179e\"],[0.4444444444444444,\"#bd3786\"],[0.5555555555555556,\"#d8576b\"],[0.6666666666666666,\"#ed7953\"],[0.7777777777777778,\"#fb9f3a\"],[0.8888888888888888,\"#fdca26\"],[1.0,\"#f0f921\"]]}],\"contourcarpet\":[{\"type\":\"contourcarpet\",\"colorbar\":{\"outlinewidth\":0,\"ticks\":\"\"}}],\"contour\":[{\"type\":\"contour\",\"colorbar\":{\"outlinewidth\":0,\"ticks\":\"\"},\"colorscale\":[[0.0,\"#0d0887\"],[0.1111111111111111,\"#46039f\"],[0.2222222222222222,\"#7201a8\"],[0.3333333333333333,\"#9c179e\"],[0.4444444444444444,\"#bd3786\"],[0.5555555555555556,\"#d8576b\"],[0.6666666666666666,\"#ed7953\"],[0.7777777777777778,\"#fb9f3a\"],[0.8888888888888888,\"#fdca26\"],[1.0,\"#f0f921\"]]}],\"surface\":[{\"type\":\"surface\",\"colorbar\":{\"outlinewidth\":0,\"ticks\":\"\"},\"colorscale\":[[0.0,\"#0d0887\"],[0.1111111111111111,\"#46039f\"],[0.2222222222222222,\"#7201a8\"],[0.3333333333333333,\"#9c179e\"],[0.4444444444444444,\"#bd3786\"],[0.5555555555555556,\"#d8576b\"],[0.6666666666666666,\"#ed7953\"],[0.7777777777777778,\"#fb9f3a\"],[0.8888888888888888,\"#fdca26\"],[1.0,\"#f0f921\"]]}],\"mesh3d\":[{\"type\":\"mesh3d\",\"colorbar\":{\"outlinewidth\":0,\"ticks\":\"\"}}],\"scatter\":[{\"fillpattern\":{\"fillmode\":\"overlay\",\"size\":10,\"solidity\":0.2},\"type\":\"scatter\"}],\"parcoords\":[{\"type\":\"parcoords\",\"line\":{\"colorbar\":{\"outlinewidth\":0,\"ticks\":\"\"}}}],\"scatterpolargl\":[{\"type\":\"scatterpolargl\",\"marker\":{\"colorbar\":{\"outlinewidth\":0,\"ticks\":\"\"}}}],\"bar\":[{\"error_x\":{\"color\":\"#2a3f5f\"},\"error_y\":{\"color\":\"#2a3f5f\"},\"marker\":{\"line\":{\"color\":\"#E5ECF6\",\"width\":0.5},\"pattern\":{\"fillmode\":\"overlay\",\"size\":10,\"solidity\":0.2}},\"type\":\"bar\"}],\"scattergeo\":[{\"type\":\"scattergeo\",\"marker\":{\"colorbar\":{\"outlinewidth\":0,\"ticks\":\"\"}}}],\"scatterpolar\":[{\"type\":\"scatterpolar\",\"marker\":{\"colorbar\":{\"outlinewidth\":0,\"ticks\":\"\"}}}],\"histogram\":[{\"marker\":{\"pattern\":{\"fillmode\":\"overlay\",\"size\":10,\"solidity\":0.2}},\"type\":\"histogram\"}],\"scattergl\":[{\"type\":\"scattergl\",\"marker\":{\"colorbar\":{\"outlinewidth\":0,\"ticks\":\"\"}}}],\"scatter3d\":[{\"type\":\"scatter3d\",\"line\":{\"colorbar\":{\"outlinewidth\":0,\"ticks\":\"\"}},\"marker\":{\"colorbar\":{\"outlinewidth\":0,\"ticks\":\"\"}}}],\"scattermapbox\":[{\"type\":\"scattermapbox\",\"marker\":{\"colorbar\":{\"outlinewidth\":0,\"ticks\":\"\"}}}],\"scatterternary\":[{\"type\":\"scatterternary\",\"marker\":{\"colorbar\":{\"outlinewidth\":0,\"ticks\":\"\"}}}],\"scattercarpet\":[{\"type\":\"scattercarpet\",\"marker\":{\"colorbar\":{\"outlinewidth\":0,\"ticks\":\"\"}}}],\"carpet\":[{\"aaxis\":{\"endlinecolor\":\"#2a3f5f\",\"gridcolor\":\"white\",\"linecolor\":\"white\",\"minorgridcolor\":\"white\",\"startlinecolor\":\"#2a3f5f\"},\"baxis\":{\"endlinecolor\":\"#2a3f5f\",\"gridcolor\":\"white\",\"linecolor\":\"white\",\"minorgridcolor\":\"white\",\"startlinecolor\":\"#2a3f5f\"},\"type\":\"carpet\"}],\"table\":[{\"cells\":{\"fill\":{\"color\":\"#EBF0F8\"},\"line\":{\"color\":\"white\"}},\"header\":{\"fill\":{\"color\":\"#C8D4E3\"},\"line\":{\"color\":\"white\"}},\"type\":\"table\"}],\"barpolar\":[{\"marker\":{\"line\":{\"color\":\"#E5ECF6\",\"width\":0.5},\"pattern\":{\"fillmode\":\"overlay\",\"size\":10,\"solidity\":0.2}},\"type\":\"barpolar\"}],\"pie\":[{\"automargin\":true,\"type\":\"pie\"}]},\"layout\":{\"autotypenumbers\":\"strict\",\"colorway\":[\"#636efa\",\"#EF553B\",\"#00cc96\",\"#ab63fa\",\"#FFA15A\",\"#19d3f3\",\"#FF6692\",\"#B6E880\",\"#FF97FF\",\"#FECB52\"],\"font\":{\"color\":\"#2a3f5f\"},\"hovermode\":\"closest\",\"hoverlabel\":{\"align\":\"left\"},\"paper_bgcolor\":\"white\",\"plot_bgcolor\":\"#E5ECF6\",\"polar\":{\"bgcolor\":\"#E5ECF6\",\"angularaxis\":{\"gridcolor\":\"white\",\"linecolor\":\"white\",\"ticks\":\"\"},\"radialaxis\":{\"gridcolor\":\"white\",\"linecolor\":\"white\",\"ticks\":\"\"}},\"ternary\":{\"bgcolor\":\"#E5ECF6\",\"aaxis\":{\"gridcolor\":\"white\",\"linecolor\":\"white\",\"ticks\":\"\"},\"baxis\":{\"gridcolor\":\"white\",\"linecolor\":\"white\",\"ticks\":\"\"},\"caxis\":{\"gridcolor\":\"white\",\"linecolor\":\"white\",\"ticks\":\"\"}},\"coloraxis\":{\"colorbar\":{\"outlinewidth\":0,\"ticks\":\"\"}},\"colorscale\":{\"sequential\":[[0.0,\"#0d0887\"],[0.1111111111111111,\"#46039f\"],[0.2222222222222222,\"#7201a8\"],[0.3333333333333333,\"#9c179e\"],[0.4444444444444444,\"#bd3786\"],[0.5555555555555556,\"#d8576b\"],[0.6666666666666666,\"#ed7953\"],[0.7777777777777778,\"#fb9f3a\"],[0.8888888888888888,\"#fdca26\"],[1.0,\"#f0f921\"]],\"sequentialminus\":[[0.0,\"#0d0887\"],[0.1111111111111111,\"#46039f\"],[0.2222222222222222,\"#7201a8\"],[0.3333333333333333,\"#9c179e\"],[0.4444444444444444,\"#bd3786\"],[0.5555555555555556,\"#d8576b\"],[0.6666666666666666,\"#ed7953\"],[0.7777777777777778,\"#fb9f3a\"],[0.8888888888888888,\"#fdca26\"],[1.0,\"#f0f921\"]],\"diverging\":[[0,\"#8e0152\"],[0.1,\"#c51b7d\"],[0.2,\"#de77ae\"],[0.3,\"#f1b6da\"],[0.4,\"#fde0ef\"],[0.5,\"#f7f7f7\"],[0.6,\"#e6f5d0\"],[0.7,\"#b8e186\"],[0.8,\"#7fbc41\"],[0.9,\"#4d9221\"],[1,\"#276419\"]]},\"xaxis\":{\"gridcolor\":\"white\",\"linecolor\":\"white\",\"ticks\":\"\",\"title\":{\"standoff\":15},\"zerolinecolor\":\"white\",\"automargin\":true,\"zerolinewidth\":2},\"yaxis\":{\"gridcolor\":\"white\",\"linecolor\":\"white\",\"ticks\":\"\",\"title\":{\"standoff\":15},\"zerolinecolor\":\"white\",\"automargin\":true,\"zerolinewidth\":2},\"scene\":{\"xaxis\":{\"backgroundcolor\":\"#E5ECF6\",\"gridcolor\":\"white\",\"linecolor\":\"white\",\"showbackground\":true,\"ticks\":\"\",\"zerolinecolor\":\"white\",\"gridwidth\":2},\"yaxis\":{\"backgroundcolor\":\"#E5ECF6\",\"gridcolor\":\"white\",\"linecolor\":\"white\",\"showbackground\":true,\"ticks\":\"\",\"zerolinecolor\":\"white\",\"gridwidth\":2},\"zaxis\":{\"backgroundcolor\":\"#E5ECF6\",\"gridcolor\":\"white\",\"linecolor\":\"white\",\"showbackground\":true,\"ticks\":\"\",\"zerolinecolor\":\"white\",\"gridwidth\":2}},\"shapedefaults\":{\"line\":{\"color\":\"#2a3f5f\"}},\"annotationdefaults\":{\"arrowcolor\":\"#2a3f5f\",\"arrowhead\":0,\"arrowwidth\":1},\"geo\":{\"bgcolor\":\"white\",\"landcolor\":\"#E5ECF6\",\"subunitcolor\":\"white\",\"showland\":true,\"showlakes\":true,\"lakecolor\":\"white\"},\"title\":{\"x\":0.05},\"mapbox\":{\"style\":\"light\"}}},\"title\":{\"text\":\"Stop loss example with synthetic data portfolio value\"},\"height\":800,\"yaxis\":{\"title\":{\"text\":\"Value $\"},\"showgrid\":false},\"xaxis\":{\"rangeslider\":{\"visible\":false}},\"legend\":{\"orientation\":\"h\",\"yanchor\":\"bottom\",\"y\":1.02,\"xanchor\":\"right\",\"x\":1}},                        {\"responsive\": true}                    ).then(function(){\n                            \nvar gd = document.getElementById('8af73379-4901-47e7-89d3-8a2dfff78c80');\nvar x = new MutationObserver(function (mutations, observer) {{\n        var display = window.getComputedStyle(gd).display;\n        if (!display || display === 'none') {{\n            console.log([gd, 'removed!']);\n            Plotly.purge(gd);\n            observer.disconnect();\n        }}\n}});\n\n// Listen for the removal of the full notebook cells\nvar notebookContainer = gd.closest('#notebook-container');\nif (notebookContainer) {{\n    x.observe(notebookContainer, {childList: true});\n}}\n\n// Listen for the clearing of the current output cell\nvar outputEl = gd.closest('.output');\nif (outputEl) {{\n    x.observe(outputEl, {childList: true});\n}}\n\n                        })                };                });            </script>        </div>"
     },
     "metadata": {},
     "output_type": "display_data"
    }
   ],
   "source": [
    "from tradeexecutor.visual.benchmark import visualise_benchmark\n",
    "\n",
    "traded_pair = universe.universe.pairs.get_single()\n",
    "\n",
    "fig = visualise_benchmark(\n",
    "    state.name,\n",
    "    portfolio_statistics=state.stats.portfolio,\n",
    "    all_cash=state.portfolio.get_initial_deposit(),\n",
    "    buy_and_hold_asset_name=traded_pair.base_token_symbol,\n",
    "    buy_and_hold_price_series=universe.universe.candles.get_single_pair_data()[\"close\"],\n",
    ")\n",
    "\n",
    "fig.show()"
   ],
   "metadata": {
    "collapsed": false
   }
  },
  {
   "cell_type": "markdown",
   "source": [
    "## Analysing  the strategy success\n",
    "\n",
    "Here we calculate statistics on how well the strategy performed.\n",
    "\n",
    "- Won/lost trades\n",
    "- Timeline of taken positions with color coding of trade performance\n"
   ],
   "metadata": {
    "collapsed": false
   }
  },
  {
   "cell_type": "code",
   "execution_count": 21,
   "outputs": [],
   "source": [
    "from tradeexecutor.analysis.trade_analyser import build_trade_analysis\n",
    "\n",
    "analysis = build_trade_analysis(state.portfolio)"
   ],
   "metadata": {
    "collapsed": false
   }
  },
  {
   "cell_type": "markdown",
   "source": [
    "### Strategy summary\n",
    "\n",
    "Overview of strategy performance\n",
    "\n"
   ],
   "metadata": {
    "collapsed": false
   }
  },
  {
   "cell_type": "code",
   "execution_count": 22,
   "outputs": [
    {
     "data": {
      "text/plain": "                                                 0\nTrading period length                     180 days\nReturn %                                    -1.36%\nAnnualised return %                         -2.77%\nCash at start                           $10,000.00\nValue at end                             $9,863.51\nTrade win percent                           25.00%\nTotal trades done                               16\nWon trades                                       4\nLost trades                                     12\nStop losses triggered                           10\nStop loss % of all                          62.50%\nStop loss % of lost                         83.33%\nZero profit trades                               0\nPositions open at the end                        0\nRealised profit and loss                  $-136.49\nPortfolio unrealised value                   $0.00\nExtra returns on lending pool interest       $0.00\nCash left at the end                     $9,863.51",
      "text/html": "<div>\n<style scoped>\n    .dataframe tbody tr th:only-of-type {\n        vertical-align: middle;\n    }\n\n    .dataframe tbody tr th {\n        vertical-align: top;\n    }\n\n    .dataframe thead th {\n        text-align: right;\n    }\n</style>\n<table border=\"1\" class=\"dataframe\">\n  <thead>\n    <tr style=\"text-align: right;\">\n      <th></th>\n      <th>0</th>\n    </tr>\n  </thead>\n  <tbody>\n    <tr>\n      <th>Trading period length</th>\n      <td>180 days</td>\n    </tr>\n    <tr>\n      <th>Return %</th>\n      <td>-1.36%</td>\n    </tr>\n    <tr>\n      <th>Annualised return %</th>\n      <td>-2.77%</td>\n    </tr>\n    <tr>\n      <th>Cash at start</th>\n      <td>$10,000.00</td>\n    </tr>\n    <tr>\n      <th>Value at end</th>\n      <td>$9,863.51</td>\n    </tr>\n    <tr>\n      <th>Trade win percent</th>\n      <td>25.00%</td>\n    </tr>\n    <tr>\n      <th>Total trades done</th>\n      <td>16</td>\n    </tr>\n    <tr>\n      <th>Won trades</th>\n      <td>4</td>\n    </tr>\n    <tr>\n      <th>Lost trades</th>\n      <td>12</td>\n    </tr>\n    <tr>\n      <th>Stop losses triggered</th>\n      <td>10</td>\n    </tr>\n    <tr>\n      <th>Stop loss % of all</th>\n      <td>62.50%</td>\n    </tr>\n    <tr>\n      <th>Stop loss % of lost</th>\n      <td>83.33%</td>\n    </tr>\n    <tr>\n      <th>Zero profit trades</th>\n      <td>0</td>\n    </tr>\n    <tr>\n      <th>Positions open at the end</th>\n      <td>0</td>\n    </tr>\n    <tr>\n      <th>Realised profit and loss</th>\n      <td>$-136.49</td>\n    </tr>\n    <tr>\n      <th>Portfolio unrealised value</th>\n      <td>$0.00</td>\n    </tr>\n    <tr>\n      <th>Extra returns on lending pool interest</th>\n      <td>$0.00</td>\n    </tr>\n    <tr>\n      <th>Cash left at the end</th>\n      <td>$9,863.51</td>\n    </tr>\n  </tbody>\n</table>\n</div>"
     },
     "metadata": {},
     "output_type": "display_data"
    }
   ],
   "source": [
    "from IPython.core.display_functions import display\n",
    "\n",
    "summary = analysis.calculate_summary_statistics()\n",
    "\n",
    "with pd.option_context(\"display.max_row\", None):\n",
    "    display(summary.to_dataframe())"
   ],
   "metadata": {
    "collapsed": false
   }
  },
  {
   "cell_type": "markdown",
   "source": [
    "### Position and trade timeline\n",
    "\n",
    "Display all positions and how much profit they made.\n",
    "\n"
   ],
   "metadata": {
    "collapsed": false
   }
  },
  {
   "cell_type": "code",
   "execution_count": 23,
   "outputs": [
    {
     "data": {
      "text/plain": "<pandas.io.formats.style.Styler at 0x1514bead0>",
      "text/html": "<style type=\"text/css\">\n#T_d614a td.col2 {\n  white-space: nowrap;\n}\n#T_d614a td.col4 {\n  white-space: nowrap;\n}\n#T_d614a_row0_col1, #T_d614a_row0_col2, #T_d614a_row0_col3, #T_d614a_row0_col4, #T_d614a_row0_col5, #T_d614a_row0_col6, #T_d614a_row0_col7, #T_d614a_row0_col8, #T_d614a_row0_col9, #T_d614a_row0_col11, #T_d614a_row0_col12, #T_d614a_row0_col13, #T_d614a_row8_col1, #T_d614a_row8_col2, #T_d614a_row8_col3, #T_d614a_row8_col4, #T_d614a_row8_col5, #T_d614a_row8_col6, #T_d614a_row8_col7, #T_d614a_row8_col8, #T_d614a_row8_col9, #T_d614a_row8_col11, #T_d614a_row8_col12, #T_d614a_row8_col13 {\n  background-color: LightSalmon;\n}\n#T_d614a_row1_col1, #T_d614a_row1_col2, #T_d614a_row1_col3, #T_d614a_row1_col4, #T_d614a_row1_col5, #T_d614a_row1_col6, #T_d614a_row1_col7, #T_d614a_row1_col8, #T_d614a_row1_col9, #T_d614a_row1_col11, #T_d614a_row1_col12, #T_d614a_row1_col13, #T_d614a_row2_col1, #T_d614a_row2_col2, #T_d614a_row2_col3, #T_d614a_row2_col4, #T_d614a_row2_col5, #T_d614a_row2_col6, #T_d614a_row2_col7, #T_d614a_row2_col8, #T_d614a_row2_col9, #T_d614a_row2_col11, #T_d614a_row2_col12, #T_d614a_row2_col13, #T_d614a_row3_col1, #T_d614a_row3_col2, #T_d614a_row3_col3, #T_d614a_row3_col4, #T_d614a_row3_col5, #T_d614a_row3_col6, #T_d614a_row3_col7, #T_d614a_row3_col8, #T_d614a_row3_col9, #T_d614a_row3_col11, #T_d614a_row3_col12, #T_d614a_row3_col13, #T_d614a_row5_col1, #T_d614a_row5_col2, #T_d614a_row5_col3, #T_d614a_row5_col4, #T_d614a_row5_col5, #T_d614a_row5_col6, #T_d614a_row5_col7, #T_d614a_row5_col8, #T_d614a_row5_col9, #T_d614a_row5_col11, #T_d614a_row5_col12, #T_d614a_row5_col13, #T_d614a_row7_col1, #T_d614a_row7_col2, #T_d614a_row7_col3, #T_d614a_row7_col4, #T_d614a_row7_col5, #T_d614a_row7_col6, #T_d614a_row7_col7, #T_d614a_row7_col8, #T_d614a_row7_col9, #T_d614a_row7_col11, #T_d614a_row7_col12, #T_d614a_row7_col13, #T_d614a_row9_col1, #T_d614a_row9_col2, #T_d614a_row9_col3, #T_d614a_row9_col4, #T_d614a_row9_col5, #T_d614a_row9_col6, #T_d614a_row9_col7, #T_d614a_row9_col8, #T_d614a_row9_col9, #T_d614a_row9_col11, #T_d614a_row9_col12, #T_d614a_row9_col13, #T_d614a_row10_col1, #T_d614a_row10_col2, #T_d614a_row10_col3, #T_d614a_row10_col4, #T_d614a_row10_col5, #T_d614a_row10_col6, #T_d614a_row10_col7, #T_d614a_row10_col8, #T_d614a_row10_col9, #T_d614a_row10_col11, #T_d614a_row10_col12, #T_d614a_row10_col13, #T_d614a_row13_col1, #T_d614a_row13_col2, #T_d614a_row13_col3, #T_d614a_row13_col4, #T_d614a_row13_col5, #T_d614a_row13_col6, #T_d614a_row13_col7, #T_d614a_row13_col8, #T_d614a_row13_col9, #T_d614a_row13_col11, #T_d614a_row13_col12, #T_d614a_row13_col13, #T_d614a_row14_col1, #T_d614a_row14_col2, #T_d614a_row14_col3, #T_d614a_row14_col4, #T_d614a_row14_col5, #T_d614a_row14_col6, #T_d614a_row14_col7, #T_d614a_row14_col8, #T_d614a_row14_col9, #T_d614a_row14_col11, #T_d614a_row14_col12, #T_d614a_row14_col13, #T_d614a_row15_col1, #T_d614a_row15_col2, #T_d614a_row15_col3, #T_d614a_row15_col4, #T_d614a_row15_col5, #T_d614a_row15_col6, #T_d614a_row15_col7, #T_d614a_row15_col8, #T_d614a_row15_col9, #T_d614a_row15_col11, #T_d614a_row15_col12, #T_d614a_row15_col13 {\n  background-color: Salmon;\n}\n#T_d614a_row4_col1, #T_d614a_row4_col2, #T_d614a_row4_col3, #T_d614a_row4_col4, #T_d614a_row4_col5, #T_d614a_row4_col6, #T_d614a_row4_col7, #T_d614a_row4_col8, #T_d614a_row4_col9, #T_d614a_row4_col11, #T_d614a_row4_col12, #T_d614a_row4_col13 {\n  background-color: PaleGreen;\n}\n#T_d614a_row6_col1, #T_d614a_row6_col2, #T_d614a_row6_col3, #T_d614a_row6_col4, #T_d614a_row6_col5, #T_d614a_row6_col6, #T_d614a_row6_col7, #T_d614a_row6_col8, #T_d614a_row6_col9, #T_d614a_row6_col11, #T_d614a_row6_col12, #T_d614a_row6_col13, #T_d614a_row11_col1, #T_d614a_row11_col2, #T_d614a_row11_col3, #T_d614a_row11_col4, #T_d614a_row11_col5, #T_d614a_row11_col6, #T_d614a_row11_col7, #T_d614a_row11_col8, #T_d614a_row11_col9, #T_d614a_row11_col11, #T_d614a_row11_col12, #T_d614a_row11_col13, #T_d614a_row12_col1, #T_d614a_row12_col2, #T_d614a_row12_col3, #T_d614a_row12_col4, #T_d614a_row12_col5, #T_d614a_row12_col6, #T_d614a_row12_col7, #T_d614a_row12_col8, #T_d614a_row12_col9, #T_d614a_row12_col11, #T_d614a_row12_col12, #T_d614a_row12_col13 {\n  background-color: LawnGreen;\n}\n</style>\n<table id=\"T_d614a\">\n  <thead>\n    <tr>\n      <th id=\"T_d614a_level0_col1\" class=\"col_heading level0 col1\" >Remarks</th>\n      <th id=\"T_d614a_level0_col2\" class=\"col_heading level0 col2\" >Opened at</th>\n      <th id=\"T_d614a_level0_col3\" class=\"col_heading level0 col3\" >Duration</th>\n      <th id=\"T_d614a_level0_col4\" class=\"col_heading level0 col4\" >Exchange</th>\n      <th id=\"T_d614a_level0_col5\" class=\"col_heading level0 col5\" >Base asset</th>\n      <th id=\"T_d614a_level0_col6\" class=\"col_heading level0 col6\" >Quote asset</th>\n      <th id=\"T_d614a_level0_col7\" class=\"col_heading level0 col7\" >Position max size</th>\n      <th id=\"T_d614a_level0_col8\" class=\"col_heading level0 col8\" >PnL USD</th>\n      <th id=\"T_d614a_level0_col9\" class=\"col_heading level0 col9\" >PnL %</th>\n      <th id=\"T_d614a_level0_col11\" class=\"col_heading level0 col11\" >Open price USD</th>\n      <th id=\"T_d614a_level0_col12\" class=\"col_heading level0 col12\" >Close price USD</th>\n      <th id=\"T_d614a_level0_col13\" class=\"col_heading level0 col13\" >Trade count</th>\n    </tr>\n  </thead>\n  <tbody>\n    <tr>\n      <td id=\"T_d614a_row0_col1\" class=\"data row0 col1\" ></td>\n      <td id=\"T_d614a_row0_col2\" class=\"data row0 col2\" >2021-07-02</td>\n      <td id=\"T_d614a_row0_col3\" class=\"data row0 col3\" >7 days      </td>\n      <td id=\"T_d614a_row0_col4\" class=\"data row0 col4\" ></td>\n      <td id=\"T_d614a_row0_col5\" class=\"data row0 col5\" >WETH</td>\n      <td id=\"T_d614a_row0_col6\" class=\"data row0 col6\" >USDC</td>\n      <td id=\"T_d614a_row0_col7\" class=\"data row0 col7\" >$1,979.71</td>\n      <td id=\"T_d614a_row0_col8\" class=\"data row0 col8\" >$-20.29</td>\n      <td id=\"T_d614a_row0_col9\" class=\"data row0 col9\" >-2.03%</td>\n      <td id=\"T_d614a_row0_col11\" class=\"data row0 col11\" >$1,332.520800</td>\n      <td id=\"T_d614a_row0_col12\" class=\"data row0 col12\" >$1,305.480482</td>\n      <td id=\"T_d614a_row0_col13\" class=\"data row0 col13\" >2</td>\n    </tr>\n    <tr>\n      <td id=\"T_d614a_row1_col1\" class=\"data row1 col1\" >SL</td>\n      <td id=\"T_d614a_row1_col2\" class=\"data row1 col2\" >2021-07-10</td>\n      <td id=\"T_d614a_row1_col3\" class=\"data row1 col3\" >1 days      </td>\n      <td id=\"T_d614a_row1_col4\" class=\"data row1 col4\" ></td>\n      <td id=\"T_d614a_row1_col5\" class=\"data row1 col5\" >WETH</td>\n      <td id=\"T_d614a_row1_col6\" class=\"data row1 col6\" >USDC</td>\n      <td id=\"T_d614a_row1_col7\" class=\"data row1 col7\" >$1,922.67</td>\n      <td id=\"T_d614a_row1_col8\" class=\"data row1 col8\" >$-73.27</td>\n      <td id=\"T_d614a_row1_col9\" class=\"data row1 col9\" >-7.34%</td>\n      <td id=\"T_d614a_row1_col11\" class=\"data row1 col11\" >$1,422.375147</td>\n      <td id=\"T_d614a_row1_col12\" class=\"data row1 col12\" >$1,317.944182</td>\n      <td id=\"T_d614a_row1_col13\" class=\"data row1 col13\" >2</td>\n    </tr>\n    <tr>\n      <td id=\"T_d614a_row2_col1\" class=\"data row2 col1\" >SL</td>\n      <td id=\"T_d614a_row2_col2\" class=\"data row2 col2\" >2021-08-01</td>\n      <td id=\"T_d614a_row2_col3\" class=\"data row2 col3\" >4 days      </td>\n      <td id=\"T_d614a_row2_col4\" class=\"data row2 col4\" ></td>\n      <td id=\"T_d614a_row2_col5\" class=\"data row2 col5\" >WETH</td>\n      <td id=\"T_d614a_row2_col6\" class=\"data row2 col6\" >USDC</td>\n      <td id=\"T_d614a_row2_col7\" class=\"data row2 col7\" >$1,903.89</td>\n      <td id=\"T_d614a_row2_col8\" class=\"data row2 col8\" >$-77.40</td>\n      <td id=\"T_d614a_row2_col9\" class=\"data row2 col9\" >-7.81%</td>\n      <td id=\"T_d614a_row2_col11\" class=\"data row2 col11\" >$920.391923</td>\n      <td id=\"T_d614a_row2_col12\" class=\"data row2 col12\" >$848.479443</td>\n      <td id=\"T_d614a_row2_col13\" class=\"data row2 col13\" >2</td>\n    </tr>\n    <tr>\n      <td id=\"T_d614a_row3_col1\" class=\"data row3 col1\" >SL</td>\n      <td id=\"T_d614a_row3_col2\" class=\"data row3 col2\" >2021-08-10</td>\n      <td id=\"T_d614a_row3_col3\" class=\"data row3 col3\" >2 days      </td>\n      <td id=\"T_d614a_row3_col4\" class=\"data row3 col4\" ></td>\n      <td id=\"T_d614a_row3_col5\" class=\"data row3 col5\" >WETH</td>\n      <td id=\"T_d614a_row3_col6\" class=\"data row3 col6\" >USDC</td>\n      <td id=\"T_d614a_row3_col7\" class=\"data row3 col7\" >$1,915.40</td>\n      <td id=\"T_d614a_row3_col8\" class=\"data row3 col8\" >$-50.41</td>\n      <td id=\"T_d614a_row3_col9\" class=\"data row3 col9\" >-5.13%</td>\n      <td id=\"T_d614a_row3_col11\" class=\"data row3 col11\" >$920.035204</td>\n      <td id=\"T_d614a_row3_col12\" class=\"data row3 col12\" >$872.850159</td>\n      <td id=\"T_d614a_row3_col13\" class=\"data row3 col13\" >2</td>\n    </tr>\n    <tr>\n      <td id=\"T_d614a_row4_col1\" class=\"data row4 col1\" ></td>\n      <td id=\"T_d614a_row4_col2\" class=\"data row4 col2\" >2021-08-13</td>\n      <td id=\"T_d614a_row4_col3\" class=\"data row4 col3\" >5 days      </td>\n      <td id=\"T_d614a_row4_col4\" class=\"data row4 col4\" ></td>\n      <td id=\"T_d614a_row4_col5\" class=\"data row4 col5\" >WETH</td>\n      <td id=\"T_d614a_row4_col6\" class=\"data row4 col6\" >USDC</td>\n      <td id=\"T_d614a_row4_col7\" class=\"data row4 col7\" >$1,967.17</td>\n      <td id=\"T_d614a_row4_col8\" class=\"data row4 col8\" >$11.45</td>\n      <td id=\"T_d614a_row4_col9\" class=\"data row4 col9\" >1.17%</td>\n      <td id=\"T_d614a_row4_col11\" class=\"data row4 col11\" >$931.897743</td>\n      <td id=\"T_d614a_row4_col12\" class=\"data row4 col12\" >$942.808639</td>\n      <td id=\"T_d614a_row4_col13\" class=\"data row4 col13\" >2</td>\n    </tr>\n    <tr>\n      <td id=\"T_d614a_row5_col1\" class=\"data row5 col1\" >SL</td>\n      <td id=\"T_d614a_row5_col2\" class=\"data row5 col2\" >2021-08-22</td>\n      <td id=\"T_d614a_row5_col3\" class=\"data row5 col3\" >1 days      </td>\n      <td id=\"T_d614a_row5_col4\" class=\"data row5 col4\" ></td>\n      <td id=\"T_d614a_row5_col5\" class=\"data row5 col5\" >WETH</td>\n      <td id=\"T_d614a_row5_col6\" class=\"data row5 col6\" >USDC</td>\n      <td id=\"T_d614a_row5_col7\" class=\"data row5 col7\" >$1,889.49</td>\n      <td id=\"T_d614a_row5_col8\" class=\"data row5 col8\" >$-68.52</td>\n      <td id=\"T_d614a_row5_col9\" class=\"data row5 col9\" >-7.00%</td>\n      <td id=\"T_d614a_row5_col11\" class=\"data row5 col11\" >$932.583002</td>\n      <td id=\"T_d614a_row5_col12\" class=\"data row5 col12\" >$867.310327</td>\n      <td id=\"T_d614a_row5_col13\" class=\"data row5 col13\" >2</td>\n    </tr>\n    <tr>\n      <td id=\"T_d614a_row6_col1\" class=\"data row6 col1\" ></td>\n      <td id=\"T_d614a_row6_col2\" class=\"data row6 col2\" >2021-08-24</td>\n      <td id=\"T_d614a_row6_col3\" class=\"data row6 col3\" >21 days      </td>\n      <td id=\"T_d614a_row6_col4\" class=\"data row6 col4\" ></td>\n      <td id=\"T_d614a_row6_col5\" class=\"data row6 col5\" >WETH</td>\n      <td id=\"T_d614a_row6_col6\" class=\"data row6 col6\" >USDC</td>\n      <td id=\"T_d614a_row6_col7\" class=\"data row6 col7\" >$2,293.88</td>\n      <td id=\"T_d614a_row6_col8\" class=\"data row6 col8\" >$349.57</td>\n      <td id=\"T_d614a_row6_col9\" class=\"data row6 col9\" >35.96%</td>\n      <td id=\"T_d614a_row6_col11\" class=\"data row6 col11\" >$977.918680</td>\n      <td id=\"T_d614a_row6_col12\" class=\"data row6 col12\" >$1,329.558369</td>\n      <td id=\"T_d614a_row6_col13\" class=\"data row6 col13\" >2</td>\n    </tr>\n    <tr>\n      <td id=\"T_d614a_row7_col1\" class=\"data row7 col1\" >SL</td>\n      <td id=\"T_d614a_row7_col2\" class=\"data row7 col2\" >2021-09-21</td>\n      <td id=\"T_d614a_row7_col3\" class=\"data row7 col3\" >3 days      </td>\n      <td id=\"T_d614a_row7_col4\" class=\"data row7 col4\" ></td>\n      <td id=\"T_d614a_row7_col5\" class=\"data row7 col5\" >WETH</td>\n      <td id=\"T_d614a_row7_col6\" class=\"data row7 col6\" >USDC</td>\n      <td id=\"T_d614a_row7_col7\" class=\"data row7 col7\" >$1,961.62</td>\n      <td id=\"T_d614a_row7_col8\" class=\"data row7 col8\" >$-52.60</td>\n      <td id=\"T_d614a_row7_col9\" class=\"data row7 col9\" >-5.22%</td>\n      <td id=\"T_d614a_row7_col11\" class=\"data row7 col11\" >$1,394.883681</td>\n      <td id=\"T_d614a_row7_col12\" class=\"data row7 col12\" >$1,322.030961</td>\n      <td id=\"T_d614a_row7_col13\" class=\"data row7 col13\" >2</td>\n    </tr>\n    <tr>\n      <td id=\"T_d614a_row8_col1\" class=\"data row8 col1\" ></td>\n      <td id=\"T_d614a_row8_col2\" class=\"data row8 col2\" >2021-09-25</td>\n      <td id=\"T_d614a_row8_col3\" class=\"data row8 col3\" >8 days      </td>\n      <td id=\"T_d614a_row8_col4\" class=\"data row8 col4\" ></td>\n      <td id=\"T_d614a_row8_col5\" class=\"data row8 col5\" >WETH</td>\n      <td id=\"T_d614a_row8_col6\" class=\"data row8 col6\" >USDC</td>\n      <td id=\"T_d614a_row8_col7\" class=\"data row8 col7\" >$1,962.05</td>\n      <td id=\"T_d614a_row8_col8\" class=\"data row8 col8\" >$-41.65</td>\n      <td id=\"T_d614a_row8_col9\" class=\"data row8 col9\" >-4.16%</td>\n      <td id=\"T_d614a_row8_col11\" class=\"data row8 col11\" >$1,484.845169</td>\n      <td id=\"T_d614a_row8_col12\" class=\"data row8 col12\" >$1,423.109061</td>\n      <td id=\"T_d614a_row8_col13\" class=\"data row8 col13\" >2</td>\n    </tr>\n    <tr>\n      <td id=\"T_d614a_row9_col1\" class=\"data row9 col1\" >SL</td>\n      <td id=\"T_d614a_row9_col2\" class=\"data row9 col2\" >2021-10-29</td>\n      <td id=\"T_d614a_row9_col3\" class=\"data row9 col3\" >1 days      </td>\n      <td id=\"T_d614a_row9_col4\" class=\"data row9 col4\" ></td>\n      <td id=\"T_d614a_row9_col5\" class=\"data row9 col5\" >WETH</td>\n      <td id=\"T_d614a_row9_col6\" class=\"data row9 col6\" >USDC</td>\n      <td id=\"T_d614a_row9_col7\" class=\"data row9 col7\" >$1,943.13</td>\n      <td id=\"T_d614a_row9_col8\" class=\"data row9 col8\" >$-52.25</td>\n      <td id=\"T_d614a_row9_col9\" class=\"data row9 col9\" >-5.24%</td>\n      <td id=\"T_d614a_row9_col11\" class=\"data row9 col11\" >$1,041.338797</td>\n      <td id=\"T_d614a_row9_col12\" class=\"data row9 col12\" >$986.805607</td>\n      <td id=\"T_d614a_row9_col13\" class=\"data row9 col13\" >2</td>\n    </tr>\n    <tr>\n      <td id=\"T_d614a_row10_col1\" class=\"data row10 col1\" >SL</td>\n      <td id=\"T_d614a_row10_col2\" class=\"data row10 col2\" >2021-10-30</td>\n      <td id=\"T_d614a_row10_col3\" class=\"data row10 col3\" >4 days      </td>\n      <td id=\"T_d614a_row10_col4\" class=\"data row10 col4\" ></td>\n      <td id=\"T_d614a_row10_col5\" class=\"data row10 col5\" >WETH</td>\n      <td id=\"T_d614a_row10_col6\" class=\"data row10 col6\" >USDC</td>\n      <td id=\"T_d614a_row10_col7\" class=\"data row10 col7\" >$1,913.20</td>\n      <td id=\"T_d614a_row10_col8\" class=\"data row10 col8\" >$-71.72</td>\n      <td id=\"T_d614a_row10_col9\" class=\"data row10 col9\" >-7.23%</td>\n      <td id=\"T_d614a_row10_col11\" class=\"data row10 col11\" >$986.814488</td>\n      <td id=\"T_d614a_row10_col12\" class=\"data row10 col12\" >$915.498112</td>\n      <td id=\"T_d614a_row10_col13\" class=\"data row10 col13\" >2</td>\n    </tr>\n    <tr>\n      <td id=\"T_d614a_row11_col1\" class=\"data row11 col1\" ></td>\n      <td id=\"T_d614a_row11_col2\" class=\"data row11 col2\" >2021-11-08</td>\n      <td id=\"T_d614a_row11_col3\" class=\"data row11 col3\" >11 days      </td>\n      <td id=\"T_d614a_row11_col4\" class=\"data row11 col4\" ></td>\n      <td id=\"T_d614a_row11_col5\" class=\"data row11 col5\" >WETH</td>\n      <td id=\"T_d614a_row11_col6\" class=\"data row11 col6\" >USDC</td>\n      <td id=\"T_d614a_row11_col7\" class=\"data row11 col7\" >$2,112.44</td>\n      <td id=\"T_d614a_row11_col8\" class=\"data row11 col8\" >$141.86</td>\n      <td id=\"T_d614a_row11_col9\" class=\"data row11 col9\" >14.40%</td>\n      <td id=\"T_d614a_row11_col11\" class=\"data row11 col11\" >$973.483079</td>\n      <td id=\"T_d614a_row11_col12\" class=\"data row11 col12\" >$1,113.640637</td>\n      <td id=\"T_d614a_row11_col13\" class=\"data row11 col13\" >2</td>\n    </tr>\n    <tr>\n      <td id=\"T_d614a_row12_col1\" class=\"data row12 col1\" ></td>\n      <td id=\"T_d614a_row12_col2\" class=\"data row12 col2\" >2021-11-20</td>\n      <td id=\"T_d614a_row12_col3\" class=\"data row12 col3\" >20 days      </td>\n      <td id=\"T_d614a_row12_col4\" class=\"data row12 col4\" ></td>\n      <td id=\"T_d614a_row12_col5\" class=\"data row12 col5\" >WETH</td>\n      <td id=\"T_d614a_row12_col6\" class=\"data row12 col6\" >USDC</td>\n      <td id=\"T_d614a_row12_col7\" class=\"data row12 col7\" >$2,189.62</td>\n      <td id=\"T_d614a_row12_col8\" class=\"data row12 col8\" >$190.67</td>\n      <td id=\"T_d614a_row12_col9\" class=\"data row12 col9\" >19.08%</td>\n      <td id=\"T_d614a_row12_col11\" class=\"data row12 col11\" >$1,146.446848</td>\n      <td id=\"T_d614a_row12_col12\" class=\"data row12 col12\" >$1,365.157856</td>\n      <td id=\"T_d614a_row12_col13\" class=\"data row12 col13\" >2</td>\n    </tr>\n    <tr>\n      <td id=\"T_d614a_row13_col1\" class=\"data row13 col1\" >SL</td>\n      <td id=\"T_d614a_row13_col2\" class=\"data row13 col2\" >2021-12-14</td>\n      <td id=\"T_d614a_row13_col3\" class=\"data row13 col3\" >2 days      </td>\n      <td id=\"T_d614a_row13_col4\" class=\"data row13 col4\" ></td>\n      <td id=\"T_d614a_row13_col5\" class=\"data row13 col5\" >WETH</td>\n      <td id=\"T_d614a_row13_col6\" class=\"data row13 col6\" >USDC</td>\n      <td id=\"T_d614a_row13_col7\" class=\"data row13 col7\" >$1,967.18</td>\n      <td id=\"T_d614a_row13_col8\" class=\"data row13 col8\" >$-69.91</td>\n      <td id=\"T_d614a_row13_col9\" class=\"data row13 col9\" >-6.86%</td>\n      <td id=\"T_d614a_row13_col11\" class=\"data row13 col11\" >$1,458.038819</td>\n      <td id=\"T_d614a_row13_col12\" class=\"data row13 col12\" >$1,357.968717</td>\n      <td id=\"T_d614a_row13_col13\" class=\"data row13 col13\" >2</td>\n    </tr>\n    <tr>\n      <td id=\"T_d614a_row14_col1\" class=\"data row14 col1\" >SL</td>\n      <td id=\"T_d614a_row14_col2\" class=\"data row14 col2\" >2021-12-19</td>\n      <td id=\"T_d614a_row14_col3\" class=\"data row14 col3\" >2 days      </td>\n      <td id=\"T_d614a_row14_col4\" class=\"data row14 col4\" ></td>\n      <td id=\"T_d614a_row14_col5\" class=\"data row14 col5\" >WETH</td>\n      <td id=\"T_d614a_row14_col6\" class=\"data row14 col6\" >USDC</td>\n      <td id=\"T_d614a_row14_col7\" class=\"data row14 col7\" >$1,910.21</td>\n      <td id=\"T_d614a_row14_col8\" class=\"data row14 col8\" >$-112.89</td>\n      <td id=\"T_d614a_row14_col9\" class=\"data row14 col9\" >-11.16%</td>\n      <td id=\"T_d614a_row14_col11\" class=\"data row14 col11\" >$1,532.448214</td>\n      <td id=\"T_d614a_row14_col12\" class=\"data row14 col12\" >$1,361.421323</td>\n      <td id=\"T_d614a_row14_col13\" class=\"data row14 col13\" >2</td>\n    </tr>\n    <tr>\n      <td id=\"T_d614a_row15_col1\" class=\"data row15 col1\" >SL</td>\n      <td id=\"T_d614a_row15_col2\" class=\"data row15 col2\" >2021-12-22</td>\n      <td id=\"T_d614a_row15_col3\" class=\"data row15 col3\" >7 days      </td>\n      <td id=\"T_d614a_row15_col4\" class=\"data row15 col4\" ></td>\n      <td id=\"T_d614a_row15_col5\" class=\"data row15 col5\" >WETH</td>\n      <td id=\"T_d614a_row15_col6\" class=\"data row15 col6\" >USDC</td>\n      <td id=\"T_d614a_row15_col7\" class=\"data row15 col7\" >$1,861.41</td>\n      <td id=\"T_d614a_row15_col8\" class=\"data row15 col8\" >$-139.12</td>\n      <td id=\"T_d614a_row15_col9\" class=\"data row15 col9\" >-13.91%</td>\n      <td id=\"T_d614a_row15_col11\" class=\"data row15 col11\" >$1,554.641353</td>\n      <td id=\"T_d614a_row15_col12\" class=\"data row15 col12\" >$1,338.419203</td>\n      <td id=\"T_d614a_row15_col13\" class=\"data row15 col13\" >2</td>\n    </tr>\n  </tbody>\n</table>\n"
     },
     "metadata": {},
     "output_type": "display_data"
    }
   ],
   "source": [
    "from tradeexecutor.analysis.trade_analyser import expand_timeline\n",
    "\n",
    "timeline = analysis.create_timeline()\n",
    "\n",
    "expanded_timeline, apply_styles = expand_timeline(\n",
    "        universe.universe.exchanges,\n",
    "        universe.universe.pairs,\n",
    "        timeline)\n",
    "\n",
    "# Do not truncate the row output\n",
    "with pd.option_context(\"display.max_row\", None):\n",
    "    display(apply_styles(expanded_timeline))\n"
   ],
   "metadata": {
    "collapsed": false
   }
  },
  {
   "cell_type": "markdown",
   "source": [
    "## Finishing notes\n",
    "\n",
    "Print out a line to signal the notebook finished the execution successfully."
   ],
   "metadata": {
    "collapsed": false
   }
  },
  {
   "cell_type": "code",
   "execution_count": 24,
   "outputs": [
    {
     "name": "stdout",
     "output_type": "stream",
     "text": [
      "All ok\n"
     ]
    }
   ],
   "source": [
    "print(\"All ok\")"
   ],
   "metadata": {
    "collapsed": false
   }
  }
 ],
 "metadata": {
  "kernelspec": {
   "display_name": "Python 3",
   "language": "python",
   "name": "python3"
  },
  "language_info": {
   "codemirror_mode": {
    "name": "ipython",
    "version": 2
   },
   "file_extension": ".py",
   "mimetype": "text/x-python",
   "name": "python",
   "nbconvert_exporter": "python",
   "pygments_lexer": "ipython2",
   "version": "2.7.6"
  }
 },
 "nbformat": 4,
 "nbformat_minor": 0
}
