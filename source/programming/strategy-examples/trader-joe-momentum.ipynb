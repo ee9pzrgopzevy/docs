{
 "cells": [
  {
   "attachments": {},
   "cell_type": "markdown",
   "metadata": {},
   "source": [
    "# Portfolio construction model example 2 (Trader Joe)\n",
    "\n",
    "This is an example notebook how to construct a momentum based portfolio construction strategy\n",
    "using [Trading Strategy framework](https://tradingstrategy.ai/docs/) and backtest it for DeFi tokens.\n",
    "\n",
    "This backtest uses alpha model approach where each trading pair has a signal\n",
    "and basede on the signal strenghts we construct new portfolio weightings \n",
    "for the upcoming week.\n",
    "\n",
    "Some highlights of this notebook:\n",
    "\n",
    "* **Not a realistic trading strategy, but more of an code example** - this may generate profits or loss but this is outside the scode of this example\n",
    "* Make sure you have studied some simpler backtesting examples first\n",
    "* The backtest has all its code within a single Jupyter notebook\n",
    "    - The backtest code and charts are self-contained in a single file\n",
    "    - The example code is easy to read\n",
    "* Runs a backtest for a momentum strategy\n",
    "    - Automatically chooses tokens that enter and exit market at Trader Joe DEX on Avalanche\n",
    "    - Long only    \n",
    "    - Pick top 3 tokens for each strategy cycle\n",
    "    - Based on momentum (previous week price change %)\n",
    "    - Weekly rebalances - weekly strategy cycle\n",
    "    - Supports stop loss - although not used in this example\n",
    "    - Ignore price impact, and thus may cause unrealistic results\n",
    "    - Ignore available liquidity to trade, and thus may cause unrealistic results\n",
    "    - Ignore any complications of trading assets cross chain - we assume our reserve currency USDC is good on any chain and DEX and trading pair,\n",
    "      which is not a realistic assumption\n",
    "* Demostrates statistics and performance analyses\n",
    "    - Equity curve with comparison to buy and hold ETH\n",
    "    - Alpha model \n",
    "    - Aggregated monthly performance\n",
    "* Order routing is ignored; the strategy cannot be moved to live trading as is\n",
    "    - We use the oldest available DEX price data we have: Uniswap v2, others\n",
    "    - For live trade execution, one would want to choose execution on a newer DEX with less fees\n",
    "* You need a [Trading Strategy API key](https://tradingstrategy.ai/trading-view/backtesting) to run the notebook\n",
    "* You will need a powerful computer to run this notebook (> 16GB RAM)\n",
    "\n",
    "There is also a unit test version availble in the repository in `tests/strategy_tests`.\n"
   ]
  },
  {
   "cell_type": "markdown",
   "metadata": {},
   "source": [
    "## Strategy parameter set up\n",
    "\n",
    "Set up the parameters used in in this strategy backtest study.\n",
    "\n",
    "- Backtested blockchain, exchange and trading pair\n",
    "- Backtesting period\n",
    "- Strategy parameters for EMA crossovers"
   ]
  },
  {
   "cell_type": "code",
   "execution_count": 1,
   "metadata": {
    "collapsed": false,
    "jupyter": {
     "outputs_hidden": false
    }
   },
   "outputs": [],
   "source": [
    "import datetime\n",
    "import pandas as pd\n",
    "\n",
    "from tradingstrategy.chain import ChainId\n",
    "from tradingstrategy.timebucket import TimeBucket\n",
    "from tradeexecutor.strategy.cycle import CycleDuration\n",
    "from tradeexecutor.strategy.strategy_module import StrategyType, TradeRouting, ReserveCurrency\n",
    "\n",
    "# Tell what trade execution engine version this strategy needs to use\n",
    "trading_strategy_engine_version = \"0.1\"\n",
    "\n",
    "# What kind of strategy we are running.\n",
    "# This tells we are going to use\n",
    "trading_strategy_type = StrategyType.managed_positions\n",
    "\n",
    "# How our trades are routed.\n",
    "# PancakeSwap basic routing supports two way trades with BUSD\n",
    "# and three way trades with BUSD-BNB hop.\n",
    "trade_routing = TradeRouting.ignore\n",
    "\n",
    "# Set cycle to 7 days and look back the momentum of the previous candle\n",
    "trading_strategy_cycle = CycleDuration.cycle_4d\n",
    "momentum_lookback_period = datetime.timedelta(days=2)\n",
    "\n",
    "# Hold top 3 coins for every cycle\n",
    "max_assets_in_portfolio = 5\n",
    "\n",
    "# Leave 20% cash buffer\n",
    "value_allocated_to_positions = 0.50\n",
    "\n",
    "# Set 33% stop loss over mid price\n",
    "stop_loss = 0.90\n",
    "\n",
    "# Set 5% take profit over mid price\n",
    "take_profit = 1.05\n",
    "\n",
    "# The weekly price must be up 2.5% for us to take a long position\n",
    "#minimum_mometum_threshold = 0.025\n",
    "minimum_mometum_threshold = 0.03\n",
    "\n",
    "# Don't bother with trades that would move position\n",
    "# less than 300 USD\n",
    "minimum_rebalance_trade_threshold = 300\n",
    "\n",
    "# Use hourly candles to trigger the stop loss\n",
    "stop_loss_data_granularity = TimeBucket.h1\n",
    "\n",
    "# Strategy keeps its cash in USDC\n",
    "reserve_currency = ReserveCurrency.usdc\n",
    "\n",
    "# The duration of the backtesting period\n",
    "start_at = datetime.datetime(2020, 11, 1)\n",
    "end_at = datetime.datetime(2023, 1, 31)\n",
    "\n",
    "# Start with 10,000 USD\n",
    "initial_deposit = 10_000\n"
   ]
  },
  {
   "cell_type": "markdown",
   "metadata": {},
   "source": [
    "## Strategy logic and trade decisions\n",
    "\n",
    "`decide_trades` function decide what trades to take.\n",
    "In this example, we calculate two exponential moving averages\n",
    "(EMAs) and make decisions based on those.\n"
   ]
  },
  {
   "cell_type": "code",
   "execution_count": 2,
   "metadata": {
    "collapsed": false,
    "jupyter": {
     "outputs_hidden": false
    }
   },
   "outputs": [],
   "source": [
    "from tradeexecutor.strategy.trading_strategy_universe import translate_trading_pair\n",
    "from typing import List, Dict, Counter\n",
    "\n",
    "from tradingstrategy.universe import Universe\n",
    "from tradeexecutor.strategy.weighting import weight_by_1_slash_n\n",
    "from tradeexecutor.strategy.alpha_model import AlphaModel\n",
    "from tradeexecutor.state.trade import TradeExecution\n",
    "from tradeexecutor.strategy.pricing_model import PricingModel\n",
    "from tradeexecutor.strategy.pandas_trader.position_manager import PositionManager\n",
    "from tradeexecutor.state.state import State\n",
    "\n",
    "\n",
    "def decide_trades(\n",
    "        timestamp: pd.Timestamp,\n",
    "        universe: Universe,\n",
    "        state: State,\n",
    "        pricing_model: PricingModel,\n",
    "        cycle_debug_data: Dict) -> List[TradeExecution]:\n",
    "\n",
    "    # Create a position manager helper class that allows us easily to create\n",
    "    # opening/closing trades for different positions\n",
    "    position_manager = PositionManager(timestamp, universe, state, pricing_model)\n",
    "\n",
    "    alpha_model = AlphaModel(timestamp)\n",
    "\n",
    "    # Watch out for the inclusive range and include and avoid peeking in the future\n",
    "    adjusted_timestamp = timestamp - pd.Timedelta(seconds=1)\n",
    "    start = adjusted_timestamp - momentum_lookback_period - datetime.timedelta(seconds=1)\n",
    "    end = adjusted_timestamp \n",
    "\n",
    "    candle_universe = universe.candles\n",
    "    pair_universe = universe.pairs\n",
    "\n",
    "    # Get candle data for all candles, inclusive time range\n",
    "    candle_data = candle_universe.iterate_samples_by_pair_range(start, end)\n",
    "\n",
    "    # Iterate over all candles for all pairs in this timestamp (ts)\n",
    "    for pair_id, pair_df in candle_data:\n",
    "\n",
    "        # We should have candles for range start - end,\n",
    "        # where end is the current strategy cycle timestamp \n",
    "        # and start is one week before end.\n",
    "        # Because of sparse data we may have 0, 1 or 2 candles\n",
    "        first_candle = pair_df.iloc[0]\n",
    "        last_candle = pair_df.iloc[-1]\n",
    "\n",
    "        # How many candles we are going to evaluate\n",
    "        candle_count = len(pair_df)\n",
    "\n",
    "        assert last_candle[\"timestamp\"] < timestamp, \"Something wrong with the data - we should not be able to peek the candle of the current timestamp, but always use the previous candle\"\n",
    "\n",
    "        open = last_candle[\"open\"]\n",
    "        close = last_candle[\"close\"]\n",
    "\n",
    "        # DEXPair instance contains more data than internal TradingPairIdentifier\n",
    "        # we use to store this pair across the strategy\n",
    "        dex_pair = pair_universe.get_pair_by_id(pair_id)\n",
    "        pair = translate_trading_pair(dex_pair)\n",
    "\n",
    "        available_liquidity = universe.resampled_liquidity.get_liquidity_fast(pair_id, adjusted_timestamp)\n",
    "        if available_liquidity < 100_000:\n",
    "            # Too little liquidity\n",
    "            continue\n",
    "\n",
    "        # We define momentum as how many % the trading pair price gained during\n",
    "        # the momentum window\n",
    "        momentum = (close - open) / open\n",
    "        \n",
    "        # This pair has not positive momentum,\n",
    "        # we only buy when stuff goes up\n",
    "        if momentum <= minimum_mometum_threshold:\n",
    "            continue\n",
    "\n",
    "        alpha_model.set_signal(\n",
    "            pair,\n",
    "            momentum,\n",
    "            stop_loss=stop_loss,\n",
    "            take_profit=take_profit,\n",
    "        )\n",
    "\n",
    "    # Select max_assets_in_portfolio assets in which we are going to invest\n",
    "    # Calculate a weight for ecah asset in the portfolio using 1/N method based on the raw signal\n",
    "    alpha_model.select_top_signals(max_assets_in_portfolio)\n",
    "    alpha_model.assign_weights(method=weight_by_1_slash_n)\n",
    "    alpha_model.normalise_weights()\n",
    "\n",
    "    # Load in old weight for each trading pair signal,\n",
    "    # so we can calculate the adjustment trade size\n",
    "    alpha_model.update_old_weights(state.portfolio)\n",
    "\n",
    "    # Calculate how much dollar value we want each individual position to be on this strategy cycle,\n",
    "    # based on our total available equity\n",
    "    portfolio = position_manager.get_current_portfolio()\n",
    "    portfolio_target_value = portfolio.get_total_equity() * value_allocated_to_positions\n",
    "    alpha_model.calculate_target_positions(portfolio_target_value)\n",
    "\n",
    "    # Shift portfolio from current positions to target positions\n",
    "    # determined by the alpha signals (momentum)\n",
    "    trades = alpha_model.generate_rebalance_trades_and_triggers(\n",
    "        position_manager,\n",
    "        min_trade_threshold=minimum_rebalance_trade_threshold,  # Don't bother with trades under 300 USD\n",
    "    )\n",
    "\n",
    "    # Record alpha model state so we can later visualise our alpha model thinking better\n",
    "    state.visualisation.add_calculations(timestamp, alpha_model.to_dict())\n",
    "\n",
    "    return trades\n"
   ]
  },
  {
   "cell_type": "markdown",
   "metadata": {},
   "source": [
    "## Set up the market data client\n",
    "\n",
    "The [Trading Strategy market data client](https://tradingstrategy.ai/docs/programming/api/client/index.html)\n",
    "is the Python library responsible for managing the data feeds needed to run the backtest.None\n",
    "\n",
    "We set up the market data client with an API key.\n",
    "\n",
    "[If you do not have an API key yet, you can register one](https://tradingstrategy.ai/trading-view/backtesting)."
   ]
  },
  {
   "cell_type": "code",
   "execution_count": 3,
   "metadata": {
    "collapsed": false,
    "jupyter": {
     "outputs_hidden": false
    }
   },
   "outputs": [
    {
     "name": "stdout",
     "output_type": "stream",
     "text": [
      "Started Trading Strategy in Jupyter notebook environment, configuration is stored in /Users/moo/.tradingstrategy\n"
     ]
    }
   ],
   "source": [
    "from tradingstrategy.client import Client\n",
    "\n",
    "client = Client.create_jupyter_client()"
   ]
  },
  {
   "attachments": {},
   "cell_type": "markdown",
   "metadata": {},
   "source": []
  },
  {
   "attachments": {},
   "cell_type": "markdown",
   "metadata": {},
   "source": [
    "## Setup trading universe\n",
    "\n",
    "We setup the trading universe for the backtesting.\n",
    "\n",
    "- Read in a handwritten allowed trading pair universe list\n",
    "\n",
    "- Download candle data\n",
    "\n",
    "- Print out trading pair addresses and volumes as the sanity check the pair defintions look correct\n"
   ]
  },
  {
   "cell_type": "code",
   "execution_count": 4,
   "metadata": {
    "collapsed": false,
    "jupyter": {
     "outputs_hidden": false
    }
   },
   "outputs": [
    {
     "name": "stdout",
     "output_type": "stream",
     "text": [
      "Resamping liquidity data to 1D, this may take a long time\n",
      "The trading univers has 1321 trading pairs\n"
     ]
    }
   ],
   "source": [
    "from tradingstrategy.client import Client\n",
    "\n",
    "from tradeexecutor.strategy.trading_strategy_universe import TradingStrategyUniverse, load_all_data\n",
    "from tradeexecutor.strategy.trading_strategy_universe import load_partial_data\n",
    "from tradeexecutor.strategy.execution_context import ExecutionContext\n",
    "from tradeexecutor.strategy.execution_context import ExecutionMode\n",
    "from tradeexecutor.strategy.universe_model import UniverseOptions\n",
    "from tradeexecutor.ethereum.routing_data import get_trader_joe_default_routing_parameters\n",
    "\n",
    "\n",
    "def create_trading_universe(\n",
    "        ts: datetime.datetime,\n",
    "        client: Client,\n",
    "        execution_context: ExecutionContext,\n",
    "        universe_options: UniverseOptions,\n",
    ") -> TradingStrategyUniverse:\n",
    "\n",
    "    assert not execution_context.mode.is_live_trading(), \\\n",
    "        f\"Only strategy backtesting supported, got {execution_context.mode}\"\n",
    "\n",
    "    # Load data for our trading pair whitelist\n",
    "    dataset = load_all_data(\n",
    "        client,\n",
    "        time_frame=TimeBucket.d1,\n",
    "        execution_context=execution_context,\n",
    "        universe_options=universe_options,\n",
    "        liquidity_time_frame=TimeBucket.d1,\n",
    "        stop_loss_time_frame=stop_loss_data_granularity,\n",
    "    )\n",
    "\n",
    "    routing_parameters = get_trader_joe_default_routing_parameters(reserve_currency)\n",
    "\n",
    "    quote_tokens = {\n",
    "        \"0xb97ef9ef8734c71904d8002f8b6bc66dd9c48a6e\",  # USDC\n",
    "        \"0xb31f66aa3c1e785363f0875a1b74e27b85fd66c7\",  # WAVAX\n",
    "    }\n",
    "    universe = TradingStrategyUniverse.create_multipair_universe(\n",
    "        dataset,\n",
    "        [ChainId.avalanche],\n",
    "        [\"trader-joe\"],\n",
    "        quote_tokens=quote_tokens,\n",
    "        reserve_token=routing_parameters[\"reserve_token_address\"],\n",
    "        factory_router_map=routing_parameters[\"factory_router_map\"],\n",
    "        liquidity_resample_frequency=\"1D\",\n",
    "    )\n",
    "\n",
    "    return universe\n",
    "\n",
    "universe = create_trading_universe(\n",
    "    datetime.datetime.utcnow(),\n",
    "    client,\n",
    "    ExecutionContext(mode=ExecutionMode.backtesting),\n",
    "    UniverseOptions(),\n",
    ")\n",
    "\n",
    "print(f\"The trading univers has {universe.get_pair_count()} trading pairs\")"
   ]
  },
  {
   "cell_type": "markdown",
   "metadata": {},
   "source": [
    "## Run backtest\n",
    "\n",
    "Run backtest using giving trading universe and strategy function.\n",
    "\n",
    "- Running the backtest outputs `state` object that contains all the information\n",
    "on the backtesting position and trades.\n",
    "- The trade execution engine will download the necessary datasets to run the backtest.\n",
    "  The datasets may be large, several gigabytes.\n"
   ]
  },
  {
   "cell_type": "code",
   "execution_count": 5,
   "metadata": {
    "collapsed": false,
    "jupyter": {
     "outputs_hidden": false
    }
   },
   "outputs": [
    {
     "data": {
      "text/plain": "  0%|          | 0/70934400 [00:00<?, ?it/s]",
      "application/vnd.jupyter.widget-view+json": {
       "version_major": 2,
       "version_minor": 0,
       "model_id": "b311940e6e214841bc2473d321223af5"
      }
     },
     "metadata": {},
     "output_type": "display_data"
    },
    {
     "name": "stdout",
     "output_type": "stream",
     "text": [
      "Backtesting completed, backtested strategy made 936 trades\n"
     ]
    }
   ],
   "source": [
    "import logging\n",
    "\n",
    "from tradeexecutor.backtest.backtest_runner import run_backtest_inline\n",
    "\n",
    "state, universe, debug_dump = run_backtest_inline(\n",
    "    name=\"Portfolio construction model example strategy\",\n",
    "    start_at=start_at,\n",
    "    end_at=end_at,\n",
    "    client=client,\n",
    "    cycle_duration=trading_strategy_cycle,\n",
    "    decide_trades=decide_trades,\n",
    "    create_trading_universe=create_trading_universe,\n",
    "    initial_deposit=initial_deposit,\n",
    "    reserve_currency=reserve_currency,\n",
    "    trade_routing=trade_routing,\n",
    "    log_level=logging.WARNING,\n",
    "    universe=universe,\n",
    "    data_delay_tolerance=pd.Timedelta(\"7d\"),\n",
    ")\n",
    "\n",
    "trade_count = len(list(state.portfolio.get_all_trades()))\n",
    "print(f\"Backtesting completed, backtested strategy made {trade_count} trades\")"
   ]
  },
  {
   "attachments": {},
   "cell_type": "markdown",
   "metadata": {},
   "source": [
    "## Examine backtest results\n",
    "\n",
    "Examine `state` that contains \n",
    "- All actions the trade executor took\n",
    "- Visualisation and diagnostics data associated with the actity\n",
    "\n",
    "We plot out a chart that shows\n",
    "- The price action\n",
    "- When the strategy made buys or sells"
   ]
  },
  {
   "cell_type": "code",
   "execution_count": 6,
   "metadata": {
    "collapsed": false,
    "jupyter": {
     "outputs_hidden": false
    }
   },
   "outputs": [
    {
     "name": "stdout",
     "output_type": "stream",
     "text": [
      "Positions taken: 466\n",
      "Trades made: 936\n"
     ]
    }
   ],
   "source": [
    "print(f\"Positions taken: {len(list(state.portfolio.get_all_positions()))}\")\n",
    "print(f\"Trades made: {len(list(state.portfolio.get_all_trades()))}\")"
   ]
  },
  {
   "cell_type": "markdown",
   "metadata": {
    "collapsed": false
   },
   "source": []
  },
  {
   "cell_type": "markdown",
   "metadata": {},
   "source": [
    "## Benchmarking the strategy performance\n",
    "\n",
    "Here we benchmark the strategy performance against some baseline scenarios.\n",
    "\n",
    "- Buy and hold AVAX\n",
    "- Buy and hold US Dollar (do nothing)\n"
   ]
  },
  {
   "cell_type": "code",
   "execution_count": null,
   "metadata": {
    "collapsed": false,
    "jupyter": {
     "outputs_hidden": false
    },
    "pycharm": {
     "is_executing": true
    }
   },
   "outputs": [],
   "source": [
    "from tradeexecutor.visual.benchmark import visualise_benchmark\n",
    "\n",
    "avax_usd = universe.get_pair_by_human_description((ChainId.avalanche, \"trader-joe\", \"WAVAX\", \"USDC\"))\n",
    "avax_candles = universe.universe.candles.get_candles_by_pair(avax_usd.internal_id)\n",
    "avax_price = avax_candles[\"close\"]\n",
    "\n",
    "fig = visualise_benchmark(\n",
    "    state.name,\n",
    "    portfolio_statistics=state.stats.portfolio,\n",
    "    all_cash=state.portfolio.get_initial_deposit(),\n",
    "    buy_and_hold_asset_name=\"AVAX\",\n",
    "    buy_and_hold_price_series=avax_price,\n",
    "    start_at=start_at,\n",
    "    end_at=end_at\n",
    ")\n",
    "\n",
    "fig.show()"
   ]
  },
  {
   "attachments": {},
   "cell_type": "markdown",
   "metadata": {},
   "source": [
    "## Analysing  the strategy success\n",
    "\n",
    "Here we calculate statistics on how well the strategy performed.\n",
    "\n",
    "- Won/lost trades\n",
    "- Timeline of taken positions with color coding of trade performance\n"
   ]
  },
  {
   "cell_type": "code",
   "execution_count": null,
   "metadata": {
    "collapsed": false,
    "jupyter": {
     "outputs_hidden": false
    },
    "pycharm": {
     "is_executing": true
    }
   },
   "outputs": [],
   "source": [
    "from tradeexecutor.analysis.trade_analyser import build_trade_analysis\n",
    "\n",
    "analysis = build_trade_analysis(state.portfolio)"
   ]
  },
  {
   "cell_type": "markdown",
   "metadata": {},
   "source": [
    "### Strategy summary\n",
    "\n",
    "Overview of strategy performance\n",
    "\n"
   ]
  },
  {
   "cell_type": "code",
   "execution_count": null,
   "metadata": {
    "collapsed": false,
    "jupyter": {
     "outputs_hidden": false
    },
    "pycharm": {
     "is_executing": true
    }
   },
   "outputs": [],
   "source": [
    "from IPython.core.display_functions import display\n",
    "\n",
    "summary = analysis.calculate_summary_statistics()\n",
    "\n",
    "with pd.option_context(\"display.max_row\", None):\n",
    "    display(summary.to_dataframe())"
   ]
  },
  {
   "cell_type": "markdown",
   "metadata": {},
   "source": []
  },
  {
   "cell_type": "markdown",
   "metadata": {},
   "source": [
    "## Finishing notes\n",
    "\n",
    "Print out a line to signal the notebook finished the execution successfully."
   ]
  },
  {
   "cell_type": "code",
   "execution_count": null,
   "metadata": {
    "collapsed": false,
    "jupyter": {
     "outputs_hidden": false
    },
    "pycharm": {
     "is_executing": true
    }
   },
   "outputs": [],
   "source": [
    "print(\"All ok\")"
   ]
  }
 ],
 "metadata": {
  "kernelspec": {
   "display_name": "trade-executor-8Oz1GdY1-py3.10",
   "language": "python",
   "name": "python3"
  },
  "language_info": {
   "codemirror_mode": {
    "name": "ipython",
    "version": 3
   },
   "file_extension": ".py",
   "mimetype": "text/x-python",
   "name": "python",
   "nbconvert_exporter": "python",
   "pygments_lexer": "ipython3",
   "version": "3.10.10"
  },
  "vscode": {
   "interpreter": {
    "hash": "7adede735167b7e67e1575a49b63099e273f8f003d80ae98ec60bd132e113570"
   }
  }
 },
 "nbformat": 4,
 "nbformat_minor": 4
}
