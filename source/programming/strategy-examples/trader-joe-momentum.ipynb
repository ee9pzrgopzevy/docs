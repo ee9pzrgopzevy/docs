{
 "cells": [
  {
   "attachments": {},
   "cell_type": "markdown",
   "metadata": {},
   "source": [
    "# Portfolio construction model example 2 (Trader Joe)\n",
    "\n",
    "This is an example notebook how to construct a momentum based portfolio construction strategy\n",
    "using [Trading Strategy framework](https://tradingstrategy.ai/docs/) and backtest it for DeFi tokens.\n",
    "\n",
    "This backtest uses alpha model approach where each trading pair has a signal\n",
    "and basede on the signal strenghts we construct new portfolio weightings \n",
    "for the upcoming week.\n",
    "\n",
    "Some highlights of this notebook:\n",
    "\n",
    "* **Not a realistic trading strategy, but more of an code example** - this may generate profits or loss but this is outside the scode of this example\n",
    "* Make sure you have studied some simpler backtesting examples first\n",
    "* The backtest has all its code within a single Jupyter notebook\n",
    "    - The backtest code and charts are self-contained in a single file\n",
    "    - The example code is easy to read\n",
    "* Runs a backtest for a momentum strategy\n",
    "    - Automatically chooses tokens that enter and exit market at Trader Joe DEX on Avalanche\n",
    "    - Uses coarse (resampled) liquidity data for fast liquidity aware backtesting\n",
    "    - Long only    \n",
    "    - Pick some top tokens for each strategy cycle\n",
    "    - Based on a trading pair simple momentum\n",
    "    - Uses take profit / stop loss\n",
    "    - Ignore price impact, and thus may cause unrealistic results\n",
    "* Demostrates statistics and performance analyses\n",
    "    - Equity curve with comparison to buy and hold AVAX\n",
    "* You need a [Trading Strategy API key](https://tradingstrategy.ai/trading-view/backtesting) to run the notebook\n",
    "* You will need a powerful computer to run this notebook (> 16GB RAM)\n",
    "\n"
   ]
  },
  {
   "cell_type": "markdown",
   "metadata": {},
   "source": [
    "## Strategy parameter set up\n",
    "\n",
    "Set up the parameters used in in this strategy backtest study.\n",
    "\n",
    "- Backtested blockchain, exchange and trading pair\n",
    "- Backtesting period\n",
    "- Strategy parameters for EMA crossovers"
   ]
  },
  {
   "cell_type": "code",
   "execution_count": 1,
   "metadata": {
    "collapsed": false,
    "jupyter": {
     "outputs_hidden": false
    }
   },
   "outputs": [],
   "source": [
    "import datetime\n",
    "import pandas as pd\n",
    "\n",
    "from tradingstrategy.chain import ChainId\n",
    "from tradingstrategy.timebucket import TimeBucket\n",
    "from tradeexecutor.strategy.cycle import CycleDuration\n",
    "from tradeexecutor.strategy.strategy_module import StrategyType, TradeRouting, ReserveCurrency\n",
    "\n",
    "# Tell what trade execution engine version this strategy needs to use\n",
    "trading_strategy_engine_version = \"0.1\"\n",
    "\n",
    "# What kind of strategy we are running.\n",
    "# This tells we are going to use\n",
    "trading_strategy_type = StrategyType.managed_positions\n",
    "\n",
    "# How our trades are routed.\n",
    "# PancakeSwap basic routing supports two way trades with BUSD\n",
    "# and three way trades with BUSD-BNB hop.\n",
    "trade_routing = TradeRouting.ignore\n",
    "\n",
    "# Set cycle to 7 days and look back the momentum of the previous candle\n",
    "trading_strategy_cycle = CycleDuration.cycle_4d\n",
    "momentum_lookback_period = datetime.timedelta(days=2)\n",
    "\n",
    "# Hold top 3 coins for every cycle\n",
    "max_assets_in_portfolio = 5\n",
    "\n",
    "# Leave 20% cash buffer\n",
    "value_allocated_to_positions = 0.50\n",
    "\n",
    "# Set 33% stop loss over mid price\n",
    "stop_loss = 0.90\n",
    "\n",
    "# Set 5% take profit over mid price\n",
    "take_profit = 1.05\n",
    "\n",
    "# The weekly price must be up 2.5% for us to take a long position\n",
    "#minimum_mometum_threshold = 0.025\n",
    "minimum_mometum_threshold = 0.03\n",
    "\n",
    "# Don't bother with trades that would move position\n",
    "# less than 300 USD\n",
    "minimum_rebalance_trade_threshold = 300\n",
    "\n",
    "# Use hourly candles to trigger the stop loss\n",
    "stop_loss_data_granularity = TimeBucket.h1\n",
    "\n",
    "# Strategy keeps its cash in USDC\n",
    "reserve_currency = ReserveCurrency.usdc\n",
    "\n",
    "# The duration of the backtesting period\n",
    "start_at = datetime.datetime(2020, 11, 1)\n",
    "end_at = datetime.datetime(2023, 1, 31)\n",
    "\n",
    "# Start with 10,000 USD\n",
    "initial_deposit = 10_000\n"
   ]
  },
  {
   "cell_type": "markdown",
   "metadata": {},
   "source": [
    "## Strategy logic and trade decisions\n",
    "\n",
    "`decide_trades` function decide what trades to take.\n",
    "In this example, we calculate two exponential moving averages\n",
    "(EMAs) and make decisions based on those.\n"
   ]
  },
  {
   "cell_type": "code",
   "execution_count": 2,
   "metadata": {
    "collapsed": false,
    "jupyter": {
     "outputs_hidden": false
    }
   },
   "outputs": [],
   "source": [
    "from tradeexecutor.strategy.trading_strategy_universe import translate_trading_pair\n",
    "from typing import List, Dict, Counter\n",
    "\n",
    "from tradingstrategy.universe import Universe\n",
    "from tradeexecutor.strategy.weighting import weight_by_1_slash_n\n",
    "from tradeexecutor.strategy.alpha_model import AlphaModel\n",
    "from tradeexecutor.state.trade import TradeExecution\n",
    "from tradeexecutor.strategy.pricing_model import PricingModel\n",
    "from tradeexecutor.strategy.pandas_trader.position_manager import PositionManager\n",
    "from tradeexecutor.state.state import State\n",
    "\n",
    "\n",
    "def decide_trades(\n",
    "        timestamp: pd.Timestamp,\n",
    "        universe: Universe,\n",
    "        state: State,\n",
    "        pricing_model: PricingModel,\n",
    "        cycle_debug_data: Dict) -> List[TradeExecution]:\n",
    "\n",
    "    # Create a position manager helper class that allows us easily to create\n",
    "    # opening/closing trades for different positions\n",
    "    position_manager = PositionManager(timestamp, universe, state, pricing_model)\n",
    "\n",
    "    alpha_model = AlphaModel(timestamp)\n",
    "\n",
    "    # Watch out for the inclusive range and include and avoid peeking in the future\n",
    "    adjusted_timestamp = timestamp - pd.Timedelta(seconds=1)\n",
    "    start = adjusted_timestamp - momentum_lookback_period - datetime.timedelta(seconds=1)\n",
    "    end = adjusted_timestamp \n",
    "\n",
    "    candle_universe = universe.candles\n",
    "    pair_universe = universe.pairs\n",
    "\n",
    "    # Get candle data for all candles, inclusive time range\n",
    "    candle_data = candle_universe.iterate_samples_by_pair_range(start, end)\n",
    "\n",
    "    avax_usd = pair_universe.get_one_pair_from_pandas_universe()\n",
    "\n",
    "    # Iterate over all candles for all pairs in this timestamp (ts)\n",
    "    for pair_id, pair_df in candle_data:\n",
    "\n",
    "        # We should have candles for range start - end,\n",
    "        # where end is the current strategy cycle timestamp \n",
    "        # and start is one week before end.\n",
    "        # Because of sparse data we may have 0, 1 or 2 candles\n",
    "        first_candle = pair_df.iloc[0]\n",
    "        last_candle = pair_df.iloc[-1]\n",
    "\n",
    "        # How many candles we are going to evaluate\n",
    "        candle_count = len(pair_df)\n",
    "\n",
    "        assert last_candle[\"timestamp\"] < timestamp, \"Something wrong with the data - we should not be able to peek the candle of the current timestamp, but always use the previous candle\"\n",
    "\n",
    "        open = last_candle[\"open\"]\n",
    "        close = last_candle[\"close\"]\n",
    "\n",
    "        # DEXPair instance contains more data than internal TradingPairIdentifier\n",
    "        # we use to store this pair across the strategy\n",
    "        dex_pair = pair_universe.get_pair_by_id(pair_id)\n",
    "        pair = translate_trading_pair(dex_pair)\n",
    "\n",
    "        available_liquidity = universe.resampled_liquidity.get_liquidity_fast(pair_id, adjusted_timestamp)\n",
    "        if available_liquidity < 100_000:\n",
    "            # Too little liquidity\n",
    "            continue\n",
    "\n",
    "        # We define momentum as how many % the trading pair price gained during\n",
    "        # the momentum window\n",
    "        momentum = (close - open) / open\n",
    "        \n",
    "        # This pair has not positive momentum,\n",
    "        # we only buy when stuff goes up\n",
    "        if momentum <= minimum_mometum_threshold:\n",
    "            continue\n",
    "\n",
    "        alpha_model.set_signal(\n",
    "            pair,\n",
    "            momentum,\n",
    "            stop_loss=stop_loss,\n",
    "            take_profit=take_profit,\n",
    "        )\n",
    "\n",
    "    # Select max_assets_in_portfolio assets in which we are going to invest\n",
    "    # Calculate a weight for ecah asset in the portfolio using 1/N method based on the raw signal\n",
    "    alpha_model.select_top_signals(max_assets_in_portfolio)\n",
    "    alpha_model.assign_weights(method=weight_by_1_slash_n)\n",
    "    alpha_model.normalise_weights()\n",
    "\n",
    "    # Load in old weight for each trading pair signal,\n",
    "    # so we can calculate the adjustment trade size\n",
    "    alpha_model.update_old_weights(state.portfolio)\n",
    "\n",
    "    # Calculate how much dollar value we want each individual position to be on this strategy cycle,\n",
    "    # based on our total available equity\n",
    "    portfolio = position_manager.get_current_portfolio()\n",
    "    portfolio_target_value = portfolio.get_total_equity() * value_allocated_to_positions\n",
    "    alpha_model.calculate_target_positions(portfolio_target_value)\n",
    "\n",
    "    # Shift portfolio from current positions to target positions\n",
    "    # determined by the alpha signals (momentum)\n",
    "    trades = alpha_model.generate_rebalance_trades_and_triggers(\n",
    "        position_manager,\n",
    "        min_trade_threshold=minimum_rebalance_trade_threshold,  # Don't bother with trades under 300 USD\n",
    "    )\n",
    "\n",
    "    # Record alpha model state so we can later visualise our alpha model thinking better\n",
    "    state.visualisation.add_calculations(timestamp, alpha_model.to_dict())\n",
    "\n",
    "    return trades\n"
   ]
  },
  {
   "cell_type": "markdown",
   "metadata": {},
   "source": [
    "## Set up the market data client\n",
    "\n",
    "The [Trading Strategy market data client](https://tradingstrategy.ai/docs/programming/api/client/index.html)\n",
    "is the Python library responsible for managing the data feeds needed to run the backtest.None\n",
    "\n",
    "We set up the market data client with an API key.\n",
    "\n",
    "[If you do not have an API key yet, you can register one](https://tradingstrategy.ai/trading-view/backtesting)."
   ]
  },
  {
   "cell_type": "code",
   "execution_count": 3,
   "metadata": {
    "collapsed": false,
    "jupyter": {
     "outputs_hidden": false
    }
   },
   "outputs": [
    {
     "name": "stdout",
     "output_type": "stream",
     "text": [
      "Started Trading Strategy in Jupyter notebook environment, configuration is stored in /Users/moo/.tradingstrategy\n"
     ]
    }
   ],
   "source": [
    "from tradingstrategy.client import Client\n",
    "\n",
    "client = Client.create_jupyter_client()"
   ]
  },
  {
   "attachments": {},
   "cell_type": "markdown",
   "metadata": {},
   "source": []
  },
  {
   "attachments": {},
   "cell_type": "markdown",
   "metadata": {},
   "source": [
    "## Setup trading universe\n",
    "\n",
    "We setup the trading universe for the backtesting.\n",
    "\n",
    "- Read in a handwritten allowed trading pair universe list\n",
    "\n",
    "- Download candle data\n",
    "\n",
    "- Print out trading pair addresses and volumes as the sanity check the pair defintions look correct\n"
   ]
  },
  {
   "cell_type": "code",
   "execution_count": 4,
   "metadata": {
    "collapsed": false,
    "jupyter": {
     "outputs_hidden": false
    }
   },
   "outputs": [
    {
     "name": "stdout",
     "output_type": "stream",
     "text": [
      "Resamping liquidity data to 1D, this may take a long time\n",
      "The trading univers has 1321 trading pairs\n"
     ]
    }
   ],
   "source": [
    "from tradingstrategy.client import Client\n",
    "\n",
    "from tradeexecutor.strategy.trading_strategy_universe import TradingStrategyUniverse, load_all_data\n",
    "from tradeexecutor.strategy.trading_strategy_universe import load_partial_data\n",
    "from tradeexecutor.strategy.execution_context import ExecutionContext\n",
    "from tradeexecutor.strategy.execution_context import ExecutionMode\n",
    "from tradeexecutor.strategy.universe_model import UniverseOptions\n",
    "from tradeexecutor.ethereum.routing_data import get_trader_joe_default_routing_parameters\n",
    "\n",
    "\n",
    "def create_trading_universe(\n",
    "        ts: datetime.datetime,\n",
    "        client: Client,\n",
    "        execution_context: ExecutionContext,\n",
    "        universe_options: UniverseOptions,\n",
    ") -> TradingStrategyUniverse:\n",
    "\n",
    "    assert not execution_context.mode.is_live_trading(), \\\n",
    "        f\"Only strategy backtesting supported, got {execution_context.mode}\"\n",
    "\n",
    "    # Load data for our trading pair whitelist\n",
    "    dataset = load_all_data(\n",
    "        client,\n",
    "        time_frame=TimeBucket.d1,\n",
    "        execution_context=execution_context,\n",
    "        universe_options=universe_options,\n",
    "        liquidity_time_frame=TimeBucket.d1,\n",
    "        stop_loss_time_frame=stop_loss_data_granularity,\n",
    "    )\n",
    "\n",
    "    routing_parameters = get_trader_joe_default_routing_parameters(reserve_currency)\n",
    "\n",
    "    quote_tokens = {\n",
    "        \"0xb97ef9ef8734c71904d8002f8b6bc66dd9c48a6e\",  # USDC\n",
    "        \"0xb31f66aa3c1e785363f0875a1b74e27b85fd66c7\",  # WAVAX\n",
    "    }\n",
    "    universe = TradingStrategyUniverse.create_multipair_universe(\n",
    "        dataset,\n",
    "        [ChainId.avalanche],\n",
    "        [\"trader-joe\"],\n",
    "        quote_tokens=quote_tokens,\n",
    "        reserve_token=routing_parameters[\"reserve_token_address\"],\n",
    "        factory_router_map=routing_parameters[\"factory_router_map\"],\n",
    "        liquidity_resample_frequency=\"1D\",\n",
    "    )\n",
    "\n",
    "    return universe\n",
    "\n",
    "universe = create_trading_universe(\n",
    "    datetime.datetime.utcnow(),\n",
    "    client,\n",
    "    ExecutionContext(mode=ExecutionMode.backtesting),\n",
    "    UniverseOptions(),\n",
    ")\n",
    "\n",
    "print(f\"The trading univers has {universe.get_pair_count()} trading pairs\")"
   ]
  },
  {
   "cell_type": "markdown",
   "metadata": {},
   "source": [
    "## Run backtest\n",
    "\n",
    "Run backtest using giving trading universe and strategy function.\n",
    "\n",
    "- Running the backtest outputs `state` object that contains all the information\n",
    "on the backtesting position and trades.\n",
    "- The trade execution engine will download the necessary datasets to run the backtest.\n",
    "  The datasets may be large, several gigabytes.\n"
   ]
  },
  {
   "cell_type": "code",
   "execution_count": 5,
   "metadata": {
    "collapsed": false,
    "jupyter": {
     "outputs_hidden": false
    }
   },
   "outputs": [
    {
     "data": {
      "application/vnd.jupyter.widget-view+json": {
       "model_id": "fcfa7af854b24037918587cdeab50ac0",
       "version_major": 2,
       "version_minor": 0
      },
      "text/plain": [
       "  0%|          | 0/70934400 [00:00<?, ?it/s]"
      ]
     },
     "metadata": {},
     "output_type": "display_data"
    },
    {
     "name": "stdout",
     "output_type": "stream",
     "text": [
      "Backtesting completed, backtested strategy made 936 trades\n"
     ]
    }
   ],
   "source": [
    "import logging\n",
    "\n",
    "from tradeexecutor.backtest.backtest_runner import run_backtest_inline\n",
    "\n",
    "state, universe, debug_dump = run_backtest_inline(\n",
    "    name=\"Portfolio construction model example strategy\",\n",
    "    start_at=start_at,\n",
    "    end_at=end_at,\n",
    "    client=client,\n",
    "    cycle_duration=trading_strategy_cycle,\n",
    "    decide_trades=decide_trades,\n",
    "    create_trading_universe=create_trading_universe,\n",
    "    initial_deposit=initial_deposit,\n",
    "    reserve_currency=reserve_currency,\n",
    "    trade_routing=trade_routing,\n",
    "    log_level=logging.WARNING,\n",
    "    universe=universe,\n",
    "    data_delay_tolerance=pd.Timedelta(\"7d\"),\n",
    ")\n",
    "\n",
    "trade_count = len(list(state.portfolio.get_all_trades()))\n",
    "print(f\"Backtesting completed, backtested strategy made {trade_count} trades\")"
   ]
  },
  {
   "attachments": {},
   "cell_type": "markdown",
   "metadata": {},
   "source": [
    "## Examine backtest results\n",
    "\n",
    "Examine `state` that contains \n",
    "- All actions the trade executor took\n",
    "- Visualisation and diagnostics data associated with the actity\n",
    "\n",
    "We plot out a chart that shows\n",
    "- The price action\n",
    "- When the strategy made buys or sells"
   ]
  },
  {
   "cell_type": "code",
   "execution_count": 6,
   "metadata": {
    "collapsed": false,
    "jupyter": {
     "outputs_hidden": false
    }
   },
   "outputs": [
    {
     "name": "stdout",
     "output_type": "stream",
     "text": [
      "Positions taken: 466\n",
      "Trades made: 936\n"
     ]
    }
   ],
   "source": [
    "print(f\"Positions taken: {len(list(state.portfolio.get_all_positions()))}\")\n",
    "print(f\"Trades made: {len(list(state.portfolio.get_all_trades()))}\")"
   ]
  },
  {
   "cell_type": "markdown",
   "metadata": {
    "collapsed": false
   },
   "source": []
  },
  {
   "cell_type": "markdown",
   "metadata": {},
   "source": [
    "## Benchmarking the strategy performance\n",
    "\n",
    "Here we benchmark the strategy performance against some baseline scenarios.\n",
    "\n",
    "- Buy and hold AVAX\n",
    "- Buy and hold US Dollar (do nothing)\n"
   ]
  },
  {
   "cell_type": "code",
   "execution_count": 7,
   "metadata": {
    "collapsed": false,
    "jupyter": {
     "outputs_hidden": false
    },
    "pycharm": {
     "is_executing": true
    }
   },
   "outputs": [
    {
     "data": {
      "application/vnd.plotly.v1+json": {
       "config": {
        "plotlyServerURL": "https://plot.ly"
       },
       "data": [
        {
         "line": {
          "color": "#008800"
         },
         "mode": "lines",
         "name": "Portfolio construction model example strategy",
         "type": "scatter",
         "x": [
          "2020-10-31T00:00:00",
          "2020-11-04T00:00:00",
          "2020-11-08T00:00:00",
          "2020-11-12T00:00:00",
          "2020-11-16T00:00:00",
          "2020-11-20T00:00:00",
          "2020-11-24T00:00:00",
          "2020-11-28T00:00:00",
          "2020-12-02T00:00:00",
          "2020-12-06T00:00:00",
          "2020-12-10T00:00:00",
          "2020-12-14T00:00:00",
          "2020-12-18T00:00:00",
          "2020-12-22T00:00:00",
          "2020-12-26T00:00:00",
          "2020-12-30T00:00:00",
          "2021-01-03T00:00:00",
          "2021-01-07T00:00:00",
          "2021-01-11T00:00:00",
          "2021-01-15T00:00:00",
          "2021-01-19T00:00:00",
          "2021-01-23T00:00:00",
          "2021-01-27T00:00:00",
          "2021-01-31T00:00:00",
          "2021-02-04T00:00:00",
          "2021-02-08T00:00:00",
          "2021-02-12T00:00:00",
          "2021-02-16T00:00:00",
          "2021-02-20T00:00:00",
          "2021-02-24T00:00:00",
          "2021-02-28T00:00:00",
          "2021-03-04T00:00:00",
          "2021-03-08T00:00:00",
          "2021-03-12T00:00:00",
          "2021-03-16T00:00:00",
          "2021-03-20T00:00:00",
          "2021-03-24T00:00:00",
          "2021-03-28T00:00:00",
          "2021-04-01T00:00:00",
          "2021-04-05T00:00:00",
          "2021-04-09T00:00:00",
          "2021-04-13T00:00:00",
          "2021-04-17T00:00:00",
          "2021-04-21T00:00:00",
          "2021-04-25T00:00:00",
          "2021-04-29T00:00:00",
          "2021-05-03T00:00:00",
          "2021-05-07T00:00:00",
          "2021-05-11T00:00:00",
          "2021-05-15T00:00:00",
          "2021-05-19T00:00:00",
          "2021-05-23T00:00:00",
          "2021-05-27T00:00:00",
          "2021-05-31T00:00:00",
          "2021-06-04T00:00:00",
          "2021-06-08T00:00:00",
          "2021-06-12T00:00:00",
          "2021-06-16T00:00:00",
          "2021-06-20T00:00:00",
          "2021-06-24T00:00:00",
          "2021-06-28T00:00:00",
          "2021-07-02T00:00:00",
          "2021-07-06T00:00:00",
          "2021-07-10T00:00:00",
          "2021-07-14T00:00:00",
          "2021-07-18T00:00:00",
          "2021-07-22T00:00:00",
          "2021-07-26T00:00:00",
          "2021-07-30T00:00:00",
          "2021-08-03T00:00:00",
          "2021-08-07T00:00:00",
          "2021-08-11T00:00:00",
          "2021-08-15T00:00:00",
          "2021-08-19T00:00:00",
          "2021-08-23T00:00:00",
          "2021-08-27T00:00:00",
          "2021-08-31T00:00:00",
          "2021-09-04T00:00:00",
          "2021-09-08T00:00:00",
          "2021-09-12T00:00:00",
          "2021-09-16T00:00:00",
          "2021-09-20T00:00:00",
          "2021-09-24T00:00:00",
          "2021-09-28T00:00:00",
          "2021-10-02T00:00:00",
          "2021-10-06T00:00:00",
          "2021-10-10T00:00:00",
          "2021-10-14T00:00:00",
          "2021-10-18T00:00:00",
          "2021-10-22T00:00:00",
          "2021-10-26T00:00:00",
          "2021-10-30T00:00:00",
          "2021-11-03T00:00:00",
          "2021-11-07T00:00:00",
          "2021-11-11T00:00:00",
          "2021-11-15T00:00:00",
          "2021-11-19T00:00:00",
          "2021-11-23T00:00:00",
          "2021-11-27T00:00:00",
          "2021-12-01T00:00:00",
          "2021-12-05T00:00:00",
          "2021-12-09T00:00:00",
          "2021-12-13T00:00:00",
          "2021-12-17T00:00:00",
          "2021-12-21T00:00:00",
          "2021-12-25T00:00:00",
          "2021-12-29T00:00:00",
          "2022-01-02T00:00:00",
          "2022-01-06T00:00:00",
          "2022-01-10T00:00:00",
          "2022-01-14T00:00:00",
          "2022-01-18T00:00:00",
          "2022-01-22T00:00:00",
          "2022-01-26T00:00:00",
          "2022-01-30T00:00:00",
          "2022-02-03T00:00:00",
          "2022-02-07T00:00:00",
          "2022-02-11T00:00:00",
          "2022-02-15T00:00:00",
          "2022-02-19T00:00:00",
          "2022-02-23T00:00:00",
          "2022-02-27T00:00:00",
          "2022-03-03T00:00:00",
          "2022-03-07T00:00:00",
          "2022-03-11T00:00:00",
          "2022-03-15T00:00:00",
          "2022-03-19T00:00:00",
          "2022-03-23T00:00:00",
          "2022-03-27T00:00:00",
          "2022-03-31T00:00:00",
          "2022-04-04T00:00:00",
          "2022-04-08T00:00:00",
          "2022-04-12T00:00:00",
          "2022-04-16T00:00:00",
          "2022-04-20T00:00:00",
          "2022-04-24T00:00:00",
          "2022-04-28T00:00:00",
          "2022-05-02T00:00:00",
          "2022-05-06T00:00:00",
          "2022-05-10T00:00:00",
          "2022-05-14T00:00:00",
          "2022-05-18T00:00:00",
          "2022-05-22T00:00:00",
          "2022-05-26T00:00:00",
          "2022-05-30T00:00:00",
          "2022-06-03T00:00:00",
          "2022-06-07T00:00:00",
          "2022-06-11T00:00:00",
          "2022-06-15T00:00:00",
          "2022-06-19T00:00:00",
          "2022-06-23T00:00:00",
          "2022-06-27T00:00:00",
          "2022-07-01T00:00:00",
          "2022-07-05T00:00:00",
          "2022-07-09T00:00:00",
          "2022-07-13T00:00:00",
          "2022-07-17T00:00:00",
          "2022-07-21T00:00:00",
          "2022-07-25T00:00:00",
          "2022-07-29T00:00:00",
          "2022-08-02T00:00:00",
          "2022-08-06T00:00:00",
          "2022-08-10T00:00:00",
          "2022-08-14T00:00:00",
          "2022-08-18T00:00:00",
          "2022-08-22T00:00:00",
          "2022-08-26T00:00:00",
          "2022-08-30T00:00:00",
          "2022-09-03T00:00:00",
          "2022-09-07T00:00:00",
          "2022-09-11T00:00:00",
          "2022-09-15T00:00:00",
          "2022-09-19T00:00:00",
          "2022-09-23T00:00:00",
          "2022-09-27T00:00:00",
          "2022-10-01T00:00:00",
          "2022-10-05T00:00:00",
          "2022-10-09T00:00:00",
          "2022-10-13T00:00:00",
          "2022-10-17T00:00:00",
          "2022-10-21T00:00:00",
          "2022-10-25T00:00:00",
          "2022-10-29T00:00:00",
          "2022-11-02T00:00:00",
          "2022-11-06T00:00:00",
          "2022-11-10T00:00:00",
          "2022-11-14T00:00:00",
          "2022-11-18T00:00:00",
          "2022-11-22T00:00:00",
          "2022-11-26T00:00:00",
          "2022-11-30T00:00:00",
          "2022-12-04T00:00:00",
          "2022-12-08T00:00:00",
          "2022-12-12T00:00:00",
          "2022-12-16T00:00:00",
          "2022-12-20T00:00:00",
          "2022-12-24T00:00:00",
          "2022-12-28T00:00:00",
          "2023-01-01T00:00:00",
          "2023-01-05T00:00:00",
          "2023-01-09T00:00:00",
          "2023-01-13T00:00:00",
          "2023-01-17T00:00:00",
          "2023-01-21T00:00:00",
          "2023-01-25T00:00:00",
          "2023-01-29T00:00:00"
         ],
         "y": [
          10000,
          10000,
          10000,
          10000,
          10000,
          10000,
          10000,
          10000,
          10000,
          10000,
          10000,
          10000,
          10000,
          10000,
          10000,
          10000,
          10000,
          10000,
          10000,
          10000,
          10000,
          10000,
          10000,
          10000,
          10000,
          10000,
          10000,
          10000,
          10000,
          10000,
          10000,
          10000,
          10000,
          10000,
          10000,
          10000,
          10000,
          10000,
          10000,
          10000,
          10000,
          10000,
          10000,
          10000,
          10000,
          10000,
          10000,
          10000,
          10000,
          10000,
          10000,
          10000,
          10000,
          10000,
          10000,
          10000,
          10000,
          10000,
          10000,
          10000,
          10000,
          10000,
          10000,
          10000,
          10000,
          10000,
          10000,
          10000,
          10000,
          10000,
          10000,
          10000,
          10000,
          10000,
          10000,
          10000,
          10000,
          9970.089730807576,
          9971.924990799977,
          9942.09869471583,
          9432.696642500832,
          10476.171884103058,
          9155.915005896426,
          8499.343983002593,
          8106.110532291419,
          7775.961724413508,
          7725.65048471235,
          7739.091793654185,
          8050.667927477043,
          8454.741074073961,
          8337.134664249003,
          7809.939087345798,
          7775.763935692179,
          8186.346352063778,
          8437.285423350255,
          9394.435491268508,
          9354.96161240164,
          12182.938905955514,
          11289.45765059239,
          12487.566456335438,
          12084.657840874163,
          11967.881856314392,
          11114.901425833781,
          10929.20115392677,
          10428.00932449826,
          10725.206292768473,
          10790.168412776187,
          10893.470257453926,
          10528.12130872432,
          9937.655316046763,
          9869.604017598434,
          10069.321742168604,
          9720.825134317047,
          9227.327605059489,
          9437.519067688994,
          9412.61056068345,
          10855.345728731052,
          11532.059432799142,
          10924.883806945065,
          11823.436651196389,
          11270.853887279945,
          11434.500405585637,
          11722.431805470442,
          10817.202629021098,
          10814.131561106457,
          10961.872155158693,
          11273.993707382202,
          10777.831977553285,
          10967.816488735123,
          11222.073445121463,
          11588.970499634881,
          11364.791262497689,
          10518.098608700506,
          9763.609244951575,
          9641.229456184421,
          9132.878362123021,
          9159.528488111868,
          8720.467209230177,
          8633.507262276122,
          7180.267298859022,
          7242.3883233401975,
          7517.878157588784,
          6932.095458349186,
          7137.866234642131,
          6632.995399548851,
          6556.62440992669,
          6691.650513928133,
          6365.297941958681,
          5589.501042175467,
          5794.834011877116,
          5903.671729196922,
          6532.464500076744,
          6532.464500076744,
          6514.637148645426,
          6706.495541612874,
          6574.66499769363,
          7184.068871535634,
          7697.787827565065,
          7920.077328543439,
          7960.818510254989,
          7833.0615089158455,
          8399.204987002562,
          8598.54400765794,
          7892.45644711755,
          7687.966683838828,
          6948.01916976617,
          6903.192808186321,
          6445.37887122902,
          6400.896639390428,
          6386.356914637026,
          6709.048015573744,
          6390.198684001188,
          6524.542683599791,
          6506.736951115858,
          6562.030705539088,
          6402.969200305501,
          5744.893831233436,
          5743.394883983851,
          5850.18898206831,
          5834.223587243474,
          5594.130785757779,
          6499.866187135687,
          6482.127797776931,
          6461.157762618124,
          5911.349668659201,
          5454.652101183106,
          5438.337089913366,
          5495.018582468269,
          5197.215712877203,
          5364.475876991971,
          5044.372486539714,
          5125.800843841736,
          5128.106934287348,
          5008.057650623016,
          5008.057650623016,
          4993.078415376886,
          5043.966679283683,
          5028.880039166184,
          4406.43474759222,
          4413.876575207347,
          4422.644744272312,
          4502.957714207911,
          4631.904362973717,
          4577.110401134996,
          4574.017332256965,
          4634.809690313682
         ]
        },
        {
         "line": {
          "color": "#000088"
         },
         "mode": "lines",
         "name": "All cash",
         "type": "scatter",
         "x": [
          "2020-11-01T00:00:00",
          "2023-01-31T00:00:00"
         ],
         "y": [
          10000,
          10000
         ]
        },
        {
         "line": {
          "color": "#880000"
         },
         "mode": "lines",
         "name": "Buy and hold AVAX",
         "type": "scatter",
         "x": [
          "2021-12-16T00:00:00",
          "2021-12-17T00:00:00",
          "2021-12-18T00:00:00",
          "2021-12-19T00:00:00",
          "2021-12-20T00:00:00",
          "2021-12-21T00:00:00",
          "2021-12-22T00:00:00",
          "2021-12-23T00:00:00",
          "2021-12-24T00:00:00",
          "2021-12-25T00:00:00",
          "2021-12-26T00:00:00",
          "2021-12-27T00:00:00",
          "2021-12-28T00:00:00",
          "2021-12-29T00:00:00",
          "2021-12-30T00:00:00",
          "2021-12-31T00:00:00",
          "2022-01-01T00:00:00",
          "2022-01-02T00:00:00",
          "2022-01-03T00:00:00",
          "2022-01-04T00:00:00",
          "2022-01-05T00:00:00",
          "2022-01-06T00:00:00",
          "2022-01-07T00:00:00",
          "2022-01-08T00:00:00",
          "2022-01-09T00:00:00",
          "2022-01-10T00:00:00",
          "2022-01-11T00:00:00",
          "2022-01-12T00:00:00",
          "2022-01-13T00:00:00",
          "2022-01-14T00:00:00",
          "2022-01-15T00:00:00",
          "2022-01-16T00:00:00",
          "2022-01-17T00:00:00",
          "2022-01-18T00:00:00",
          "2022-01-19T00:00:00",
          "2022-01-20T00:00:00",
          "2022-01-21T00:00:00",
          "2022-01-22T00:00:00",
          "2022-01-23T00:00:00",
          "2022-01-24T00:00:00",
          "2022-01-25T00:00:00",
          "2022-01-26T00:00:00",
          "2022-01-27T00:00:00",
          "2022-01-28T00:00:00",
          "2022-01-29T00:00:00",
          "2022-01-30T00:00:00",
          "2022-01-31T00:00:00",
          "2022-02-01T00:00:00",
          "2022-02-02T00:00:00",
          "2022-02-03T00:00:00",
          "2022-02-04T00:00:00",
          "2022-02-05T00:00:00",
          "2022-02-06T00:00:00",
          "2022-02-07T00:00:00",
          "2022-02-08T00:00:00",
          "2022-02-09T00:00:00",
          "2022-02-10T00:00:00",
          "2022-02-11T00:00:00",
          "2022-02-12T00:00:00",
          "2022-02-13T00:00:00",
          "2022-02-14T00:00:00",
          "2022-02-15T00:00:00",
          "2022-02-16T00:00:00",
          "2022-02-17T00:00:00",
          "2022-02-18T00:00:00",
          "2022-02-19T00:00:00",
          "2022-02-20T00:00:00",
          "2022-02-21T00:00:00",
          "2022-02-22T00:00:00",
          "2022-02-23T00:00:00",
          "2022-02-24T00:00:00",
          "2022-02-25T00:00:00",
          "2022-02-26T00:00:00",
          "2022-02-27T00:00:00",
          "2022-02-28T00:00:00",
          "2022-03-01T00:00:00",
          "2022-03-02T00:00:00",
          "2022-03-03T00:00:00",
          "2022-03-04T00:00:00",
          "2022-03-05T00:00:00",
          "2022-03-06T00:00:00",
          "2022-03-07T00:00:00",
          "2022-03-08T00:00:00",
          "2022-03-09T00:00:00",
          "2022-03-10T00:00:00",
          "2022-03-11T00:00:00",
          "2022-03-12T00:00:00",
          "2022-03-13T00:00:00",
          "2022-03-14T00:00:00",
          "2022-03-15T00:00:00",
          "2022-03-16T00:00:00",
          "2022-03-17T00:00:00",
          "2022-03-18T00:00:00",
          "2022-03-19T00:00:00",
          "2022-03-20T00:00:00",
          "2022-03-21T00:00:00",
          "2022-03-22T00:00:00",
          "2022-03-23T00:00:00",
          "2022-03-24T00:00:00",
          "2022-03-25T00:00:00",
          "2022-03-26T00:00:00",
          "2022-03-27T00:00:00",
          "2022-03-28T00:00:00",
          "2022-03-29T00:00:00",
          "2022-03-30T00:00:00",
          "2022-03-31T00:00:00",
          "2022-04-01T00:00:00",
          "2022-04-02T00:00:00",
          "2022-04-03T00:00:00",
          "2022-04-04T00:00:00",
          "2022-04-05T00:00:00",
          "2022-04-06T00:00:00",
          "2022-04-07T00:00:00",
          "2022-04-08T00:00:00",
          "2022-04-09T00:00:00",
          "2022-04-10T00:00:00",
          "2022-04-11T00:00:00",
          "2022-04-12T00:00:00",
          "2022-04-13T00:00:00",
          "2022-04-14T00:00:00",
          "2022-04-15T00:00:00",
          "2022-04-16T00:00:00",
          "2022-04-17T00:00:00",
          "2022-04-18T00:00:00",
          "2022-04-19T00:00:00",
          "2022-04-20T00:00:00",
          "2022-04-21T00:00:00",
          "2022-04-22T00:00:00",
          "2022-04-23T00:00:00",
          "2022-04-24T00:00:00",
          "2022-04-25T00:00:00",
          "2022-04-26T00:00:00",
          "2022-04-27T00:00:00",
          "2022-04-28T00:00:00",
          "2022-04-29T00:00:00",
          "2022-04-30T00:00:00",
          "2022-05-01T00:00:00",
          "2022-05-02T00:00:00",
          "2022-05-03T00:00:00",
          "2022-05-04T00:00:00",
          "2022-05-05T00:00:00",
          "2022-05-06T00:00:00",
          "2022-05-07T00:00:00",
          "2022-05-08T00:00:00",
          "2022-05-09T00:00:00",
          "2022-05-10T00:00:00",
          "2022-05-11T00:00:00",
          "2022-05-12T00:00:00",
          "2022-05-13T00:00:00",
          "2022-05-14T00:00:00",
          "2022-05-15T00:00:00",
          "2022-05-16T00:00:00",
          "2022-05-17T00:00:00",
          "2022-05-18T00:00:00",
          "2022-05-19T00:00:00",
          "2022-05-20T00:00:00",
          "2022-05-21T00:00:00",
          "2022-05-22T00:00:00",
          "2022-05-23T00:00:00",
          "2022-05-24T00:00:00",
          "2022-05-25T00:00:00",
          "2022-05-26T00:00:00",
          "2022-05-27T00:00:00",
          "2022-05-28T00:00:00",
          "2022-05-29T00:00:00",
          "2022-05-30T00:00:00",
          "2022-05-31T00:00:00",
          "2022-06-01T00:00:00",
          "2022-06-02T00:00:00",
          "2022-06-03T00:00:00",
          "2022-06-04T00:00:00",
          "2022-06-05T00:00:00",
          "2022-06-06T00:00:00",
          "2022-06-07T00:00:00",
          "2022-06-08T00:00:00",
          "2022-06-09T00:00:00",
          "2022-06-10T00:00:00",
          "2022-06-11T00:00:00",
          "2022-06-12T00:00:00",
          "2022-06-13T00:00:00",
          "2022-06-14T00:00:00",
          "2022-06-15T00:00:00",
          "2022-06-16T00:00:00",
          "2022-06-17T00:00:00",
          "2022-06-18T00:00:00",
          "2022-06-19T00:00:00",
          "2022-06-20T00:00:00",
          "2022-06-21T00:00:00",
          "2022-06-22T00:00:00",
          "2022-06-23T00:00:00",
          "2022-06-24T00:00:00",
          "2022-06-25T00:00:00",
          "2022-06-26T00:00:00",
          "2022-06-27T00:00:00",
          "2022-06-28T00:00:00",
          "2022-06-29T00:00:00",
          "2022-06-30T00:00:00",
          "2022-07-01T00:00:00",
          "2022-07-02T00:00:00",
          "2022-07-03T00:00:00",
          "2022-07-04T00:00:00",
          "2022-07-05T00:00:00",
          "2022-07-06T00:00:00",
          "2022-07-07T00:00:00",
          "2022-07-08T00:00:00",
          "2022-07-09T00:00:00",
          "2022-07-10T00:00:00",
          "2022-07-11T00:00:00",
          "2022-07-12T00:00:00",
          "2022-07-13T00:00:00",
          "2022-07-14T00:00:00",
          "2022-07-15T00:00:00",
          "2022-07-16T00:00:00",
          "2022-07-17T00:00:00",
          "2022-07-18T00:00:00",
          "2022-07-19T00:00:00",
          "2022-07-20T00:00:00",
          "2022-07-21T00:00:00",
          "2022-07-22T00:00:00",
          "2022-07-23T00:00:00",
          "2022-07-24T00:00:00",
          "2022-07-25T00:00:00",
          "2022-07-26T00:00:00",
          "2022-07-27T00:00:00",
          "2022-07-28T00:00:00",
          "2022-07-29T00:00:00",
          "2022-07-30T00:00:00",
          "2022-07-31T00:00:00",
          "2022-08-01T00:00:00",
          "2022-08-02T00:00:00",
          "2022-08-03T00:00:00",
          "2022-08-04T00:00:00",
          "2022-08-05T00:00:00",
          "2022-08-06T00:00:00",
          "2022-08-07T00:00:00",
          "2022-08-08T00:00:00",
          "2022-08-09T00:00:00",
          "2022-08-10T00:00:00",
          "2022-08-11T00:00:00",
          "2022-08-12T00:00:00",
          "2022-08-13T00:00:00",
          "2022-08-14T00:00:00",
          "2022-08-15T00:00:00",
          "2022-08-16T00:00:00",
          "2022-08-17T00:00:00",
          "2022-08-18T00:00:00",
          "2022-08-19T00:00:00",
          "2022-08-20T00:00:00",
          "2022-08-21T00:00:00",
          "2022-08-22T00:00:00",
          "2022-08-23T00:00:00",
          "2022-08-24T00:00:00",
          "2022-08-25T00:00:00",
          "2022-08-26T00:00:00",
          "2022-08-27T00:00:00",
          "2022-08-28T00:00:00",
          "2022-08-29T00:00:00",
          "2022-08-30T00:00:00",
          "2022-08-31T00:00:00",
          "2022-09-01T00:00:00",
          "2022-09-02T00:00:00",
          "2022-09-03T00:00:00",
          "2022-09-04T00:00:00",
          "2022-09-05T00:00:00",
          "2022-09-07T00:00:00",
          "2022-09-08T00:00:00",
          "2022-09-09T00:00:00",
          "2022-09-10T00:00:00",
          "2022-09-11T00:00:00",
          "2022-09-12T00:00:00",
          "2022-09-13T00:00:00",
          "2022-09-14T00:00:00",
          "2022-09-15T00:00:00",
          "2022-09-16T00:00:00",
          "2022-09-17T00:00:00",
          "2022-09-18T00:00:00",
          "2022-09-19T00:00:00",
          "2022-09-20T00:00:00",
          "2022-09-21T00:00:00",
          "2022-09-22T00:00:00",
          "2022-09-23T00:00:00",
          "2022-09-24T00:00:00",
          "2022-09-25T00:00:00",
          "2022-09-26T00:00:00",
          "2022-09-27T00:00:00",
          "2022-09-28T00:00:00",
          "2022-09-29T00:00:00",
          "2022-09-30T00:00:00",
          "2022-10-01T00:00:00",
          "2022-10-02T00:00:00",
          "2022-10-03T00:00:00",
          "2022-10-04T00:00:00",
          "2022-10-05T00:00:00",
          "2022-10-06T00:00:00",
          "2022-10-07T00:00:00",
          "2022-10-08T00:00:00",
          "2022-10-09T00:00:00",
          "2022-10-10T00:00:00",
          "2022-10-11T00:00:00",
          "2022-10-12T00:00:00",
          "2022-10-13T00:00:00",
          "2022-10-14T00:00:00",
          "2022-10-15T00:00:00",
          "2022-10-16T00:00:00",
          "2022-10-17T00:00:00",
          "2022-10-18T00:00:00",
          "2022-10-19T00:00:00",
          "2022-10-20T00:00:00",
          "2022-10-21T00:00:00",
          "2022-10-22T00:00:00",
          "2022-10-23T00:00:00",
          "2022-10-24T00:00:00",
          "2022-10-25T00:00:00",
          "2022-10-26T00:00:00",
          "2022-10-27T00:00:00",
          "2022-10-28T00:00:00",
          "2022-10-29T00:00:00",
          "2022-10-30T00:00:00",
          "2022-10-31T00:00:00",
          "2022-11-01T00:00:00",
          "2022-11-02T00:00:00",
          "2022-11-03T00:00:00",
          "2022-11-04T00:00:00",
          "2022-11-05T00:00:00",
          "2022-11-06T00:00:00",
          "2022-11-07T00:00:00",
          "2022-11-08T00:00:00",
          "2022-11-09T00:00:00",
          "2022-11-10T00:00:00",
          "2022-11-11T00:00:00",
          "2022-11-12T00:00:00",
          "2022-11-13T00:00:00",
          "2022-11-14T00:00:00",
          "2022-11-15T00:00:00",
          "2022-11-16T00:00:00",
          "2022-11-17T00:00:00",
          "2022-11-18T00:00:00",
          "2022-11-19T00:00:00",
          "2022-11-20T00:00:00",
          "2022-11-21T00:00:00",
          "2022-11-22T00:00:00",
          "2022-11-23T00:00:00",
          "2022-11-24T00:00:00",
          "2022-11-25T00:00:00",
          "2022-11-26T00:00:00",
          "2022-11-27T00:00:00",
          "2022-11-28T00:00:00",
          "2022-11-29T00:00:00",
          "2022-11-30T00:00:00",
          "2022-12-01T00:00:00",
          "2022-12-02T00:00:00",
          "2022-12-03T00:00:00",
          "2022-12-04T00:00:00",
          "2022-12-05T00:00:00",
          "2022-12-06T00:00:00",
          "2022-12-07T00:00:00",
          "2022-12-08T00:00:00",
          "2022-12-09T00:00:00",
          "2022-12-10T00:00:00",
          "2022-12-11T00:00:00",
          "2022-12-12T00:00:00",
          "2022-12-13T00:00:00",
          "2022-12-14T00:00:00",
          "2022-12-15T00:00:00",
          "2022-12-16T00:00:00",
          "2022-12-17T00:00:00",
          "2022-12-18T00:00:00",
          "2022-12-19T00:00:00",
          "2022-12-20T00:00:00",
          "2022-12-21T00:00:00",
          "2022-12-22T00:00:00",
          "2022-12-23T00:00:00",
          "2022-12-24T00:00:00",
          "2022-12-25T00:00:00",
          "2022-12-26T00:00:00",
          "2022-12-27T00:00:00",
          "2022-12-28T00:00:00",
          "2022-12-29T00:00:00",
          "2022-12-30T00:00:00",
          "2022-12-31T00:00:00",
          "2023-01-01T00:00:00",
          "2023-01-02T00:00:00",
          "2023-01-03T00:00:00",
          "2023-01-04T00:00:00",
          "2023-01-05T00:00:00",
          "2023-01-06T00:00:00",
          "2023-01-07T00:00:00",
          "2023-01-08T00:00:00",
          "2023-01-09T00:00:00",
          "2023-01-10T00:00:00",
          "2023-01-11T00:00:00",
          "2023-01-12T00:00:00",
          "2023-01-13T00:00:00",
          "2023-01-14T00:00:00",
          "2023-01-15T00:00:00",
          "2023-01-16T00:00:00",
          "2023-01-17T00:00:00",
          "2023-01-18T00:00:00",
          "2023-01-19T00:00:00",
          "2023-01-20T00:00:00",
          "2023-01-21T00:00:00",
          "2023-01-22T00:00:00",
          "2023-01-23T00:00:00",
          "2023-01-24T00:00:00",
          "2023-01-25T00:00:00",
          "2023-01-26T00:00:00",
          "2023-01-27T00:00:00",
          "2023-01-28T00:00:00",
          "2023-01-29T00:00:00",
          "2023-01-30T00:00:00",
          "2023-01-31T00:00:00"
         ],
         "y": [
          10000,
          12616.453125,
          12557.453125,
          12011.3388671875,
          12760.123046875,
          13640.984375,
          12996.2578125,
          13593.365234375,
          12699.109375,
          12884.7939453125,
          12994.0244140625,
          12835.921875,
          12107.763671875,
          11565.083984375,
          11349.8642578125,
          12316.01953125,
          12789.2861328125,
          12735.6552734375,
          12178.958984375,
          11572.482421875,
          11027.8330078125,
          10786.2783203125,
          9685.0107421875,
          9405.2802734375,
          10061.5703125,
          9519.9931640625,
          10080.712890625,
          10743.5224609375,
          10060.4326171875,
          10109.58203125,
          10475.5888671875,
          10371.0234375,
          9734.3046875,
          9705.2919921875,
          9319.5,
          8896.42578125,
          7358.11279296875,
          6688.78515625,
          7269.0927734375,
          7028.39599609375,
          7641.181640625,
          7401.38818359375,
          7215.85498046875,
          7545.72021484375,
          8110.15380859375,
          7705.7900390625,
          7824.12841796875,
          8294.576171875,
          7601.74267578125,
          7618.90673828125,
          8651.4453125,
          8675.173828125,
          8799.431640625,
          9335.7294921875,
          9762.60546875,
          10146.0576171875,
          10208.498046875,
          9149.1298828125,
          9150.4072265625,
          8817.068359375,
          9258.3876953125,
          10417.22265625,
          10718.8642578125,
          9967.59765625,
          9408.2216796875,
          9523.255859375,
          8728.0439453125,
          7906.83837890625,
          8405.3515625,
          8298.634765625,
          8619.419921875,
          9100.4736328125,
          9186.4912109375,
          8389.619140625,
          9504.994140625,
          9778.8603515625,
          9356.01953125,
          8853.263671875,
          8531.0693359375,
          8643.8984375,
          8140.78857421875,
          8112.962890625,
          8218.064453125,
          8726.763671875,
          8321.8662109375,
          8001.64013671875,
          7990.0380859375,
          7636.13232421875,
          7744.56103515625,
          7853.52734375,
          8328.88671875,
          8956.27734375,
          9662.0380859375,
          10055.9404296875,
          9557.6376953125,
          9722.796875,
          9451.953125,
          9670.2021484375,
          9840.6435546875,
          9404.5947265625,
          9692.52734375,
          10111.328125,
          10070.6357421875,
          10433.6845703125,
          10753.302734375,
          10930.705078125,
          10891.9580078125,
          10823.46875,
          11016.6015625,
          10782.0947265625,
          10231.994140625,
          9323.4091796875,
          9896.6376953125,
          9420.8115234375,
          9494.380859375,
          9140.1416015625,
          8354.224609375,
          8595.8818359375,
          9002.36328125,
          8656.56640625,
          8691.744140625,
          8780.0966796875,
          8516.0908203125,
          8735.5302734375,
          9018.8291015625,
          8831.2392578125,
          8434.626953125,
          8330.341796875,
          8188.6865234375,
          8078.76953125,
          8196.0615234375,
          7712.265625,
          7845.9208984375,
          7555.22314453125,
          7129.09619140625,
          6421.47998046875,
          6612.1640625,
          6803.3232421875,
          6690.22900390625,
          7562.53466796875,
          6649.8779296875,
          6416.0595703125,
          6208.02783203125,
          5803.208984375,
          4667.25390625,
          5011.7470703125,
          3475.134521484375,
          3403.71728515625,
          3612.218994140625,
          3822.78271484375,
          4107.96728515625,
          3654.82861328125,
          3874.83984375,
          3313.7763671875,
          3423.0087890625,
          3245.154296875,
          3360.753662109375,
          3566.236328125,
          3267.781494140625,
          3260.63427734375,
          3063.69384765625,
          2634.21875,
          2529.67431640625,
          2790.912353515625,
          2939.986328125,
          3108.025390625,
          2967.189208984375,
          2662.74365234375,
          2772.146484375,
          2582.71923828125,
          2758.95654296875,
          2719.63916015625,
          2918.22216796875,
          2771.1796875,
          2751.9775390625,
          2740.46142578125,
          2480.21435546875,
          2225.178955078125,
          1945.01416015625,
          1807.033203125,
          1862.7691650390625,
          2054.882568359375,
          1773.24072265625,
          1793.9219970703125,
          1670.917236328125,
          1820.6124267578125,
          1927.602783203125,
          1900.364013671875,
          1809.3287353515625,
          2053.916259765625,
          2299.676025390625,
          2403.937255859375,
          2213.450927734375,
          2165.63720703125,
          2032.8311767578125,
          1991.479736328125,
          1906.9071044921875,
          1806.5982666015625,
          1840.2415771484375,
          1871.493408203125,
          2017.89111328125,
          2029.724609375,
          2159.802978515625,
          2276.241455078125,
          2222.481689453125,
          2239.92236328125,
          2151.580810546875,
          1954.0167236328125,
          1885.470458984375,
          2119.9599609375,
          2224.81591796875,
          2172.51123046875,
          2389.4228515625,
          2321.406494140625,
          2697.874755859375,
          2780.703369140625,
          2657.716552734375,
          2814.276123046875,
          2663.848876953125,
          2663.27294921875,
          2686.734619140625,
          2353.551513671875,
          2326.846923828125,
          2636.38720703125,
          2723.34423828125,
          2762.367919921875,
          2725.0576171875,
          2670.154296875,
          2658.97314453125,
          2568.989013671875,
          2599.55419921875,
          2634.23486328125,
          2803.04931640625,
          3000.522705078125,
          3133.3095703125,
          3138.1826171875,
          3082.8544921875,
          3277.33984375,
          3208.841796875,
          3297.491455078125,
          3277.72607421875,
          3175.9306640625,
          3140.376953125,
          3056.29541015625,
          2868.4345703125,
          2726.2109375,
          2531.265380859375,
          2505.2998046875,
          2589.615478515625,
          2540.278564453125,
          2650.14013671875,
          2595.5654296875,
          2588.703369140625,
          2320.1982421875,
          2261.13818359375,
          2079.447265625,
          2178.64208984375,
          2176.06982421875,
          2148.681640625,
          2168,
          2121.5361328125,
          2119.000732421875,
          2137.96533203125,
          2122.712646484375,
          2132.488037109375,
          2155.73388671875,
          2294.334716796875,
          2309.008056640625,
          2323.017333984375,
          2401.059326171875,
          2124.653564453125,
          2151.388916015625,
          2047.1031494140625,
          2026.56787109375,
          2079.746337890625,
          1881.354736328125,
          1947.4168701171875,
          1877.7757568359375,
          1866.3719482421875,
          1991.38134765625,
          2020.61767578125,
          1982.9544677734375,
          1950.6728515625,
          1973.7271728515625,
          1946.07470703125,
          1943.8765869140625,
          1951.89013671875,
          1932.2266845703125,
          1912.90283203125,
          1859.4459228515625,
          1936.369140625,
          1960.7767333984375,
          1954.9451904296875,
          1920.06005859375,
          1901.94140625,
          1885.0484619140625,
          1896.7908935546875,
          1821.930419921875,
          1790.86083984375,
          1799.12890625,
          1764.7064208984375,
          1761.76513671875,
          1738.4569091796875,
          1774.7750244140625,
          1825.55712890625,
          1786.414794921875,
          1696.104736328125,
          1709.56298828125,
          1765.983642578125,
          1766.575927734375,
          1838.510986328125,
          1774.400390625,
          1877.50439453125,
          1917.6392822265625,
          1903.197265625,
          2062.0244140625,
          2056.75537109375,
          2050.829833984375,
          2176.76171875,
          2101.2568359375,
          2013.66796875,
          2029.30224609375,
          2179.439208984375,
          2208.953369140625,
          2050.716064453125,
          2031.69140625,
          1803.955810546875,
          1447.3970947265625,
          1725.3062744140625,
          1588.133544921875,
          1468.5638427734375,
          1465.8905029296875,
          1476.2352294921875,
          1515.3472900390625,
          1468.7823486328125,
          1452.234375,
          1460.26708984375,
          1451.964111328125,
          1369.1092529296875,
          1332.2816162109375,
          1387.6802978515625,
          1463.8369140625,
          1456.84423828125,
          1445.8675537109375,
          1435.2947998046875,
          1450.8148193359375,
          1402.4178466796875,
          1406.05029296875,
          1480.0628662109375,
          1449.9609375,
          1525.54345703125,
          1514.4852294921875,
          1566.2474365234375,
          1528.2171630859375,
          1534.6058349609375,
          1490.316650390625,
          1509.388916015625,
          1511.5928955078125,
          1517.0447998046875,
          1462.3421630859375,
          1461.799072265625,
          1543.89208984375,
          1543.920166015625,
          1478.761474609375,
          1330.78125,
          1342.71435546875,
          1343.399658203125,
          1280.0244140625,
          1347.4476318359375,
          1314.50927734375,
          1328.4903564453125,
          1324.6851806640625,
          1315.061279296875,
          1313.7821044921875,
          1317.0020751953125,
          1308.9884033203125,
          1259.8316650390625,
          1237.1947021484375,
          1222.380126953125,
          1225.6627197265625,
          1222.0244140625,
          1253.656982421875,
          1277.5391845703125,
          1355.322265625,
          1318.9471435546875,
          1323.5792236328125,
          1317.1903076171875,
          1358.284912109375,
          1372.5936279296875,
          1432.0072021484375,
          1786.790771484375,
          1734.0439453125,
          1790.888427734375,
          1910.3123779296875,
          1889.119140625,
          1882.603515625,
          1932.927001953125,
          1780.106689453125,
          1814.6890869140625,
          1967.099609375,
          1903.701171875,
          1951.638671875,
          2027.3931884765625,
          1914.20556640625,
          2003.9366455078125,
          2041.112548828125,
          2381.48779296875,
          2314.83544921875,
          2369.363037109375,
          2217.83544921875,
          2235.14453125
         ]
        }
       ],
       "layout": {
        "height": 1200,
        "legend": {
         "orientation": "h",
         "x": 1,
         "xanchor": "right",
         "y": 1.02,
         "yanchor": "bottom"
        },
        "template": {
         "data": {
          "bar": [
           {
            "error_x": {
             "color": "#2a3f5f"
            },
            "error_y": {
             "color": "#2a3f5f"
            },
            "marker": {
             "line": {
              "color": "#E5ECF6",
              "width": 0.5
             },
             "pattern": {
              "fillmode": "overlay",
              "size": 10,
              "solidity": 0.2
             }
            },
            "type": "bar"
           }
          ],
          "barpolar": [
           {
            "marker": {
             "line": {
              "color": "#E5ECF6",
              "width": 0.5
             },
             "pattern": {
              "fillmode": "overlay",
              "size": 10,
              "solidity": 0.2
             }
            },
            "type": "barpolar"
           }
          ],
          "carpet": [
           {
            "aaxis": {
             "endlinecolor": "#2a3f5f",
             "gridcolor": "white",
             "linecolor": "white",
             "minorgridcolor": "white",
             "startlinecolor": "#2a3f5f"
            },
            "baxis": {
             "endlinecolor": "#2a3f5f",
             "gridcolor": "white",
             "linecolor": "white",
             "minorgridcolor": "white",
             "startlinecolor": "#2a3f5f"
            },
            "type": "carpet"
           }
          ],
          "choropleth": [
           {
            "colorbar": {
             "outlinewidth": 0,
             "ticks": ""
            },
            "type": "choropleth"
           }
          ],
          "contour": [
           {
            "colorbar": {
             "outlinewidth": 0,
             "ticks": ""
            },
            "colorscale": [
             [
              0,
              "#0d0887"
             ],
             [
              0.1111111111111111,
              "#46039f"
             ],
             [
              0.2222222222222222,
              "#7201a8"
             ],
             [
              0.3333333333333333,
              "#9c179e"
             ],
             [
              0.4444444444444444,
              "#bd3786"
             ],
             [
              0.5555555555555556,
              "#d8576b"
             ],
             [
              0.6666666666666666,
              "#ed7953"
             ],
             [
              0.7777777777777778,
              "#fb9f3a"
             ],
             [
              0.8888888888888888,
              "#fdca26"
             ],
             [
              1,
              "#f0f921"
             ]
            ],
            "type": "contour"
           }
          ],
          "contourcarpet": [
           {
            "colorbar": {
             "outlinewidth": 0,
             "ticks": ""
            },
            "type": "contourcarpet"
           }
          ],
          "heatmap": [
           {
            "colorbar": {
             "outlinewidth": 0,
             "ticks": ""
            },
            "colorscale": [
             [
              0,
              "#0d0887"
             ],
             [
              0.1111111111111111,
              "#46039f"
             ],
             [
              0.2222222222222222,
              "#7201a8"
             ],
             [
              0.3333333333333333,
              "#9c179e"
             ],
             [
              0.4444444444444444,
              "#bd3786"
             ],
             [
              0.5555555555555556,
              "#d8576b"
             ],
             [
              0.6666666666666666,
              "#ed7953"
             ],
             [
              0.7777777777777778,
              "#fb9f3a"
             ],
             [
              0.8888888888888888,
              "#fdca26"
             ],
             [
              1,
              "#f0f921"
             ]
            ],
            "type": "heatmap"
           }
          ],
          "heatmapgl": [
           {
            "colorbar": {
             "outlinewidth": 0,
             "ticks": ""
            },
            "colorscale": [
             [
              0,
              "#0d0887"
             ],
             [
              0.1111111111111111,
              "#46039f"
             ],
             [
              0.2222222222222222,
              "#7201a8"
             ],
             [
              0.3333333333333333,
              "#9c179e"
             ],
             [
              0.4444444444444444,
              "#bd3786"
             ],
             [
              0.5555555555555556,
              "#d8576b"
             ],
             [
              0.6666666666666666,
              "#ed7953"
             ],
             [
              0.7777777777777778,
              "#fb9f3a"
             ],
             [
              0.8888888888888888,
              "#fdca26"
             ],
             [
              1,
              "#f0f921"
             ]
            ],
            "type": "heatmapgl"
           }
          ],
          "histogram": [
           {
            "marker": {
             "pattern": {
              "fillmode": "overlay",
              "size": 10,
              "solidity": 0.2
             }
            },
            "type": "histogram"
           }
          ],
          "histogram2d": [
           {
            "colorbar": {
             "outlinewidth": 0,
             "ticks": ""
            },
            "colorscale": [
             [
              0,
              "#0d0887"
             ],
             [
              0.1111111111111111,
              "#46039f"
             ],
             [
              0.2222222222222222,
              "#7201a8"
             ],
             [
              0.3333333333333333,
              "#9c179e"
             ],
             [
              0.4444444444444444,
              "#bd3786"
             ],
             [
              0.5555555555555556,
              "#d8576b"
             ],
             [
              0.6666666666666666,
              "#ed7953"
             ],
             [
              0.7777777777777778,
              "#fb9f3a"
             ],
             [
              0.8888888888888888,
              "#fdca26"
             ],
             [
              1,
              "#f0f921"
             ]
            ],
            "type": "histogram2d"
           }
          ],
          "histogram2dcontour": [
           {
            "colorbar": {
             "outlinewidth": 0,
             "ticks": ""
            },
            "colorscale": [
             [
              0,
              "#0d0887"
             ],
             [
              0.1111111111111111,
              "#46039f"
             ],
             [
              0.2222222222222222,
              "#7201a8"
             ],
             [
              0.3333333333333333,
              "#9c179e"
             ],
             [
              0.4444444444444444,
              "#bd3786"
             ],
             [
              0.5555555555555556,
              "#d8576b"
             ],
             [
              0.6666666666666666,
              "#ed7953"
             ],
             [
              0.7777777777777778,
              "#fb9f3a"
             ],
             [
              0.8888888888888888,
              "#fdca26"
             ],
             [
              1,
              "#f0f921"
             ]
            ],
            "type": "histogram2dcontour"
           }
          ],
          "mesh3d": [
           {
            "colorbar": {
             "outlinewidth": 0,
             "ticks": ""
            },
            "type": "mesh3d"
           }
          ],
          "parcoords": [
           {
            "line": {
             "colorbar": {
              "outlinewidth": 0,
              "ticks": ""
             }
            },
            "type": "parcoords"
           }
          ],
          "pie": [
           {
            "automargin": true,
            "type": "pie"
           }
          ],
          "scatter": [
           {
            "fillpattern": {
             "fillmode": "overlay",
             "size": 10,
             "solidity": 0.2
            },
            "type": "scatter"
           }
          ],
          "scatter3d": [
           {
            "line": {
             "colorbar": {
              "outlinewidth": 0,
              "ticks": ""
             }
            },
            "marker": {
             "colorbar": {
              "outlinewidth": 0,
              "ticks": ""
             }
            },
            "type": "scatter3d"
           }
          ],
          "scattercarpet": [
           {
            "marker": {
             "colorbar": {
              "outlinewidth": 0,
              "ticks": ""
             }
            },
            "type": "scattercarpet"
           }
          ],
          "scattergeo": [
           {
            "marker": {
             "colorbar": {
              "outlinewidth": 0,
              "ticks": ""
             }
            },
            "type": "scattergeo"
           }
          ],
          "scattergl": [
           {
            "marker": {
             "colorbar": {
              "outlinewidth": 0,
              "ticks": ""
             }
            },
            "type": "scattergl"
           }
          ],
          "scattermapbox": [
           {
            "marker": {
             "colorbar": {
              "outlinewidth": 0,
              "ticks": ""
             }
            },
            "type": "scattermapbox"
           }
          ],
          "scatterpolar": [
           {
            "marker": {
             "colorbar": {
              "outlinewidth": 0,
              "ticks": ""
             }
            },
            "type": "scatterpolar"
           }
          ],
          "scatterpolargl": [
           {
            "marker": {
             "colorbar": {
              "outlinewidth": 0,
              "ticks": ""
             }
            },
            "type": "scatterpolargl"
           }
          ],
          "scatterternary": [
           {
            "marker": {
             "colorbar": {
              "outlinewidth": 0,
              "ticks": ""
             }
            },
            "type": "scatterternary"
           }
          ],
          "surface": [
           {
            "colorbar": {
             "outlinewidth": 0,
             "ticks": ""
            },
            "colorscale": [
             [
              0,
              "#0d0887"
             ],
             [
              0.1111111111111111,
              "#46039f"
             ],
             [
              0.2222222222222222,
              "#7201a8"
             ],
             [
              0.3333333333333333,
              "#9c179e"
             ],
             [
              0.4444444444444444,
              "#bd3786"
             ],
             [
              0.5555555555555556,
              "#d8576b"
             ],
             [
              0.6666666666666666,
              "#ed7953"
             ],
             [
              0.7777777777777778,
              "#fb9f3a"
             ],
             [
              0.8888888888888888,
              "#fdca26"
             ],
             [
              1,
              "#f0f921"
             ]
            ],
            "type": "surface"
           }
          ],
          "table": [
           {
            "cells": {
             "fill": {
              "color": "#EBF0F8"
             },
             "line": {
              "color": "white"
             }
            },
            "header": {
             "fill": {
              "color": "#C8D4E3"
             },
             "line": {
              "color": "white"
             }
            },
            "type": "table"
           }
          ]
         },
         "layout": {
          "annotationdefaults": {
           "arrowcolor": "#2a3f5f",
           "arrowhead": 0,
           "arrowwidth": 1
          },
          "autotypenumbers": "strict",
          "coloraxis": {
           "colorbar": {
            "outlinewidth": 0,
            "ticks": ""
           }
          },
          "colorscale": {
           "diverging": [
            [
             0,
             "#8e0152"
            ],
            [
             0.1,
             "#c51b7d"
            ],
            [
             0.2,
             "#de77ae"
            ],
            [
             0.3,
             "#f1b6da"
            ],
            [
             0.4,
             "#fde0ef"
            ],
            [
             0.5,
             "#f7f7f7"
            ],
            [
             0.6,
             "#e6f5d0"
            ],
            [
             0.7,
             "#b8e186"
            ],
            [
             0.8,
             "#7fbc41"
            ],
            [
             0.9,
             "#4d9221"
            ],
            [
             1,
             "#276419"
            ]
           ],
           "sequential": [
            [
             0,
             "#0d0887"
            ],
            [
             0.1111111111111111,
             "#46039f"
            ],
            [
             0.2222222222222222,
             "#7201a8"
            ],
            [
             0.3333333333333333,
             "#9c179e"
            ],
            [
             0.4444444444444444,
             "#bd3786"
            ],
            [
             0.5555555555555556,
             "#d8576b"
            ],
            [
             0.6666666666666666,
             "#ed7953"
            ],
            [
             0.7777777777777778,
             "#fb9f3a"
            ],
            [
             0.8888888888888888,
             "#fdca26"
            ],
            [
             1,
             "#f0f921"
            ]
           ],
           "sequentialminus": [
            [
             0,
             "#0d0887"
            ],
            [
             0.1111111111111111,
             "#46039f"
            ],
            [
             0.2222222222222222,
             "#7201a8"
            ],
            [
             0.3333333333333333,
             "#9c179e"
            ],
            [
             0.4444444444444444,
             "#bd3786"
            ],
            [
             0.5555555555555556,
             "#d8576b"
            ],
            [
             0.6666666666666666,
             "#ed7953"
            ],
            [
             0.7777777777777778,
             "#fb9f3a"
            ],
            [
             0.8888888888888888,
             "#fdca26"
            ],
            [
             1,
             "#f0f921"
            ]
           ]
          },
          "colorway": [
           "#636efa",
           "#EF553B",
           "#00cc96",
           "#ab63fa",
           "#FFA15A",
           "#19d3f3",
           "#FF6692",
           "#B6E880",
           "#FF97FF",
           "#FECB52"
          ],
          "font": {
           "color": "#2a3f5f"
          },
          "geo": {
           "bgcolor": "white",
           "lakecolor": "white",
           "landcolor": "#E5ECF6",
           "showlakes": true,
           "showland": true,
           "subunitcolor": "white"
          },
          "hoverlabel": {
           "align": "left"
          },
          "hovermode": "closest",
          "mapbox": {
           "style": "light"
          },
          "paper_bgcolor": "white",
          "plot_bgcolor": "#E5ECF6",
          "polar": {
           "angularaxis": {
            "gridcolor": "white",
            "linecolor": "white",
            "ticks": ""
           },
           "bgcolor": "#E5ECF6",
           "radialaxis": {
            "gridcolor": "white",
            "linecolor": "white",
            "ticks": ""
           }
          },
          "scene": {
           "xaxis": {
            "backgroundcolor": "#E5ECF6",
            "gridcolor": "white",
            "gridwidth": 2,
            "linecolor": "white",
            "showbackground": true,
            "ticks": "",
            "zerolinecolor": "white"
           },
           "yaxis": {
            "backgroundcolor": "#E5ECF6",
            "gridcolor": "white",
            "gridwidth": 2,
            "linecolor": "white",
            "showbackground": true,
            "ticks": "",
            "zerolinecolor": "white"
           },
           "zaxis": {
            "backgroundcolor": "#E5ECF6",
            "gridcolor": "white",
            "gridwidth": 2,
            "linecolor": "white",
            "showbackground": true,
            "ticks": "",
            "zerolinecolor": "white"
           }
          },
          "shapedefaults": {
           "line": {
            "color": "#2a3f5f"
           }
          },
          "ternary": {
           "aaxis": {
            "gridcolor": "white",
            "linecolor": "white",
            "ticks": ""
           },
           "baxis": {
            "gridcolor": "white",
            "linecolor": "white",
            "ticks": ""
           },
           "bgcolor": "#E5ECF6",
           "caxis": {
            "gridcolor": "white",
            "linecolor": "white",
            "ticks": ""
           }
          },
          "title": {
           "x": 0.05
          },
          "xaxis": {
           "automargin": true,
           "gridcolor": "white",
           "linecolor": "white",
           "ticks": "",
           "title": {
            "standoff": 15
           },
           "zerolinecolor": "white",
           "zerolinewidth": 2
          },
          "yaxis": {
           "automargin": true,
           "gridcolor": "white",
           "linecolor": "white",
           "ticks": "",
           "title": {
            "standoff": 15
           },
           "zerolinecolor": "white",
           "zerolinewidth": 2
          }
         }
        },
        "title": {
         "text": "Portfolio construction model example strategy portfolio value"
        },
        "xaxis": {
         "rangeslider": {
          "visible": false
         }
        },
        "yaxis": {
         "showgrid": false,
         "title": {
          "text": "Value $"
         }
        }
       }
      }
     },
     "metadata": {},
     "output_type": "display_data"
    }
   ],
   "source": [
    "from tradeexecutor.visual.benchmark import visualise_benchmark\n",
    "\n",
    "avax_usd = universe.get_pair_by_human_description((ChainId.avalanche, \"trader-joe\", \"WAVAX\", \"USDC\"))\n",
    "avax_candles = universe.universe.candles.get_candles_by_pair(avax_usd.internal_id)\n",
    "avax_price = avax_candles[\"close\"]\n",
    "\n",
    "fig = visualise_benchmark(\n",
    "    state.name,\n",
    "    portfolio_statistics=state.stats.portfolio,\n",
    "    all_cash=state.portfolio.get_initial_deposit(),\n",
    "    buy_and_hold_asset_name=\"AVAX\",\n",
    "    buy_and_hold_price_series=avax_price,\n",
    "    start_at=start_at,\n",
    "    end_at=end_at\n",
    ")\n",
    "\n",
    "fig.show()"
   ]
  },
  {
   "attachments": {},
   "cell_type": "markdown",
   "metadata": {},
   "source": [
    "## Analysing  the strategy success\n",
    "\n",
    "Here we calculate statistics on how well the strategy performed.\n",
    "\n",
    "- Won/lost trades\n",
    "- Timeline of taken positions with color coding of trade performance\n"
   ]
  },
  {
   "cell_type": "code",
   "execution_count": 8,
   "metadata": {
    "collapsed": false,
    "jupyter": {
     "outputs_hidden": false
    },
    "pycharm": {
     "is_executing": true
    }
   },
   "outputs": [],
   "source": [
    "from tradeexecutor.analysis.trade_analyser import build_trade_analysis\n",
    "\n",
    "analysis = build_trade_analysis(state.portfolio)"
   ]
  },
  {
   "cell_type": "markdown",
   "metadata": {},
   "source": [
    "### Strategy summary\n",
    "\n",
    "Overview of strategy performance\n",
    "\n"
   ]
  },
  {
   "cell_type": "code",
   "execution_count": 9,
   "metadata": {
    "collapsed": false,
    "jupyter": {
     "outputs_hidden": false
    },
    "pycharm": {
     "is_executing": true
    }
   },
   "outputs": [
    {
     "data": {
      "text/html": [
       "<div>\n",
       "<style scoped>\n",
       "    .dataframe tbody tr th:only-of-type {\n",
       "        vertical-align: middle;\n",
       "    }\n",
       "\n",
       "    .dataframe tbody tr th {\n",
       "        vertical-align: top;\n",
       "    }\n",
       "\n",
       "    .dataframe thead th {\n",
       "        text-align: right;\n",
       "    }\n",
       "</style>\n",
       "<table border=\"1\" class=\"dataframe\">\n",
       "  <thead>\n",
       "    <tr style=\"text-align: right;\">\n",
       "      <th></th>\n",
       "      <th>0</th>\n",
       "    </tr>\n",
       "  </thead>\n",
       "  <tbody>\n",
       "    <tr>\n",
       "      <th>Trading period length</th>\n",
       "      <td>512 days</td>\n",
       "    </tr>\n",
       "    <tr>\n",
       "      <th>Return %</th>\n",
       "      <td>-53.54%</td>\n",
       "    </tr>\n",
       "    <tr>\n",
       "      <th>Annualised return %</th>\n",
       "      <td>-38.17%</td>\n",
       "    </tr>\n",
       "    <tr>\n",
       "      <th>Cash at start</th>\n",
       "      <td>$10,000.00</td>\n",
       "    </tr>\n",
       "    <tr>\n",
       "      <th>Value at end</th>\n",
       "      <td>$4,645.97</td>\n",
       "    </tr>\n",
       "    <tr>\n",
       "      <th>Trade volume</th>\n",
       "      <td>$935,265.15</td>\n",
       "    </tr>\n",
       "    <tr>\n",
       "      <th>Trade win percent</th>\n",
       "      <td>48.16%</td>\n",
       "    </tr>\n",
       "    <tr>\n",
       "      <th>Total trades done</th>\n",
       "      <td>463</td>\n",
       "    </tr>\n",
       "    <tr>\n",
       "      <th>Won trades</th>\n",
       "      <td>223</td>\n",
       "    </tr>\n",
       "    <tr>\n",
       "      <th>Lost trades</th>\n",
       "      <td>240</td>\n",
       "    </tr>\n",
       "    <tr>\n",
       "      <th>Stop losses triggered</th>\n",
       "      <td>171</td>\n",
       "    </tr>\n",
       "    <tr>\n",
       "      <th>Stop loss % of all</th>\n",
       "      <td>36.93%</td>\n",
       "    </tr>\n",
       "    <tr>\n",
       "      <th>Stop loss % of lost</th>\n",
       "      <td>71.25%</td>\n",
       "    </tr>\n",
       "    <tr>\n",
       "      <th>Take profits triggered</th>\n",
       "      <td>206</td>\n",
       "    </tr>\n",
       "    <tr>\n",
       "      <th>Take profit % of all</th>\n",
       "      <td>44.49%</td>\n",
       "    </tr>\n",
       "    <tr>\n",
       "      <th>Take profit % of win</th>\n",
       "      <td>92.38%</td>\n",
       "    </tr>\n",
       "    <tr>\n",
       "      <th>Zero profit trades</th>\n",
       "      <td>0</td>\n",
       "    </tr>\n",
       "    <tr>\n",
       "      <th>Positions open at the end</th>\n",
       "      <td>3</td>\n",
       "    </tr>\n",
       "    <tr>\n",
       "      <th>Realised profit and loss</th>\n",
       "      <td>$-5,354.03</td>\n",
       "    </tr>\n",
       "    <tr>\n",
       "      <th>Portfolio unrealised value</th>\n",
       "      <td>$1,865.17</td>\n",
       "    </tr>\n",
       "    <tr>\n",
       "      <th>Extra returns on lending pool interest</th>\n",
       "      <td>$0.00</td>\n",
       "    </tr>\n",
       "    <tr>\n",
       "      <th>Cash left at the end</th>\n",
       "      <td>$2,780.80</td>\n",
       "    </tr>\n",
       "    <tr>\n",
       "      <th>Average winning trade profit %</th>\n",
       "      <td>12.89%</td>\n",
       "    </tr>\n",
       "    <tr>\n",
       "      <th>Average losing trade loss %</th>\n",
       "      <td>-13.85%</td>\n",
       "    </tr>\n",
       "    <tr>\n",
       "      <th>Biggest winning trade %</th>\n",
       "      <td>151.33%</td>\n",
       "    </tr>\n",
       "    <tr>\n",
       "      <th>Biggest losing trade %</th>\n",
       "      <td>-93.50%</td>\n",
       "    </tr>\n",
       "    <tr>\n",
       "      <th>Average duration of winning trades</th>\n",
       "      <td>2 days</td>\n",
       "    </tr>\n",
       "    <tr>\n",
       "      <th>Average duration of losing trades</th>\n",
       "      <td>2 days</td>\n",
       "    </tr>\n",
       "    <tr>\n",
       "      <th>LP fees paid</th>\n",
       "      <td>$2,568.12</td>\n",
       "    </tr>\n",
       "    <tr>\n",
       "      <th>LP fees paid % of volume</th>\n",
       "      <td>0.27%</td>\n",
       "    </tr>\n",
       "    <tr>\n",
       "      <th>Average trade:</th>\n",
       "      <td>-0.97%</td>\n",
       "    </tr>\n",
       "    <tr>\n",
       "      <th>Median trade:</th>\n",
       "      <td>-1.00%</td>\n",
       "    </tr>\n",
       "    <tr>\n",
       "      <th>Consecutive wins</th>\n",
       "      <td>10</td>\n",
       "    </tr>\n",
       "    <tr>\n",
       "      <th>Consecutive losses</th>\n",
       "      <td>12</td>\n",
       "    </tr>\n",
       "    <tr>\n",
       "      <th>Biggest realized risk</th>\n",
       "      <td>-12.38%</td>\n",
       "    </tr>\n",
       "    <tr>\n",
       "      <th>Avg realised risk</th>\n",
       "      <td>-1.66%</td>\n",
       "    </tr>\n",
       "    <tr>\n",
       "      <th>Max pullback of total capital</th>\n",
       "      <td>-27.11%</td>\n",
       "    </tr>\n",
       "    <tr>\n",
       "      <th>Max loss risk at opening of position</th>\n",
       "      <td>5.13%</td>\n",
       "    </tr>\n",
       "  </tbody>\n",
       "</table>\n",
       "</div>"
      ],
      "text/plain": [
       "                                                  0\n",
       "Trading period length                      512 days\n",
       "Return %                                    -53.54%\n",
       "Annualised return %                         -38.17%\n",
       "Cash at start                            $10,000.00\n",
       "Value at end                              $4,645.97\n",
       "Trade volume                            $935,265.15\n",
       "Trade win percent                            48.16%\n",
       "Total trades done                               463\n",
       "Won trades                                      223\n",
       "Lost trades                                     240\n",
       "Stop losses triggered                           171\n",
       "Stop loss % of all                           36.93%\n",
       "Stop loss % of lost                          71.25%\n",
       "Take profits triggered                          206\n",
       "Take profit % of all                         44.49%\n",
       "Take profit % of win                         92.38%\n",
       "Zero profit trades                                0\n",
       "Positions open at the end                         3\n",
       "Realised profit and loss                 $-5,354.03\n",
       "Portfolio unrealised value                $1,865.17\n",
       "Extra returns on lending pool interest        $0.00\n",
       "Cash left at the end                      $2,780.80\n",
       "Average winning trade profit %               12.89%\n",
       "Average losing trade loss %                 -13.85%\n",
       "Biggest winning trade %                     151.33%\n",
       "Biggest losing trade %                      -93.50%\n",
       "Average duration of winning trades           2 days\n",
       "Average duration of losing trades            2 days\n",
       "LP fees paid                              $2,568.12\n",
       "LP fees paid % of volume                      0.27%\n",
       "Average trade:                               -0.97%\n",
       "Median trade:                                -1.00%\n",
       "Consecutive wins                                 10\n",
       "Consecutive losses                               12\n",
       "Biggest realized risk                       -12.38%\n",
       "Avg realised risk                            -1.66%\n",
       "Max pullback of total capital               -27.11%\n",
       "Max loss risk at opening of position          5.13%"
      ]
     },
     "metadata": {},
     "output_type": "display_data"
    }
   ],
   "source": [
    "from IPython.core.display_functions import display\n",
    "\n",
    "summary = analysis.calculate_summary_statistics()\n",
    "\n",
    "with pd.option_context(\"display.max_row\", None):\n",
    "    display(summary.to_dataframe())"
   ]
  },
  {
   "cell_type": "markdown",
   "metadata": {},
   "source": []
  },
  {
   "cell_type": "markdown",
   "metadata": {},
   "source": [
    "## Finishing notes\n",
    "\n",
    "Print out a line to signal the notebook finished the execution successfully."
   ]
  },
  {
   "cell_type": "code",
   "execution_count": 10,
   "metadata": {
    "collapsed": false,
    "jupyter": {
     "outputs_hidden": false
    },
    "pycharm": {
     "is_executing": true
    }
   },
   "outputs": [
    {
     "name": "stdout",
     "output_type": "stream",
     "text": [
      "All ok\n"
     ]
    }
   ],
   "source": [
    "print(\"All ok\")"
   ]
  }
 ],
 "metadata": {
  "kernelspec": {
   "display_name": "trade-executor-8Oz1GdY1-py3.10",
   "language": "python",
   "name": "python3"
  },
  "language_info": {
   "codemirror_mode": {
    "name": "ipython",
    "version": 3
   },
   "file_extension": ".py",
   "mimetype": "text/x-python",
   "name": "python",
   "nbconvert_exporter": "python",
   "pygments_lexer": "ipython3",
   "version": "3.10.10"
  },
  "vscode": {
   "interpreter": {
    "hash": "7adede735167b7e67e1575a49b63099e273f8f003d80ae98ec60bd132e113570"
   }
  }
 },
 "nbformat": 4,
 "nbformat_minor": 4
}
