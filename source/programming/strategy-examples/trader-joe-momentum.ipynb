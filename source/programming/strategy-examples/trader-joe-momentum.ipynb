{
 "cells": [
  {
   "cell_type": "markdown",
   "metadata": {},
   "source": [
    "# Portfolio construction model example 2 (Trader Joe)\n",
    "\n",
    "This is an example notebook how to construct a momentum based portfolio construction strategy\n",
    "using [Trading Strategy framework](https://tradingstrategy.ai/docs/) and backtest it for DeFi tokens.\n",
    "\n",
    "This backtest uses alpha model approach where each trading pair has a signal\n",
    "and basede on the signal strenghts we construct new portfolio weightings \n",
    "for the upcoming week.\n",
    "\n",
    "Some highlights of this notebook:\n",
    "\n",
    "* **Not a realistic trading strategy, but more of an code example** - this may generate profits or loss but this is outside the scode of this example\n",
    "* Make sure you have studied some simpler backtesting examples first\n",
    "* The backtest has all its code within a single Jupyter notebook\n",
    "    - The backtest code and charts are self-contained in a single file\n",
    "    - The example code is easy to read\n",
    "* Runs a backtest for a momentum strategy\n",
    "    - Long only    \n",
    "    - Because the strategy is long only, it trades only in a bull market, defined by a moving average signal\n",
    "    - Automatically chooses tokens that enter and exit market at Trader Joe DEX on Avalanche\n",
    "    - Support pairs that trade against AVAX and USDC (quote tokens)\n",
    "    - Check trading pair available liquidity before taking any positions - uses coarse (resampled) liquidity data for liquidity aware backtesting    \n",
    "    - Pick some top tokens for each strategy cycle\n",
    "    - Based on using a trading pair momentum as an alpha signal\n",
    "    - Uses take profit / stop loss to close the positions outside the rebalance cycle\n",
    "    - Ignores price impact, and thus may cause unrealistic results\n",
    "    - Ignores extra fees on a three leg trade of USDC->AVAX->target asset when opening a position\n",
    "* Demostrates statistics and performance analyses\n",
    "    - Equity curve with comparison to buy and hold AVAX\n",
    "    - Bull/bear market indicator when the strategy is trading\n",
    "    - Summary statistics of the strategy\n",
    "    - Summary statistics of individual pairs traded\n",
    "* You need a [Trading Strategy API key](https://tradingstrategy.ai/trading-view/backtesting) to run the notebook\n",
    "* The notebook will download more than 10GB data\n",
    "* You will need a powerful computer to run this notebook (> 16GB RAM)\n",
    "\n"
   ]
  },
  {
   "cell_type": "markdown",
   "metadata": {},
   "source": [
    "## Strategy parameter set up\n",
    "\n",
    "Set up the parameters used in in this strategy backtest study.\n",
    "\n",
    "- Backtested blockchain, exchange and trading pair\n",
    "- Backtesting period\n",
    "- Different lookback and technical indicator periods\n",
    "- Take profit and stop loss thresholds\n",
    "- Minimu liquidity thresholds\n",
    "- Upwards momentum thresholds"
   ]
  },
  {
   "cell_type": "code",
   "execution_count": 1,
   "metadata": {
    "jupyter": {
     "outputs_hidden": false
    }
   },
   "outputs": [],
   "source": [
    "import datetime\n",
    "import pandas as pd\n",
    "\n",
    "from tradingstrategy.chain import ChainId\n",
    "from tradingstrategy.timebucket import TimeBucket\n",
    "from tradeexecutor.strategy.cycle import CycleDuration\n",
    "from tradeexecutor.strategy.strategy_module import StrategyType, TradeRouting, ReserveCurrency\n",
    "\n",
    "# Tell what trade execution engine version this strategy needs to use\n",
    "trading_strategy_engine_version = \"0.1\"\n",
    "\n",
    "# What kind of strategy we are running.\n",
    "# This tells we are going to use\n",
    "trading_strategy_type = StrategyType.managed_positions\n",
    "\n",
    "# How our trades are routed.\n",
    "# PancakeSwap basic routing supports two way trades with BUSD\n",
    "# and three way trades with BUSD-BNB hop.\n",
    "trade_routing = TradeRouting.ignore\n",
    "\n",
    "# Set cycle to 7 days and look back the momentum of the previous candle\n",
    "trading_strategy_cycle = CycleDuration.cycle_4d\n",
    "momentum_lookback_period = datetime.timedelta(days=4)\n",
    "\n",
    "# Hold N top coins for every cycle\n",
    "max_assets_in_portfolio = 3\n",
    "\n",
    "# Leave 20% cash buffer\n",
    "value_allocated_to_positions = 0.50\n",
    "\n",
    "#\n",
    "# Set the take profit/stop loss for our postions.\n",
    "# Aim for asymmetric opportunities - upside is higher than downside\n",
    "#\n",
    "\n",
    "# Set % stop loss over mid price\n",
    "stop_loss = 0.95\n",
    "\n",
    "# Set % take profit over mid price\n",
    "take_profit = 1.33\n",
    "\n",
    "# The momentum period price must be up % for us to take a long position\n",
    "#minimum_mometum_threshold = 0.025\n",
    "minimum_mometum_threshold = 0.015\n",
    "\n",
    "# The amount of XY liquidity a pair must have on Trader Joe before \n",
    "# we are happy to take any position.\n",
    "minimum_liquidity_threshold = 100_000\n",
    "\n",
    "# Don't bother with trades that would move position\n",
    "# less than 300 USD\n",
    "minimum_rebalance_trade_threshold = 300\n",
    "\n",
    "# decide_trades() operates on 1d candles\n",
    "candle_data_time_frame = TimeBucket.d1\n",
    "\n",
    "# Use hourly candles to trigger the stop loss\n",
    "stop_loss_data_granularity = TimeBucket.h1\n",
    "\n",
    "# Strategy keeps its cash in USDC\n",
    "reserve_currency = ReserveCurrency.usdc\n",
    "\n",
    "# Define the periods when the native asset price is\n",
    "# above its simple moving average (SMA)\n",
    "bull_market_moving_average_window = pd.Timedelta(days=20)\n",
    "\n",
    "# The duration of the backtesting period\n",
    "start_at = datetime.datetime(2021, 12, 1)\n",
    "end_at = datetime.datetime(2023, 2, 20)\n",
    "\n",
    "# Start with 10,000 USD\n",
    "initial_deposit = 10_000\n"
   ]
  },
  {
   "cell_type": "markdown",
   "metadata": {},
   "source": [
    "## Strategy logic and trade decisions\n",
    "\n",
    "`decide_trades` function decide what trades to take.\n",
    "In this example, we calculate two exponential moving averages\n",
    "(EMAs) and make decisions based on those.\n"
   ]
  },
  {
   "cell_type": "code",
   "execution_count": 2,
   "metadata": {
    "jupyter": {
     "outputs_hidden": false
    }
   },
   "outputs": [],
   "source": [
    "from tradeexecutor.state.visualisation import PlotKind\n",
    "from tradeexecutor.strategy.trading_strategy_universe import translate_trading_pair\n",
    "from typing import List, Dict\n",
    "\n",
    "from pandas_ta.overlap import sma\n",
    "\n",
    "from tradingstrategy.universe import Universe\n",
    "from tradeexecutor.strategy.weighting import weight_by_1_slash_n\n",
    "from tradeexecutor.strategy.alpha_model import AlphaModel\n",
    "from tradeexecutor.state.trade import TradeExecution\n",
    "from tradeexecutor.strategy.pricing_model import PricingModel\n",
    "from tradeexecutor.strategy.pandas_trader.position_manager import PositionManager\n",
    "from tradeexecutor.state.state import State\n",
    "\n",
    "\n",
    "def decide_trades(\n",
    "        timestamp: pd.Timestamp,\n",
    "        universe: Universe,\n",
    "        state: State,\n",
    "        pricing_model: PricingModel,\n",
    "        cycle_debug_data: Dict) -> List[TradeExecution]:\n",
    "\n",
    "    # Create a position manager helper class that allows us easily to create\n",
    "    # opening/closing trades for different positions\n",
    "    position_manager = PositionManager(timestamp, universe, state, pricing_model)\n",
    "\n",
    "    alpha_model = AlphaModel(timestamp)\n",
    "\n",
    "    # Watch out for the inclusive range and include and avoid peeking in the future\n",
    "    adjusted_timestamp = timestamp - pd.Timedelta(seconds=1)\n",
    "    start = adjusted_timestamp - momentum_lookback_period - datetime.timedelta(seconds=1)\n",
    "    end = adjusted_timestamp \n",
    "\n",
    "    candle_universe = universe.candles\n",
    "    pair_universe = universe.pairs\n",
    "\n",
    "    # First figure out are we in a bear or a bull market condition.\n",
    "    # Our rule for a bull market is that the price of the native token of the blockchain\n",
    "    # is above its simple moving average.\n",
    "    # Please see the notebook commments why we define this condition like this.\n",
    "    bullish = False\n",
    "\n",
    "    # Plot the AVAX simple moving average.\n",
    "    avax = pair_universe.get_pair(\n",
    "        ChainId.avalanche,\n",
    "        \"trader-joe\",\n",
    "        \"WAVAX\",\n",
    "        \"USDC\"\n",
    "    )\n",
    "\n",
    "    avax_candles = candle_universe.get_last_entries_by_pair_and_timestamp(avax.pair_id, timestamp)\n",
    "\n",
    "    if len(avax_candles) > 0:\n",
    "        avax_close = avax_candles[\"close\"]\n",
    "        avax_price_now = avax_close.iloc[-1]\n",
    "\n",
    "        # Count how many candles worth of data needed\n",
    "        avax_sma = sma(avax_close, length=bull_market_moving_average_window / candle_data_time_frame.to_timedelta())\n",
    "        if avax_sma is not None:\n",
    "            # SMA cannot be forward filled at the beginning of the backtest period\n",
    "            sma_now = avax_sma[-1]\n",
    "            assert sma_now > 0, f\"SMA was zero for {timestamp}, probably issue with the data?\"\n",
    "            state.visualisation.plot_indicator(\n",
    "                timestamp,\n",
    "                \"Native token SMA\",\n",
    "                PlotKind.technical_indicator_on_price,\n",
    "                sma_now,\n",
    "            )\n",
    "\n",
    "            if avax_price_now > sma_now:\n",
    "                bullish = True\n",
    "\n",
    "        # Get candle data for all candles, inclusive time range\n",
    "    candle_data = candle_universe.iterate_samples_by_pair_range(start, end)\n",
    "\n",
    "    # Because this is long only strategy, we will honour our momentum signals only in a bull market\n",
    "    if bullish:\n",
    "\n",
    "        # Iterate over all candles for all pairs in this timestamp (ts)\n",
    "        for pair_id, pair_df in candle_data:\n",
    "\n",
    "            last_candle = pair_df.iloc[-1]\n",
    "\n",
    "            assert last_candle[\"timestamp\"] < timestamp, \"Something wrong with the data - we should not be able to peek the candle of the current timestamp, but always use the previous candle\"\n",
    "\n",
    "            open = last_candle[\"open\"]\n",
    "            close = last_candle[\"close\"]\n",
    "\n",
    "            # Get the pair information and translate it to a serialisable strategy object\n",
    "            dex_pair = pair_universe.get_pair_by_id(pair_id)\n",
    "            pair = translate_trading_pair(dex_pair)\n",
    "\n",
    "            available_liquidity = universe.resampled_liquidity.get_liquidity_fast(pair_id, adjusted_timestamp)\n",
    "            if available_liquidity < minimum_liquidity_threshold:\n",
    "                # Too limited liquidity, skip this pair\n",
    "                continue\n",
    "\n",
    "            # We define momentum as how many % the trading pair price gained during\n",
    "            # the momentum window\n",
    "            momentum = (close - open) / open\n",
    "\n",
    "            # This pair has not positive momentum,\n",
    "            # we only buy when stuff goes up\n",
    "            if momentum <= minimum_mometum_threshold:\n",
    "                continue\n",
    "\n",
    "            alpha_model.set_signal(\n",
    "                pair,\n",
    "                momentum,\n",
    "                stop_loss=stop_loss,\n",
    "                take_profit=take_profit,\n",
    "            )\n",
    "\n",
    "    # Select max_assets_in_portfolio assets in which we are going to invest\n",
    "    # Calculate a weight for ecah asset in the portfolio using 1/N method based on the raw signal\n",
    "    alpha_model.select_top_signals(max_assets_in_portfolio)\n",
    "    alpha_model.assign_weights(method=weight_by_1_slash_n)\n",
    "    alpha_model.normalise_weights()\n",
    "\n",
    "    # Load in old weight for each trading pair signal,\n",
    "    # so we can calculate the adjustment trade size\n",
    "    alpha_model.update_old_weights(state.portfolio)\n",
    "\n",
    "    # Calculate how much dollar value we want each individual position to be on this strategy cycle,\n",
    "    # based on our total available equity\n",
    "    portfolio = position_manager.get_current_portfolio()\n",
    "    portfolio_target_value = portfolio.get_total_equity() * value_allocated_to_positions\n",
    "    alpha_model.calculate_target_positions(portfolio_target_value)\n",
    "\n",
    "    # Shift portfolio from current positions to target positions\n",
    "    # determined by the alpha signals (momentum)\n",
    "    trades = alpha_model.generate_rebalance_trades_and_triggers(\n",
    "        position_manager,\n",
    "        min_trade_threshold=minimum_rebalance_trade_threshold,  # Don't bother with trades under 300 USD\n",
    "    )\n",
    "\n",
    "    # Record alpha model state so we can later visualise our alpha model thinking better\n",
    "    state.visualisation.add_calculations(timestamp, alpha_model.to_dict())\n",
    "\n",
    "    return trades\n"
   ]
  },
  {
   "cell_type": "markdown",
   "metadata": {},
   "source": [
    "## Set up the market data client\n",
    "\n",
    "The [Trading Strategy market data client](https://tradingstrategy.ai/docs/programming/api/client/index.html)\n",
    "is the Python library responsible for managing the data feeds needed to run the backtest.None\n",
    "\n",
    "We set up the market data client with an API key.\n",
    "\n",
    "[If you do not have an API key yet, you can register one](https://tradingstrategy.ai/trading-view/backtesting)."
   ]
  },
  {
   "cell_type": "code",
   "execution_count": 3,
   "metadata": {
    "jupyter": {
     "outputs_hidden": false
    }
   },
   "outputs": [],
   "source": [
    "from tradingstrategy.client import Client\n",
    "\n",
    "client = Client.create_jupyter_client()"
   ]
  },
  {
   "cell_type": "markdown",
   "metadata": {},
   "source": []
  },
  {
   "cell_type": "markdown",
   "metadata": {},
   "source": [
    "## Setup trading universe\n",
    "\n",
    "We setup the trading universe for the backtesting.\n",
    "\n",
    "- Read in a handwritten allowed trading pair universe list\n",
    "\n",
    "- Download candle data\n",
    "\n",
    "- Print out trading pair addresses and volumes as the sanity check the pair defintions look correct\n"
   ]
  },
  {
   "cell_type": "code",
   "execution_count": null,
   "metadata": {
    "jupyter": {
     "outputs_hidden": false
    }
   },
   "outputs": [],
   "source": [
    "from tradingstrategy.client import Client\n",
    "\n",
    "from tradeexecutor.strategy.trading_strategy_universe import TradingStrategyUniverse, load_all_data\n",
    "from tradeexecutor.strategy.trading_strategy_universe import load_partial_data\n",
    "from tradeexecutor.strategy.execution_context import ExecutionContext\n",
    "from tradeexecutor.strategy.execution_context import ExecutionMode\n",
    "from tradeexecutor.strategy.universe_model import UniverseOptions\n",
    "from tradeexecutor.ethereum.routing_data import get_trader_joe_default_routing_parameters\n",
    "\n",
    "\n",
    "def create_trading_universe(\n",
    "        ts: datetime.datetime,\n",
    "        client: Client,\n",
    "        execution_context: ExecutionContext,\n",
    "        universe_options: UniverseOptions,\n",
    ") -> TradingStrategyUniverse:\n",
    "\n",
    "    assert not execution_context.mode.is_live_trading(), \\\n",
    "        f\"Only strategy backtesting supported, got {execution_context.mode}\"\n",
    "\n",
    "    # Load data for our trading pair whitelist\n",
    "    dataset = load_all_data(\n",
    "        client,\n",
    "        time_frame=candle_data_time_frame,\n",
    "        execution_context=execution_context,\n",
    "        universe_options=universe_options,\n",
    "        liquidity_time_frame=TimeBucket.d1,\n",
    "        stop_loss_time_frame=stop_loss_data_granularity,\n",
    "    )\n",
    "\n",
    "    routing_parameters = get_trader_joe_default_routing_parameters(reserve_currency)\n",
    "\n",
    "    quote_tokens = {\n",
    "        \"0xb97ef9ef8734c71904d8002f8b6bc66dd9c48a6e\",  # USDC\n",
    "        \"0xb31f66aa3c1e785363f0875a1b74e27b85fd66c7\",  # WAVAX\n",
    "    }\n",
    "    universe = TradingStrategyUniverse.create_multipair_universe(\n",
    "        dataset,\n",
    "        [ChainId.avalanche],\n",
    "        [\"trader-joe\"],\n",
    "        quote_tokens=quote_tokens,\n",
    "        reserve_token=routing_parameters[\"reserve_token_address\"],\n",
    "        factory_router_map=routing_parameters[\"factory_router_map\"],\n",
    "        liquidity_resample_frequency=\"1D\",\n",
    "    )\n",
    "\n",
    "    return universe\n",
    "\n",
    "universe = create_trading_universe(\n",
    "    datetime.datetime.utcnow(),\n",
    "    client,\n",
    "    ExecutionContext(mode=ExecutionMode.backtesting),\n",
    "    UniverseOptions(),\n",
    ")\n",
    "\n",
    "print(f\"The trading univers has {universe.get_pair_count()} trading pairs\")"
   ]
  },
  {
   "cell_type": "markdown",
   "metadata": {},
   "source": [
    "## Run backtest\n",
    "\n",
    "Run backtest using giving trading universe and strategy function.\n",
    "\n",
    "- Running the backtest outputs `state` object that contains all the information\n",
    "on the backtesting position and trades.\n",
    "- The trade execution engine will download the necessary datasets to run the backtest.\n",
    "  The datasets may be large, several gigabytes.\n"
   ]
  },
  {
   "cell_type": "code",
   "execution_count": null,
   "metadata": {
    "jupyter": {
     "outputs_hidden": false
    }
   },
   "outputs": [],
   "source": [
    "import logging\n",
    "\n",
    "from tradeexecutor.backtest.backtest_runner import run_backtest_inline\n",
    "\n",
    "state, universe, debug_dump = run_backtest_inline(\n",
    "    name=\"Example strategy\",\n",
    "    start_at=start_at,\n",
    "    end_at=end_at,\n",
    "    client=client,\n",
    "    cycle_duration=trading_strategy_cycle,\n",
    "    decide_trades=decide_trades,\n",
    "    create_trading_universe=create_trading_universe,\n",
    "    initial_deposit=initial_deposit,\n",
    "    reserve_currency=reserve_currency,\n",
    "    trade_routing=trade_routing,\n",
    "    log_level=logging.WARNING,\n",
    "    universe=universe,\n",
    "    data_delay_tolerance=pd.Timedelta(\"7d\"),\n",
    ")\n",
    "\n",
    "trade_count = len(list(state.portfolio.get_all_trades()))\n",
    "print(f\"Backtesting completed, backtested strategy made {trade_count} trades\")"
   ]
  },
  {
   "cell_type": "markdown",
   "metadata": {},
   "source": [
    "## Examine backtest results\n",
    "\n",
    "Examine `state` that contains \n",
    "- All actions the trade executor took\n",
    "- Visualisation and diagnostics data associated with the actity\n",
    "\n",
    "We plot out a chart that shows\n",
    "- The price action\n",
    "- When the strategy made buys or sells"
   ]
  },
  {
   "cell_type": "code",
   "execution_count": null,
   "metadata": {
    "jupyter": {
     "outputs_hidden": false
    }
   },
   "outputs": [],
   "source": [
    "print(f\"Positions taken: {len(list(state.portfolio.get_all_positions()))}\")\n",
    "print(f\"Trades made: {len(list(state.portfolio.get_all_trades()))}\")"
   ]
  },
  {
   "cell_type": "markdown",
   "metadata": {},
   "source": []
  },
  {
   "cell_type": "markdown",
   "metadata": {},
   "source": [
    "## Benchmarking the strategy performance\n",
    "\n",
    "Here we benchmark the strategy performance against some baseline scenarios.\n",
    "\n",
    "- Buy and hold AVAX\n",
    "- Buy and hold US Dollar (do nothing)\n"
   ]
  },
  {
   "cell_type": "code",
   "execution_count": null,
   "metadata": {
    "jupyter": {
     "outputs_hidden": false
    },
    "pycharm": {
     "is_executing": true
    }
   },
   "outputs": [],
   "source": [
    "from tradeexecutor.visual.benchmark import visualise_benchmark\n",
    "\n",
    "avax_usd = universe.get_pair_by_human_description((ChainId.avalanche, \"trader-joe\", \"WAVAX\", \"USDC\"))\n",
    "avax_candles = universe.universe.candles.get_candles_by_pair(avax_usd.internal_id)\n",
    "\n",
    "fig = visualise_benchmark(\n",
    "    state.name,\n",
    "    portfolio_statistics=state.stats.portfolio,\n",
    "    all_cash=state.portfolio.get_initial_deposit(),\n",
    "    buy_and_hold_asset_name=\"AVAX\",\n",
    "    buy_and_hold_price_series=avax_candles[\"close\"],\n",
    "    start_at=start_at,\n",
    "    end_at=end_at\n",
    ")\n",
    "\n",
    "fig.show()"
   ]
  },
  {
   "cell_type": "markdown",
   "metadata": {},
   "source": [
    "## Bull/bear market moving average analysis\n",
    "\n",
    "Most Trader Joe pairs trade against AVAX, not USDC. Thus, prices are tightly correlated with AVAX price drops. \n",
    "We do not want to trade using a long only strategy in a \"bear market\" when all assets are dropping, \n",
    "as slow moving momentum strategy won't be able to catch good pumps.\n",
    "\n"
   ]
  },
  {
   "cell_type": "code",
   "execution_count": null,
   "metadata": {
    "pycharm": {
     "is_executing": true
    }
   },
   "outputs": [],
   "source": [
    "import plotly.graph_objects as go\n",
    "from tradeexecutor.visual.technical_indicator import export_plot_as_dataframe\n",
    "\n",
    "# Set up DataFrames where one has price and one has moving average\n",
    "candles = avax_candles  # OHLCV data\n",
    "sma_plot = state.visualisation.plots[\"Native token SMA\"]\n",
    "sma_df = export_plot_as_dataframe(sma_plot)  # Simple moving average values\n",
    "\n",
    "# Create a DataFrame that contains values from all of our plots using the same master DateTimeIndex.\n",
    "# Namely moving averages have less samples, because moving average cannot be calculated\n",
    "# early on as the time window has not yet enough data.\n",
    "# We will also interpolate indicator values, as our indicator has less granular\n",
    "# DateTimeIndex as the price data.\n",
    "indicator_df = pd.DataFrame(index=candles.index)\n",
    "indicator_df[\"price\"] = candles[\"close\"]\n",
    "indicator_df[\"indicator_value\"] = sma_df[\"value\"]\n",
    "indicator_df[\"indicator_value\"].interpolate(inplace=True)\n",
    "\n",
    "# There is a multiyear bug in Plotly that you cannot use connectgaps and fill in the same plot.\n",
    "# This is why we set the indicator value to the price value when we do not want to plot the area,\n",
    "# as this will fill area with the size of 0\n",
    "# https://github.com/plotly/plotly.js/issues/1132#issuecomment-531030346\n",
    "indicator_df[\"green_above\"] = indicator_df.apply(lambda row: row[\"indicator_value\"] if row[\"price\"] > row[\"indicator_value\"] else row[\"price\"], axis=\"columns\")\n",
    "indicator_df[\"red_below\"] = indicator_df.apply(lambda row: row[\"indicator_value\"] if row[\"price\"] <= row[\"indicator_value\"] else row[\"price\"], axis=\"columns\")\n",
    "\n",
    "# Fill the area between close price and SMA indicator\n",
    "# See https://plotly.com/python/filled-area-plots/#interior-filling-for-area-chart\n",
    "# See also https://stackoverflow.com/a/64743166/315168\n",
    "fig = go.Figure(\n",
    "    layout={\n",
    "        \"title\": \"Bull/bear market indicator\",\n",
    "        \"height\": 800,\n",
    "    }\n",
    ")\n",
    "\n",
    "# We need to use an invisible trace so we can reset \"next y\"\n",
    "# for the red area indicator\n",
    "fig.add_trace(\n",
    "    go.Scatter(\n",
    "        x=indicator_df.index,\n",
    "        y=indicator_df[\"price\"],\n",
    "        line_color=\"rgba(0,0,0,0)\",\n",
    "        showlegend=False,\n",
    "    )\n",
    ")\n",
    "\n",
    "# Plot out the\n",
    "fig.add_trace(\n",
    "    go.Scatter(\n",
    "        x=indicator_df.index,\n",
    "        y=indicator_df[\"green_above\"],\n",
    "        name=\"Price above SMA (bull market)\",\n",
    "        line_color=\"green\",\n",
    "        connectgaps=False,\n",
    "        fillcolor=\"green\",\n",
    "        fill='tonexty',\n",
    "    )\n",
    ")\n",
    "\n",
    "# We need to use an invisible trace so we can reset \"next y\"\n",
    "fig.add_trace(\n",
    "    go.Scatter(\n",
    "        x=indicator_df.index,\n",
    "        y=indicator_df[\"price\"],\n",
    "        line_color=\"rgba(0,0,0,0)\",\n",
    "        showlegend=False,\n",
    "    )\n",
    ")\n",
    "\n",
    "fig.add_trace(\n",
    "    go.Scatter(\n",
    "        x=indicator_df.index,\n",
    "        y=indicator_df[\"red_below\"],\n",
    "        name=\"Price below SMA (bear market)\",\n",
    "        line_color=\"red\",\n",
    "        connectgaps=False,\n",
    "        fillcolor=\"red\",\n",
    "        fill='tonexty',\n",
    "    )\n",
    ")\n",
    "\n",
    "fig.add_trace(\n",
    "    go.Scatter(\n",
    "        x=indicator_df.index,\n",
    "        y=indicator_df[\"price\"],\n",
    "        name=f\"Native token price\",\n",
    "        line_color=\"black\",\n",
    "    )\n",
    ")\n",
    "\n",
    "display(fig)"
   ]
  },
  {
   "cell_type": "markdown",
   "metadata": {},
   "source": [
    "## Analysing the strategy success\n",
    "\n",
    "Here we calculate statistics on how well the strategy performed.\n",
    "\n",
    "- Won/lost trades\n",
    "- Timeline of taken positions with color coding of trade performance\n"
   ]
  },
  {
   "cell_type": "code",
   "execution_count": null,
   "metadata": {
    "jupyter": {
     "outputs_hidden": false
    },
    "pycharm": {
     "is_executing": true
    }
   },
   "outputs": [],
   "source": [
    "from tradeexecutor.analysis.trade_analyser import build_trade_analysis\n",
    "\n",
    "analysis = build_trade_analysis(state.portfolio)"
   ]
  },
  {
   "cell_type": "markdown",
   "metadata": {},
   "source": [
    "### Strategy summary\n",
    "\n",
    "Overview of strategy performance\n",
    "\n"
   ]
  },
  {
   "cell_type": "code",
   "execution_count": null,
   "metadata": {
    "jupyter": {
     "outputs_hidden": false
    },
    "pycharm": {
     "is_executing": true
    }
   },
   "outputs": [],
   "source": [
    "from IPython.core.display_functions import display\n",
    "\n",
    "summary = analysis.calculate_summary_statistics()\n",
    "\n",
    "with pd.option_context(\"display.max_row\", None):\n",
    "    display(summary.to_dataframe())"
   ]
  },
  {
   "cell_type": "markdown",
   "metadata": {},
   "source": [
    "# Trading pair analysis\n",
    "\n",
    "Show the summary of the strategy trades for each different trading pair.\n"
   ]
  },
  {
   "cell_type": "code",
   "execution_count": null,
   "metadata": {
    "pycharm": {
     "is_executing": true
    }
   },
   "outputs": [],
   "source": [
    "from tradeexecutor.analysis.multipair import analyse_multipair\n",
    "from tradeexecutor.analysis.multipair import forma_multipair_summary\n",
    "\n",
    "multipair_summary = analyse_multipair(state)\n",
    "display(forma_multipair_summary(multipair_summary))"
   ]
  },
  {
   "cell_type": "markdown",
   "metadata": {},
   "source": [
    "# Alpha model timeline\n",
    "\n",
    "**We do not display individual timeline of the positions due to large number of pairs involved**.\n",
    "\n"
   ]
  },
  {
   "cell_type": "markdown",
   "metadata": {},
   "source": [
    "# Individual pair analysis\n",
    "\n",
    "Examine one trading pair and how it performed.\n",
    "\n"
   ]
  },
  {
   "cell_type": "code",
   "execution_count": null,
   "metadata": {
    "pycharm": {
     "is_executing": true
    }
   },
   "outputs": [],
   "source": [
    "from tradeexecutor.visual.single_pair import visualise_single_pair_positions_with_duration_and_slippage\n",
    "\n",
    "target_pair = universe.universe.pairs.get_pair(\n",
    "    ChainId.avalanche,\n",
    "    \"trader-joe\",\n",
    "    \"JOE\",\n",
    "    \"WAVAX\"\n",
    ")\n",
    "\n",
    "ticker = target_pair.get_ticker()\n",
    "pair_candles = universe.backtest_stop_loss_candles.get_candles_by_pair(target_pair.pair_id)\n",
    "\n",
    "fig = visualise_single_pair_positions_with_duration_and_slippage(\n",
    "    state,\n",
    "    pair_id=target_pair.pair_id,\n",
    "    title=f\"{ticker} entries and exits\",\n",
    "    candles=pair_candles,\n",
    "    start_at=start_at,\n",
    "    end_at=end_at,\n",
    "    technical_indicators=False,\n",
    ")\n",
    "\n",
    "fig.show()"
   ]
  },
  {
   "cell_type": "markdown",
   "metadata": {},
   "source": []
  },
  {
   "cell_type": "markdown",
   "metadata": {},
   "source": [
    "## Finishing notes\n",
    "\n",
    "Print out a line to signal the notebook finished the execution successfully."
   ]
  },
  {
   "cell_type": "code",
   "execution_count": null,
   "metadata": {
    "jupyter": {
     "outputs_hidden": false
    },
    "pycharm": {
     "is_executing": true
    }
   },
   "outputs": [],
   "source": [
    "print(\"All ok\")"
   ]
  }
 ],
 "metadata": {
  "kernelspec": {
   "display_name": "Python 3 (ipykernel)",
   "language": "python",
   "name": "python3"
  },
  "language_info": {
   "codemirror_mode": {
    "name": "ipython",
    "version": 3
   },
   "file_extension": ".py",
   "mimetype": "text/x-python",
   "name": "python",
   "nbconvert_exporter": "python",
   "pygments_lexer": "ipython3",
   "version": "3.10.10"
  },
  "vscode": {
   "interpreter": {
    "hash": "7adede735167b7e67e1575a49b63099e273f8f003d80ae98ec60bd132e113570"
   }
  }
 },
 "nbformat": 4,
 "nbformat_minor": 4
}
